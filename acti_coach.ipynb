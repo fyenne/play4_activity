{
 "cells": [
  {
   "cell_type": "code",
   "execution_count": 1,
   "metadata": {},
   "outputs": [
    {
     "data": {
      "text/plain": [
       "'c:\\\\Users\\\\dscshap3808\\\\Documents\\\\my_scripts_new\\\\play4_activity'"
      ]
     },
     "execution_count": 1,
     "metadata": {},
     "output_type": "execute_result"
    }
   ],
   "source": [
    "import pandas as pd\n",
    "import numpy as np\n",
    "import os\n",
    "# import seaborn as sns\n",
    "# import plotly.express as px\n",
    "# import plotly.graph_objs as go\n",
    "# from plotly.tools import FigureFactory as FF\n",
    "import re\n",
    "import os\n",
    "from datetime import datetime, timedelta \n",
    "\n",
    "df = pd.DataFrame()\n",
    "os.getcwd()\n",
    " "
   ]
  },
  {
   "cell_type": "code",
   "execution_count": 682,
   "metadata": {},
   "outputs": [],
   "source": [
    "# pd.read_excel('./data/Coach11-1to11-5.xlsx', sheet_name=0)\\\n",
    "#     .to_csv('./data/coach_15.csv', encoding = 'utf_8_sig', index=None)\n",
    "coach = pd.read_csv('./data/coach_15.csv')\n",
    "coach = coach.dropna(axis=1, how = 'all')\n",
    "# task_collect = coach.groupby(['姓名', '开始日期'])['任务类型'].apply(list).astype(str).reset_index();task_collect\n",
    "# onoff = task_collect[task_collect['任务类型'].str.contains('(下班.+上班)')][['姓名','开始日期']].sum(axis = 1)\n",
    "# coach['flag'] = coach[['姓名','开始日期']].sum(axis = 1)\n",
    "coach['开始时间'] = pd.to_datetime(coach['开始时间'])\n",
    "coach['结束时间'] = pd.to_datetime(coach['结束时间'])\n",
    "\n",
    "# coach_nopunch = coach[~coach['flag'].isin(onoff)]\n",
    "# coach_dopunch = coach[ coach['flag'].isin(onoff)]\n",
    "coach['sprm'] = (60/coach['SPR标准数量']).replace([np.inf, -np.inf], 0)\n",
    "\n",
    "wh = coach.groupby(['姓名','开始日期']).agg(\n",
    "    {\n",
    "        '开始时间': 'min',\n",
    "        '结束时间': 'max',\n",
    "        'sprm': 'sum',\n",
    "    }\n",
    ").reset_index()\n",
    "wh['work_hour'] = wh['结束时间'] - wh['开始时间']\n",
    "wh['work_hour_in_min']  = [i.total_seconds()/60 for i in wh['work_hour']]\n",
    "wh['work_hour_in_hour'] = [i.total_seconds()/3600 for i in wh['work_hour']]\n",
    "wh = wh.drop(['结束时间','开始时间', 'work_hour'], axis = 1).rename({'sprm':'SPRM_total_of_day'}, axis =1)\n",
    "coach = coach.merge(wh, on = ['姓名', '开始日期'], how = 'inner')\n",
    "coach['sprm_perhour'] =  coach['SPRM_total_of_day'] / coach['work_hour_in_hour']\n",
    "\n",
    "# 标准时长计算\n",
    "coach = pd.concat([coach, pd.DataFrame(list(coach['调整后持续时间'].str.split(':')))], axis =1).drop('序号',axis =1)\n",
    "coach = coach[coach[[0,1,2]].astype(int).sum(axis = 1) != 0]\n",
    "coach[[0,1,2]] = coach[[0,1,2]].astype(int)\n",
    "coach['time_len'] = coach[0]*3600 + coach[1]*60 + coach[2]\n",
    "coach = coach.drop([0,1,2], axis = 1)"
   ]
  },
  {
   "cell_type": "code",
   "execution_count": 446,
   "metadata": {},
   "outputs": [],
   "source": [
    "# coach[coach['姓名'] == '孙清元']"
   ]
  },
  {
   "cell_type": "code",
   "execution_count": 39,
   "metadata": {},
   "outputs": [],
   "source": []
  },
  {
   "cell_type": "code",
   "execution_count": 428,
   "metadata": {},
   "outputs": [],
   "source": [
    "# plot_data('2021-11-05').info()\n",
    "# coach['开始日期'].unique()\n",
    "# array(['2021-11-05', '2021-11-04', '2021-11-03', '2021-11-02',\n",
    "#        '2021-11-01'], dtype=object)"
   ]
  },
  {
   "cell_type": "code",
   "execution_count": 685,
   "metadata": {},
   "outputs": [
    {
     "data": {
      "application/vnd.plotly.v1+json": {
       "config": {
        "plotlyServerURL": "https://plot.ly"
       },
       "data": [
        {
         "customdata": [
          [
           "unknow"
          ],
          [
           "unknow"
          ],
          [
           "unknow"
          ],
          [
           "unknow"
          ],
          [
           "unknow"
          ],
          [
           "unknow"
          ],
          [
           "unknow"
          ],
          [
           "unknow"
          ],
          [
           "unknow"
          ],
          [
           "unknow"
          ],
          [
           "unknow"
          ],
          [
           "unknow"
          ],
          [
           "unknow"
          ],
          [
           "unknow"
          ],
          [
           "unknow"
          ],
          [
           "unknow"
          ],
          [
           "unknow"
          ],
          [
           "unknow"
          ],
          [
           "unknow"
          ],
          [
           "unknow"
          ],
          [
           "unknow"
          ],
          [
           "unknow"
          ],
          [
           "unknow"
          ],
          [
           "unknow"
          ],
          [
           "unknow"
          ],
          [
           "unknow"
          ],
          [
           "unknow"
          ],
          [
           "unknow"
          ],
          [
           "unknow"
          ],
          [
           "unknow"
          ],
          [
           "unknow"
          ],
          [
           "unknow"
          ],
          [
           "unknow"
          ],
          [
           "unknow"
          ],
          [
           "unknow"
          ],
          [
           "unknow"
          ],
          [
           "unknow"
          ],
          [
           "unknow"
          ],
          [
           "unknow"
          ],
          [
           "unknow"
          ]
         ],
         "hovertemplate": "工作组=%{customdata[0]}<br>姓名=%{x}<br>sprm_perhour=%{y}<br>work_hour_in_hour=%{marker.size}<extra></extra>",
         "legendgroup": "unknow",
         "marker": {
          "color": "#636efa",
          "size": [
           13.183333333333334,
           13.183333333333334,
           13.183333333333334,
           13.183333333333334,
           13.183333333333334,
           13.233333333333333,
           13.233333333333333,
           13.233333333333333,
           7.476944444444444,
           7.476944444444444,
           7.476944444444444,
           9.083333333333334,
           9.183333333333334,
           9.183333333333334,
           9.183333333333334,
           9.183333333333334,
           9.133333333333333,
           9.133333333333333,
           9.133333333333333,
           9.133333333333333,
           9.133333333333333,
           7.9575,
           7.9575,
           7.9575,
           7.9575,
           7.218333333333334,
           7.218333333333334,
           7.218333333333334,
           7.218333333333334,
           6.662222222222222,
           6.662222222222222,
           6.662222222222222,
           5.736111111111111,
           5.736111111111111,
           6.118333333333333,
           6.118333333333333,
           6.118333333333333,
           5.923333333333333,
           5.923333333333333,
           5.923333333333333
          ],
          "sizemode": "area",
          "sizeref": 0.033541666666666664,
          "symbol": "circle"
         },
         "mode": "markers",
         "name": "unknow",
         "orientation": "v",
         "showlegend": true,
         "type": "scatter",
         "x": [
          "孙清元",
          "孙清元",
          "孙清元",
          "孙清元",
          "孙清元",
          "张康康",
          "张康康",
          "张康康",
          "牛和响",
          "牛和响",
          "牛和响",
          "李瑶",
          "胡俊荣",
          "胡俊荣",
          "胡俊荣",
          "胡俊荣",
          "潘明海",
          "潘明海",
          "潘明海",
          "潘明海",
          "潘明海",
          "郁黄祥",
          "郁黄祥",
          "郁黄祥",
          "郁黄祥",
          "高蒙蒙",
          "高蒙蒙",
          "高蒙蒙",
          "高蒙蒙",
          "张现花",
          "张现花",
          "张现花",
          "董红雷",
          "董红雷",
          "李俊丽",
          "李俊丽",
          "李俊丽",
          "杜文博",
          "杜文博",
          "杜文博"
         ],
         "xaxis": "x",
         "y": [
          8.773704171934261,
          8.773704171934261,
          8.773704171934261,
          8.773704171934261,
          8.773704171934261,
          30.47229219143577,
          30.47229219143577,
          30.47229219143577,
          107.51272430062785,
          107.51272430062785,
          107.51272430062785,
          1.6513761467889907,
          117.4410163339383,
          117.4410163339383,
          117.4410163339383,
          117.4410163339383,
          29.967153284671532,
          29.967153284671532,
          29.967153284671532,
          29.967153284671532,
          29.967153284671532,
          84.1344643418159,
          84.1344643418159,
          84.1344643418159,
          84.1344643418159,
          132.60678827060724,
          132.60678827060724,
          132.60678827060724,
          132.60678827060724,
          246.8645763842562,
          246.8645763842562,
          246.8645763842562,
          86.29539951573851,
          86.29539951573851,
          173.41323889948242,
          173.41323889948242,
          173.41323889948242,
          159.9437253798537,
          159.9437253798537,
          159.9437253798537
         ],
         "yaxis": "y"
        },
        {
         "customdata": [
          [
           "发货组"
          ]
         ],
         "hovertemplate": "工作组=%{customdata[0]}<br>姓名=%{x}<br>sprm_perhour=%{y}<br>work_hour_in_hour=%{marker.size}<extra></extra>",
         "legendgroup": "发货组",
         "marker": {
          "color": "#EF553B",
          "size": [
           13.416666666666666
          ],
          "sizemode": "area",
          "sizeref": 0.033541666666666664,
          "symbol": "circle"
         },
         "mode": "markers",
         "name": "发货组",
         "orientation": "v",
         "showlegend": true,
         "type": "scatter",
         "x": [
          "李文博"
         ],
         "xaxis": "x",
         "y": [
          1.173913043478261
         ],
         "yaxis": "y"
        },
        {
         "customdata": [
          [
           "VAS组"
          ],
          [
           "VAS组"
          ],
          [
           "VAS组"
          ]
         ],
         "hovertemplate": "工作组=%{customdata[0]}<br>姓名=%{x}<br>sprm_perhour=%{y}<br>work_hour_in_hour=%{marker.size}<extra></extra>",
         "legendgroup": "VAS组",
         "marker": {
          "color": "#00cc96",
          "size": [
           4.9425,
           4.9425,
           4.9425
          ],
          "sizemode": "area",
          "sizeref": 0.033541666666666664,
          "symbol": "circle"
         },
         "mode": "markers",
         "name": "VAS组",
         "orientation": "v",
         "showlegend": true,
         "type": "scatter",
         "x": [
          "豆富山",
          "豆富山",
          "豆富山"
         ],
         "xaxis": "x",
         "y": [
          47.72888214466363,
          47.72888214466363,
          47.72888214466363
         ],
         "yaxis": "y"
        },
        {
         "customdata": [
          [
           "拣货组"
          ],
          [
           "拣货组"
          ],
          [
           "拣货组"
          ],
          [
           "拣货组"
          ],
          [
           "拣货组"
          ],
          [
           "拣货组"
          ],
          [
           "拣货组"
          ],
          [
           "拣货组"
          ],
          [
           "拣货组"
          ],
          [
           "拣货组"
          ],
          [
           "拣货组"
          ],
          [
           "拣货组"
          ],
          [
           "拣货组"
          ]
         ],
         "hovertemplate": "工作组=%{customdata[0]}<br>姓名=%{x}<br>sprm_perhour=%{y}<br>work_hour_in_hour=%{marker.size}<extra></extra>",
         "legendgroup": "拣货组",
         "marker": {
          "color": "#ab63fa",
          "size": [
           9.166666666666666,
           9.166666666666666,
           9.066666666666666,
           9.066666666666666,
           5.990277777777778,
           5.990277777777778,
           5.068888888888889,
           5.068888888888889,
           5.068888888888889,
           5.3175,
           5.3175,
           6.183055555555556,
           6.183055555555556
          ],
          "sizemode": "area",
          "sizeref": 0.033541666666666664,
          "symbol": "circle"
         },
         "mode": "markers",
         "name": "拣货组",
         "orientation": "v",
         "showlegend": true,
         "type": "scatter",
         "x": [
          "庞士赛",
          "庞士赛",
          "彭庆伟",
          "彭庆伟",
          "李永生",
          "李永生",
          "段亚魁",
          "段亚魁",
          "段亚魁",
          "崔梦宇",
          "崔梦宇",
          "高宇波",
          "高宇波"
         ],
         "xaxis": "x",
         "y": [
          101.45454545454547,
          101.45454545454547,
          86.02941176470588,
          86.02941176470588,
          75.12172501738928,
          75.12172501738928,
          158.61464270056993,
          158.61464270056993,
          158.61464270056993,
          107.19322990126939,
          107.19322990126939,
          121.29924974167751,
          121.29924974167751
         ],
         "yaxis": "y"
        },
        {
         "customdata": [
          [
           "库存组"
          ],
          [
           "库存组"
          ],
          [
           "库存组"
          ],
          [
           "库存组"
          ],
          [
           "库存组"
          ],
          [
           "库存组"
          ],
          [
           "库存组"
          ],
          [
           "库存组"
          ]
         ],
         "hovertemplate": "工作组=%{customdata[0]}<br>姓名=%{x}<br>sprm_perhour=%{y}<br>work_hour_in_hour=%{marker.size}<extra></extra>",
         "legendgroup": "库存组",
         "marker": {
          "color": "#FFA15A",
          "size": [
           9,
           9,
           9,
           9.05,
           9.05,
           9.05,
           9.05,
           9.05
          ],
          "sizemode": "area",
          "sizeref": 0.033541666666666664,
          "symbol": "circle"
         },
         "mode": "markers",
         "name": "库存组",
         "orientation": "v",
         "showlegend": true,
         "type": "scatter",
         "x": [
          "吴飞宇",
          "吴飞宇",
          "吴飞宇",
          "宋卫华",
          "宋卫华",
          "宋卫华",
          "宋卫华",
          "宋卫华"
         ],
         "xaxis": "x",
         "y": [
          104.72222222222223,
          104.72222222222223,
          104.72222222222223,
          34.43462246777163,
          34.43462246777163,
          34.43462246777163,
          34.43462246777163,
          34.43462246777163
         ],
         "yaxis": "y"
        },
        {
         "customdata": [
          [
           "收货组"
          ],
          [
           "收货组"
          ],
          [
           "收货组"
          ],
          [
           "收货组"
          ],
          [
           "收货组"
          ]
         ],
         "hovertemplate": "工作组=%{customdata[0]}<br>姓名=%{x}<br>sprm_perhour=%{y}<br>work_hour_in_hour=%{marker.size}<extra></extra>",
         "legendgroup": "收货组",
         "marker": {
          "color": "#19d3f3",
          "size": [
           7.885,
           7.885,
           4.1947222222222225,
           4.1947222222222225,
           4.1947222222222225
          ],
          "sizemode": "area",
          "sizeref": 0.033541666666666664,
          "symbol": "circle"
         },
         "mode": "markers",
         "name": "收货组",
         "orientation": "v",
         "showlegend": true,
         "type": "scatter",
         "x": [
          "程鑫",
          "程鑫",
          "黄义林",
          "黄义林",
          "黄义林"
         ],
         "xaxis": "x",
         "y": [
          54.66074825618263,
          54.66074825618263,
          77.14455996291636,
          77.14455996291636,
          77.14455996291636
         ],
         "yaxis": "y"
        }
       ],
       "layout": {
        "legend": {
         "itemsizing": "constant",
         "title": {
          "text": "工作组"
         },
         "tracegroupgap": 0
        },
        "template": {
         "data": {
          "bar": [
           {
            "error_x": {
             "color": "#2a3f5f"
            },
            "error_y": {
             "color": "#2a3f5f"
            },
            "marker": {
             "line": {
              "color": "#E5ECF6",
              "width": 0.5
             }
            },
            "type": "bar"
           }
          ],
          "barpolar": [
           {
            "marker": {
             "line": {
              "color": "#E5ECF6",
              "width": 0.5
             }
            },
            "type": "barpolar"
           }
          ],
          "carpet": [
           {
            "aaxis": {
             "endlinecolor": "#2a3f5f",
             "gridcolor": "white",
             "linecolor": "white",
             "minorgridcolor": "white",
             "startlinecolor": "#2a3f5f"
            },
            "baxis": {
             "endlinecolor": "#2a3f5f",
             "gridcolor": "white",
             "linecolor": "white",
             "minorgridcolor": "white",
             "startlinecolor": "#2a3f5f"
            },
            "type": "carpet"
           }
          ],
          "choropleth": [
           {
            "colorbar": {
             "outlinewidth": 0,
             "ticks": ""
            },
            "type": "choropleth"
           }
          ],
          "contour": [
           {
            "colorbar": {
             "outlinewidth": 0,
             "ticks": ""
            },
            "colorscale": [
             [
              0,
              "#0d0887"
             ],
             [
              0.1111111111111111,
              "#46039f"
             ],
             [
              0.2222222222222222,
              "#7201a8"
             ],
             [
              0.3333333333333333,
              "#9c179e"
             ],
             [
              0.4444444444444444,
              "#bd3786"
             ],
             [
              0.5555555555555556,
              "#d8576b"
             ],
             [
              0.6666666666666666,
              "#ed7953"
             ],
             [
              0.7777777777777778,
              "#fb9f3a"
             ],
             [
              0.8888888888888888,
              "#fdca26"
             ],
             [
              1,
              "#f0f921"
             ]
            ],
            "type": "contour"
           }
          ],
          "contourcarpet": [
           {
            "colorbar": {
             "outlinewidth": 0,
             "ticks": ""
            },
            "type": "contourcarpet"
           }
          ],
          "heatmap": [
           {
            "colorbar": {
             "outlinewidth": 0,
             "ticks": ""
            },
            "colorscale": [
             [
              0,
              "#0d0887"
             ],
             [
              0.1111111111111111,
              "#46039f"
             ],
             [
              0.2222222222222222,
              "#7201a8"
             ],
             [
              0.3333333333333333,
              "#9c179e"
             ],
             [
              0.4444444444444444,
              "#bd3786"
             ],
             [
              0.5555555555555556,
              "#d8576b"
             ],
             [
              0.6666666666666666,
              "#ed7953"
             ],
             [
              0.7777777777777778,
              "#fb9f3a"
             ],
             [
              0.8888888888888888,
              "#fdca26"
             ],
             [
              1,
              "#f0f921"
             ]
            ],
            "type": "heatmap"
           }
          ],
          "heatmapgl": [
           {
            "colorbar": {
             "outlinewidth": 0,
             "ticks": ""
            },
            "colorscale": [
             [
              0,
              "#0d0887"
             ],
             [
              0.1111111111111111,
              "#46039f"
             ],
             [
              0.2222222222222222,
              "#7201a8"
             ],
             [
              0.3333333333333333,
              "#9c179e"
             ],
             [
              0.4444444444444444,
              "#bd3786"
             ],
             [
              0.5555555555555556,
              "#d8576b"
             ],
             [
              0.6666666666666666,
              "#ed7953"
             ],
             [
              0.7777777777777778,
              "#fb9f3a"
             ],
             [
              0.8888888888888888,
              "#fdca26"
             ],
             [
              1,
              "#f0f921"
             ]
            ],
            "type": "heatmapgl"
           }
          ],
          "histogram": [
           {
            "marker": {
             "colorbar": {
              "outlinewidth": 0,
              "ticks": ""
             }
            },
            "type": "histogram"
           }
          ],
          "histogram2d": [
           {
            "colorbar": {
             "outlinewidth": 0,
             "ticks": ""
            },
            "colorscale": [
             [
              0,
              "#0d0887"
             ],
             [
              0.1111111111111111,
              "#46039f"
             ],
             [
              0.2222222222222222,
              "#7201a8"
             ],
             [
              0.3333333333333333,
              "#9c179e"
             ],
             [
              0.4444444444444444,
              "#bd3786"
             ],
             [
              0.5555555555555556,
              "#d8576b"
             ],
             [
              0.6666666666666666,
              "#ed7953"
             ],
             [
              0.7777777777777778,
              "#fb9f3a"
             ],
             [
              0.8888888888888888,
              "#fdca26"
             ],
             [
              1,
              "#f0f921"
             ]
            ],
            "type": "histogram2d"
           }
          ],
          "histogram2dcontour": [
           {
            "colorbar": {
             "outlinewidth": 0,
             "ticks": ""
            },
            "colorscale": [
             [
              0,
              "#0d0887"
             ],
             [
              0.1111111111111111,
              "#46039f"
             ],
             [
              0.2222222222222222,
              "#7201a8"
             ],
             [
              0.3333333333333333,
              "#9c179e"
             ],
             [
              0.4444444444444444,
              "#bd3786"
             ],
             [
              0.5555555555555556,
              "#d8576b"
             ],
             [
              0.6666666666666666,
              "#ed7953"
             ],
             [
              0.7777777777777778,
              "#fb9f3a"
             ],
             [
              0.8888888888888888,
              "#fdca26"
             ],
             [
              1,
              "#f0f921"
             ]
            ],
            "type": "histogram2dcontour"
           }
          ],
          "mesh3d": [
           {
            "colorbar": {
             "outlinewidth": 0,
             "ticks": ""
            },
            "type": "mesh3d"
           }
          ],
          "parcoords": [
           {
            "line": {
             "colorbar": {
              "outlinewidth": 0,
              "ticks": ""
             }
            },
            "type": "parcoords"
           }
          ],
          "pie": [
           {
            "automargin": true,
            "type": "pie"
           }
          ],
          "scatter": [
           {
            "marker": {
             "colorbar": {
              "outlinewidth": 0,
              "ticks": ""
             }
            },
            "type": "scatter"
           }
          ],
          "scatter3d": [
           {
            "line": {
             "colorbar": {
              "outlinewidth": 0,
              "ticks": ""
             }
            },
            "marker": {
             "colorbar": {
              "outlinewidth": 0,
              "ticks": ""
             }
            },
            "type": "scatter3d"
           }
          ],
          "scattercarpet": [
           {
            "marker": {
             "colorbar": {
              "outlinewidth": 0,
              "ticks": ""
             }
            },
            "type": "scattercarpet"
           }
          ],
          "scattergeo": [
           {
            "marker": {
             "colorbar": {
              "outlinewidth": 0,
              "ticks": ""
             }
            },
            "type": "scattergeo"
           }
          ],
          "scattergl": [
           {
            "marker": {
             "colorbar": {
              "outlinewidth": 0,
              "ticks": ""
             }
            },
            "type": "scattergl"
           }
          ],
          "scattermapbox": [
           {
            "marker": {
             "colorbar": {
              "outlinewidth": 0,
              "ticks": ""
             }
            },
            "type": "scattermapbox"
           }
          ],
          "scatterpolar": [
           {
            "marker": {
             "colorbar": {
              "outlinewidth": 0,
              "ticks": ""
             }
            },
            "type": "scatterpolar"
           }
          ],
          "scatterpolargl": [
           {
            "marker": {
             "colorbar": {
              "outlinewidth": 0,
              "ticks": ""
             }
            },
            "type": "scatterpolargl"
           }
          ],
          "scatterternary": [
           {
            "marker": {
             "colorbar": {
              "outlinewidth": 0,
              "ticks": ""
             }
            },
            "type": "scatterternary"
           }
          ],
          "surface": [
           {
            "colorbar": {
             "outlinewidth": 0,
             "ticks": ""
            },
            "colorscale": [
             [
              0,
              "#0d0887"
             ],
             [
              0.1111111111111111,
              "#46039f"
             ],
             [
              0.2222222222222222,
              "#7201a8"
             ],
             [
              0.3333333333333333,
              "#9c179e"
             ],
             [
              0.4444444444444444,
              "#bd3786"
             ],
             [
              0.5555555555555556,
              "#d8576b"
             ],
             [
              0.6666666666666666,
              "#ed7953"
             ],
             [
              0.7777777777777778,
              "#fb9f3a"
             ],
             [
              0.8888888888888888,
              "#fdca26"
             ],
             [
              1,
              "#f0f921"
             ]
            ],
            "type": "surface"
           }
          ],
          "table": [
           {
            "cells": {
             "fill": {
              "color": "#EBF0F8"
             },
             "line": {
              "color": "white"
             }
            },
            "header": {
             "fill": {
              "color": "#C8D4E3"
             },
             "line": {
              "color": "white"
             }
            },
            "type": "table"
           }
          ]
         },
         "layout": {
          "annotationdefaults": {
           "arrowcolor": "#2a3f5f",
           "arrowhead": 0,
           "arrowwidth": 1
          },
          "autotypenumbers": "strict",
          "coloraxis": {
           "colorbar": {
            "outlinewidth": 0,
            "ticks": ""
           }
          },
          "colorscale": {
           "diverging": [
            [
             0,
             "#8e0152"
            ],
            [
             0.1,
             "#c51b7d"
            ],
            [
             0.2,
             "#de77ae"
            ],
            [
             0.3,
             "#f1b6da"
            ],
            [
             0.4,
             "#fde0ef"
            ],
            [
             0.5,
             "#f7f7f7"
            ],
            [
             0.6,
             "#e6f5d0"
            ],
            [
             0.7,
             "#b8e186"
            ],
            [
             0.8,
             "#7fbc41"
            ],
            [
             0.9,
             "#4d9221"
            ],
            [
             1,
             "#276419"
            ]
           ],
           "sequential": [
            [
             0,
             "#0d0887"
            ],
            [
             0.1111111111111111,
             "#46039f"
            ],
            [
             0.2222222222222222,
             "#7201a8"
            ],
            [
             0.3333333333333333,
             "#9c179e"
            ],
            [
             0.4444444444444444,
             "#bd3786"
            ],
            [
             0.5555555555555556,
             "#d8576b"
            ],
            [
             0.6666666666666666,
             "#ed7953"
            ],
            [
             0.7777777777777778,
             "#fb9f3a"
            ],
            [
             0.8888888888888888,
             "#fdca26"
            ],
            [
             1,
             "#f0f921"
            ]
           ],
           "sequentialminus": [
            [
             0,
             "#0d0887"
            ],
            [
             0.1111111111111111,
             "#46039f"
            ],
            [
             0.2222222222222222,
             "#7201a8"
            ],
            [
             0.3333333333333333,
             "#9c179e"
            ],
            [
             0.4444444444444444,
             "#bd3786"
            ],
            [
             0.5555555555555556,
             "#d8576b"
            ],
            [
             0.6666666666666666,
             "#ed7953"
            ],
            [
             0.7777777777777778,
             "#fb9f3a"
            ],
            [
             0.8888888888888888,
             "#fdca26"
            ],
            [
             1,
             "#f0f921"
            ]
           ]
          },
          "colorway": [
           "#636efa",
           "#EF553B",
           "#00cc96",
           "#ab63fa",
           "#FFA15A",
           "#19d3f3",
           "#FF6692",
           "#B6E880",
           "#FF97FF",
           "#FECB52"
          ],
          "font": {
           "color": "#2a3f5f"
          },
          "geo": {
           "bgcolor": "white",
           "lakecolor": "white",
           "landcolor": "#E5ECF6",
           "showlakes": true,
           "showland": true,
           "subunitcolor": "white"
          },
          "hoverlabel": {
           "align": "left"
          },
          "hovermode": "closest",
          "mapbox": {
           "style": "light"
          },
          "paper_bgcolor": "white",
          "plot_bgcolor": "#E5ECF6",
          "polar": {
           "angularaxis": {
            "gridcolor": "white",
            "linecolor": "white",
            "ticks": ""
           },
           "bgcolor": "#E5ECF6",
           "radialaxis": {
            "gridcolor": "white",
            "linecolor": "white",
            "ticks": ""
           }
          },
          "scene": {
           "xaxis": {
            "backgroundcolor": "#E5ECF6",
            "gridcolor": "white",
            "gridwidth": 2,
            "linecolor": "white",
            "showbackground": true,
            "ticks": "",
            "zerolinecolor": "white"
           },
           "yaxis": {
            "backgroundcolor": "#E5ECF6",
            "gridcolor": "white",
            "gridwidth": 2,
            "linecolor": "white",
            "showbackground": true,
            "ticks": "",
            "zerolinecolor": "white"
           },
           "zaxis": {
            "backgroundcolor": "#E5ECF6",
            "gridcolor": "white",
            "gridwidth": 2,
            "linecolor": "white",
            "showbackground": true,
            "ticks": "",
            "zerolinecolor": "white"
           }
          },
          "shapedefaults": {
           "line": {
            "color": "#2a3f5f"
           }
          },
          "ternary": {
           "aaxis": {
            "gridcolor": "white",
            "linecolor": "white",
            "ticks": ""
           },
           "baxis": {
            "gridcolor": "white",
            "linecolor": "white",
            "ticks": ""
           },
           "bgcolor": "#E5ECF6",
           "caxis": {
            "gridcolor": "white",
            "linecolor": "white",
            "ticks": ""
           }
          },
          "title": {
           "x": 0.05
          },
          "xaxis": {
           "automargin": true,
           "gridcolor": "white",
           "linecolor": "white",
           "ticks": "",
           "title": {
            "standoff": 15
           },
           "zerolinecolor": "white",
           "zerolinewidth": 2
          },
          "yaxis": {
           "automargin": true,
           "gridcolor": "white",
           "linecolor": "white",
           "ticks": "",
           "title": {
            "standoff": 15
           },
           "zerolinecolor": "white",
           "zerolinewidth": 2
          }
         }
        },
        "title": {
         "text": "报告日期2021-11-03"
        },
        "xaxis": {
         "anchor": "y",
         "domain": [
          0,
          1
         ],
         "title": {
          "text": "姓名"
         }
        },
        "yaxis": {
         "anchor": "x",
         "domain": [
          0,
          1
         ],
         "title": {
          "text": "sprm_perhour"
         }
        }
       }
      }
     },
     "metadata": {},
     "output_type": "display_data"
    }
   ],
   "source": [
    "def plot_data(riqi):\n",
    "    data = coach[coach['开始日期'] == riqi][['姓名', '工作组', '直属上级', '任职时间', '职位',\\\n",
    "    'sprm', 'SPRM_total_of_day', 'work_hour_in_min',\n",
    "    'work_hour_in_hour', 'sprm_perhour']].drop_duplicates()\n",
    "    data['工作组'] = data['工作组'].fillna('unknow')\n",
    "    data['工作组'] = data['工作组'].fillna('unknow')\n",
    "\n",
    "    return data\n",
    "def plot_(riqi):\n",
    "    fig2 = px.scatter(\n",
    "        data_frame = plot_data(riqi), x = '姓名', y= 'sprm_perhour', hover_data=['工作组' ],\n",
    "        size = 'work_hour_in_hour', color = '工作组', \n",
    "        # facet_col = '开始日期', \n",
    "        title= \"报告日期\" + riqi)  \n",
    "    # hover_data=  ['account_name_en'] , \n",
    "\n",
    "\n",
    "    # fig2.add_hline(y = line_20, line_width=3, line_dash=\"dash\", line_color=\"black\", opacity = .4,\\\n",
    "    #     annotation_text=\"2020 <br> weighted mean profit_rate <br>, %s\" %line_20 , \n",
    "    #     annotation_position=\"top right\", annotation_opacity = .4, col = 1)\n",
    "    # fig2.add_hline(y = line_21, line_width=3, line_dash=\"dash\", line_color=\"black\", opacity = .4,\\\n",
    "    #     annotation_text=\"2021 <br> weighted mean profit_rate <br>, %s\" %line_21 , \n",
    "    #     annotation_position=\"top right\", annotation_opacity = .4, col = 2)\n",
    "\n",
    "    return fig2\n",
    "\n",
    "plot_('2021-11-03')"
   ]
  },
  {
   "cell_type": "code",
   "execution_count": 283,
   "metadata": {},
   "outputs": [],
   "source": [
    "# SELECT  * FROM dm_dsc_smart.dwd_task\n",
    "# where substr(station_name, 1,4) = 'COAC'\n",
    "# and work_group_id != 0 and work_group_name != ''\n",
    "# and inc_day = '20211127'\n",
    " "
   ]
  },
  {
   "cell_type": "code",
   "execution_count": 525,
   "metadata": {},
   "outputs": [],
   "source": []
  },
  {
   "cell_type": "code",
   "execution_count": 534,
   "metadata": {},
   "outputs": [],
   "source": [
    "# coach = coach.dropna(how = 'all', axis = 1)\n",
    "    # time_convert()\n",
    "def time_convert(col):\n",
    "    coach[col] = coach[col].astype(int)\n",
    "    coach[col] = [datetime.fromtimestamp(i).strftime('%Y-%m-%d %H:%M:%S') for i in coach[col]]\n",
    "    return coach\n",
    "for i in ['start_time', 'end_time', 'hire_time', 'update_time']:\n",
    "    time_convert(i)\n",
    "coach['start_time'] = pd.to_datetime(coach['start_time'])\n",
    "coach['end_time']   = pd.to_datetime(coach['end_time'])\n",
    "coach['sprm'] = (60/coach['work_content_refer']).replace([np.inf, -np.inf], 0)\n",
    "\n",
    "\n",
    "# wh = coach.groupby(['worker_name','start_date']).agg(\n",
    "#         {\n",
    "#             'start_time': 'min',\n",
    "#             'end_time': 'max',\n",
    "#             'sprm': 'sum',\n",
    "#         }\n",
    "#     ).reset_index()\n",
    "# wh['work_hour'] = wh['结束时间'] - wh['开始时间']\n",
    "# wh['work_hour_in_min']  = [i.total_seconds()/60 for i in wh['work_hour']]\n",
    "# wh['work_hour_in_hour'] = [i.total_seconds()/3600 for i in wh['work_hour']]\n",
    "# wh = wh.drop(['结束时间','开始时间', 'work_hour'], axis = 1).rename({'sprm':'SPRM_total_of_day'}, axis =1)\n",
    "# coach = coach.merge(wh, on = ['姓名', '开始日期'], how = 'inner')"
   ]
  },
  {
   "cell_type": "code",
   "execution_count": 541,
   "metadata": {},
   "outputs": [
    {
     "data": {
      "text/html": [
       "<div>\n",
       "<style scoped>\n",
       "    .dataframe tbody tr th:only-of-type {\n",
       "        vertical-align: middle;\n",
       "    }\n",
       "\n",
       "    .dataframe tbody tr th {\n",
       "        vertical-align: top;\n",
       "    }\n",
       "\n",
       "    .dataframe thead th {\n",
       "        text-align: right;\n",
       "    }\n",
       "</style>\n",
       "<table border=\"1\" class=\"dataframe\">\n",
       "  <thead>\n",
       "    <tr style=\"text-align: right;\">\n",
       "      <th></th>\n",
       "      <th>station_name</th>\n",
       "      <th>worker_name</th>\n",
       "      <th>work_group_name</th>\n",
       "      <th>up_worker_name</th>\n",
       "      <th>hire_time</th>\n",
       "      <th>worker_post_name</th>\n",
       "      <th>worker_level_name</th>\n",
       "      <th>work_num</th>\n",
       "      <th>start_time</th>\n",
       "      <th>end_time</th>\n",
       "      <th>...</th>\n",
       "      <th>min_operate_volume</th>\n",
       "      <th>work_content</th>\n",
       "      <th>work_content_refer</th>\n",
       "      <th>work_content_is_measure</th>\n",
       "      <th>start_date</th>\n",
       "      <th>end_date</th>\n",
       "      <th>report_date</th>\n",
       "      <th>create_time</th>\n",
       "      <th>update_time</th>\n",
       "      <th>sprm</th>\n",
       "    </tr>\n",
       "  </thead>\n",
       "  <tbody>\n",
       "    <tr>\n",
       "      <th>4052</th>\n",
       "      <td>COACH SHA WGQ WHS</td>\n",
       "      <td>孙孟孟</td>\n",
       "      <td>NaN</td>\n",
       "      <td>Michelle Wu</td>\n",
       "      <td>1970-01-01 08:00:00</td>\n",
       "      <td>操作员</td>\n",
       "      <td>操作员</td>\n",
       "      <td>0.0</td>\n",
       "      <td>2021-11-27 06:25:02</td>\n",
       "      <td>2021-11-27 06:25:13</td>\n",
       "      <td>...</td>\n",
       "      <td>0.0</td>\n",
       "      <td>叉车安全检查</td>\n",
       "      <td>0</td>\n",
       "      <td>0</td>\n",
       "      <td>2021-11-27</td>\n",
       "      <td>2021-11-27</td>\n",
       "      <td>2021-11-27</td>\n",
       "      <td>1638231191</td>\n",
       "      <td>2021-11-30 08:13:11</td>\n",
       "      <td>0.0</td>\n",
       "    </tr>\n",
       "    <tr>\n",
       "      <th>4053</th>\n",
       "      <td>COACH SHA WGQ WHS</td>\n",
       "      <td>孙孟孟</td>\n",
       "      <td>NaN</td>\n",
       "      <td>Michelle Wu</td>\n",
       "      <td>1970-01-01 08:00:00</td>\n",
       "      <td>操作员</td>\n",
       "      <td>操作员</td>\n",
       "      <td>0.0</td>\n",
       "      <td>2021-11-27 06:25:13</td>\n",
       "      <td>2021-11-27 15:25:02</td>\n",
       "      <td>...</td>\n",
       "      <td>0.0</td>\n",
       "      <td>无效时间</td>\n",
       "      <td>0</td>\n",
       "      <td>0</td>\n",
       "      <td>2021-11-27</td>\n",
       "      <td>2021-11-27</td>\n",
       "      <td>2021-11-27</td>\n",
       "      <td>1638231191</td>\n",
       "      <td>2021-11-30 08:13:11</td>\n",
       "      <td>0.0</td>\n",
       "    </tr>\n",
       "  </tbody>\n",
       "</table>\n",
       "<p>2 rows × 29 columns</p>\n",
       "</div>"
      ],
      "text/plain": [
       "           station_name worker_name work_group_name up_worker_name  \\\n",
       "4052  COACH SHA WGQ WHS         孙孟孟             NaN    Michelle Wu   \n",
       "4053  COACH SHA WGQ WHS         孙孟孟             NaN    Michelle Wu   \n",
       "\n",
       "                hire_time worker_post_name worker_level_name  work_num  \\\n",
       "4052  1970-01-01 08:00:00              操作员               操作员       0.0   \n",
       "4053  1970-01-01 08:00:00              操作员               操作员       0.0   \n",
       "\n",
       "              start_time            end_time  ...  min_operate_volume  \\\n",
       "4052 2021-11-27 06:25:02 2021-11-27 06:25:13  ...                 0.0   \n",
       "4053 2021-11-27 06:25:13 2021-11-27 15:25:02  ...                 0.0   \n",
       "\n",
       "      work_content  work_content_refer work_content_is_measure  start_date  \\\n",
       "4052        叉车安全检查                   0                       0  2021-11-27   \n",
       "4053          无效时间                   0                       0  2021-11-27   \n",
       "\n",
       "        end_date  report_date  create_time          update_time  sprm  \n",
       "4052  2021-11-27   2021-11-27   1638231191  2021-11-30 08:13:11   0.0  \n",
       "4053  2021-11-27   2021-11-27   1638231191  2021-11-30 08:13:11   0.0  \n",
       "\n",
       "[2 rows x 29 columns]"
      ]
     },
     "execution_count": 541,
     "metadata": {},
     "output_type": "execute_result"
    }
   ],
   "source": [
    "coach[coach[['duration',\n",
    "    'adjustment_duration', 'adjusted_duration', ]].sum(axis = 1) != 0]"
   ]
  },
  {
   "cell_type": "code",
   "execution_count": 511,
   "metadata": {},
   "outputs": [],
   "source": [
    "# # coach= coach.drop(['dwd_task_id', 'station_id', 'work_turn_id', 'raw_data'], axis  =1)\n",
    "\n",
    "# coach['work_content'].value_counts()\n",
    "# coach['work_content_refer'].value_counts()\n",
    "# coach"
   ]
  },
  {
   "cell_type": "code",
   "execution_count": 477,
   "metadata": {},
   "outputs": [],
   "source": [
    "# %%time\n",
    "# df = pd.DataFrame()\n",
    "# for i in np.arange(coach.shape[0]):\n",
    "#     df = pd.concat([pd.DataFrame.from_dict(json.loads(coach['raw_data'][i]), orient=\"index\" ).T, df], axis = 0)"
   ]
  },
  {
   "cell_type": "code",
   "execution_count": 698,
   "metadata": {},
   "outputs": [],
   "source": [
    "# coach[coach['start_date'] == '2021-11-23'] \n",
    "# coach"
   ]
  },
  {
   "cell_type": "code",
   "execution_count": 663,
   "metadata": {},
   "outputs": [],
   "source": [
    "def plot0_date(date, col):\n",
    "    # sns.histplot(\n",
    "    return coach[coach['start_date'] == date][col].value_counts()"
   ]
  },
  {
   "cell_type": "code",
   "execution_count": 673,
   "metadata": {},
   "outputs": [
    {
     "data": {
      "text/plain": [
       "0      5614\n",
       "360     786\n",
       "15      143\n",
       "Name: work_content_refer, dtype: int64"
      ]
     },
     "execution_count": 673,
     "metadata": {},
     "output_type": "execute_result"
    }
   ],
   "source": [
    "plot0_date('2021-11-28', 'work_content_refer')\n",
    "# pd.set_option(\"display.max_rows\", 15, \"display.max_columns\", None)\n",
    "# coach.head()"
   ]
  },
  {
   "cell_type": "code",
   "execution_count": 33,
   "metadata": {},
   "outputs": [
    {
     "data": {
      "text/plain": [
       "['.git',\n",
       " '.gitignore',\n",
       " '.vscode',\n",
       " 'activity_analysis_siemens_1012.pbix',\n",
       " 'activity_detail.ipynb',\n",
       " 'activity_detail.py',\n",
       " 'activity_script.py',\n",
       " 'activity_tracking_1014.pptx',\n",
       " 'activi_for.csv',\n",
       " 'activi_for_siemens1012.csv',\n",
       " 'acti_coach.ipynb',\n",
       " 'data',\n",
       " 'demo',\n",
       " 'formattingsql.sql',\n",
       " 'play4_activity.sh',\n",
       " 'play4_activity.zip',\n",
       " 'smart',\n",
       " 'wid1.ipynb']"
      ]
     },
     "execution_count": 33,
     "metadata": {},
     "output_type": "execute_result"
    }
   ],
   "source": [
    "os.listdir()"
   ]
  },
  {
   "cell_type": "code",
   "execution_count": 34,
   "metadata": {},
   "outputs": [
    {
     "name": "stderr",
     "output_type": "stream",
     "text": [
      "C:\\Users\\DSCSHA~1\\AppData\\Local\\Temp/ipykernel_14824/2969852160.py:53: DtypeWarning: Columns (42) have mixed types.Specify dtype option on import or set low_memory=False.\n",
      "  coach = data_prepare(coach)\n"
     ]
    }
   ],
   "source": [
    "def data_prepare(coach):\n",
    "\n",
    "    \"\"\"\n",
    "    time unix convert, \n",
    "    转换后标准时长换算成秒,\n",
    "    sprm 计算.\n",
    "    工作在勤时间\n",
    "    \"\"\"\n",
    "    coach = pd.read_csv('./data/coach_bdp_all.csv', sep = '\\001')\n",
    "    coach = coach.dropna(how = 'all', axis = 1)\n",
    "    coach.columns = [re.sub('\\w+\\.', '', i) for i in list(coach.columns)]\n",
    "    coach = coach.dropna(how = 'all', axis = 1)\n",
    "    \n",
    "    # time_convert()\n",
    "    def time_convert(col):\n",
    "        coach[col] = coach[col].astype(int)\n",
    "        coach[col] = [datetime.fromtimestamp(i).strftime('%Y-%m-%d %H:%M:%S') for i in coach[col]]\n",
    "        return coach\n",
    "    for i in ['start_time', 'end_time', 'hire_time', 'update_time']:\n",
    "        time_convert(i)\n",
    "    coach['start_time'] = pd.to_datetime(coach['start_time'])\n",
    "    coach['end_time']   = pd.to_datetime(coach['end_time'])\n",
    "    # coach['duration'] =  coach['end_time'] - coach['start_time']\n",
    "    # coach = coach[coach['duration'] != '0']\n",
    "    # sprm calculation\n",
    "    coach['sprm'] = (60/coach['work_content_refer']).replace([np.inf, -np.inf], 0)\n",
    "    wh = coach.groupby(['worker_name','start_date']).agg(\n",
    "        {\n",
    "            'start_time': 'min',\n",
    "            'end_time': 'max',\n",
    "            'sprm': 'sum',\n",
    "        }\n",
    "    ).reset_index()\n",
    "    wh['work_hour'] = wh['end_time'] - wh['start_time']\n",
    "    wh['work_hour_in_min']  = [i.total_seconds()/60 for i in wh['work_hour']]\n",
    "    wh['work_hour_in_hour'] = [i.total_seconds()/3600 for i in wh['work_hour']]\n",
    "    wh = wh.drop(['end_time','start_time', 'work_hour'], axis = 1).rename({'sprm':'SPRM_total_of_day'}, axis =1)\n",
    "    coach = coach.merge(wh, on = ['worker_name', 'start_date'], how = 'inner')\n",
    "    # coach = coach[coach['duration'] != '0']\n",
    "    coach = coach[coach['sprm'] != 0]\n",
    "    coach['sprm_perhour'] =  coach['SPRM_total_of_day'] / coach['work_hour_in_hour']\n",
    "    \"\"\"\n",
    "    计算转换后时间长度, 换算成 \n",
    "    秒\n",
    "    \"\"\"\n",
    "    # coach = pd.concat([coach, pd.DataFrame(list(coach['adjusted_duration'].str.split(':')))], axis =1) \n",
    "    # coach = coach[coach[[0,1,2]].astype(int).sum(axis = 1) != 0]\n",
    "    # coach[[0,1,2]] = coach[[0,1,2]].astype(int)\n",
    "    # coach['time_len'] = coach[0]*3600 + coach[1]*60 + coach[2]\n",
    "    # coach = coach.drop([0,1,2], axis = 1) \n",
    "    \n",
    "    return coach\n",
    "coach = data_prepare(coach)\n"
   ]
  },
  {
   "cell_type": "code",
   "execution_count": 35,
   "metadata": {},
   "outputs": [],
   "source": [
    "coach = coach[['worker_name', 'start_date', 'end_date', 'work_group_name', 'up_worker_name', 'hire_time',\\\n",
    "         'worker_post_name', 'sprm', 'SPRM_total_of_day', 'work_hour_in_min',\n",
    "         'work_hour_in_hour', 'sprm_perhour', 'station_name']].drop_duplicates()"
   ]
  },
  {
   "cell_type": "code",
   "execution_count": 61,
   "metadata": {},
   "outputs": [],
   "source": [
    "# coach"
   ]
  },
  {
   "cell_type": "code",
   "execution_count": 83,
   "metadata": {},
   "outputs": [
    {
     "ename": "ValueError",
     "evalue": "Invalid property specified for object of type plotly.graph_objs.Bar: 'color'\n\nDid you mean \"r\"?\n\n    Valid properties:\n        alignmentgroup\n            Set several traces linked to the same position axis or\n            matching axes to the same alignmentgroup. This controls\n            whether bars compute their positional range dependently\n            or independently.\n        base\n            Sets where the bar base is drawn (in position axis\n            units). In \"stack\" or \"relative\" barmode, traces that\n            set \"base\" will be excluded and drawn in \"overlay\" mode\n            instead.\n        basesrc\n            Sets the source reference on Chart Studio Cloud for\n            base .\n        cliponaxis\n            Determines whether the text nodes are clipped about the\n            subplot axes. To show the text nodes above axis lines\n            and tick labels, make sure to set `xaxis.layer` and\n            `yaxis.layer` to *below traces*.\n        constraintext\n            Constrain the size of text inside or outside a bar to\n            be no larger than the bar itself.\n        customdata\n            Assigns extra data each datum. This may be useful when\n            listening to hover, click and selection events. Note\n            that, \"scatter\" traces also appends customdata items in\n            the markers DOM elements\n        customdatasrc\n            Sets the source reference on Chart Studio Cloud for\n            customdata .\n        dx\n            Sets the x coordinate step. See `x0` for more info.\n        dy\n            Sets the y coordinate step. See `y0` for more info.\n        error_x\n            :class:`plotly.graph_objects.bar.ErrorX` instance or\n            dict with compatible properties\n        error_y\n            :class:`plotly.graph_objects.bar.ErrorY` instance or\n            dict with compatible properties\n        hoverinfo\n            Determines which trace information appear on hover. If\n            `none` or `skip` are set, no information is displayed\n            upon hovering. But, if `none` is set, click and hover\n            events are still fired.\n        hoverinfosrc\n            Sets the source reference on Chart Studio Cloud for\n            hoverinfo .\n        hoverlabel\n            :class:`plotly.graph_objects.bar.Hoverlabel` instance\n            or dict with compatible properties\n        hovertemplate\n            Template string used for rendering the information that\n            appear on hover box. Note that this will override\n            `hoverinfo`. Variables are inserted using %{variable},\n            for example \"y: %{y}\". Numbers are formatted using\n            d3-format's syntax %{variable:d3-format}, for example\n            \"Price: %{y:$.2f}\". https://github.com/d3/d3-3.x-api-\n            reference/blob/master/Formatting.md#d3_format for\n            details on the formatting syntax. Dates are formatted\n            using d3-time-format's syntax %{variable|d3-time-\n            format}, for example \"Day: %{2019-01-01|%A}\".\n            https://github.com/d3/d3-time-format#locale_format for\n            details on the date formatting syntax. The variables\n            available in `hovertemplate` are the ones emitted as\n            event data described at this link\n            https://plotly.com/javascript/plotlyjs-events/#event-\n            data. Additionally, every attributes that can be\n            specified per-point (the ones that are `arrayOk: true`)\n            are available. variables `value` and `label`. Anything\n            contained in tag `<extra>` is displayed in the\n            secondary box, for example\n            \"<extra>{fullData.name}</extra>\". To hide the secondary\n            box completely, use an empty tag `<extra></extra>`.\n        hovertemplatesrc\n            Sets the source reference on Chart Studio Cloud for\n            hovertemplate .\n        hovertext\n            Sets hover text elements associated with each (x,y)\n            pair. If a single string, the same string appears over\n            all the data points. If an array of string, the items\n            are mapped in order to the this trace's (x,y)\n            coordinates. To be seen, trace `hoverinfo` must contain\n            a \"text\" flag.\n        hovertextsrc\n            Sets the source reference on Chart Studio Cloud for\n            hovertext .\n        ids\n            Assigns id labels to each datum. These ids for object\n            constancy of data points during animation. Should be an\n            array of strings, not numbers or any other type.\n        idssrc\n            Sets the source reference on Chart Studio Cloud for\n            ids .\n        insidetextanchor\n            Determines if texts are kept at center or start/end\n            points in `textposition` \"inside\" mode.\n        insidetextfont\n            Sets the font used for `text` lying inside the bar.\n        legendgroup\n            Sets the legend group for this trace. Traces part of\n            the same legend group hide/show at the same time when\n            toggling legend items.\n        marker\n            :class:`plotly.graph_objects.bar.Marker` instance or\n            dict with compatible properties\n        meta\n            Assigns extra meta information associated with this\n            trace that can be used in various text attributes.\n            Attributes such as trace `name`, graph, axis and\n            colorbar `title.text`, annotation `text`\n            `rangeselector`, `updatemenues` and `sliders` `label`\n            text all support `meta`. To access the trace `meta`\n            values in an attribute in the same trace, simply use\n            `%{meta[i]}` where `i` is the index or key of the\n            `meta` item in question. To access trace `meta` in\n            layout attributes, use `%{data[n[.meta[i]}` where `i`\n            is the index or key of the `meta` and `n` is the trace\n            index.\n        metasrc\n            Sets the source reference on Chart Studio Cloud for\n            meta .\n        name\n            Sets the trace name. The trace name appear as the\n            legend item and on hover.\n        offset\n            Shifts the position where the bar is drawn (in position\n            axis units). In \"group\" barmode, traces that set\n            \"offset\" will be excluded and drawn in \"overlay\" mode\n            instead.\n        offsetgroup\n            Set several traces linked to the same position axis or\n            matching axes to the same offsetgroup where bars of the\n            same position coordinate will line up.\n        offsetsrc\n            Sets the source reference on Chart Studio Cloud for\n            offset .\n        opacity\n            Sets the opacity of the trace.\n        orientation\n            Sets the orientation of the bars. With \"v\" (\"h\"), the\n            value of the each bar spans along the vertical\n            (horizontal).\n        outsidetextfont\n            Sets the font used for `text` lying outside the bar.\n        r\n            r coordinates in scatter traces are deprecated!Please\n            switch to the \"scatterpolar\" trace type.Sets the radial\n            coordinatesfor legacy polar chart only.\n        rsrc\n            Sets the source reference on Chart Studio Cloud for  r\n            .\n        selected\n            :class:`plotly.graph_objects.bar.Selected` instance or\n            dict with compatible properties\n        selectedpoints\n            Array containing integer indices of selected points.\n            Has an effect only for traces that support selections.\n            Note that an empty array means an empty selection where\n            the `unselected` are turned on for all points, whereas,\n            any other non-array values means no selection all where\n            the `selected` and `unselected` styles have no effect.\n        showlegend\n            Determines whether or not an item corresponding to this\n            trace is shown in the legend.\n        stream\n            :class:`plotly.graph_objects.bar.Stream` instance or\n            dict with compatible properties\n        t\n            t coordinates in scatter traces are deprecated!Please\n            switch to the \"scatterpolar\" trace type.Sets the\n            angular coordinatesfor legacy polar chart only.\n        text\n            Sets text elements associated with each (x,y) pair. If\n            a single string, the same string appears over all the\n            data points. If an array of string, the items are\n            mapped in order to the this trace's (x,y) coordinates.\n            If trace `hoverinfo` contains a \"text\" flag and\n            \"hovertext\" is not set, these elements will be seen in\n            the hover labels.\n        textangle\n            Sets the angle of the tick labels with respect to the\n            bar. For example, a `tickangle` of -90 draws the tick\n            labels vertically. With \"auto\" the texts may\n            automatically be rotated to fit with the maximum size\n            in bars.\n        textfont\n            Sets the font used for `text`.\n        textposition\n            Specifies the location of the `text`. \"inside\"\n            positions `text` inside, next to the bar end (rotated\n            and scaled if needed). \"outside\" positions `text`\n            outside, next to the bar end (scaled if needed), unless\n            there is another bar stacked on this one, then the text\n            gets pushed inside. \"auto\" tries to position `text`\n            inside the bar, but if the bar is too small and no bar\n            is stacked on this one the text is moved outside.\n        textpositionsrc\n            Sets the source reference on Chart Studio Cloud for\n            textposition .\n        textsrc\n            Sets the source reference on Chart Studio Cloud for\n            text .\n        texttemplate\n            Template string used for rendering the information text\n            that appear on points. Note that this will override\n            `textinfo`. Variables are inserted using %{variable},\n            for example \"y: %{y}\". Numbers are formatted using\n            d3-format's syntax %{variable:d3-format}, for example\n            \"Price: %{y:$.2f}\". https://github.com/d3/d3-3.x-api-\n            reference/blob/master/Formatting.md#d3_format for\n            details on the formatting syntax. Dates are formatted\n            using d3-time-format's syntax %{variable|d3-time-\n            format}, for example \"Day: %{2019-01-01|%A}\".\n            https://github.com/d3/d3-time-format#locale_format for\n            details on the date formatting syntax. Every attributes\n            that can be specified per-point (the ones that are\n            `arrayOk: true`) are available. variables `value` and\n            `label`.\n        texttemplatesrc\n            Sets the source reference on Chart Studio Cloud for\n            texttemplate .\n        tsrc\n            Sets the source reference on Chart Studio Cloud for  t\n            .\n        uid\n            Assign an id to this trace, Use this to provide object\n            constancy between traces during animations and\n            transitions.\n        uirevision\n            Controls persistence of some user-driven changes to the\n            trace: `constraintrange` in `parcoords` traces, as well\n            as some `editable: true` modifications such as `name`\n            and `colorbar.title`. Defaults to `layout.uirevision`.\n            Note that other user-driven trace attribute changes are\n            controlled by `layout` attributes: `trace.visible` is\n            controlled by `layout.legend.uirevision`,\n            `selectedpoints` is controlled by\n            `layout.selectionrevision`, and `colorbar.(x|y)`\n            (accessible with `config: {editable: true}`) is\n            controlled by `layout.editrevision`. Trace changes are\n            tracked by `uid`, which only falls back on trace index\n            if no `uid` is provided. So if your app can add/remove\n            traces before the end of the `data` array, such that\n            the same trace has a different index, you can still\n            preserve user-driven changes if you give each trace a\n            `uid` that stays with it as it moves.\n        unselected\n            :class:`plotly.graph_objects.bar.Unselected` instance\n            or dict with compatible properties\n        visible\n            Determines whether or not this trace is visible. If\n            \"legendonly\", the trace is not drawn, but can appear as\n            a legend item (provided that the legend itself is\n            visible).\n        width\n            Sets the bar width (in position axis units).\n        widthsrc\n            Sets the source reference on Chart Studio Cloud for\n            width .\n        x\n            Sets the x coordinates.\n        x0\n            Alternate to `x`. Builds a linear space of x\n            coordinates. Use with `dx` where `x0` is the starting\n            coordinate and `dx` the step.\n        xaxis\n            Sets a reference between this trace's x coordinates and\n            a 2D cartesian x axis. If \"x\" (the default value), the\n            x coordinates refer to `layout.xaxis`. If \"x2\", the x\n            coordinates refer to `layout.xaxis2`, and so on.\n        xcalendar\n            Sets the calendar system to use with `x` date data.\n        xperiod\n            Only relevant when the axis `type` is \"date\". Sets the\n            period positioning in milliseconds or \"M<n>\" on the x\n            axis. Special values in the form of \"M<n>\" could be\n            used to declare the number of months. In this case `n`\n            must be a positive integer.\n        xperiod0\n            Only relevant when the axis `type` is \"date\". Sets the\n            base for period positioning in milliseconds or date\n            string on the x0 axis. When `x0period` is round number\n            of weeks, the `x0period0` by default would be on a\n            Sunday i.e. 2000-01-02, otherwise it would be at\n            2000-01-01.\n        xperiodalignment\n            Only relevant when the axis `type` is \"date\". Sets the\n            alignment of data points on the x axis.\n        xsrc\n            Sets the source reference on Chart Studio Cloud for  x\n            .\n        y\n            Sets the y coordinates.\n        y0\n            Alternate to `y`. Builds a linear space of y\n            coordinates. Use with `dy` where `y0` is the starting\n            coordinate and `dy` the step.\n        yaxis\n            Sets a reference between this trace's y coordinates and\n            a 2D cartesian y axis. If \"y\" (the default value), the\n            y coordinates refer to `layout.yaxis`. If \"y2\", the y\n            coordinates refer to `layout.yaxis2`, and so on.\n        ycalendar\n            Sets the calendar system to use with `y` date data.\n        yperiod\n            Only relevant when the axis `type` is \"date\". Sets the\n            period positioning in milliseconds or \"M<n>\" on the y\n            axis. Special values in the form of \"M<n>\" could be\n            used to declare the number of months. In this case `n`\n            must be a positive integer.\n        yperiod0\n            Only relevant when the axis `type` is \"date\". Sets the\n            base for period positioning in milliseconds or date\n            string on the y0 axis. When `y0period` is round number\n            of weeks, the `y0period0` by default would be on a\n            Sunday i.e. 2000-01-02, otherwise it would be at\n            2000-01-01.\n        yperiodalignment\n            Only relevant when the axis `type` is \"date\". Sets the\n            alignment of data points on the y axis.\n        ysrc\n            Sets the source reference on Chart Studio Cloud for  y\n            .\n        \nDid you mean \"r\"?\n\nBad property path:\ncolor\n^^^^^",
     "output_type": "error",
     "traceback": [
      "\u001b[1;31m---------------------------------------------------------------------------\u001b[0m",
      "\u001b[1;31mValueError\u001b[0m                                Traceback (most recent call last)",
      "\u001b[1;32mC:\\Users\\DSCSHA~1\\AppData\\Local\\Temp/ipykernel_14824/74373233.py\u001b[0m in \u001b[0;36m<module>\u001b[1;34m\u001b[0m\n\u001b[0;32m     25\u001b[0m     \u001b[1;32mreturn\u001b[0m \u001b[0mfig\u001b[0m\u001b[1;33m\u001b[0m\u001b[1;33m\u001b[0m\u001b[0m\n\u001b[0;32m     26\u001b[0m \u001b[1;33m\u001b[0m\u001b[0m\n\u001b[1;32m---> 27\u001b[1;33m \u001b[0mplot_\u001b[0m\u001b[1;33m(\u001b[0m\u001b[1;34m'2021-11-29'\u001b[0m\u001b[1;33m,\u001b[0m \u001b[1;34m'COA'\u001b[0m\u001b[1;33m)\u001b[0m\u001b[1;33m\u001b[0m\u001b[1;33m\u001b[0m\u001b[0m\n\u001b[0m",
      "\u001b[1;32mC:\\Users\\DSCSHA~1\\AppData\\Local\\Temp/ipykernel_14824/74373233.py\u001b[0m in \u001b[0;36mplot_\u001b[1;34m(riqi, site)\u001b[0m\n\u001b[0;32m     12\u001b[0m     \u001b[0mfig\u001b[0m \u001b[1;33m=\u001b[0m \u001b[0mmake_subplots\u001b[0m\u001b[1;33m(\u001b[0m\u001b[0mspecs\u001b[0m\u001b[1;33m=\u001b[0m\u001b[1;33m[\u001b[0m\u001b[1;33m[\u001b[0m\u001b[1;33m{\u001b[0m\u001b[1;34m\"secondary_y\"\u001b[0m\u001b[1;33m:\u001b[0m \u001b[1;32mTrue\u001b[0m\u001b[1;33m}\u001b[0m\u001b[1;33m]\u001b[0m\u001b[1;33m]\u001b[0m\u001b[1;33m)\u001b[0m\u001b[1;33m\u001b[0m\u001b[1;33m\u001b[0m\u001b[0m\n\u001b[0;32m     13\u001b[0m     \u001b[0mdata\u001b[0m \u001b[1;33m=\u001b[0m \u001b[0mplot_data\u001b[0m\u001b[1;33m(\u001b[0m\u001b[0mriqi\u001b[0m\u001b[1;33m,\u001b[0m \u001b[0msite\u001b[0m\u001b[1;33m)\u001b[0m\u001b[1;33m\u001b[0m\u001b[1;33m\u001b[0m\u001b[0m\n\u001b[1;32m---> 14\u001b[1;33m     fig.add_trace(go.Bar(\n\u001b[0m\u001b[0;32m     15\u001b[0m         \u001b[0mx\u001b[0m \u001b[1;33m=\u001b[0m \u001b[0mdata\u001b[0m\u001b[1;33m[\u001b[0m\u001b[1;34m'worker_name'\u001b[0m\u001b[1;33m]\u001b[0m\u001b[1;33m,\u001b[0m \u001b[0my\u001b[0m \u001b[1;33m=\u001b[0m \u001b[0mdata\u001b[0m\u001b[1;33m[\u001b[0m\u001b[1;34m'sprm_perhour'\u001b[0m\u001b[1;33m]\u001b[0m\u001b[1;33m,\u001b[0m \u001b[0mname\u001b[0m \u001b[1;33m=\u001b[0m \u001b[1;34m'sprm_perhour'\u001b[0m\u001b[1;33m,\u001b[0m \u001b[0mcolor\u001b[0m \u001b[1;33m=\u001b[0m \u001b[0mdata\u001b[0m\u001b[1;33m[\u001b[0m\u001b[1;34m'work_group_name'\u001b[0m\u001b[1;33m]\u001b[0m\u001b[1;33m\u001b[0m\u001b[1;33m\u001b[0m\u001b[0m\n\u001b[0;32m     16\u001b[0m         ),\n",
      "\u001b[1;32m~\\Miniconda3\\envs\\siming\\lib\\site-packages\\plotly\\graph_objs\\_bar.py\u001b[0m in \u001b[0;36m__init__\u001b[1;34m(self, arg, alignmentgroup, base, basesrc, cliponaxis, constraintext, customdata, customdatasrc, dx, dy, error_x, error_y, hoverinfo, hoverinfosrc, hoverlabel, hovertemplate, hovertemplatesrc, hovertext, hovertextsrc, ids, idssrc, insidetextanchor, insidetextfont, legendgroup, marker, meta, metasrc, name, offset, offsetgroup, offsetsrc, opacity, orientation, outsidetextfont, r, rsrc, selected, selectedpoints, showlegend, stream, t, text, textangle, textfont, textposition, textpositionsrc, textsrc, texttemplate, texttemplatesrc, tsrc, uid, uirevision, unselected, visible, width, widthsrc, x, x0, xaxis, xcalendar, xperiod, xperiod0, xperiodalignment, xsrc, y, y0, yaxis, ycalendar, yperiod, yperiod0, yperiodalignment, ysrc, **kwargs)\u001b[0m\n\u001b[0;32m   3153\u001b[0m         \u001b[1;31m# Process unknown kwargs\u001b[0m\u001b[1;33m\u001b[0m\u001b[1;33m\u001b[0m\u001b[1;33m\u001b[0m\u001b[0m\n\u001b[0;32m   3154\u001b[0m         \u001b[1;31m# ----------------------\u001b[0m\u001b[1;33m\u001b[0m\u001b[1;33m\u001b[0m\u001b[1;33m\u001b[0m\u001b[0m\n\u001b[1;32m-> 3155\u001b[1;33m         \u001b[0mself\u001b[0m\u001b[1;33m.\u001b[0m\u001b[0m_process_kwargs\u001b[0m\u001b[1;33m(\u001b[0m\u001b[1;33m**\u001b[0m\u001b[0mdict\u001b[0m\u001b[1;33m(\u001b[0m\u001b[0marg\u001b[0m\u001b[1;33m,\u001b[0m \u001b[1;33m**\u001b[0m\u001b[0mkwargs\u001b[0m\u001b[1;33m)\u001b[0m\u001b[1;33m)\u001b[0m\u001b[1;33m\u001b[0m\u001b[1;33m\u001b[0m\u001b[0m\n\u001b[0m\u001b[0;32m   3156\u001b[0m \u001b[1;33m\u001b[0m\u001b[0m\n\u001b[0;32m   3157\u001b[0m         \u001b[1;31m# Reset skip_invalid\u001b[0m\u001b[1;33m\u001b[0m\u001b[1;33m\u001b[0m\u001b[1;33m\u001b[0m\u001b[0m\n",
      "\u001b[1;32m~\\Miniconda3\\envs\\siming\\lib\\site-packages\\plotly\\basedatatypes.py\u001b[0m in \u001b[0;36m_process_kwargs\u001b[1;34m(self, **kwargs)\u001b[0m\n\u001b[0;32m   4320\u001b[0m                 \u001b[0mself\u001b[0m\u001b[1;33m[\u001b[0m\u001b[0mk\u001b[0m\u001b[1;33m]\u001b[0m \u001b[1;33m=\u001b[0m \u001b[0mv\u001b[0m\u001b[1;33m\u001b[0m\u001b[1;33m\u001b[0m\u001b[0m\n\u001b[0;32m   4321\u001b[0m             \u001b[1;32melif\u001b[0m \u001b[1;32mnot\u001b[0m \u001b[0mself\u001b[0m\u001b[1;33m.\u001b[0m\u001b[0m_skip_invalid\u001b[0m\u001b[1;33m:\u001b[0m\u001b[1;33m\u001b[0m\u001b[1;33m\u001b[0m\u001b[0m\n\u001b[1;32m-> 4322\u001b[1;33m                 \u001b[1;32mraise\u001b[0m \u001b[0merr\u001b[0m\u001b[1;33m\u001b[0m\u001b[1;33m\u001b[0m\u001b[0m\n\u001b[0m\u001b[0;32m   4323\u001b[0m         \u001b[1;31m# No need to call _raise_on_invalid_property_error here,\u001b[0m\u001b[1;33m\u001b[0m\u001b[1;33m\u001b[0m\u001b[1;33m\u001b[0m\u001b[0m\n\u001b[0;32m   4324\u001b[0m         \u001b[1;31m# because we have it set up so that the singular case of calling\u001b[0m\u001b[1;33m\u001b[0m\u001b[1;33m\u001b[0m\u001b[1;33m\u001b[0m\u001b[0m\n",
      "\u001b[1;31mValueError\u001b[0m: Invalid property specified for object of type plotly.graph_objs.Bar: 'color'\n\nDid you mean \"r\"?\n\n    Valid properties:\n        alignmentgroup\n            Set several traces linked to the same position axis or\n            matching axes to the same alignmentgroup. This controls\n            whether bars compute their positional range dependently\n            or independently.\n        base\n            Sets where the bar base is drawn (in position axis\n            units). In \"stack\" or \"relative\" barmode, traces that\n            set \"base\" will be excluded and drawn in \"overlay\" mode\n            instead.\n        basesrc\n            Sets the source reference on Chart Studio Cloud for\n            base .\n        cliponaxis\n            Determines whether the text nodes are clipped about the\n            subplot axes. To show the text nodes above axis lines\n            and tick labels, make sure to set `xaxis.layer` and\n            `yaxis.layer` to *below traces*.\n        constraintext\n            Constrain the size of text inside or outside a bar to\n            be no larger than the bar itself.\n        customdata\n            Assigns extra data each datum. This may be useful when\n            listening to hover, click and selection events. Note\n            that, \"scatter\" traces also appends customdata items in\n            the markers DOM elements\n        customdatasrc\n            Sets the source reference on Chart Studio Cloud for\n            customdata .\n        dx\n            Sets the x coordinate step. See `x0` for more info.\n        dy\n            Sets the y coordinate step. See `y0` for more info.\n        error_x\n            :class:`plotly.graph_objects.bar.ErrorX` instance or\n            dict with compatible properties\n        error_y\n            :class:`plotly.graph_objects.bar.ErrorY` instance or\n            dict with compatible properties\n        hoverinfo\n            Determines which trace information appear on hover. If\n            `none` or `skip` are set, no information is displayed\n            upon hovering. But, if `none` is set, click and hover\n            events are still fired.\n        hoverinfosrc\n            Sets the source reference on Chart Studio Cloud for\n            hoverinfo .\n        hoverlabel\n            :class:`plotly.graph_objects.bar.Hoverlabel` instance\n            or dict with compatible properties\n        hovertemplate\n            Template string used for rendering the information that\n            appear on hover box. Note that this will override\n            `hoverinfo`. Variables are inserted using %{variable},\n            for example \"y: %{y}\". Numbers are formatted using\n            d3-format's syntax %{variable:d3-format}, for example\n            \"Price: %{y:$.2f}\". https://github.com/d3/d3-3.x-api-\n            reference/blob/master/Formatting.md#d3_format for\n            details on the formatting syntax. Dates are formatted\n            using d3-time-format's syntax %{variable|d3-time-\n            format}, for example \"Day: %{2019-01-01|%A}\".\n            https://github.com/d3/d3-time-format#locale_format for\n            details on the date formatting syntax. The variables\n            available in `hovertemplate` are the ones emitted as\n            event data described at this link\n            https://plotly.com/javascript/plotlyjs-events/#event-\n            data. Additionally, every attributes that can be\n            specified per-point (the ones that are `arrayOk: true`)\n            are available. variables `value` and `label`. Anything\n            contained in tag `<extra>` is displayed in the\n            secondary box, for example\n            \"<extra>{fullData.name}</extra>\". To hide the secondary\n            box completely, use an empty tag `<extra></extra>`.\n        hovertemplatesrc\n            Sets the source reference on Chart Studio Cloud for\n            hovertemplate .\n        hovertext\n            Sets hover text elements associated with each (x,y)\n            pair. If a single string, the same string appears over\n            all the data points. If an array of string, the items\n            are mapped in order to the this trace's (x,y)\n            coordinates. To be seen, trace `hoverinfo` must contain\n            a \"text\" flag.\n        hovertextsrc\n            Sets the source reference on Chart Studio Cloud for\n            hovertext .\n        ids\n            Assigns id labels to each datum. These ids for object\n            constancy of data points during animation. Should be an\n            array of strings, not numbers or any other type.\n        idssrc\n            Sets the source reference on Chart Studio Cloud for\n            ids .\n        insidetextanchor\n            Determines if texts are kept at center or start/end\n            points in `textposition` \"inside\" mode.\n        insidetextfont\n            Sets the font used for `text` lying inside the bar.\n        legendgroup\n            Sets the legend group for this trace. Traces part of\n            the same legend group hide/show at the same time when\n            toggling legend items.\n        marker\n            :class:`plotly.graph_objects.bar.Marker` instance or\n            dict with compatible properties\n        meta\n            Assigns extra meta information associated with this\n            trace that can be used in various text attributes.\n            Attributes such as trace `name`, graph, axis and\n            colorbar `title.text`, annotation `text`\n            `rangeselector`, `updatemenues` and `sliders` `label`\n            text all support `meta`. To access the trace `meta`\n            values in an attribute in the same trace, simply use\n            `%{meta[i]}` where `i` is the index or key of the\n            `meta` item in question. To access trace `meta` in\n            layout attributes, use `%{data[n[.meta[i]}` where `i`\n            is the index or key of the `meta` and `n` is the trace\n            index.\n        metasrc\n            Sets the source reference on Chart Studio Cloud for\n            meta .\n        name\n            Sets the trace name. The trace name appear as the\n            legend item and on hover.\n        offset\n            Shifts the position where the bar is drawn (in position\n            axis units). In \"group\" barmode, traces that set\n            \"offset\" will be excluded and drawn in \"overlay\" mode\n            instead.\n        offsetgroup\n            Set several traces linked to the same position axis or\n            matching axes to the same offsetgroup where bars of the\n            same position coordinate will line up.\n        offsetsrc\n            Sets the source reference on Chart Studio Cloud for\n            offset .\n        opacity\n            Sets the opacity of the trace.\n        orientation\n            Sets the orientation of the bars. With \"v\" (\"h\"), the\n            value of the each bar spans along the vertical\n            (horizontal).\n        outsidetextfont\n            Sets the font used for `text` lying outside the bar.\n        r\n            r coordinates in scatter traces are deprecated!Please\n            switch to the \"scatterpolar\" trace type.Sets the radial\n            coordinatesfor legacy polar chart only.\n        rsrc\n            Sets the source reference on Chart Studio Cloud for  r\n            .\n        selected\n            :class:`plotly.graph_objects.bar.Selected` instance or\n            dict with compatible properties\n        selectedpoints\n            Array containing integer indices of selected points.\n            Has an effect only for traces that support selections.\n            Note that an empty array means an empty selection where\n            the `unselected` are turned on for all points, whereas,\n            any other non-array values means no selection all where\n            the `selected` and `unselected` styles have no effect.\n        showlegend\n            Determines whether or not an item corresponding to this\n            trace is shown in the legend.\n        stream\n            :class:`plotly.graph_objects.bar.Stream` instance or\n            dict with compatible properties\n        t\n            t coordinates in scatter traces are deprecated!Please\n            switch to the \"scatterpolar\" trace type.Sets the\n            angular coordinatesfor legacy polar chart only.\n        text\n            Sets text elements associated with each (x,y) pair. If\n            a single string, the same string appears over all the\n            data points. If an array of string, the items are\n            mapped in order to the this trace's (x,y) coordinates.\n            If trace `hoverinfo` contains a \"text\" flag and\n            \"hovertext\" is not set, these elements will be seen in\n            the hover labels.\n        textangle\n            Sets the angle of the tick labels with respect to the\n            bar. For example, a `tickangle` of -90 draws the tick\n            labels vertically. With \"auto\" the texts may\n            automatically be rotated to fit with the maximum size\n            in bars.\n        textfont\n            Sets the font used for `text`.\n        textposition\n            Specifies the location of the `text`. \"inside\"\n            positions `text` inside, next to the bar end (rotated\n            and scaled if needed). \"outside\" positions `text`\n            outside, next to the bar end (scaled if needed), unless\n            there is another bar stacked on this one, then the text\n            gets pushed inside. \"auto\" tries to position `text`\n            inside the bar, but if the bar is too small and no bar\n            is stacked on this one the text is moved outside.\n        textpositionsrc\n            Sets the source reference on Chart Studio Cloud for\n            textposition .\n        textsrc\n            Sets the source reference on Chart Studio Cloud for\n            text .\n        texttemplate\n            Template string used for rendering the information text\n            that appear on points. Note that this will override\n            `textinfo`. Variables are inserted using %{variable},\n            for example \"y: %{y}\". Numbers are formatted using\n            d3-format's syntax %{variable:d3-format}, for example\n            \"Price: %{y:$.2f}\". https://github.com/d3/d3-3.x-api-\n            reference/blob/master/Formatting.md#d3_format for\n            details on the formatting syntax. Dates are formatted\n            using d3-time-format's syntax %{variable|d3-time-\n            format}, for example \"Day: %{2019-01-01|%A}\".\n            https://github.com/d3/d3-time-format#locale_format for\n            details on the date formatting syntax. Every attributes\n            that can be specified per-point (the ones that are\n            `arrayOk: true`) are available. variables `value` and\n            `label`.\n        texttemplatesrc\n            Sets the source reference on Chart Studio Cloud for\n            texttemplate .\n        tsrc\n            Sets the source reference on Chart Studio Cloud for  t\n            .\n        uid\n            Assign an id to this trace, Use this to provide object\n            constancy between traces during animations and\n            transitions.\n        uirevision\n            Controls persistence of some user-driven changes to the\n            trace: `constraintrange` in `parcoords` traces, as well\n            as some `editable: true` modifications such as `name`\n            and `colorbar.title`. Defaults to `layout.uirevision`.\n            Note that other user-driven trace attribute changes are\n            controlled by `layout` attributes: `trace.visible` is\n            controlled by `layout.legend.uirevision`,\n            `selectedpoints` is controlled by\n            `layout.selectionrevision`, and `colorbar.(x|y)`\n            (accessible with `config: {editable: true}`) is\n            controlled by `layout.editrevision`. Trace changes are\n            tracked by `uid`, which only falls back on trace index\n            if no `uid` is provided. So if your app can add/remove\n            traces before the end of the `data` array, such that\n            the same trace has a different index, you can still\n            preserve user-driven changes if you give each trace a\n            `uid` that stays with it as it moves.\n        unselected\n            :class:`plotly.graph_objects.bar.Unselected` instance\n            or dict with compatible properties\n        visible\n            Determines whether or not this trace is visible. If\n            \"legendonly\", the trace is not drawn, but can appear as\n            a legend item (provided that the legend itself is\n            visible).\n        width\n            Sets the bar width (in position axis units).\n        widthsrc\n            Sets the source reference on Chart Studio Cloud for\n            width .\n        x\n            Sets the x coordinates.\n        x0\n            Alternate to `x`. Builds a linear space of x\n            coordinates. Use with `dx` where `x0` is the starting\n            coordinate and `dx` the step.\n        xaxis\n            Sets a reference between this trace's x coordinates and\n            a 2D cartesian x axis. If \"x\" (the default value), the\n            x coordinates refer to `layout.xaxis`. If \"x2\", the x\n            coordinates refer to `layout.xaxis2`, and so on.\n        xcalendar\n            Sets the calendar system to use with `x` date data.\n        xperiod\n            Only relevant when the axis `type` is \"date\". Sets the\n            period positioning in milliseconds or \"M<n>\" on the x\n            axis. Special values in the form of \"M<n>\" could be\n            used to declare the number of months. In this case `n`\n            must be a positive integer.\n        xperiod0\n            Only relevant when the axis `type` is \"date\". Sets the\n            base for period positioning in milliseconds or date\n            string on the x0 axis. When `x0period` is round number\n            of weeks, the `x0period0` by default would be on a\n            Sunday i.e. 2000-01-02, otherwise it would be at\n            2000-01-01.\n        xperiodalignment\n            Only relevant when the axis `type` is \"date\". Sets the\n            alignment of data points on the x axis.\n        xsrc\n            Sets the source reference on Chart Studio Cloud for  x\n            .\n        y\n            Sets the y coordinates.\n        y0\n            Alternate to `y`. Builds a linear space of y\n            coordinates. Use with `dy` where `y0` is the starting\n            coordinate and `dy` the step.\n        yaxis\n            Sets a reference between this trace's y coordinates and\n            a 2D cartesian y axis. If \"y\" (the default value), the\n            y coordinates refer to `layout.yaxis`. If \"y2\", the y\n            coordinates refer to `layout.yaxis2`, and so on.\n        ycalendar\n            Sets the calendar system to use with `y` date data.\n        yperiod\n            Only relevant when the axis `type` is \"date\". Sets the\n            period positioning in milliseconds or \"M<n>\" on the y\n            axis. Special values in the form of \"M<n>\" could be\n            used to declare the number of months. In this case `n`\n            must be a positive integer.\n        yperiod0\n            Only relevant when the axis `type` is \"date\". Sets the\n            base for period positioning in milliseconds or date\n            string on the y0 axis. When `y0period` is round number\n            of weeks, the `y0period0` by default would be on a\n            Sunday i.e. 2000-01-02, otherwise it would be at\n            2000-01-01.\n        yperiodalignment\n            Only relevant when the axis `type` is \"date\". Sets the\n            alignment of data points on the y axis.\n        ysrc\n            Sets the source reference on Chart Studio Cloud for  y\n            .\n        \nDid you mean \"r\"?\n\nBad property path:\ncolor\n^^^^^"
     ]
    }
   ],
   "source": [
    "import plotly.express as px\n",
    "import plotly.graph_objects as go\n",
    "from plotly.subplots import make_subplots\n",
    "def plot_data(riqi, site):\n",
    "    data = coach[coach['station_name'].str.contains(site)]\n",
    "    data = coach[coach['start_date'] == riqi][['worker_name', 'work_group_name', 'up_worker_name', 'hire_time', 'worker_post_name',\\\n",
    "    'sprm', 'SPRM_total_of_day', 'work_hour_in_min',\n",
    "    'work_hour_in_hour', 'sprm_perhour']].drop_duplicates()\n",
    "    data['work_group_name'] = data['work_group_name'].fillna('unknown')\n",
    "    return data\n",
    "def plot_(riqi, site):\n",
    "    fig = make_subplots(specs=[[{\"secondary_y\": True}]])\n",
    "    data = plot_data(riqi, site)\n",
    "    fig.add_trace(go.Bar(\n",
    "        x = data['worker_name'], y = data['sprm_perhour'], name = 'sprm_perhour', color = data['work_group_name']\n",
    "        ),\n",
    "        secondary_y = False)\n",
    "    fig.add_trace(go.Scatter(x = data['worker_name'], y = data['work_hour_in_hour'], name = 'working_hour'),\\\n",
    "        secondary_y = True)\n",
    "    fig.update_layout(\n",
    "            title=go.layout.Title(text=\"工时 & sprm/h; 时间:\" + riqi + '\\t'+ coach['station_name'][0])\n",
    "            )\n",
    "    fig.update_yaxes(title_text=\"<b>sprm/h</b>\", secondary_y=False)\n",
    "    fig.update_yaxes(title_text=\"<b>working_hour</b>\", secondary_y=True)\n",
    "    return fig\n",
    "\n",
    "plot_('2021-11-29', 'COA')"
   ]
  },
  {
   "cell_type": "code",
   "execution_count": 82,
   "metadata": {},
   "outputs": [],
   "source": [
    "plot_('2021-11-30','COA').write_html('./data/coach1130.html')"
   ]
  }
 ],
 "metadata": {
  "interpreter": {
   "hash": "47b50d2908d96196e4220cfb4e81faa93803065ea975497e7026f672c1f58470"
  },
  "kernelspec": {
   "display_name": "Python 3.8.8 64-bit ('siming': conda)",
   "language": "python",
   "name": "python3"
  },
  "language_info": {
   "codemirror_mode": {
    "name": "ipython",
    "version": 3
   },
   "file_extension": ".py",
   "mimetype": "text/x-python",
   "name": "python",
   "nbconvert_exporter": "python",
   "pygments_lexer": "ipython3",
   "version": "3.8.8"
  },
  "orig_nbformat": 4
 },
 "nbformat": 4,
 "nbformat_minor": 2
}
