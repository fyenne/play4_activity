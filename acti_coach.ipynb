{
 "cells": [
  {
   "cell_type": "code",
   "execution_count": 1,
   "metadata": {},
   "outputs": [
    {
     "data": {
      "text/plain": [
       "'c:\\\\Users\\\\dscshap3808\\\\Documents\\\\my_scripts_new\\\\play4_activity'"
      ]
     },
     "execution_count": 1,
     "metadata": {},
     "output_type": "execute_result"
    }
   ],
   "source": [
    "import pandas as pd\n",
    "import numpy as np\n",
    "import os\n",
    "# import seaborn as sns\n",
    "# import plotly.express as px\n",
    "# import plotly.graph_objs as go\n",
    "# from plotly.tools import FigureFactory as FF\n",
    "import re\n",
    "import os\n",
    "from datetime import datetime, timedelta \n",
    "\n",
    "df = pd.DataFrame()\n",
    "os.getcwd()\n",
    " "
   ]
  },
  {
   "cell_type": "code",
   "execution_count": 2,
   "metadata": {},
   "outputs": [],
   "source": [
    "# pd.read_excel('./data/Coach11-1to11-5.xlsx', sheet_name=0)\\\n",
    "#     .to_csv('./data/coach_15.csv', encoding = 'utf_8_sig', index=None)\n",
    "coach = pd.read_csv('./data/coach_15.csv')\n",
    "coach = coach.dropna(axis=1, how = 'all')\n",
    "# task_collect = coach.groupby(['姓名', '开始日期'])['任务类型'].apply(list).astype(str).reset_index();task_collect\n",
    "# onoff = task_collect[task_collect['任务类型'].str.contains('(下班.+上班)')][['姓名','开始日期']].sum(axis = 1)\n",
    "# coach['flag'] = coach[['姓名','开始日期']].sum(axis = 1)\n",
    "coach['开始时间'] = pd.to_datetime(coach['开始时间'])\n",
    "coach['结束时间'] = pd.to_datetime(coach['结束时间'])\n",
    "\n",
    "# coach_nopunch = coach[~coach['flag'].isin(onoff)]\n",
    "# coach_dopunch = coach[ coach['flag'].isin(onoff)]\n",
    "coach['sprm'] = (60/coach['SPR标准数量']).replace([np.inf, -np.inf], 0)\n",
    "\n",
    "wh = coach.groupby(['姓名','开始日期']).agg(\n",
    "    {\n",
    "        '开始时间': 'min',\n",
    "        '结束时间': 'max',\n",
    "        'sprm': 'sum',\n",
    "    }\n",
    ").reset_index()\n",
    "wh['work_hour'] = wh['结束时间'] - wh['开始时间']\n",
    "wh['work_hour_in_min']  = [i.total_seconds()/60 for i in wh['work_hour']]\n",
    "wh['work_hour_in_hour'] = [i.total_seconds()/3600 for i in wh['work_hour']]\n",
    "wh = wh.drop(['结束时间','开始时间', 'work_hour'], axis = 1).rename({'sprm':'SPRM_total_of_day'}, axis =1)\n",
    "coach = coach.merge(wh, on = ['姓名', '开始日期'], how = 'inner')\n",
    "coach['sprm_perhour'] =  coach['SPRM_total_of_day'] / coach['work_hour_in_hour']\n",
    "\n",
    "# 标准时长计算\n",
    "coach = pd.concat([coach, pd.DataFrame(list(coach['调整后持续时间'].str.split(':')))], axis =1).drop('序号',axis =1)\n",
    "coach = coach[coach[[0,1,2]].astype(int).sum(axis = 1) != 0]\n",
    "coach[[0,1,2]] = coach[[0,1,2]].astype(int)\n",
    "coach['time_len'] = coach[0]*3600 + coach[1]*60 + coach[2]\n",
    "coach = coach.drop([0,1,2], axis = 1)"
   ]
  },
  {
   "cell_type": "code",
   "execution_count": 6,
   "metadata": {},
   "outputs": [
    {
     "data": {
      "text/plain": [
       "Index(['姓名', '站点OU', '人员编号', '班次', '工作组', '直属上级', '任职时间', '职位', '所属层级', '实际数量',\n",
       "       '开始时间', '结束时间', '持续时间', '调整时间', '调整后持续时间', '货品编码', '长(mm)', '宽(mm)',\n",
       "       '高(mm)', '体积(mm³)', '重量(g)', '常用箱型', '流程', '动作', '工作类型', '是否可测量',\n",
       "       'SPR标准数量', '标准生产时间', '任务类型', '单位', '开始日期', '结束日期', '报告日期', '数据来源',\n",
       "       'sprm', 'SPRM_total_of_day', 'work_hour_in_min', 'work_hour_in_hour',\n",
       "       'sprm_perhour', 'time_len'],\n",
       "      dtype='object')"
      ]
     },
     "execution_count": 6,
     "metadata": {},
     "output_type": "execute_result"
    }
   ],
   "source": [
    "# coach[coach['姓名'] == '孙清元']\n",
    "coach.columns"
   ]
  },
  {
   "cell_type": "code",
   "execution_count": 428,
   "metadata": {},
   "outputs": [],
   "source": [
    "# plot_data('2021-11-05').info()\n",
    "# coach['开始日期'].unique()\n",
    "# array(['2021-11-05', '2021-11-04', '2021-11-03', '2021-11-02',\n",
    "#        '2021-11-01'], dtype=object)"
   ]
  },
  {
   "cell_type": "code",
   "execution_count": 311,
   "metadata": {},
   "outputs": [
    {
     "data": {
      "application/vnd.plotly.v1+json": {
       "config": {
        "plotlyServerURL": "https://plot.ly"
       },
       "data": [
        {
         "customdata": [
          [
           "unknow"
          ],
          [
           "unknow"
          ],
          [
           "unknow"
          ],
          [
           "unknow"
          ],
          [
           "unknow"
          ],
          [
           "unknow"
          ],
          [
           "unknow"
          ],
          [
           "unknow"
          ],
          [
           "unknow"
          ],
          [
           "unknow"
          ],
          [
           "unknow"
          ],
          [
           "unknow"
          ],
          [
           "unknow"
          ],
          [
           "unknow"
          ],
          [
           "unknow"
          ],
          [
           "unknow"
          ],
          [
           "unknow"
          ],
          [
           "unknow"
          ],
          [
           "unknow"
          ],
          [
           "unknow"
          ],
          [
           "unknow"
          ],
          [
           "unknow"
          ],
          [
           "unknow"
          ],
          [
           "unknow"
          ],
          [
           "unknow"
          ],
          [
           "unknow"
          ],
          [
           "unknow"
          ],
          [
           "unknow"
          ],
          [
           "unknow"
          ],
          [
           "unknow"
          ],
          [
           "unknow"
          ],
          [
           "unknow"
          ],
          [
           "unknow"
          ],
          [
           "unknow"
          ],
          [
           "unknow"
          ],
          [
           "unknow"
          ],
          [
           "unknow"
          ],
          [
           "unknow"
          ],
          [
           "unknow"
          ],
          [
           "unknow"
          ]
         ],
         "hovertemplate": "工作组=%{customdata[0]}<br>姓名=%{x}<br>sprm_perhour=%{y}<br>work_hour_in_hour=%{marker.size}<extra></extra>",
         "legendgroup": "unknow",
         "marker": {
          "color": "#636efa",
          "size": [
           13.183333333333334,
           13.183333333333334,
           13.183333333333334,
           13.183333333333334,
           13.183333333333334,
           13.233333333333333,
           13.233333333333333,
           13.233333333333333,
           7.476944444444444,
           7.476944444444444,
           7.476944444444444,
           9.083333333333334,
           9.183333333333334,
           9.183333333333334,
           9.183333333333334,
           9.183333333333334,
           9.133333333333333,
           9.133333333333333,
           9.133333333333333,
           9.133333333333333,
           9.133333333333333,
           7.9575,
           7.9575,
           7.9575,
           7.9575,
           7.218333333333334,
           7.218333333333334,
           7.218333333333334,
           7.218333333333334,
           6.662222222222222,
           6.662222222222222,
           6.662222222222222,
           5.736111111111111,
           5.736111111111111,
           6.118333333333333,
           6.118333333333333,
           6.118333333333333,
           5.923333333333333,
           5.923333333333333,
           5.923333333333333
          ],
          "sizemode": "area",
          "sizeref": 0.033541666666666664,
          "symbol": "circle"
         },
         "mode": "markers",
         "name": "unknow",
         "orientation": "v",
         "showlegend": true,
         "type": "scatter",
         "x": [
          "孙清元",
          "孙清元",
          "孙清元",
          "孙清元",
          "孙清元",
          "张康康",
          "张康康",
          "张康康",
          "牛和响",
          "牛和响",
          "牛和响",
          "李瑶",
          "胡俊荣",
          "胡俊荣",
          "胡俊荣",
          "胡俊荣",
          "潘明海",
          "潘明海",
          "潘明海",
          "潘明海",
          "潘明海",
          "郁黄祥",
          "郁黄祥",
          "郁黄祥",
          "郁黄祥",
          "高蒙蒙",
          "高蒙蒙",
          "高蒙蒙",
          "高蒙蒙",
          "张现花",
          "张现花",
          "张现花",
          "董红雷",
          "董红雷",
          "李俊丽",
          "李俊丽",
          "李俊丽",
          "杜文博",
          "杜文博",
          "杜文博"
         ],
         "xaxis": "x",
         "y": [
          8.773704171934261,
          8.773704171934261,
          8.773704171934261,
          8.773704171934261,
          8.773704171934261,
          30.47229219143577,
          30.47229219143577,
          30.47229219143577,
          107.51272430062785,
          107.51272430062785,
          107.51272430062785,
          1.6513761467889907,
          117.4410163339383,
          117.4410163339383,
          117.4410163339383,
          117.4410163339383,
          29.967153284671532,
          29.967153284671532,
          29.967153284671532,
          29.967153284671532,
          29.967153284671532,
          84.1344643418159,
          84.1344643418159,
          84.1344643418159,
          84.1344643418159,
          132.60678827060724,
          132.60678827060724,
          132.60678827060724,
          132.60678827060724,
          246.8645763842562,
          246.8645763842562,
          246.8645763842562,
          86.29539951573851,
          86.29539951573851,
          173.41323889948242,
          173.41323889948242,
          173.41323889948242,
          159.9437253798537,
          159.9437253798537,
          159.9437253798537
         ],
         "yaxis": "y"
        },
        {
         "customdata": [
          [
           "发货组"
          ]
         ],
         "hovertemplate": "工作组=%{customdata[0]}<br>姓名=%{x}<br>sprm_perhour=%{y}<br>work_hour_in_hour=%{marker.size}<extra></extra>",
         "legendgroup": "发货组",
         "marker": {
          "color": "#EF553B",
          "size": [
           13.416666666666666
          ],
          "sizemode": "area",
          "sizeref": 0.033541666666666664,
          "symbol": "circle"
         },
         "mode": "markers",
         "name": "发货组",
         "orientation": "v",
         "showlegend": true,
         "type": "scatter",
         "x": [
          "李文博"
         ],
         "xaxis": "x",
         "y": [
          1.173913043478261
         ],
         "yaxis": "y"
        },
        {
         "customdata": [
          [
           "VAS组"
          ],
          [
           "VAS组"
          ],
          [
           "VAS组"
          ]
         ],
         "hovertemplate": "工作组=%{customdata[0]}<br>姓名=%{x}<br>sprm_perhour=%{y}<br>work_hour_in_hour=%{marker.size}<extra></extra>",
         "legendgroup": "VAS组",
         "marker": {
          "color": "#00cc96",
          "size": [
           4.9425,
           4.9425,
           4.9425
          ],
          "sizemode": "area",
          "sizeref": 0.033541666666666664,
          "symbol": "circle"
         },
         "mode": "markers",
         "name": "VAS组",
         "orientation": "v",
         "showlegend": true,
         "type": "scatter",
         "x": [
          "豆富山",
          "豆富山",
          "豆富山"
         ],
         "xaxis": "x",
         "y": [
          47.72888214466363,
          47.72888214466363,
          47.72888214466363
         ],
         "yaxis": "y"
        },
        {
         "customdata": [
          [
           "拣货组"
          ],
          [
           "拣货组"
          ],
          [
           "拣货组"
          ],
          [
           "拣货组"
          ],
          [
           "拣货组"
          ],
          [
           "拣货组"
          ],
          [
           "拣货组"
          ],
          [
           "拣货组"
          ],
          [
           "拣货组"
          ],
          [
           "拣货组"
          ],
          [
           "拣货组"
          ],
          [
           "拣货组"
          ],
          [
           "拣货组"
          ]
         ],
         "hovertemplate": "工作组=%{customdata[0]}<br>姓名=%{x}<br>sprm_perhour=%{y}<br>work_hour_in_hour=%{marker.size}<extra></extra>",
         "legendgroup": "拣货组",
         "marker": {
          "color": "#ab63fa",
          "size": [
           9.166666666666666,
           9.166666666666666,
           9.066666666666666,
           9.066666666666666,
           5.990277777777778,
           5.990277777777778,
           5.068888888888889,
           5.068888888888889,
           5.068888888888889,
           5.3175,
           5.3175,
           6.183055555555556,
           6.183055555555556
          ],
          "sizemode": "area",
          "sizeref": 0.033541666666666664,
          "symbol": "circle"
         },
         "mode": "markers",
         "name": "拣货组",
         "orientation": "v",
         "showlegend": true,
         "type": "scatter",
         "x": [
          "庞士赛",
          "庞士赛",
          "彭庆伟",
          "彭庆伟",
          "李永生",
          "李永生",
          "段亚魁",
          "段亚魁",
          "段亚魁",
          "崔梦宇",
          "崔梦宇",
          "高宇波",
          "高宇波"
         ],
         "xaxis": "x",
         "y": [
          101.45454545454547,
          101.45454545454547,
          86.02941176470588,
          86.02941176470588,
          75.12172501738928,
          75.12172501738928,
          158.61464270056993,
          158.61464270056993,
          158.61464270056993,
          107.19322990126939,
          107.19322990126939,
          121.29924974167751,
          121.29924974167751
         ],
         "yaxis": "y"
        },
        {
         "customdata": [
          [
           "库存组"
          ],
          [
           "库存组"
          ],
          [
           "库存组"
          ],
          [
           "库存组"
          ],
          [
           "库存组"
          ],
          [
           "库存组"
          ],
          [
           "库存组"
          ],
          [
           "库存组"
          ]
         ],
         "hovertemplate": "工作组=%{customdata[0]}<br>姓名=%{x}<br>sprm_perhour=%{y}<br>work_hour_in_hour=%{marker.size}<extra></extra>",
         "legendgroup": "库存组",
         "marker": {
          "color": "#FFA15A",
          "size": [
           9,
           9,
           9,
           9.05,
           9.05,
           9.05,
           9.05,
           9.05
          ],
          "sizemode": "area",
          "sizeref": 0.033541666666666664,
          "symbol": "circle"
         },
         "mode": "markers",
         "name": "库存组",
         "orientation": "v",
         "showlegend": true,
         "type": "scatter",
         "x": [
          "吴飞宇",
          "吴飞宇",
          "吴飞宇",
          "宋卫华",
          "宋卫华",
          "宋卫华",
          "宋卫华",
          "宋卫华"
         ],
         "xaxis": "x",
         "y": [
          104.72222222222223,
          104.72222222222223,
          104.72222222222223,
          34.43462246777163,
          34.43462246777163,
          34.43462246777163,
          34.43462246777163,
          34.43462246777163
         ],
         "yaxis": "y"
        },
        {
         "customdata": [
          [
           "收货组"
          ],
          [
           "收货组"
          ],
          [
           "收货组"
          ],
          [
           "收货组"
          ],
          [
           "收货组"
          ]
         ],
         "hovertemplate": "工作组=%{customdata[0]}<br>姓名=%{x}<br>sprm_perhour=%{y}<br>work_hour_in_hour=%{marker.size}<extra></extra>",
         "legendgroup": "收货组",
         "marker": {
          "color": "#19d3f3",
          "size": [
           7.885,
           7.885,
           4.1947222222222225,
           4.1947222222222225,
           4.1947222222222225
          ],
          "sizemode": "area",
          "sizeref": 0.033541666666666664,
          "symbol": "circle"
         },
         "mode": "markers",
         "name": "收货组",
         "orientation": "v",
         "showlegend": true,
         "type": "scatter",
         "x": [
          "程鑫",
          "程鑫",
          "黄义林",
          "黄义林",
          "黄义林"
         ],
         "xaxis": "x",
         "y": [
          54.66074825618263,
          54.66074825618263,
          77.14455996291636,
          77.14455996291636,
          77.14455996291636
         ],
         "yaxis": "y"
        }
       ],
       "layout": {
        "legend": {
         "itemsizing": "constant",
         "title": {
          "text": "工作组"
         },
         "tracegroupgap": 0
        },
        "template": {
         "data": {
          "bar": [
           {
            "error_x": {
             "color": "#2a3f5f"
            },
            "error_y": {
             "color": "#2a3f5f"
            },
            "marker": {
             "line": {
              "color": "#E5ECF6",
              "width": 0.5
             }
            },
            "type": "bar"
           }
          ],
          "barpolar": [
           {
            "marker": {
             "line": {
              "color": "#E5ECF6",
              "width": 0.5
             }
            },
            "type": "barpolar"
           }
          ],
          "carpet": [
           {
            "aaxis": {
             "endlinecolor": "#2a3f5f",
             "gridcolor": "white",
             "linecolor": "white",
             "minorgridcolor": "white",
             "startlinecolor": "#2a3f5f"
            },
            "baxis": {
             "endlinecolor": "#2a3f5f",
             "gridcolor": "white",
             "linecolor": "white",
             "minorgridcolor": "white",
             "startlinecolor": "#2a3f5f"
            },
            "type": "carpet"
           }
          ],
          "choropleth": [
           {
            "colorbar": {
             "outlinewidth": 0,
             "ticks": ""
            },
            "type": "choropleth"
           }
          ],
          "contour": [
           {
            "colorbar": {
             "outlinewidth": 0,
             "ticks": ""
            },
            "colorscale": [
             [
              0,
              "#0d0887"
             ],
             [
              0.1111111111111111,
              "#46039f"
             ],
             [
              0.2222222222222222,
              "#7201a8"
             ],
             [
              0.3333333333333333,
              "#9c179e"
             ],
             [
              0.4444444444444444,
              "#bd3786"
             ],
             [
              0.5555555555555556,
              "#d8576b"
             ],
             [
              0.6666666666666666,
              "#ed7953"
             ],
             [
              0.7777777777777778,
              "#fb9f3a"
             ],
             [
              0.8888888888888888,
              "#fdca26"
             ],
             [
              1,
              "#f0f921"
             ]
            ],
            "type": "contour"
           }
          ],
          "contourcarpet": [
           {
            "colorbar": {
             "outlinewidth": 0,
             "ticks": ""
            },
            "type": "contourcarpet"
           }
          ],
          "heatmap": [
           {
            "colorbar": {
             "outlinewidth": 0,
             "ticks": ""
            },
            "colorscale": [
             [
              0,
              "#0d0887"
             ],
             [
              0.1111111111111111,
              "#46039f"
             ],
             [
              0.2222222222222222,
              "#7201a8"
             ],
             [
              0.3333333333333333,
              "#9c179e"
             ],
             [
              0.4444444444444444,
              "#bd3786"
             ],
             [
              0.5555555555555556,
              "#d8576b"
             ],
             [
              0.6666666666666666,
              "#ed7953"
             ],
             [
              0.7777777777777778,
              "#fb9f3a"
             ],
             [
              0.8888888888888888,
              "#fdca26"
             ],
             [
              1,
              "#f0f921"
             ]
            ],
            "type": "heatmap"
           }
          ],
          "heatmapgl": [
           {
            "colorbar": {
             "outlinewidth": 0,
             "ticks": ""
            },
            "colorscale": [
             [
              0,
              "#0d0887"
             ],
             [
              0.1111111111111111,
              "#46039f"
             ],
             [
              0.2222222222222222,
              "#7201a8"
             ],
             [
              0.3333333333333333,
              "#9c179e"
             ],
             [
              0.4444444444444444,
              "#bd3786"
             ],
             [
              0.5555555555555556,
              "#d8576b"
             ],
             [
              0.6666666666666666,
              "#ed7953"
             ],
             [
              0.7777777777777778,
              "#fb9f3a"
             ],
             [
              0.8888888888888888,
              "#fdca26"
             ],
             [
              1,
              "#f0f921"
             ]
            ],
            "type": "heatmapgl"
           }
          ],
          "histogram": [
           {
            "marker": {
             "colorbar": {
              "outlinewidth": 0,
              "ticks": ""
             }
            },
            "type": "histogram"
           }
          ],
          "histogram2d": [
           {
            "colorbar": {
             "outlinewidth": 0,
             "ticks": ""
            },
            "colorscale": [
             [
              0,
              "#0d0887"
             ],
             [
              0.1111111111111111,
              "#46039f"
             ],
             [
              0.2222222222222222,
              "#7201a8"
             ],
             [
              0.3333333333333333,
              "#9c179e"
             ],
             [
              0.4444444444444444,
              "#bd3786"
             ],
             [
              0.5555555555555556,
              "#d8576b"
             ],
             [
              0.6666666666666666,
              "#ed7953"
             ],
             [
              0.7777777777777778,
              "#fb9f3a"
             ],
             [
              0.8888888888888888,
              "#fdca26"
             ],
             [
              1,
              "#f0f921"
             ]
            ],
            "type": "histogram2d"
           }
          ],
          "histogram2dcontour": [
           {
            "colorbar": {
             "outlinewidth": 0,
             "ticks": ""
            },
            "colorscale": [
             [
              0,
              "#0d0887"
             ],
             [
              0.1111111111111111,
              "#46039f"
             ],
             [
              0.2222222222222222,
              "#7201a8"
             ],
             [
              0.3333333333333333,
              "#9c179e"
             ],
             [
              0.4444444444444444,
              "#bd3786"
             ],
             [
              0.5555555555555556,
              "#d8576b"
             ],
             [
              0.6666666666666666,
              "#ed7953"
             ],
             [
              0.7777777777777778,
              "#fb9f3a"
             ],
             [
              0.8888888888888888,
              "#fdca26"
             ],
             [
              1,
              "#f0f921"
             ]
            ],
            "type": "histogram2dcontour"
           }
          ],
          "mesh3d": [
           {
            "colorbar": {
             "outlinewidth": 0,
             "ticks": ""
            },
            "type": "mesh3d"
           }
          ],
          "parcoords": [
           {
            "line": {
             "colorbar": {
              "outlinewidth": 0,
              "ticks": ""
             }
            },
            "type": "parcoords"
           }
          ],
          "pie": [
           {
            "automargin": true,
            "type": "pie"
           }
          ],
          "scatter": [
           {
            "marker": {
             "colorbar": {
              "outlinewidth": 0,
              "ticks": ""
             }
            },
            "type": "scatter"
           }
          ],
          "scatter3d": [
           {
            "line": {
             "colorbar": {
              "outlinewidth": 0,
              "ticks": ""
             }
            },
            "marker": {
             "colorbar": {
              "outlinewidth": 0,
              "ticks": ""
             }
            },
            "type": "scatter3d"
           }
          ],
          "scattercarpet": [
           {
            "marker": {
             "colorbar": {
              "outlinewidth": 0,
              "ticks": ""
             }
            },
            "type": "scattercarpet"
           }
          ],
          "scattergeo": [
           {
            "marker": {
             "colorbar": {
              "outlinewidth": 0,
              "ticks": ""
             }
            },
            "type": "scattergeo"
           }
          ],
          "scattergl": [
           {
            "marker": {
             "colorbar": {
              "outlinewidth": 0,
              "ticks": ""
             }
            },
            "type": "scattergl"
           }
          ],
          "scattermapbox": [
           {
            "marker": {
             "colorbar": {
              "outlinewidth": 0,
              "ticks": ""
             }
            },
            "type": "scattermapbox"
           }
          ],
          "scatterpolar": [
           {
            "marker": {
             "colorbar": {
              "outlinewidth": 0,
              "ticks": ""
             }
            },
            "type": "scatterpolar"
           }
          ],
          "scatterpolargl": [
           {
            "marker": {
             "colorbar": {
              "outlinewidth": 0,
              "ticks": ""
             }
            },
            "type": "scatterpolargl"
           }
          ],
          "scatterternary": [
           {
            "marker": {
             "colorbar": {
              "outlinewidth": 0,
              "ticks": ""
             }
            },
            "type": "scatterternary"
           }
          ],
          "surface": [
           {
            "colorbar": {
             "outlinewidth": 0,
             "ticks": ""
            },
            "colorscale": [
             [
              0,
              "#0d0887"
             ],
             [
              0.1111111111111111,
              "#46039f"
             ],
             [
              0.2222222222222222,
              "#7201a8"
             ],
             [
              0.3333333333333333,
              "#9c179e"
             ],
             [
              0.4444444444444444,
              "#bd3786"
             ],
             [
              0.5555555555555556,
              "#d8576b"
             ],
             [
              0.6666666666666666,
              "#ed7953"
             ],
             [
              0.7777777777777778,
              "#fb9f3a"
             ],
             [
              0.8888888888888888,
              "#fdca26"
             ],
             [
              1,
              "#f0f921"
             ]
            ],
            "type": "surface"
           }
          ],
          "table": [
           {
            "cells": {
             "fill": {
              "color": "#EBF0F8"
             },
             "line": {
              "color": "white"
             }
            },
            "header": {
             "fill": {
              "color": "#C8D4E3"
             },
             "line": {
              "color": "white"
             }
            },
            "type": "table"
           }
          ]
         },
         "layout": {
          "annotationdefaults": {
           "arrowcolor": "#2a3f5f",
           "arrowhead": 0,
           "arrowwidth": 1
          },
          "autotypenumbers": "strict",
          "coloraxis": {
           "colorbar": {
            "outlinewidth": 0,
            "ticks": ""
           }
          },
          "colorscale": {
           "diverging": [
            [
             0,
             "#8e0152"
            ],
            [
             0.1,
             "#c51b7d"
            ],
            [
             0.2,
             "#de77ae"
            ],
            [
             0.3,
             "#f1b6da"
            ],
            [
             0.4,
             "#fde0ef"
            ],
            [
             0.5,
             "#f7f7f7"
            ],
            [
             0.6,
             "#e6f5d0"
            ],
            [
             0.7,
             "#b8e186"
            ],
            [
             0.8,
             "#7fbc41"
            ],
            [
             0.9,
             "#4d9221"
            ],
            [
             1,
             "#276419"
            ]
           ],
           "sequential": [
            [
             0,
             "#0d0887"
            ],
            [
             0.1111111111111111,
             "#46039f"
            ],
            [
             0.2222222222222222,
             "#7201a8"
            ],
            [
             0.3333333333333333,
             "#9c179e"
            ],
            [
             0.4444444444444444,
             "#bd3786"
            ],
            [
             0.5555555555555556,
             "#d8576b"
            ],
            [
             0.6666666666666666,
             "#ed7953"
            ],
            [
             0.7777777777777778,
             "#fb9f3a"
            ],
            [
             0.8888888888888888,
             "#fdca26"
            ],
            [
             1,
             "#f0f921"
            ]
           ],
           "sequentialminus": [
            [
             0,
             "#0d0887"
            ],
            [
             0.1111111111111111,
             "#46039f"
            ],
            [
             0.2222222222222222,
             "#7201a8"
            ],
            [
             0.3333333333333333,
             "#9c179e"
            ],
            [
             0.4444444444444444,
             "#bd3786"
            ],
            [
             0.5555555555555556,
             "#d8576b"
            ],
            [
             0.6666666666666666,
             "#ed7953"
            ],
            [
             0.7777777777777778,
             "#fb9f3a"
            ],
            [
             0.8888888888888888,
             "#fdca26"
            ],
            [
             1,
             "#f0f921"
            ]
           ]
          },
          "colorway": [
           "#636efa",
           "#EF553B",
           "#00cc96",
           "#ab63fa",
           "#FFA15A",
           "#19d3f3",
           "#FF6692",
           "#B6E880",
           "#FF97FF",
           "#FECB52"
          ],
          "font": {
           "color": "#2a3f5f"
          },
          "geo": {
           "bgcolor": "white",
           "lakecolor": "white",
           "landcolor": "#E5ECF6",
           "showlakes": true,
           "showland": true,
           "subunitcolor": "white"
          },
          "hoverlabel": {
           "align": "left"
          },
          "hovermode": "closest",
          "mapbox": {
           "style": "light"
          },
          "paper_bgcolor": "white",
          "plot_bgcolor": "#E5ECF6",
          "polar": {
           "angularaxis": {
            "gridcolor": "white",
            "linecolor": "white",
            "ticks": ""
           },
           "bgcolor": "#E5ECF6",
           "radialaxis": {
            "gridcolor": "white",
            "linecolor": "white",
            "ticks": ""
           }
          },
          "scene": {
           "xaxis": {
            "backgroundcolor": "#E5ECF6",
            "gridcolor": "white",
            "gridwidth": 2,
            "linecolor": "white",
            "showbackground": true,
            "ticks": "",
            "zerolinecolor": "white"
           },
           "yaxis": {
            "backgroundcolor": "#E5ECF6",
            "gridcolor": "white",
            "gridwidth": 2,
            "linecolor": "white",
            "showbackground": true,
            "ticks": "",
            "zerolinecolor": "white"
           },
           "zaxis": {
            "backgroundcolor": "#E5ECF6",
            "gridcolor": "white",
            "gridwidth": 2,
            "linecolor": "white",
            "showbackground": true,
            "ticks": "",
            "zerolinecolor": "white"
           }
          },
          "shapedefaults": {
           "line": {
            "color": "#2a3f5f"
           }
          },
          "ternary": {
           "aaxis": {
            "gridcolor": "white",
            "linecolor": "white",
            "ticks": ""
           },
           "baxis": {
            "gridcolor": "white",
            "linecolor": "white",
            "ticks": ""
           },
           "bgcolor": "#E5ECF6",
           "caxis": {
            "gridcolor": "white",
            "linecolor": "white",
            "ticks": ""
           }
          },
          "title": {
           "x": 0.05
          },
          "xaxis": {
           "automargin": true,
           "gridcolor": "white",
           "linecolor": "white",
           "ticks": "",
           "title": {
            "standoff": 15
           },
           "zerolinecolor": "white",
           "zerolinewidth": 2
          },
          "yaxis": {
           "automargin": true,
           "gridcolor": "white",
           "linecolor": "white",
           "ticks": "",
           "title": {
            "standoff": 15
           },
           "zerolinecolor": "white",
           "zerolinewidth": 2
          }
         }
        },
        "title": {
         "text": "报告日期2021-11-03"
        },
        "xaxis": {
         "anchor": "y",
         "domain": [
          0,
          1
         ],
         "title": {
          "text": "姓名"
         }
        },
        "yaxis": {
         "anchor": "x",
         "domain": [
          0,
          1
         ],
         "title": {
          "text": "sprm_perhour"
         }
        }
       }
      }
     },
     "metadata": {},
     "output_type": "display_data"
    }
   ],
   "source": [
    "def plot_data(riqi):\n",
    "    data = coach[coach['开始日期'] == riqi][['姓名', '工作组', '直属上级', '任职时间', '职位',\\\n",
    "    'sprm', 'SPRM_total_of_day', 'work_hour_in_min',\n",
    "    'work_hour_in_hour', 'sprm_perhour']].drop_duplicates()\n",
    "    data['工作组'] = data['工作组'].fillna('unknow')\n",
    "    data['工作组'] = data['工作组'].fillna('unknow')\n",
    "\n",
    "    return data\n",
    "def plot_(riqi):\n",
    "    fig2 = px.scatter(\n",
    "        data_frame = plot_data(riqi), x = '姓名', y= 'sprm_perhour', hover_data=['工作组' ],\n",
    "        size = 'work_hour_in_hour', color = '工作组', \n",
    "        # facet_col = '开始日期', \n",
    "        title= \"报告日期\" + riqi)  \n",
    "    # hover_data=  ['account_name_en'] , \n",
    "\n",
    "\n",
    "    # fig2.add_hline(y = line_20, line_width=3, line_dash=\"dash\", line_color=\"black\", opacity = .4,\\\n",
    "    #     annotation_text=\"2020 <br> weighted mean profit_rate <br>, %s\" %line_20 , \n",
    "    #     annotation_position=\"top right\", annotation_opacity = .4, col = 1)\n",
    "    # fig2.add_hline(y = line_21, line_width=3, line_dash=\"dash\", line_color=\"black\", opacity = .4,\\\n",
    "    #     annotation_text=\"2021 <br> weighted mean profit_rate <br>, %s\" %line_21 , \n",
    "    #     annotation_position=\"top right\", annotation_opacity = .4, col = 2)\n",
    "\n",
    "    return fig2\n",
    "\n",
    "plot_('2021-11-03')"
   ]
  },
  {
   "cell_type": "code",
   "execution_count": 283,
   "metadata": {},
   "outputs": [],
   "source": [
    "# SELECT  * FROM dm_dsc_smart.dwd_task\n",
    "# where substr(station_name, 1,4) = 'COAC'\n",
    "# and work_group_id != 0 and work_group_name != ''\n",
    "# and inc_day = '20211127'\n",
    " "
   ]
  },
  {
   "cell_type": "code",
   "execution_count": 525,
   "metadata": {},
   "outputs": [],
   "source": []
  },
  {
   "cell_type": "code",
   "execution_count": 313,
   "metadata": {},
   "outputs": [],
   "source": [
    "# coach = coach.dropna(how = 'all', axis = 1)\n",
    "    # time_convert()\n",
    "def time_convert(col):\n",
    "    coach[col] = coach[col].astype(int)\n",
    "    coach[col] = [datetime.fromtimestamp(i).strftime('%Y-%m-%d %H:%M:%S') for i in coach[col]]\n",
    "    return coach\n",
    "for i in ['start_time', 'end_time', 'hire_time', 'update_time']:\n",
    "    time_convert(i)\n",
    "coach['start_time'] = pd.to_datetime(coach['start_time'])\n",
    "coach['end_time']   = pd.to_datetime(coach['end_time'])\n",
    "coach['sprm'] = (60/coach['work_content_refer']).replace([np.inf, -np.inf], 0)\n",
    "\n",
    "\n",
    "# wh = coach.groupby(['worker_name','start_date']).agg(\n",
    "#         {\n",
    "#             'start_time': 'min',\n",
    "#             'end_time': 'max',\n",
    "#             'sprm': 'sum',\n",
    "#         }\n",
    "#     ).reset_index()\n",
    "# wh['work_hour'] = wh['结束时间'] - wh['开始时间']\n",
    "# wh['work_hour_in_min']  = [i.total_seconds()/60 for i in wh['work_hour']]\n",
    "# wh['work_hour_in_hour'] = [i.total_seconds()/3600 for i in wh['work_hour']]\n",
    "# wh = wh.drop(['结束时间','开始时间', 'work_hour'], axis = 1).rename({'sprm':'SPRM_total_of_day'}, axis =1)\n",
    "# coach = coach.merge(wh, on = ['姓名', '开始日期'], how = 'inner')"
   ]
  },
  {
   "cell_type": "code",
   "execution_count": 541,
   "metadata": {},
   "outputs": [
    {
     "data": {
      "text/html": [
       "<div>\n",
       "<style scoped>\n",
       "    .dataframe tbody tr th:only-of-type {\n",
       "        vertical-align: middle;\n",
       "    }\n",
       "\n",
       "    .dataframe tbody tr th {\n",
       "        vertical-align: top;\n",
       "    }\n",
       "\n",
       "    .dataframe thead th {\n",
       "        text-align: right;\n",
       "    }\n",
       "</style>\n",
       "<table border=\"1\" class=\"dataframe\">\n",
       "  <thead>\n",
       "    <tr style=\"text-align: right;\">\n",
       "      <th></th>\n",
       "      <th>station_name</th>\n",
       "      <th>worker_name</th>\n",
       "      <th>work_group_name</th>\n",
       "      <th>up_worker_name</th>\n",
       "      <th>hire_time</th>\n",
       "      <th>worker_post_name</th>\n",
       "      <th>worker_level_name</th>\n",
       "      <th>work_num</th>\n",
       "      <th>start_time</th>\n",
       "      <th>end_time</th>\n",
       "      <th>...</th>\n",
       "      <th>min_operate_volume</th>\n",
       "      <th>work_content</th>\n",
       "      <th>work_content_refer</th>\n",
       "      <th>work_content_is_measure</th>\n",
       "      <th>start_date</th>\n",
       "      <th>end_date</th>\n",
       "      <th>report_date</th>\n",
       "      <th>create_time</th>\n",
       "      <th>update_time</th>\n",
       "      <th>sprm</th>\n",
       "    </tr>\n",
       "  </thead>\n",
       "  <tbody>\n",
       "    <tr>\n",
       "      <th>4052</th>\n",
       "      <td>COACH SHA WGQ WHS</td>\n",
       "      <td>孙孟孟</td>\n",
       "      <td>NaN</td>\n",
       "      <td>Michelle Wu</td>\n",
       "      <td>1970-01-01 08:00:00</td>\n",
       "      <td>操作员</td>\n",
       "      <td>操作员</td>\n",
       "      <td>0.0</td>\n",
       "      <td>2021-11-27 06:25:02</td>\n",
       "      <td>2021-11-27 06:25:13</td>\n",
       "      <td>...</td>\n",
       "      <td>0.0</td>\n",
       "      <td>叉车安全检查</td>\n",
       "      <td>0</td>\n",
       "      <td>0</td>\n",
       "      <td>2021-11-27</td>\n",
       "      <td>2021-11-27</td>\n",
       "      <td>2021-11-27</td>\n",
       "      <td>1638231191</td>\n",
       "      <td>2021-11-30 08:13:11</td>\n",
       "      <td>0.0</td>\n",
       "    </tr>\n",
       "    <tr>\n",
       "      <th>4053</th>\n",
       "      <td>COACH SHA WGQ WHS</td>\n",
       "      <td>孙孟孟</td>\n",
       "      <td>NaN</td>\n",
       "      <td>Michelle Wu</td>\n",
       "      <td>1970-01-01 08:00:00</td>\n",
       "      <td>操作员</td>\n",
       "      <td>操作员</td>\n",
       "      <td>0.0</td>\n",
       "      <td>2021-11-27 06:25:13</td>\n",
       "      <td>2021-11-27 15:25:02</td>\n",
       "      <td>...</td>\n",
       "      <td>0.0</td>\n",
       "      <td>无效时间</td>\n",
       "      <td>0</td>\n",
       "      <td>0</td>\n",
       "      <td>2021-11-27</td>\n",
       "      <td>2021-11-27</td>\n",
       "      <td>2021-11-27</td>\n",
       "      <td>1638231191</td>\n",
       "      <td>2021-11-30 08:13:11</td>\n",
       "      <td>0.0</td>\n",
       "    </tr>\n",
       "  </tbody>\n",
       "</table>\n",
       "<p>2 rows × 29 columns</p>\n",
       "</div>"
      ],
      "text/plain": [
       "           station_name worker_name work_group_name up_worker_name  \\\n",
       "4052  COACH SHA WGQ WHS         孙孟孟             NaN    Michelle Wu   \n",
       "4053  COACH SHA WGQ WHS         孙孟孟             NaN    Michelle Wu   \n",
       "\n",
       "                hire_time worker_post_name worker_level_name  work_num  \\\n",
       "4052  1970-01-01 08:00:00              操作员               操作员       0.0   \n",
       "4053  1970-01-01 08:00:00              操作员               操作员       0.0   \n",
       "\n",
       "              start_time            end_time  ...  min_operate_volume  \\\n",
       "4052 2021-11-27 06:25:02 2021-11-27 06:25:13  ...                 0.0   \n",
       "4053 2021-11-27 06:25:13 2021-11-27 15:25:02  ...                 0.0   \n",
       "\n",
       "      work_content  work_content_refer work_content_is_measure  start_date  \\\n",
       "4052        叉车安全检查                   0                       0  2021-11-27   \n",
       "4053          无效时间                   0                       0  2021-11-27   \n",
       "\n",
       "        end_date  report_date  create_time          update_time  sprm  \n",
       "4052  2021-11-27   2021-11-27   1638231191  2021-11-30 08:13:11   0.0  \n",
       "4053  2021-11-27   2021-11-27   1638231191  2021-11-30 08:13:11   0.0  \n",
       "\n",
       "[2 rows x 29 columns]"
      ]
     },
     "execution_count": 541,
     "metadata": {},
     "output_type": "execute_result"
    }
   ],
   "source": [
    "coach[coach[['duration',\n",
    "    'adjustment_duration', 'adjusted_duration', ]].sum(axis = 1) != 0]"
   ]
  },
  {
   "cell_type": "code",
   "execution_count": 511,
   "metadata": {},
   "outputs": [],
   "source": [
    "# # coach= coach.drop(['dwd_task_id', 'station_id', 'work_turn_id', 'raw_data'], axis  =1)\n",
    "\n",
    "# coach['work_content'].value_counts()\n",
    "# coach['work_content_refer'].value_counts()\n",
    "# coach"
   ]
  },
  {
   "cell_type": "code",
   "execution_count": 477,
   "metadata": {},
   "outputs": [],
   "source": [
    "# %%time\n",
    "# df = pd.DataFrame()\n",
    "# for i in np.arange(coach.shape[0]):\n",
    "#     df = pd.concat([pd.DataFrame.from_dict(json.loads(coach['raw_data'][i]), orient=\"index\" ).T, df], axis = 0)"
   ]
  },
  {
   "cell_type": "code",
   "execution_count": 698,
   "metadata": {},
   "outputs": [],
   "source": [
    "# coach[coach['start_date'] == '2021-11-23'] \n",
    "# coach"
   ]
  },
  {
   "cell_type": "code",
   "execution_count": 663,
   "metadata": {},
   "outputs": [],
   "source": [
    "def plot0_date(date, col):\n",
    "    # sns.histplot(\n",
    "    return coach[coach['start_date'] == date][col].value_counts()"
   ]
  },
  {
   "cell_type": "code",
   "execution_count": 673,
   "metadata": {},
   "outputs": [
    {
     "data": {
      "text/plain": [
       "0      5614\n",
       "360     786\n",
       "15      143\n",
       "Name: work_content_refer, dtype: int64"
      ]
     },
     "execution_count": 673,
     "metadata": {},
     "output_type": "execute_result"
    }
   ],
   "source": [
    "plot0_date('2021-11-28', 'work_content_refer')\n",
    "# pd.set_option(\"display.max_rows\", 15, \"display.max_columns\", None)\n",
    "# coach.head()"
   ]
  },
  {
   "cell_type": "code",
   "execution_count": 14,
   "metadata": {},
   "outputs": [
    {
     "data": {
      "text/html": [
       "<div>\n",
       "<style scoped>\n",
       "    .dataframe tbody tr th:only-of-type {\n",
       "        vertical-align: middle;\n",
       "    }\n",
       "\n",
       "    .dataframe tbody tr th {\n",
       "        vertical-align: top;\n",
       "    }\n",
       "\n",
       "    .dataframe thead th {\n",
       "        text-align: right;\n",
       "    }\n",
       "</style>\n",
       "<table border=\"1\" class=\"dataframe\">\n",
       "  <thead>\n",
       "    <tr style=\"text-align: right;\">\n",
       "      <th></th>\n",
       "      <th>account_name</th>\n",
       "      <th>station_id</th>\n",
       "      <th>station_code</th>\n",
       "      <th>station_name</th>\n",
       "      <th>worker_id</th>\n",
       "      <th>worker_name</th>\n",
       "      <th>work_group_id</th>\n",
       "      <th>work_group_name</th>\n",
       "      <th>up_worker_id</th>\n",
       "      <th>up_worker_name</th>\n",
       "      <th>hire_time</th>\n",
       "      <th>worker_post_id</th>\n",
       "      <th>worker_post_name</th>\n",
       "      <th>work_num</th>\n",
       "      <th>start_time</th>\n",
       "      <th>end_time</th>\n",
       "      <th>duration</th>\n",
       "      <th>adjustment_duration</th>\n",
       "      <th>adjusted_duration</th>\n",
       "      <th>sku_no</th>\n",
       "      <th>work_content</th>\n",
       "      <th>work_content_type</th>\n",
       "      <th>work_content_is_measure</th>\n",
       "      <th>work_content_refer</th>\n",
       "      <th>start_date</th>\n",
       "      <th>end_date</th>\n",
       "      <th>report_date</th>\n",
       "      <th>inc_day</th>\n",
       "    </tr>\n",
       "  </thead>\n",
       "  <tbody>\n",
       "    <tr>\n",
       "      <th>0</th>\n",
       "      <td>李永生</td>\n",
       "      <td>10005659</td>\n",
       "      <td>CN-085</td>\n",
       "      <td>COACH SHA WGQ WHS</td>\n",
       "      <td>19809</td>\n",
       "      <td>李永生</td>\n",
       "      <td>10025701</td>\n",
       "      <td>拣货组</td>\n",
       "      <td>19772</td>\n",
       "      <td>孙波</td>\n",
       "      <td>1498752000</td>\n",
       "      <td>10109295</td>\n",
       "      <td>操作员</td>\n",
       "      <td>10.0</td>\n",
       "      <td>1638334905</td>\n",
       "      <td>1638334905</td>\n",
       "      <td>0</td>\n",
       "      <td>0</td>\n",
       "      <td>0</td>\n",
       "      <td>C3738 B4/TP</td>\n",
       "      <td>NaN</td>\n",
       "      <td>0</td>\n",
       "      <td>0</td>\n",
       "      <td>0</td>\n",
       "      <td>2021-12-01</td>\n",
       "      <td>2021-12-01</td>\n",
       "      <td>2021-12-01</td>\n",
       "      <td>20211201</td>\n",
       "    </tr>\n",
       "    <tr>\n",
       "      <th>1</th>\n",
       "      <td>李永生</td>\n",
       "      <td>10005659</td>\n",
       "      <td>CN-085</td>\n",
       "      <td>COACH SHA WGQ WHS</td>\n",
       "      <td>19809</td>\n",
       "      <td>李永生</td>\n",
       "      <td>10025701</td>\n",
       "      <td>拣货组</td>\n",
       "      <td>19772</td>\n",
       "      <td>孙波</td>\n",
       "      <td>1498752000</td>\n",
       "      <td>10109295</td>\n",
       "      <td>操作员</td>\n",
       "      <td>10.0</td>\n",
       "      <td>1638335275</td>\n",
       "      <td>1638335275</td>\n",
       "      <td>0</td>\n",
       "      <td>0</td>\n",
       "      <td>0</td>\n",
       "      <td>C3738 B4RFT</td>\n",
       "      <td>NaN</td>\n",
       "      <td>0</td>\n",
       "      <td>0</td>\n",
       "      <td>0</td>\n",
       "      <td>2021-12-01</td>\n",
       "      <td>2021-12-01</td>\n",
       "      <td>2021-12-01</td>\n",
       "      <td>20211201</td>\n",
       "    </tr>\n",
       "    <tr>\n",
       "      <th>2</th>\n",
       "      <td>李永生</td>\n",
       "      <td>10005659</td>\n",
       "      <td>CN-085</td>\n",
       "      <td>COACH SHA WGQ WHS</td>\n",
       "      <td>19809</td>\n",
       "      <td>李永生</td>\n",
       "      <td>10025701</td>\n",
       "      <td>拣货组</td>\n",
       "      <td>19772</td>\n",
       "      <td>孙波</td>\n",
       "      <td>1498752000</td>\n",
       "      <td>10109295</td>\n",
       "      <td>操作员</td>\n",
       "      <td>2.0</td>\n",
       "      <td>1638335905</td>\n",
       "      <td>1638336096</td>\n",
       "      <td>0</td>\n",
       "      <td>0</td>\n",
       "      <td>0</td>\n",
       "      <td>C3282 B4SHG</td>\n",
       "      <td>NaN</td>\n",
       "      <td>0</td>\n",
       "      <td>0</td>\n",
       "      <td>0</td>\n",
       "      <td>2021-12-01</td>\n",
       "      <td>2021-12-01</td>\n",
       "      <td>2021-12-01</td>\n",
       "      <td>20211201</td>\n",
       "    </tr>\n",
       "    <tr>\n",
       "      <th>3</th>\n",
       "      <td>李永生</td>\n",
       "      <td>10005659</td>\n",
       "      <td>CN-085</td>\n",
       "      <td>COACH SHA WGQ WHS</td>\n",
       "      <td>19809</td>\n",
       "      <td>李永生</td>\n",
       "      <td>10025701</td>\n",
       "      <td>拣货组</td>\n",
       "      <td>19772</td>\n",
       "      <td>孙波</td>\n",
       "      <td>1498752000</td>\n",
       "      <td>10109295</td>\n",
       "      <td>操作员</td>\n",
       "      <td>6.0</td>\n",
       "      <td>1638336268</td>\n",
       "      <td>1638336317</td>\n",
       "      <td>0</td>\n",
       "      <td>0</td>\n",
       "      <td>0</td>\n",
       "      <td>C5809 B4/HA</td>\n",
       "      <td>NaN</td>\n",
       "      <td>0</td>\n",
       "      <td>0</td>\n",
       "      <td>0</td>\n",
       "      <td>2021-12-01</td>\n",
       "      <td>2021-12-01</td>\n",
       "      <td>2021-12-01</td>\n",
       "      <td>20211201</td>\n",
       "    </tr>\n",
       "    <tr>\n",
       "      <th>4</th>\n",
       "      <td>李永生</td>\n",
       "      <td>10005659</td>\n",
       "      <td>CN-085</td>\n",
       "      <td>COACH SHA WGQ WHS</td>\n",
       "      <td>19809</td>\n",
       "      <td>李永生</td>\n",
       "      <td>10025701</td>\n",
       "      <td>拣货组</td>\n",
       "      <td>19772</td>\n",
       "      <td>孙波</td>\n",
       "      <td>1498752000</td>\n",
       "      <td>10109295</td>\n",
       "      <td>操作员</td>\n",
       "      <td>5.0</td>\n",
       "      <td>1638336340</td>\n",
       "      <td>1638336376</td>\n",
       "      <td>0</td>\n",
       "      <td>0</td>\n",
       "      <td>0</td>\n",
       "      <td>C3738 B4RFT</td>\n",
       "      <td>NaN</td>\n",
       "      <td>0</td>\n",
       "      <td>0</td>\n",
       "      <td>0</td>\n",
       "      <td>2021-12-01</td>\n",
       "      <td>2021-12-01</td>\n",
       "      <td>2021-12-01</td>\n",
       "      <td>20211201</td>\n",
       "    </tr>\n",
       "    <tr>\n",
       "      <th>...</th>\n",
       "      <td>...</td>\n",
       "      <td>...</td>\n",
       "      <td>...</td>\n",
       "      <td>...</td>\n",
       "      <td>...</td>\n",
       "      <td>...</td>\n",
       "      <td>...</td>\n",
       "      <td>...</td>\n",
       "      <td>...</td>\n",
       "      <td>...</td>\n",
       "      <td>...</td>\n",
       "      <td>...</td>\n",
       "      <td>...</td>\n",
       "      <td>...</td>\n",
       "      <td>...</td>\n",
       "      <td>...</td>\n",
       "      <td>...</td>\n",
       "      <td>...</td>\n",
       "      <td>...</td>\n",
       "      <td>...</td>\n",
       "      <td>...</td>\n",
       "      <td>...</td>\n",
       "      <td>...</td>\n",
       "      <td>...</td>\n",
       "      <td>...</td>\n",
       "      <td>...</td>\n",
       "      <td>...</td>\n",
       "      <td>...</td>\n",
       "    </tr>\n",
       "    <tr>\n",
       "      <th>29502</th>\n",
       "      <td>郁黄祥</td>\n",
       "      <td>10005659</td>\n",
       "      <td>CN-085</td>\n",
       "      <td>COACH SHA WGQ WHS</td>\n",
       "      <td>19805</td>\n",
       "      <td>郁黄祥</td>\n",
       "      <td>0</td>\n",
       "      <td>NaN</td>\n",
       "      <td>19775</td>\n",
       "      <td>李小丹</td>\n",
       "      <td>1588262400</td>\n",
       "      <td>10109295</td>\n",
       "      <td>操作员</td>\n",
       "      <td>12.0</td>\n",
       "      <td>1638235730</td>\n",
       "      <td>1638235730</td>\n",
       "      <td>0</td>\n",
       "      <td>0</td>\n",
       "      <td>0</td>\n",
       "      <td>C3766 B4CAH</td>\n",
       "      <td>NaN</td>\n",
       "      <td>0</td>\n",
       "      <td>0</td>\n",
       "      <td>0</td>\n",
       "      <td>2021-11-30</td>\n",
       "      <td>2021-11-30</td>\n",
       "      <td>2021-11-30</td>\n",
       "      <td>20211130</td>\n",
       "    </tr>\n",
       "    <tr>\n",
       "      <th>29503</th>\n",
       "      <td>郁黄祥</td>\n",
       "      <td>10005659</td>\n",
       "      <td>CN-085</td>\n",
       "      <td>COACH SHA WGQ WHS</td>\n",
       "      <td>19805</td>\n",
       "      <td>郁黄祥</td>\n",
       "      <td>0</td>\n",
       "      <td>NaN</td>\n",
       "      <td>19775</td>\n",
       "      <td>李小丹</td>\n",
       "      <td>1588262400</td>\n",
       "      <td>10109295</td>\n",
       "      <td>操作员</td>\n",
       "      <td>8.0</td>\n",
       "      <td>1638236498</td>\n",
       "      <td>1638236498</td>\n",
       "      <td>0</td>\n",
       "      <td>0</td>\n",
       "      <td>0</td>\n",
       "      <td>C4099 IMCAH</td>\n",
       "      <td>NaN</td>\n",
       "      <td>0</td>\n",
       "      <td>0</td>\n",
       "      <td>0</td>\n",
       "      <td>2021-11-30</td>\n",
       "      <td>2021-11-30</td>\n",
       "      <td>2021-11-30</td>\n",
       "      <td>20211130</td>\n",
       "    </tr>\n",
       "    <tr>\n",
       "      <th>29504</th>\n",
       "      <td>郁黄祥</td>\n",
       "      <td>10005659</td>\n",
       "      <td>CN-085</td>\n",
       "      <td>COACH SHA WGQ WHS</td>\n",
       "      <td>19805</td>\n",
       "      <td>郁黄祥</td>\n",
       "      <td>0</td>\n",
       "      <td>NaN</td>\n",
       "      <td>19775</td>\n",
       "      <td>李小丹</td>\n",
       "      <td>1588262400</td>\n",
       "      <td>10109295</td>\n",
       "      <td>操作员</td>\n",
       "      <td>10.0</td>\n",
       "      <td>1638236857</td>\n",
       "      <td>1638236857</td>\n",
       "      <td>0</td>\n",
       "      <td>0</td>\n",
       "      <td>0</td>\n",
       "      <td>C2586 V5C1A</td>\n",
       "      <td>NaN</td>\n",
       "      <td>0</td>\n",
       "      <td>0</td>\n",
       "      <td>0</td>\n",
       "      <td>2021-11-30</td>\n",
       "      <td>2021-11-30</td>\n",
       "      <td>2021-11-30</td>\n",
       "      <td>20211130</td>\n",
       "    </tr>\n",
       "    <tr>\n",
       "      <th>29505</th>\n",
       "      <td>郁黄祥</td>\n",
       "      <td>10005659</td>\n",
       "      <td>CN-085</td>\n",
       "      <td>COACH SHA WGQ WHS</td>\n",
       "      <td>19805</td>\n",
       "      <td>郁黄祥</td>\n",
       "      <td>0</td>\n",
       "      <td>NaN</td>\n",
       "      <td>19775</td>\n",
       "      <td>李小丹</td>\n",
       "      <td>1588262400</td>\n",
       "      <td>10109295</td>\n",
       "      <td>操作员</td>\n",
       "      <td>16.0</td>\n",
       "      <td>1638236857</td>\n",
       "      <td>1638236857</td>\n",
       "      <td>0</td>\n",
       "      <td>0</td>\n",
       "      <td>0</td>\n",
       "      <td>C3756 B4SHG</td>\n",
       "      <td>NaN</td>\n",
       "      <td>0</td>\n",
       "      <td>0</td>\n",
       "      <td>0</td>\n",
       "      <td>2021-11-30</td>\n",
       "      <td>2021-11-30</td>\n",
       "      <td>2021-11-30</td>\n",
       "      <td>20211130</td>\n",
       "    </tr>\n",
       "    <tr>\n",
       "      <th>29506</th>\n",
       "      <td>郁黄祥</td>\n",
       "      <td>10005659</td>\n",
       "      <td>CN-085</td>\n",
       "      <td>COACH SHA WGQ WHS</td>\n",
       "      <td>19805</td>\n",
       "      <td>郁黄祥</td>\n",
       "      <td>0</td>\n",
       "      <td>NaN</td>\n",
       "      <td>19775</td>\n",
       "      <td>李小丹</td>\n",
       "      <td>1588262400</td>\n",
       "      <td>10109295</td>\n",
       "      <td>操作员</td>\n",
       "      <td>54.0</td>\n",
       "      <td>1638236857</td>\n",
       "      <td>1638236857</td>\n",
       "      <td>0</td>\n",
       "      <td>0</td>\n",
       "      <td>0</td>\n",
       "      <td>1636  B4QZ9</td>\n",
       "      <td>NaN</td>\n",
       "      <td>0</td>\n",
       "      <td>0</td>\n",
       "      <td>0</td>\n",
       "      <td>2021-11-30</td>\n",
       "      <td>2021-11-30</td>\n",
       "      <td>2021-11-30</td>\n",
       "      <td>20211130</td>\n",
       "    </tr>\n",
       "  </tbody>\n",
       "</table>\n",
       "<p>29507 rows × 28 columns</p>\n",
       "</div>"
      ],
      "text/plain": [
       "      account_name  station_id station_code       station_name  worker_id  \\\n",
       "0              李永生    10005659       CN-085  COACH SHA WGQ WHS      19809   \n",
       "1              李永生    10005659       CN-085  COACH SHA WGQ WHS      19809   \n",
       "2              李永生    10005659       CN-085  COACH SHA WGQ WHS      19809   \n",
       "3              李永生    10005659       CN-085  COACH SHA WGQ WHS      19809   \n",
       "4              李永生    10005659       CN-085  COACH SHA WGQ WHS      19809   \n",
       "...            ...         ...          ...                ...        ...   \n",
       "29502          郁黄祥    10005659       CN-085  COACH SHA WGQ WHS      19805   \n",
       "29503          郁黄祥    10005659       CN-085  COACH SHA WGQ WHS      19805   \n",
       "29504          郁黄祥    10005659       CN-085  COACH SHA WGQ WHS      19805   \n",
       "29505          郁黄祥    10005659       CN-085  COACH SHA WGQ WHS      19805   \n",
       "29506          郁黄祥    10005659       CN-085  COACH SHA WGQ WHS      19805   \n",
       "\n",
       "      worker_name  work_group_id work_group_name  up_worker_id up_worker_name  \\\n",
       "0             李永生       10025701             拣货组         19772             孙波   \n",
       "1             李永生       10025701             拣货组         19772             孙波   \n",
       "2             李永生       10025701             拣货组         19772             孙波   \n",
       "3             李永生       10025701             拣货组         19772             孙波   \n",
       "4             李永生       10025701             拣货组         19772             孙波   \n",
       "...           ...            ...             ...           ...            ...   \n",
       "29502         郁黄祥              0             NaN         19775            李小丹   \n",
       "29503         郁黄祥              0             NaN         19775            李小丹   \n",
       "29504         郁黄祥              0             NaN         19775            李小丹   \n",
       "29505         郁黄祥              0             NaN         19775            李小丹   \n",
       "29506         郁黄祥              0             NaN         19775            李小丹   \n",
       "\n",
       "        hire_time  worker_post_id worker_post_name  work_num  start_time  \\\n",
       "0      1498752000        10109295              操作员      10.0  1638334905   \n",
       "1      1498752000        10109295              操作员      10.0  1638335275   \n",
       "2      1498752000        10109295              操作员       2.0  1638335905   \n",
       "3      1498752000        10109295              操作员       6.0  1638336268   \n",
       "4      1498752000        10109295              操作员       5.0  1638336340   \n",
       "...           ...             ...              ...       ...         ...   \n",
       "29502  1588262400        10109295              操作员      12.0  1638235730   \n",
       "29503  1588262400        10109295              操作员       8.0  1638236498   \n",
       "29504  1588262400        10109295              操作员      10.0  1638236857   \n",
       "29505  1588262400        10109295              操作员      16.0  1638236857   \n",
       "29506  1588262400        10109295              操作员      54.0  1638236857   \n",
       "\n",
       "         end_time  duration  adjustment_duration  adjusted_duration  \\\n",
       "0      1638334905         0                    0                  0   \n",
       "1      1638335275         0                    0                  0   \n",
       "2      1638336096         0                    0                  0   \n",
       "3      1638336317         0                    0                  0   \n",
       "4      1638336376         0                    0                  0   \n",
       "...           ...       ...                  ...                ...   \n",
       "29502  1638235730         0                    0                  0   \n",
       "29503  1638236498         0                    0                  0   \n",
       "29504  1638236857         0                    0                  0   \n",
       "29505  1638236857         0                    0                  0   \n",
       "29506  1638236857         0                    0                  0   \n",
       "\n",
       "            sku_no work_content  work_content_type  work_content_is_measure  \\\n",
       "0      C3738 B4/TP          NaN                  0                        0   \n",
       "1      C3738 B4RFT          NaN                  0                        0   \n",
       "2      C3282 B4SHG          NaN                  0                        0   \n",
       "3      C5809 B4/HA          NaN                  0                        0   \n",
       "4      C3738 B4RFT          NaN                  0                        0   \n",
       "...            ...          ...                ...                      ...   \n",
       "29502  C3766 B4CAH          NaN                  0                        0   \n",
       "29503  C4099 IMCAH          NaN                  0                        0   \n",
       "29504  C2586 V5C1A          NaN                  0                        0   \n",
       "29505  C3756 B4SHG          NaN                  0                        0   \n",
       "29506  1636  B4QZ9          NaN                  0                        0   \n",
       "\n",
       "       work_content_refer  start_date    end_date report_date   inc_day  \n",
       "0                       0  2021-12-01  2021-12-01  2021-12-01  20211201  \n",
       "1                       0  2021-12-01  2021-12-01  2021-12-01  20211201  \n",
       "2                       0  2021-12-01  2021-12-01  2021-12-01  20211201  \n",
       "3                       0  2021-12-01  2021-12-01  2021-12-01  20211201  \n",
       "4                       0  2021-12-01  2021-12-01  2021-12-01  20211201  \n",
       "...                   ...         ...         ...         ...       ...  \n",
       "29502                   0  2021-11-30  2021-11-30  2021-11-30  20211130  \n",
       "29503                   0  2021-11-30  2021-11-30  2021-11-30  20211130  \n",
       "29504                   0  2021-11-30  2021-11-30  2021-11-30  20211130  \n",
       "29505                   0  2021-11-30  2021-11-30  2021-11-30  20211130  \n",
       "29506                   0  2021-11-30  2021-11-30  2021-11-30  20211130  \n",
       "\n",
       "[29507 rows x 28 columns]"
      ]
     },
     "execution_count": 14,
     "metadata": {},
     "output_type": "execute_result"
    }
   ],
   "source": [
    "pd.set_option(\"display.max_rows\", 15, \"display.max_columns\", None)\n",
    "coach"
   ]
  },
  {
   "cell_type": "code",
   "execution_count": 25,
   "metadata": {},
   "outputs": [
    {
     "name": "stderr",
     "output_type": "stream",
     "text": [
      "C:\\Users\\dscshap3808\\Miniconda3\\envs\\siming\\lib\\site-packages\\pandas\\util\\_decorators.py:311: ParserWarning: Falling back to the 'python' engine because the 'c' engine does not support regex separators (separators > 1 char and different from '\\s+' are interpreted as regex); you can avoid this warning by specifying engine='python'.\n",
      "  return func(*args, **kwargs)\n"
     ]
    }
   ],
   "source": [
    "coach = pd.read_csv('./data/coach_1202_outdata.csv', sep = '\\,')\n",
    "coach = coach.dropna(how = 'all', axis = 1)\n",
    "coach.columns = [re.sub('\\w+\\.', '', i) for i in list(coach.columns)]\n",
    "coach = coach.dropna(how = 'all', axis = 1)"
   ]
  },
  {
   "cell_type": "code",
   "execution_count": 27,
   "metadata": {},
   "outputs": [],
   "source": [
    "# coach.to_csv('./data/coach_cleaned_drop_0.csv', encoding = 'utf_8_sig')\n",
    "\n",
    "# account_name,station_name,\n",
    "# worker_name, work_turn_name,\n",
    "# work_group_name,up_worker_name, hire_time, worker_post_name, worker_level_name\n",
    "# ,work_num, from_unixtime(start_time), from_unixtime(end_time), duration, adjustment_duration"
   ]
  },
  {
   "cell_type": "markdown",
   "metadata": {},
   "source": [
    "==========================\n",
    "# online script <br>\n",
    "=========================="
   ]
  },
  {
   "cell_type": "code",
   "execution_count": 7,
   "metadata": {},
   "outputs": [],
   "source": [
    "def data_prepare(coach):\n",
    "\n",
    "    \"\"\"\n",
    "    time unix convert, \n",
    "    转换后标准时长换算成秒,\n",
    "    sprm 计算.\n",
    "    工作在勤时间\n",
    "    \"\"\"\n",
    "    coach = pd.read_csv('./data/coach1129_1202.csv', sep = '\\001')\n",
    "    coach = coach.dropna(how = 'all', axis = 1)\n",
    "    coach.columns = [re.sub('\\w+\\.', '', i) for i in list(coach.columns)]\n",
    "    # coach = coach.dropna(how = 'all', axis = 1)\n",
    "    # coach = coach.drop('raw_data', axis = 1)\n",
    "    # time_convert()\n",
    "    def time_convert(col):\n",
    "        coach[col] = coach[col].astype(int)\n",
    "        coach[col] = [datetime.fromtimestamp(i).strftime('%Y-%m-%d %H:%M:%S') for i in coach[col]]\n",
    "        return coach\n",
    "    for i in ['start_time', 'end_time', 'hire_time']:\n",
    "        time_convert(i)\n",
    "    coach['start_time'] = pd.to_datetime(coach['start_time'])\n",
    "    coach['end_time']   = pd.to_datetime(coach['end_time'])\n",
    "    # coach['duration'] =  coach['end_time'] - coach['start_time']\n",
    "    coach = coach[~coach['work_content'].isna()]\n",
    "    coach = coach[coach['work_content'] != '无效时间']\n",
    "    coach = coach[coach['worker_post_name'] != '操作经理']\n",
    "    # sprm calculation\n",
    "    coach['sprm'] = (60/coach['work_content_refer']).replace([np.inf, -np.inf], 0)\n",
    "   \n",
    "    wh = coach.groupby(['worker_name','inc_day']).agg(\n",
    "        {\n",
    "            'start_time': 'min',\n",
    "            'end_time': 'max',\n",
    "            'sprm': 'sum',\n",
    "        }\n",
    "    ).reset_index()\n",
    "    \n",
    "    wh['work_hour'] = wh['end_time'] - wh['start_time']\n",
    "    wh['work_hour_in_min']  = [i.total_seconds()/60 for i in wh['work_hour']]\n",
    "    wh['work_hour_in_hour'] = [i.total_seconds()/3600 for i in wh['work_hour']]\n",
    "    wh = wh.drop(['end_time','start_time', 'work_hour'], axis = 1).rename({'sprm':'SPRM_total_of_day'}, axis =1)\n",
    "    coach = coach.merge(wh, on = ['worker_name', 'inc_day'], how = 'inner')\n",
    "    # coach = coach[coach['duration'] != '0']\n",
    "    coach = coach[coach['sprm'] != 0]\n",
    "    coach['sprm_perhour'] =  coach['SPRM_total_of_day'] / coach['work_hour_in_hour']\n",
    "    coach = coach[coach['work_content'] != '无效时间']\n",
    "    coach = coach[coach['worker_post_name'] != '操作经理']\n",
    "    \"\"\"\n",
    "    计算转换后时间长度, 换算成 \n",
    "    秒\n",
    "    \"\"\"\n",
    "    # coach = pd.concat([coach, pd.DataFrame(list(coach['adjusted_duration'].str.split(':')))], axis =1) \n",
    "    # coach = coach[coach[[0,1,2]].astype(int).sum(axis = 1) != 0]\n",
    "    # coach[[0,1,2]] = coach[[0,1,2]].astype(int)\n",
    "    # coach['time_len'] = coach[0]*3600 + coach[1]*60 + coach[2]\n",
    "    # coach = coach.drop([0,1,2], axis = 1) \n",
    "    \n",
    "    return coach\n",
    "coach = data_prepare(coach)\n"
   ]
  },
  {
   "cell_type": "code",
   "execution_count": 11,
   "metadata": {},
   "outputs": [],
   "source": [
    "# coach[coach['work_hour_in_hour'] == coach['work_hour_in_hour'].max()] \n",
    "# coach"
   ]
  },
  {
   "cell_type": "code",
   "execution_count": 7,
   "metadata": {},
   "outputs": [],
   "source": [
    "coach = coach.sort_values(['worker_name', 'start_time', 'end_time'])\n",
    "shift = coach[['worker_name', 'start_time', 'end_time']]\n",
    "shift = shift.groupby(['worker_name']).shift(1)\n",
    "shift.columns = ['start_shift1', 'end_shift1']"
   ]
  },
  {
   "cell_type": "code",
   "execution_count": 8,
   "metadata": {},
   "outputs": [],
   "source": [
    "test = pd.concat([coach, shift], axis = 1)\n",
    "test['gap'] = test['start_time'] - test['end_shift1'] "
   ]
  },
  {
   "cell_type": "code",
   "execution_count": 320,
   "metadata": {},
   "outputs": [],
   "source": [
    "# test[test['gap'] > '0 days 00:00:00']"
   ]
  },
  {
   "cell_type": "code",
   "execution_count": 265,
   "metadata": {},
   "outputs": [],
   "source": [
    "test = coach[(coach['inc_day'].astype(str).str.contains('20211130')) & (coach['worker_name'] == '张现花')]"
   ]
  },
  {
   "cell_type": "code",
   "execution_count": 21,
   "metadata": {},
   "outputs": [],
   "source": [
    "# def time_convert(coach,col):\n",
    "#     coach[col] = coach[col].astype(int)\n",
    "#     coach[col] = [datetime.fromtimestamp(i).strftime('%Y-%m-%d %H:%M:%S') for i in coach[col]]\n",
    "#     return coach\n",
    "# for i in ['start_time', 'end_time', 'hire_time']:\n",
    "#     time_convert(test,i)"
   ]
  },
  {
   "cell_type": "code",
   "execution_count": 280,
   "metadata": {},
   "outputs": [
    {
     "data": {
      "text/plain": [
       "Timestamp('2021-11-30 08:34:37')"
      ]
     },
     "execution_count": 280,
     "metadata": {},
     "output_type": "execute_result"
    }
   ],
   "source": [
    "pd.to_datetime(test['end_time']).min()"
   ]
  },
  {
   "cell_type": "code",
   "execution_count": 279,
   "metadata": {},
   "outputs": [
    {
     "data": {
      "text/plain": [
       "Timedelta('0 days 16:49:03')"
      ]
     },
     "execution_count": 279,
     "metadata": {},
     "output_type": "execute_result"
    }
   ],
   "source": [
    "pd.to_datetime(test['end_time']).max() - pd.to_datetime(test['end_time']).min()"
   ]
  },
  {
   "cell_type": "code",
   "execution_count": 267,
   "metadata": {},
   "outputs": [
    {
     "data": {
      "text/html": [
       "<div>\n",
       "<style scoped>\n",
       "    .dataframe tbody tr th:only-of-type {\n",
       "        vertical-align: middle;\n",
       "    }\n",
       "\n",
       "    .dataframe tbody tr th {\n",
       "        vertical-align: top;\n",
       "    }\n",
       "\n",
       "    .dataframe thead th {\n",
       "        text-align: right;\n",
       "    }\n",
       "</style>\n",
       "<table border=\"1\" class=\"dataframe\">\n",
       "  <thead>\n",
       "    <tr style=\"text-align: right;\">\n",
       "      <th></th>\n",
       "      <th>account_name</th>\n",
       "      <th>station_id</th>\n",
       "      <th>station_code</th>\n",
       "      <th>station_name</th>\n",
       "      <th>worker_id</th>\n",
       "      <th>worker_name</th>\n",
       "      <th>work_group_id</th>\n",
       "      <th>work_group_name</th>\n",
       "      <th>up_worker_id</th>\n",
       "      <th>up_worker_name</th>\n",
       "      <th>hire_time</th>\n",
       "      <th>worker_post_id</th>\n",
       "      <th>worker_post_name</th>\n",
       "      <th>work_num</th>\n",
       "      <th>start_time</th>\n",
       "      <th>end_time</th>\n",
       "      <th>duration</th>\n",
       "      <th>adjustment_duration</th>\n",
       "      <th>adjusted_duration</th>\n",
       "      <th>sku_no</th>\n",
       "      <th>work_content</th>\n",
       "      <th>work_content_type</th>\n",
       "      <th>work_content_is_measure</th>\n",
       "      <th>work_content_refer</th>\n",
       "      <th>start_date</th>\n",
       "      <th>end_date</th>\n",
       "      <th>report_date</th>\n",
       "      <th>inc_day</th>\n",
       "    </tr>\n",
       "  </thead>\n",
       "  <tbody>\n",
       "  </tbody>\n",
       "</table>\n",
       "</div>"
      ],
      "text/plain": [
       "Empty DataFrame\n",
       "Columns: [account_name, station_id, station_code, station_name, worker_id, worker_name, work_group_id, work_group_name, up_worker_id, up_worker_name, hire_time, worker_post_id, worker_post_name, work_num, start_time, end_time, duration, adjustment_duration, adjusted_duration, sku_no, work_content, work_content_type, work_content_is_measure, work_content_refer, start_date, end_date, report_date, inc_day]\n",
       "Index: []"
      ]
     },
     "execution_count": 267,
     "metadata": {},
     "output_type": "execute_result"
    }
   ],
   "source": [
    "test[test['start_time'] == '2021-11-30 08:57:23'] "
   ]
  },
  {
   "cell_type": "code",
   "execution_count": 242,
   "metadata": {},
   "outputs": [],
   "source": [
    "wh = test.groupby(['worker_name','inc_day']).agg(\n",
    "        {\n",
    "            'start_time': 'min',\n",
    "            'end_time': 'max',\n",
    "            'sprm': 'sum',\n",
    "        }\n",
    "    ).reset_index()\n",
    "    \n",
    "wh['work_hour'] = wh['end_time'] - wh['start_time']"
   ]
  },
  {
   "cell_type": "code",
   "execution_count": 250,
   "metadata": {},
   "outputs": [
    {
     "data": {
      "text/html": [
       "<div>\n",
       "<style scoped>\n",
       "    .dataframe tbody tr th:only-of-type {\n",
       "        vertical-align: middle;\n",
       "    }\n",
       "\n",
       "    .dataframe tbody tr th {\n",
       "        vertical-align: top;\n",
       "    }\n",
       "\n",
       "    .dataframe thead th {\n",
       "        text-align: right;\n",
       "    }\n",
       "</style>\n",
       "<table border=\"1\" class=\"dataframe\">\n",
       "  <thead>\n",
       "    <tr style=\"text-align: right;\">\n",
       "      <th></th>\n",
       "      <th>worker_name</th>\n",
       "      <th>inc_day</th>\n",
       "      <th>start_time</th>\n",
       "      <th>end_time</th>\n",
       "      <th>sprm</th>\n",
       "      <th>work_hour</th>\n",
       "    </tr>\n",
       "  </thead>\n",
       "  <tbody>\n",
       "    <tr>\n",
       "      <th>0</th>\n",
       "      <td>郁黄祥</td>\n",
       "      <td>20211130</td>\n",
       "      <td>2021-11-30 12:52:54</td>\n",
       "      <td>2021-12-01 00:09:52</td>\n",
       "      <td>6720.0</td>\n",
       "      <td>0 days 11:16:58</td>\n",
       "    </tr>\n",
       "  </tbody>\n",
       "</table>\n",
       "</div>"
      ],
      "text/plain": [
       "  worker_name   inc_day          start_time            end_time    sprm  \\\n",
       "0         郁黄祥  20211130 2021-11-30 12:52:54 2021-12-01 00:09:52  6720.0   \n",
       "\n",
       "        work_hour  \n",
       "0 0 days 11:16:58  "
      ]
     },
     "execution_count": 250,
     "metadata": {},
     "output_type": "execute_result"
    }
   ],
   "source": [
    "wh "
   ]
  },
  {
   "cell_type": "code",
   "execution_count": 253,
   "metadata": {},
   "outputs": [
    {
     "data": {
      "text/plain": [
       "11.282777777777778"
      ]
     },
     "execution_count": 253,
     "metadata": {},
     "output_type": "execute_result"
    }
   ],
   "source": [
    "[i.total_seconds() for i in wh['work_hour']][0]/3600"
   ]
  },
  {
   "cell_type": "code",
   "execution_count": 301,
   "metadata": {},
   "outputs": [],
   "source": [
    "# coach[(coach['start_time'].astype(str).str.contains('2021-11-30')) & (coach['worker_name'] == '郁黄祥')]"
   ]
  },
  {
   "cell_type": "code",
   "execution_count": 232,
   "metadata": {},
   "outputs": [
    {
     "data": {
      "text/plain": [
       "Timestamp('2021-11-30 12:52:54')"
      ]
     },
     "execution_count": 232,
     "metadata": {},
     "output_type": "execute_result"
    }
   ],
   "source": [
    "coach[(coach['worker_name'] == '郁黄祥') & (coach['start_date'] == '2021-11-30')]['start_time'].min()"
   ]
  },
  {
   "cell_type": "code",
   "execution_count": 234,
   "metadata": {},
   "outputs": [
    {
     "data": {
      "text/html": [
       "<div>\n",
       "<style scoped>\n",
       "    .dataframe tbody tr th:only-of-type {\n",
       "        vertical-align: middle;\n",
       "    }\n",
       "\n",
       "    .dataframe tbody tr th {\n",
       "        vertical-align: top;\n",
       "    }\n",
       "\n",
       "    .dataframe thead th {\n",
       "        text-align: right;\n",
       "    }\n",
       "</style>\n",
       "<table border=\"1\" class=\"dataframe\">\n",
       "  <thead>\n",
       "    <tr style=\"text-align: right;\">\n",
       "      <th></th>\n",
       "      <th>account_name</th>\n",
       "      <th>station_id</th>\n",
       "      <th>station_code</th>\n",
       "      <th>station_name</th>\n",
       "      <th>worker_id</th>\n",
       "      <th>worker_name</th>\n",
       "      <th>work_group_id</th>\n",
       "      <th>work_group_name</th>\n",
       "      <th>up_worker_id</th>\n",
       "      <th>up_worker_name</th>\n",
       "      <th>hire_time</th>\n",
       "      <th>worker_post_id</th>\n",
       "      <th>worker_post_name</th>\n",
       "      <th>work_num</th>\n",
       "      <th>start_time</th>\n",
       "      <th>end_time</th>\n",
       "      <th>duration</th>\n",
       "      <th>adjustment_duration</th>\n",
       "      <th>adjusted_duration</th>\n",
       "      <th>sku_no</th>\n",
       "      <th>work_content</th>\n",
       "      <th>work_content_type</th>\n",
       "      <th>work_content_is_measure</th>\n",
       "      <th>work_content_refer</th>\n",
       "      <th>start_date</th>\n",
       "      <th>end_date</th>\n",
       "      <th>report_date</th>\n",
       "      <th>inc_day</th>\n",
       "      <th>sprm</th>\n",
       "      <th>SPRM_total_of_day</th>\n",
       "      <th>work_hour_in_min</th>\n",
       "      <th>work_hour_in_hour</th>\n",
       "      <th>sprm_perhour</th>\n",
       "    </tr>\n",
       "  </thead>\n",
       "  <tbody>\n",
       "  </tbody>\n",
       "</table>\n",
       "</div>"
      ],
      "text/plain": [
       "Empty DataFrame\n",
       "Columns: [account_name, station_id, station_code, station_name, worker_id, worker_name, work_group_id, work_group_name, up_worker_id, up_worker_name, hire_time, worker_post_id, worker_post_name, work_num, start_time, end_time, duration, adjustment_duration, adjusted_duration, sku_no, work_content, work_content_type, work_content_is_measure, work_content_refer, start_date, end_date, report_date, inc_day, sprm, SPRM_total_of_day, work_hour_in_min, work_hour_in_hour, sprm_perhour]\n",
       "Index: []"
      ]
     },
     "execution_count": 234,
     "metadata": {},
     "output_type": "execute_result"
    }
   ],
   "source": [
    "coach[(coach['worker_name'] == '郁黄祥') & (coach['start_date'] == '2021-12-01')]"
   ]
  },
  {
   "cell_type": "code",
   "execution_count": null,
   "metadata": {},
   "outputs": [],
   "source": [
    "# ======="
   ]
  },
  {
   "cell_type": "code",
   "execution_count": 23,
   "metadata": {},
   "outputs": [],
   "source": [
    "coach_out = coach[['worker_name',  'work_group_name', 'up_worker_name', 'hire_time',\\\n",
    "         'worker_post_name', 'SPRM_total_of_day', 'work_hour_in_min',\n",
    "         'work_hour_in_hour', 'sprm_perhour', 'station_name', 'inc_day']].drop_duplicates()\n",
    "coach_out['inc_day'] = coach_out['inc_day'].astype(str)\n",
    "        #  'sprm', 'SPRM_total_of_day', 'work_hour_in_min',\n",
    "        #  'work_hour_in_hour', 'sprm_perhour',"
   ]
  },
  {
   "cell_type": "code",
   "execution_count": 27,
   "metadata": {},
   "outputs": [
    {
     "data": {
      "text/html": [
       "<div>\n",
       "<style scoped>\n",
       "    .dataframe tbody tr th:only-of-type {\n",
       "        vertical-align: middle;\n",
       "    }\n",
       "\n",
       "    .dataframe tbody tr th {\n",
       "        vertical-align: top;\n",
       "    }\n",
       "\n",
       "    .dataframe thead th {\n",
       "        text-align: right;\n",
       "    }\n",
       "</style>\n",
       "<table border=\"1\" class=\"dataframe\">\n",
       "  <thead>\n",
       "    <tr style=\"text-align: right;\">\n",
       "      <th></th>\n",
       "      <th>worker_name</th>\n",
       "      <th>work_group_name</th>\n",
       "      <th>up_worker_name</th>\n",
       "      <th>hire_time</th>\n",
       "      <th>worker_post_name</th>\n",
       "      <th>SPRM_total_of_day</th>\n",
       "      <th>work_hour_in_min</th>\n",
       "      <th>work_hour_in_hour</th>\n",
       "      <th>sprm_perhour</th>\n",
       "      <th>station_name</th>\n",
       "      <th>inc_day</th>\n",
       "    </tr>\n",
       "  </thead>\n",
       "  <tbody>\n",
       "    <tr>\n",
       "      <th>1617</th>\n",
       "      <td>李小丹</td>\n",
       "      <td>库存组</td>\n",
       "      <td>张艾华</td>\n",
       "      <td>2016-09-01 00:00:00</td>\n",
       "      <td>组长</td>\n",
       "      <td>2820.0</td>\n",
       "      <td>780.0</td>\n",
       "      <td>13.0</td>\n",
       "      <td>216.923077</td>\n",
       "      <td>COACH SHA WGQ WHS</td>\n",
       "      <td>20211130</td>\n",
       "    </tr>\n",
       "  </tbody>\n",
       "</table>\n",
       "</div>"
      ],
      "text/plain": [
       "     worker_name work_group_name up_worker_name            hire_time  \\\n",
       "1617         李小丹             库存组            张艾华  2016-09-01 00:00:00   \n",
       "\n",
       "     worker_post_name  SPRM_total_of_day  work_hour_in_min  work_hour_in_hour  \\\n",
       "1617               组长             2820.0             780.0               13.0   \n",
       "\n",
       "      sprm_perhour       station_name   inc_day  \n",
       "1617    216.923077  COACH SHA WGQ WHS  20211130  "
      ]
     },
     "execution_count": 27,
     "metadata": {},
     "output_type": "execute_result"
    }
   ],
   "source": [
    "coach_out[coach_out['work_hour_in_hour'] == 13]"
   ]
  },
  {
   "cell_type": "code",
   "execution_count": 51,
   "metadata": {},
   "outputs": [],
   "source": [
    "test  = coach.query(\"worker_name == '李小丹'\") [['worker_name',  'work_group_name', 'up_worker_name', 'hire_time',\\\n",
    "         'start_time', 'end_time','inc_day']].drop_duplicates() "
   ]
  },
  {
   "cell_type": "code",
   "execution_count": 54,
   "metadata": {},
   "outputs": [],
   "source": [
    "te2 = test.groupby(['worker_name','inc_day']).agg(\n",
    "        {\n",
    "            'start_time': 'min',\n",
    "            'end_time': 'max'\n",
    "        }\n",
    "    ).reset_index() "
   ]
  },
  {
   "cell_type": "code",
   "execution_count": null,
   "metadata": {},
   "outputs": [],
   "source": []
  },
  {
   "cell_type": "code",
   "execution_count": 55,
   "metadata": {},
   "outputs": [
    {
     "data": {
      "text/plain": [
       "0   0 days 04:16:56\n",
       "1   0 days 01:55:59\n",
       "dtype: timedelta64[ns]"
      ]
     },
     "execution_count": 55,
     "metadata": {},
     "output_type": "execute_result"
    }
   ],
   "source": [
    "te2['end_time'] - te2['start_time']"
   ]
  },
  {
   "cell_type": "code",
   "execution_count": 300,
   "metadata": {},
   "outputs": [],
   "source": [
    "pd_loaddata.pd_tocsv(coach_out, './data/coach_1202_outdata.csv' )"
   ]
  },
  {
   "cell_type": "code",
   "execution_count": 298,
   "metadata": {},
   "outputs": [],
   "source": [
    "from fyenn_class import pd_loaddata\n",
    "pd_loaddata.show_line(15,None)\n",
    "# coach[(coach['account_name'] == '孙清元') & (coach['start_date'] == '2021-11-30')].sort_values('start_time')"
   ]
  },
  {
   "cell_type": "code",
   "execution_count": 123,
   "metadata": {},
   "outputs": [
    {
     "data": {
      "application/vnd.plotly.v1+json": {
       "config": {
        "plotlyServerURL": "https://plot.ly"
       },
       "data": [
        {
         "alignmentgroup": "True",
         "hovertemplate": "work_group_name=库存组<br>worker_name=%{x}<br>sprm_perhour=%{y}<extra></extra>",
         "legendgroup": "库存组",
         "marker": {
          "color": "#636efa"
         },
         "name": "库存组",
         "offsetgroup": "库存组",
         "orientation": "v",
         "showlegend": true,
         "textposition": "auto",
         "type": "bar",
         "x": [
          "宋卫华",
          "吴飞宇",
          "李小丹"
         ],
         "xaxis": "x",
         "y": [
          0.14814814814814814,
          36.44444444444444,
          216.92307692307693
         ],
         "yaxis": "y"
        },
        {
         "alignmentgroup": "True",
         "hovertemplate": "work_group_name=发货组<br>worker_name=%{x}<br>sprm_perhour=%{y}<extra></extra>",
         "legendgroup": "发货组",
         "marker": {
          "color": "#EF553B"
         },
         "name": "发货组",
         "offsetgroup": "发货组",
         "orientation": "v",
         "showlegend": true,
         "textposition": "auto",
         "type": "bar",
         "x": [
          "李文博"
         ],
         "xaxis": "x",
         "y": [
          0.8611111111111112
         ],
         "yaxis": "y"
        },
        {
         "alignmentgroup": "True",
         "hovertemplate": "work_group_name=unknown<br>worker_name=%{x}<br>sprm_perhour=%{y}<extra></extra>",
         "legendgroup": "unknown",
         "marker": {
          "color": "#00cc96"
         },
         "name": "unknown",
         "offsetgroup": "unknown",
         "orientation": "v",
         "showlegend": true,
         "textposition": "auto",
         "type": "bar",
         "x": [
          "沈正宇",
          "张现花",
          "张玉侠",
          "张康康",
          "张良园",
          "潘明海",
          "孙清元",
          "郁黄祥"
         ],
         "xaxis": "x",
         "y": [
          1.6666666666666667,
          2.111111111111111,
          2.7777777777777777,
          7.092592592592593,
          10.555555555555555,
          209.88888888888889,
          486.8628130918403,
          595.5980107341572
         ],
         "yaxis": "y"
        },
        {
         "alignmentgroup": "True",
         "hovertemplate": "work_group_name=收货组<br>worker_name=%{x}<br>sprm_perhour=%{y}<extra></extra>",
         "legendgroup": "收货组",
         "marker": {
          "color": "#ab63fa"
         },
         "name": "收货组",
         "offsetgroup": "收货组",
         "orientation": "v",
         "showlegend": true,
         "textposition": "auto",
         "type": "bar",
         "x": [
          "黄义林"
         ],
         "xaxis": "x",
         "y": [
          1.6944444444444444
         ],
         "yaxis": "y"
        },
        {
         "alignmentgroup": "True",
         "hovertemplate": "work_group_name=VAS组<br>worker_name=%{x}<br>sprm_perhour=%{y}<extra></extra>",
         "legendgroup": "VAS组",
         "marker": {
          "color": "#FFA15A"
         },
         "name": "VAS组",
         "offsetgroup": "VAS组",
         "orientation": "v",
         "showlegend": true,
         "textposition": "auto",
         "type": "bar",
         "x": [
          "豆富山"
         ],
         "xaxis": "x",
         "y": [
          8.37037037037037
         ],
         "yaxis": "y"
        }
       ],
       "layout": {
        "barmode": "relative",
        "legend": {
         "title": {
          "text": "work_group_name"
         },
         "tracegroupgap": 0
        },
        "margin": {
         "t": 60
        },
        "template": {
         "data": {
          "bar": [
           {
            "error_x": {
             "color": "#2a3f5f"
            },
            "error_y": {
             "color": "#2a3f5f"
            },
            "marker": {
             "line": {
              "color": "#E5ECF6",
              "width": 0.5
             }
            },
            "type": "bar"
           }
          ],
          "barpolar": [
           {
            "marker": {
             "line": {
              "color": "#E5ECF6",
              "width": 0.5
             }
            },
            "type": "barpolar"
           }
          ],
          "carpet": [
           {
            "aaxis": {
             "endlinecolor": "#2a3f5f",
             "gridcolor": "white",
             "linecolor": "white",
             "minorgridcolor": "white",
             "startlinecolor": "#2a3f5f"
            },
            "baxis": {
             "endlinecolor": "#2a3f5f",
             "gridcolor": "white",
             "linecolor": "white",
             "minorgridcolor": "white",
             "startlinecolor": "#2a3f5f"
            },
            "type": "carpet"
           }
          ],
          "choropleth": [
           {
            "colorbar": {
             "outlinewidth": 0,
             "ticks": ""
            },
            "type": "choropleth"
           }
          ],
          "contour": [
           {
            "colorbar": {
             "outlinewidth": 0,
             "ticks": ""
            },
            "colorscale": [
             [
              0,
              "#0d0887"
             ],
             [
              0.1111111111111111,
              "#46039f"
             ],
             [
              0.2222222222222222,
              "#7201a8"
             ],
             [
              0.3333333333333333,
              "#9c179e"
             ],
             [
              0.4444444444444444,
              "#bd3786"
             ],
             [
              0.5555555555555556,
              "#d8576b"
             ],
             [
              0.6666666666666666,
              "#ed7953"
             ],
             [
              0.7777777777777778,
              "#fb9f3a"
             ],
             [
              0.8888888888888888,
              "#fdca26"
             ],
             [
              1,
              "#f0f921"
             ]
            ],
            "type": "contour"
           }
          ],
          "contourcarpet": [
           {
            "colorbar": {
             "outlinewidth": 0,
             "ticks": ""
            },
            "type": "contourcarpet"
           }
          ],
          "heatmap": [
           {
            "colorbar": {
             "outlinewidth": 0,
             "ticks": ""
            },
            "colorscale": [
             [
              0,
              "#0d0887"
             ],
             [
              0.1111111111111111,
              "#46039f"
             ],
             [
              0.2222222222222222,
              "#7201a8"
             ],
             [
              0.3333333333333333,
              "#9c179e"
             ],
             [
              0.4444444444444444,
              "#bd3786"
             ],
             [
              0.5555555555555556,
              "#d8576b"
             ],
             [
              0.6666666666666666,
              "#ed7953"
             ],
             [
              0.7777777777777778,
              "#fb9f3a"
             ],
             [
              0.8888888888888888,
              "#fdca26"
             ],
             [
              1,
              "#f0f921"
             ]
            ],
            "type": "heatmap"
           }
          ],
          "heatmapgl": [
           {
            "colorbar": {
             "outlinewidth": 0,
             "ticks": ""
            },
            "colorscale": [
             [
              0,
              "#0d0887"
             ],
             [
              0.1111111111111111,
              "#46039f"
             ],
             [
              0.2222222222222222,
              "#7201a8"
             ],
             [
              0.3333333333333333,
              "#9c179e"
             ],
             [
              0.4444444444444444,
              "#bd3786"
             ],
             [
              0.5555555555555556,
              "#d8576b"
             ],
             [
              0.6666666666666666,
              "#ed7953"
             ],
             [
              0.7777777777777778,
              "#fb9f3a"
             ],
             [
              0.8888888888888888,
              "#fdca26"
             ],
             [
              1,
              "#f0f921"
             ]
            ],
            "type": "heatmapgl"
           }
          ],
          "histogram": [
           {
            "marker": {
             "colorbar": {
              "outlinewidth": 0,
              "ticks": ""
             }
            },
            "type": "histogram"
           }
          ],
          "histogram2d": [
           {
            "colorbar": {
             "outlinewidth": 0,
             "ticks": ""
            },
            "colorscale": [
             [
              0,
              "#0d0887"
             ],
             [
              0.1111111111111111,
              "#46039f"
             ],
             [
              0.2222222222222222,
              "#7201a8"
             ],
             [
              0.3333333333333333,
              "#9c179e"
             ],
             [
              0.4444444444444444,
              "#bd3786"
             ],
             [
              0.5555555555555556,
              "#d8576b"
             ],
             [
              0.6666666666666666,
              "#ed7953"
             ],
             [
              0.7777777777777778,
              "#fb9f3a"
             ],
             [
              0.8888888888888888,
              "#fdca26"
             ],
             [
              1,
              "#f0f921"
             ]
            ],
            "type": "histogram2d"
           }
          ],
          "histogram2dcontour": [
           {
            "colorbar": {
             "outlinewidth": 0,
             "ticks": ""
            },
            "colorscale": [
             [
              0,
              "#0d0887"
             ],
             [
              0.1111111111111111,
              "#46039f"
             ],
             [
              0.2222222222222222,
              "#7201a8"
             ],
             [
              0.3333333333333333,
              "#9c179e"
             ],
             [
              0.4444444444444444,
              "#bd3786"
             ],
             [
              0.5555555555555556,
              "#d8576b"
             ],
             [
              0.6666666666666666,
              "#ed7953"
             ],
             [
              0.7777777777777778,
              "#fb9f3a"
             ],
             [
              0.8888888888888888,
              "#fdca26"
             ],
             [
              1,
              "#f0f921"
             ]
            ],
            "type": "histogram2dcontour"
           }
          ],
          "mesh3d": [
           {
            "colorbar": {
             "outlinewidth": 0,
             "ticks": ""
            },
            "type": "mesh3d"
           }
          ],
          "parcoords": [
           {
            "line": {
             "colorbar": {
              "outlinewidth": 0,
              "ticks": ""
             }
            },
            "type": "parcoords"
           }
          ],
          "pie": [
           {
            "automargin": true,
            "type": "pie"
           }
          ],
          "scatter": [
           {
            "marker": {
             "colorbar": {
              "outlinewidth": 0,
              "ticks": ""
             }
            },
            "type": "scatter"
           }
          ],
          "scatter3d": [
           {
            "line": {
             "colorbar": {
              "outlinewidth": 0,
              "ticks": ""
             }
            },
            "marker": {
             "colorbar": {
              "outlinewidth": 0,
              "ticks": ""
             }
            },
            "type": "scatter3d"
           }
          ],
          "scattercarpet": [
           {
            "marker": {
             "colorbar": {
              "outlinewidth": 0,
              "ticks": ""
             }
            },
            "type": "scattercarpet"
           }
          ],
          "scattergeo": [
           {
            "marker": {
             "colorbar": {
              "outlinewidth": 0,
              "ticks": ""
             }
            },
            "type": "scattergeo"
           }
          ],
          "scattergl": [
           {
            "marker": {
             "colorbar": {
              "outlinewidth": 0,
              "ticks": ""
             }
            },
            "type": "scattergl"
           }
          ],
          "scattermapbox": [
           {
            "marker": {
             "colorbar": {
              "outlinewidth": 0,
              "ticks": ""
             }
            },
            "type": "scattermapbox"
           }
          ],
          "scatterpolar": [
           {
            "marker": {
             "colorbar": {
              "outlinewidth": 0,
              "ticks": ""
             }
            },
            "type": "scatterpolar"
           }
          ],
          "scatterpolargl": [
           {
            "marker": {
             "colorbar": {
              "outlinewidth": 0,
              "ticks": ""
             }
            },
            "type": "scatterpolargl"
           }
          ],
          "scatterternary": [
           {
            "marker": {
             "colorbar": {
              "outlinewidth": 0,
              "ticks": ""
             }
            },
            "type": "scatterternary"
           }
          ],
          "surface": [
           {
            "colorbar": {
             "outlinewidth": 0,
             "ticks": ""
            },
            "colorscale": [
             [
              0,
              "#0d0887"
             ],
             [
              0.1111111111111111,
              "#46039f"
             ],
             [
              0.2222222222222222,
              "#7201a8"
             ],
             [
              0.3333333333333333,
              "#9c179e"
             ],
             [
              0.4444444444444444,
              "#bd3786"
             ],
             [
              0.5555555555555556,
              "#d8576b"
             ],
             [
              0.6666666666666666,
              "#ed7953"
             ],
             [
              0.7777777777777778,
              "#fb9f3a"
             ],
             [
              0.8888888888888888,
              "#fdca26"
             ],
             [
              1,
              "#f0f921"
             ]
            ],
            "type": "surface"
           }
          ],
          "table": [
           {
            "cells": {
             "fill": {
              "color": "#EBF0F8"
             },
             "line": {
              "color": "white"
             }
            },
            "header": {
             "fill": {
              "color": "#C8D4E3"
             },
             "line": {
              "color": "white"
             }
            },
            "type": "table"
           }
          ]
         },
         "layout": {
          "annotationdefaults": {
           "arrowcolor": "#2a3f5f",
           "arrowhead": 0,
           "arrowwidth": 1
          },
          "autotypenumbers": "strict",
          "coloraxis": {
           "colorbar": {
            "outlinewidth": 0,
            "ticks": ""
           }
          },
          "colorscale": {
           "diverging": [
            [
             0,
             "#8e0152"
            ],
            [
             0.1,
             "#c51b7d"
            ],
            [
             0.2,
             "#de77ae"
            ],
            [
             0.3,
             "#f1b6da"
            ],
            [
             0.4,
             "#fde0ef"
            ],
            [
             0.5,
             "#f7f7f7"
            ],
            [
             0.6,
             "#e6f5d0"
            ],
            [
             0.7,
             "#b8e186"
            ],
            [
             0.8,
             "#7fbc41"
            ],
            [
             0.9,
             "#4d9221"
            ],
            [
             1,
             "#276419"
            ]
           ],
           "sequential": [
            [
             0,
             "#0d0887"
            ],
            [
             0.1111111111111111,
             "#46039f"
            ],
            [
             0.2222222222222222,
             "#7201a8"
            ],
            [
             0.3333333333333333,
             "#9c179e"
            ],
            [
             0.4444444444444444,
             "#bd3786"
            ],
            [
             0.5555555555555556,
             "#d8576b"
            ],
            [
             0.6666666666666666,
             "#ed7953"
            ],
            [
             0.7777777777777778,
             "#fb9f3a"
            ],
            [
             0.8888888888888888,
             "#fdca26"
            ],
            [
             1,
             "#f0f921"
            ]
           ],
           "sequentialminus": [
            [
             0,
             "#0d0887"
            ],
            [
             0.1111111111111111,
             "#46039f"
            ],
            [
             0.2222222222222222,
             "#7201a8"
            ],
            [
             0.3333333333333333,
             "#9c179e"
            ],
            [
             0.4444444444444444,
             "#bd3786"
            ],
            [
             0.5555555555555556,
             "#d8576b"
            ],
            [
             0.6666666666666666,
             "#ed7953"
            ],
            [
             0.7777777777777778,
             "#fb9f3a"
            ],
            [
             0.8888888888888888,
             "#fdca26"
            ],
            [
             1,
             "#f0f921"
            ]
           ]
          },
          "colorway": [
           "#636efa",
           "#EF553B",
           "#00cc96",
           "#ab63fa",
           "#FFA15A",
           "#19d3f3",
           "#FF6692",
           "#B6E880",
           "#FF97FF",
           "#FECB52"
          ],
          "font": {
           "color": "#2a3f5f"
          },
          "geo": {
           "bgcolor": "white",
           "lakecolor": "white",
           "landcolor": "#E5ECF6",
           "showlakes": true,
           "showland": true,
           "subunitcolor": "white"
          },
          "hoverlabel": {
           "align": "left"
          },
          "hovermode": "closest",
          "mapbox": {
           "style": "light"
          },
          "paper_bgcolor": "white",
          "plot_bgcolor": "#E5ECF6",
          "polar": {
           "angularaxis": {
            "gridcolor": "white",
            "linecolor": "white",
            "ticks": ""
           },
           "bgcolor": "#E5ECF6",
           "radialaxis": {
            "gridcolor": "white",
            "linecolor": "white",
            "ticks": ""
           }
          },
          "scene": {
           "xaxis": {
            "backgroundcolor": "#E5ECF6",
            "gridcolor": "white",
            "gridwidth": 2,
            "linecolor": "white",
            "showbackground": true,
            "ticks": "",
            "zerolinecolor": "white"
           },
           "yaxis": {
            "backgroundcolor": "#E5ECF6",
            "gridcolor": "white",
            "gridwidth": 2,
            "linecolor": "white",
            "showbackground": true,
            "ticks": "",
            "zerolinecolor": "white"
           },
           "zaxis": {
            "backgroundcolor": "#E5ECF6",
            "gridcolor": "white",
            "gridwidth": 2,
            "linecolor": "white",
            "showbackground": true,
            "ticks": "",
            "zerolinecolor": "white"
           }
          },
          "shapedefaults": {
           "line": {
            "color": "#2a3f5f"
           }
          },
          "ternary": {
           "aaxis": {
            "gridcolor": "white",
            "linecolor": "white",
            "ticks": ""
           },
           "baxis": {
            "gridcolor": "white",
            "linecolor": "white",
            "ticks": ""
           },
           "bgcolor": "#E5ECF6",
           "caxis": {
            "gridcolor": "white",
            "linecolor": "white",
            "ticks": ""
           }
          },
          "title": {
           "x": 0.05
          },
          "xaxis": {
           "automargin": true,
           "gridcolor": "white",
           "linecolor": "white",
           "ticks": "",
           "title": {
            "standoff": 15
           },
           "zerolinecolor": "white",
           "zerolinewidth": 2
          },
          "yaxis": {
           "automargin": true,
           "gridcolor": "white",
           "linecolor": "white",
           "ticks": "",
           "title": {
            "standoff": 15
           },
           "zerolinecolor": "white",
           "zerolinewidth": 2
          }
         }
        },
        "xaxis": {
         "anchor": "y",
         "domain": [
          0,
          1
         ],
         "title": {
          "text": "worker_name"
         }
        },
        "yaxis": {
         "anchor": "x",
         "domain": [
          0,
          1
         ],
         "title": {
          "text": "sprm_perhour"
         }
        }
       }
      }
     },
     "metadata": {},
     "output_type": "display_data"
    }
   ],
   "source": [
    "px.bar(data_frame =  x = 'worker_name', y = 'sprm_perhour', color = 'work_group_name')"
   ]
  },
  {
   "cell_type": "code",
   "execution_count": 136,
   "metadata": {},
   "outputs": [
    {
     "data": {
      "application/vnd.plotly.v1+json": {
       "config": {
        "plotlyServerURL": "https://plot.ly"
       },
       "data": [
        {
         "name": "working_hour",
         "showlegend": false,
         "type": "scatter",
         "x": [
          "郁黄祥",
          "孙清元",
          "潘明海",
          "张良园",
          "张康康",
          "张玉侠",
          "张现花",
          "沈正宇"
         ],
         "xaxis": "x",
         "y": [
          11.282777777777778,
          10.413611111111111,
          9,
          9,
          9,
          9,
          9,
          9
         ],
         "yaxis": "y2"
        },
        {
         "name": "unknown",
         "type": "bar",
         "x": [
          "郁黄祥",
          "孙清元",
          "潘明海",
          "张良园",
          "张康康",
          "张玉侠",
          "张现花",
          "沈正宇"
         ],
         "xaxis": "x",
         "y": [
          595.5980107341572,
          486.8628130918403,
          209.88888888888889,
          10.555555555555555,
          7.092592592592593,
          2.7777777777777777,
          2.111111111111111,
          1.6666666666666667
         ],
         "yaxis": "y"
        },
        {
         "name": "working_hour",
         "showlegend": false,
         "type": "scatter",
         "x": [
          "李小丹",
          "吴飞宇",
          "宋卫华"
         ],
         "xaxis": "x",
         "y": [
          13,
          9,
          9
         ],
         "yaxis": "y2"
        },
        {
         "name": "库存组",
         "type": "bar",
         "x": [
          "李小丹",
          "吴飞宇",
          "宋卫华"
         ],
         "xaxis": "x",
         "y": [
          216.92307692307693,
          36.44444444444444,
          0.14814814814814814
         ],
         "yaxis": "y"
        },
        {
         "name": "working_hour",
         "showlegend": false,
         "type": "scatter",
         "x": [
          "豆富山"
         ],
         "xaxis": "x",
         "y": [
          9
         ],
         "yaxis": "y2"
        },
        {
         "name": "VAS组",
         "type": "bar",
         "x": [
          "豆富山"
         ],
         "xaxis": "x",
         "y": [
          8.37037037037037
         ],
         "yaxis": "y"
        },
        {
         "name": "working_hour",
         "showlegend": false,
         "type": "scatter",
         "x": [
          "黄义林"
         ],
         "xaxis": "x",
         "y": [
          9
         ],
         "yaxis": "y2"
        },
        {
         "name": "收货组",
         "type": "bar",
         "x": [
          "黄义林"
         ],
         "xaxis": "x",
         "y": [
          1.6944444444444444
         ],
         "yaxis": "y"
        },
        {
         "name": "working_hour",
         "showlegend": false,
         "type": "scatter",
         "x": [
          "李文博"
         ],
         "xaxis": "x",
         "y": [
          9
         ],
         "yaxis": "y2"
        },
        {
         "name": "发货组",
         "type": "bar",
         "x": [
          "李文博"
         ],
         "xaxis": "x",
         "y": [
          0.8611111111111112
         ],
         "yaxis": "y"
        }
       ],
       "layout": {
        "template": {
         "data": {
          "bar": [
           {
            "error_x": {
             "color": "#2a3f5f"
            },
            "error_y": {
             "color": "#2a3f5f"
            },
            "marker": {
             "line": {
              "color": "#E5ECF6",
              "width": 0.5
             }
            },
            "type": "bar"
           }
          ],
          "barpolar": [
           {
            "marker": {
             "line": {
              "color": "#E5ECF6",
              "width": 0.5
             }
            },
            "type": "barpolar"
           }
          ],
          "carpet": [
           {
            "aaxis": {
             "endlinecolor": "#2a3f5f",
             "gridcolor": "white",
             "linecolor": "white",
             "minorgridcolor": "white",
             "startlinecolor": "#2a3f5f"
            },
            "baxis": {
             "endlinecolor": "#2a3f5f",
             "gridcolor": "white",
             "linecolor": "white",
             "minorgridcolor": "white",
             "startlinecolor": "#2a3f5f"
            },
            "type": "carpet"
           }
          ],
          "choropleth": [
           {
            "colorbar": {
             "outlinewidth": 0,
             "ticks": ""
            },
            "type": "choropleth"
           }
          ],
          "contour": [
           {
            "colorbar": {
             "outlinewidth": 0,
             "ticks": ""
            },
            "colorscale": [
             [
              0,
              "#0d0887"
             ],
             [
              0.1111111111111111,
              "#46039f"
             ],
             [
              0.2222222222222222,
              "#7201a8"
             ],
             [
              0.3333333333333333,
              "#9c179e"
             ],
             [
              0.4444444444444444,
              "#bd3786"
             ],
             [
              0.5555555555555556,
              "#d8576b"
             ],
             [
              0.6666666666666666,
              "#ed7953"
             ],
             [
              0.7777777777777778,
              "#fb9f3a"
             ],
             [
              0.8888888888888888,
              "#fdca26"
             ],
             [
              1,
              "#f0f921"
             ]
            ],
            "type": "contour"
           }
          ],
          "contourcarpet": [
           {
            "colorbar": {
             "outlinewidth": 0,
             "ticks": ""
            },
            "type": "contourcarpet"
           }
          ],
          "heatmap": [
           {
            "colorbar": {
             "outlinewidth": 0,
             "ticks": ""
            },
            "colorscale": [
             [
              0,
              "#0d0887"
             ],
             [
              0.1111111111111111,
              "#46039f"
             ],
             [
              0.2222222222222222,
              "#7201a8"
             ],
             [
              0.3333333333333333,
              "#9c179e"
             ],
             [
              0.4444444444444444,
              "#bd3786"
             ],
             [
              0.5555555555555556,
              "#d8576b"
             ],
             [
              0.6666666666666666,
              "#ed7953"
             ],
             [
              0.7777777777777778,
              "#fb9f3a"
             ],
             [
              0.8888888888888888,
              "#fdca26"
             ],
             [
              1,
              "#f0f921"
             ]
            ],
            "type": "heatmap"
           }
          ],
          "heatmapgl": [
           {
            "colorbar": {
             "outlinewidth": 0,
             "ticks": ""
            },
            "colorscale": [
             [
              0,
              "#0d0887"
             ],
             [
              0.1111111111111111,
              "#46039f"
             ],
             [
              0.2222222222222222,
              "#7201a8"
             ],
             [
              0.3333333333333333,
              "#9c179e"
             ],
             [
              0.4444444444444444,
              "#bd3786"
             ],
             [
              0.5555555555555556,
              "#d8576b"
             ],
             [
              0.6666666666666666,
              "#ed7953"
             ],
             [
              0.7777777777777778,
              "#fb9f3a"
             ],
             [
              0.8888888888888888,
              "#fdca26"
             ],
             [
              1,
              "#f0f921"
             ]
            ],
            "type": "heatmapgl"
           }
          ],
          "histogram": [
           {
            "marker": {
             "colorbar": {
              "outlinewidth": 0,
              "ticks": ""
             }
            },
            "type": "histogram"
           }
          ],
          "histogram2d": [
           {
            "colorbar": {
             "outlinewidth": 0,
             "ticks": ""
            },
            "colorscale": [
             [
              0,
              "#0d0887"
             ],
             [
              0.1111111111111111,
              "#46039f"
             ],
             [
              0.2222222222222222,
              "#7201a8"
             ],
             [
              0.3333333333333333,
              "#9c179e"
             ],
             [
              0.4444444444444444,
              "#bd3786"
             ],
             [
              0.5555555555555556,
              "#d8576b"
             ],
             [
              0.6666666666666666,
              "#ed7953"
             ],
             [
              0.7777777777777778,
              "#fb9f3a"
             ],
             [
              0.8888888888888888,
              "#fdca26"
             ],
             [
              1,
              "#f0f921"
             ]
            ],
            "type": "histogram2d"
           }
          ],
          "histogram2dcontour": [
           {
            "colorbar": {
             "outlinewidth": 0,
             "ticks": ""
            },
            "colorscale": [
             [
              0,
              "#0d0887"
             ],
             [
              0.1111111111111111,
              "#46039f"
             ],
             [
              0.2222222222222222,
              "#7201a8"
             ],
             [
              0.3333333333333333,
              "#9c179e"
             ],
             [
              0.4444444444444444,
              "#bd3786"
             ],
             [
              0.5555555555555556,
              "#d8576b"
             ],
             [
              0.6666666666666666,
              "#ed7953"
             ],
             [
              0.7777777777777778,
              "#fb9f3a"
             ],
             [
              0.8888888888888888,
              "#fdca26"
             ],
             [
              1,
              "#f0f921"
             ]
            ],
            "type": "histogram2dcontour"
           }
          ],
          "mesh3d": [
           {
            "colorbar": {
             "outlinewidth": 0,
             "ticks": ""
            },
            "type": "mesh3d"
           }
          ],
          "parcoords": [
           {
            "line": {
             "colorbar": {
              "outlinewidth": 0,
              "ticks": ""
             }
            },
            "type": "parcoords"
           }
          ],
          "pie": [
           {
            "automargin": true,
            "type": "pie"
           }
          ],
          "scatter": [
           {
            "marker": {
             "colorbar": {
              "outlinewidth": 0,
              "ticks": ""
             }
            },
            "type": "scatter"
           }
          ],
          "scatter3d": [
           {
            "line": {
             "colorbar": {
              "outlinewidth": 0,
              "ticks": ""
             }
            },
            "marker": {
             "colorbar": {
              "outlinewidth": 0,
              "ticks": ""
             }
            },
            "type": "scatter3d"
           }
          ],
          "scattercarpet": [
           {
            "marker": {
             "colorbar": {
              "outlinewidth": 0,
              "ticks": ""
             }
            },
            "type": "scattercarpet"
           }
          ],
          "scattergeo": [
           {
            "marker": {
             "colorbar": {
              "outlinewidth": 0,
              "ticks": ""
             }
            },
            "type": "scattergeo"
           }
          ],
          "scattergl": [
           {
            "marker": {
             "colorbar": {
              "outlinewidth": 0,
              "ticks": ""
             }
            },
            "type": "scattergl"
           }
          ],
          "scattermapbox": [
           {
            "marker": {
             "colorbar": {
              "outlinewidth": 0,
              "ticks": ""
             }
            },
            "type": "scattermapbox"
           }
          ],
          "scatterpolar": [
           {
            "marker": {
             "colorbar": {
              "outlinewidth": 0,
              "ticks": ""
             }
            },
            "type": "scatterpolar"
           }
          ],
          "scatterpolargl": [
           {
            "marker": {
             "colorbar": {
              "outlinewidth": 0,
              "ticks": ""
             }
            },
            "type": "scatterpolargl"
           }
          ],
          "scatterternary": [
           {
            "marker": {
             "colorbar": {
              "outlinewidth": 0,
              "ticks": ""
             }
            },
            "type": "scatterternary"
           }
          ],
          "surface": [
           {
            "colorbar": {
             "outlinewidth": 0,
             "ticks": ""
            },
            "colorscale": [
             [
              0,
              "#0d0887"
             ],
             [
              0.1111111111111111,
              "#46039f"
             ],
             [
              0.2222222222222222,
              "#7201a8"
             ],
             [
              0.3333333333333333,
              "#9c179e"
             ],
             [
              0.4444444444444444,
              "#bd3786"
             ],
             [
              0.5555555555555556,
              "#d8576b"
             ],
             [
              0.6666666666666666,
              "#ed7953"
             ],
             [
              0.7777777777777778,
              "#fb9f3a"
             ],
             [
              0.8888888888888888,
              "#fdca26"
             ],
             [
              1,
              "#f0f921"
             ]
            ],
            "type": "surface"
           }
          ],
          "table": [
           {
            "cells": {
             "fill": {
              "color": "#EBF0F8"
             },
             "line": {
              "color": "white"
             }
            },
            "header": {
             "fill": {
              "color": "#C8D4E3"
             },
             "line": {
              "color": "white"
             }
            },
            "type": "table"
           }
          ]
         },
         "layout": {
          "annotationdefaults": {
           "arrowcolor": "#2a3f5f",
           "arrowhead": 0,
           "arrowwidth": 1
          },
          "autotypenumbers": "strict",
          "coloraxis": {
           "colorbar": {
            "outlinewidth": 0,
            "ticks": ""
           }
          },
          "colorscale": {
           "diverging": [
            [
             0,
             "#8e0152"
            ],
            [
             0.1,
             "#c51b7d"
            ],
            [
             0.2,
             "#de77ae"
            ],
            [
             0.3,
             "#f1b6da"
            ],
            [
             0.4,
             "#fde0ef"
            ],
            [
             0.5,
             "#f7f7f7"
            ],
            [
             0.6,
             "#e6f5d0"
            ],
            [
             0.7,
             "#b8e186"
            ],
            [
             0.8,
             "#7fbc41"
            ],
            [
             0.9,
             "#4d9221"
            ],
            [
             1,
             "#276419"
            ]
           ],
           "sequential": [
            [
             0,
             "#0d0887"
            ],
            [
             0.1111111111111111,
             "#46039f"
            ],
            [
             0.2222222222222222,
             "#7201a8"
            ],
            [
             0.3333333333333333,
             "#9c179e"
            ],
            [
             0.4444444444444444,
             "#bd3786"
            ],
            [
             0.5555555555555556,
             "#d8576b"
            ],
            [
             0.6666666666666666,
             "#ed7953"
            ],
            [
             0.7777777777777778,
             "#fb9f3a"
            ],
            [
             0.8888888888888888,
             "#fdca26"
            ],
            [
             1,
             "#f0f921"
            ]
           ],
           "sequentialminus": [
            [
             0,
             "#0d0887"
            ],
            [
             0.1111111111111111,
             "#46039f"
            ],
            [
             0.2222222222222222,
             "#7201a8"
            ],
            [
             0.3333333333333333,
             "#9c179e"
            ],
            [
             0.4444444444444444,
             "#bd3786"
            ],
            [
             0.5555555555555556,
             "#d8576b"
            ],
            [
             0.6666666666666666,
             "#ed7953"
            ],
            [
             0.7777777777777778,
             "#fb9f3a"
            ],
            [
             0.8888888888888888,
             "#fdca26"
            ],
            [
             1,
             "#f0f921"
            ]
           ]
          },
          "colorway": [
           "#636efa",
           "#EF553B",
           "#00cc96",
           "#ab63fa",
           "#FFA15A",
           "#19d3f3",
           "#FF6692",
           "#B6E880",
           "#FF97FF",
           "#FECB52"
          ],
          "font": {
           "color": "#2a3f5f"
          },
          "geo": {
           "bgcolor": "white",
           "lakecolor": "white",
           "landcolor": "#E5ECF6",
           "showlakes": true,
           "showland": true,
           "subunitcolor": "white"
          },
          "hoverlabel": {
           "align": "left"
          },
          "hovermode": "closest",
          "mapbox": {
           "style": "light"
          },
          "paper_bgcolor": "white",
          "plot_bgcolor": "#E5ECF6",
          "polar": {
           "angularaxis": {
            "gridcolor": "white",
            "linecolor": "white",
            "ticks": ""
           },
           "bgcolor": "#E5ECF6",
           "radialaxis": {
            "gridcolor": "white",
            "linecolor": "white",
            "ticks": ""
           }
          },
          "scene": {
           "xaxis": {
            "backgroundcolor": "#E5ECF6",
            "gridcolor": "white",
            "gridwidth": 2,
            "linecolor": "white",
            "showbackground": true,
            "ticks": "",
            "zerolinecolor": "white"
           },
           "yaxis": {
            "backgroundcolor": "#E5ECF6",
            "gridcolor": "white",
            "gridwidth": 2,
            "linecolor": "white",
            "showbackground": true,
            "ticks": "",
            "zerolinecolor": "white"
           },
           "zaxis": {
            "backgroundcolor": "#E5ECF6",
            "gridcolor": "white",
            "gridwidth": 2,
            "linecolor": "white",
            "showbackground": true,
            "ticks": "",
            "zerolinecolor": "white"
           }
          },
          "shapedefaults": {
           "line": {
            "color": "#2a3f5f"
           }
          },
          "ternary": {
           "aaxis": {
            "gridcolor": "white",
            "linecolor": "white",
            "ticks": ""
           },
           "baxis": {
            "gridcolor": "white",
            "linecolor": "white",
            "ticks": ""
           },
           "bgcolor": "#E5ECF6",
           "caxis": {
            "gridcolor": "white",
            "linecolor": "white",
            "ticks": ""
           }
          },
          "title": {
           "x": 0.05
          },
          "xaxis": {
           "automargin": true,
           "gridcolor": "white",
           "linecolor": "white",
           "ticks": "",
           "title": {
            "standoff": 15
           },
           "zerolinecolor": "white",
           "zerolinewidth": 2
          },
          "yaxis": {
           "automargin": true,
           "gridcolor": "white",
           "linecolor": "white",
           "ticks": "",
           "title": {
            "standoff": 15
           },
           "zerolinecolor": "white",
           "zerolinewidth": 2
          }
         }
        },
        "xaxis": {
         "anchor": "y",
         "domain": [
          0,
          0.94
         ]
        },
        "yaxis": {
         "anchor": "x",
         "domain": [
          0,
          1
         ],
         "title": {
          "text": "<b>sprm/h</b>"
         }
        },
        "yaxis2": {
         "anchor": "x",
         "overlaying": "y",
         "side": "right",
         "title": {
          "text": "<b>working_hour</b>"
         }
        }
       }
      }
     },
     "metadata": {},
     "output_type": "display_data"
    }
   ],
   "source": [
    "import plotly.express as px\n",
    "import plotly.graph_objects as go\n",
    "from plotly.subplots import make_subplots\n",
    "def plot_data(coach, riqi, site):\n",
    "    data = coach[coach['station_name'].str.contains(site)]\n",
    "    data = coach[coach['inc_day'].astype(str) == riqi].drop_duplicates()\n",
    "    data['work_group_name'] = data['work_group_name'].fillna('unknown')\n",
    "    data = data.sort_values('sprm_perhour', ascending = False)\n",
    "    return data.drop_duplicates()\n",
    "def plot_(coach, riqi, site):\n",
    "    fig = make_subplots(specs=[[{\"secondary_y\": True}]])\n",
    "    data = plot_data(coach, riqi, site)\n",
    "    for i in data['work_group_name'].unique():\n",
    "        data_0 = data[data['work_group_name'] == i]\n",
    "        fig.add_trace(go.Scatter(\n",
    "            x = data_0['worker_name'], y = data_0['work_hour_in_hour'], name = 'working_hour',\n",
    "            showlegend=False),\n",
    "            secondary_y = True)\n",
    "        # fig.update_layout(showlegend=False)\n",
    "        fig.add_trace(go.Bar(\n",
    "            x = data_0['worker_name'], y = data_0['sprm_perhour'], name = i, \n",
    "            # marker = dict(colorbar = data['work_group_name'], autocolorscale=True)\n",
    "            ),\n",
    "            secondary_y = False) \n",
    "    # fig.update_layout(\n",
    "    #         title=go.layout.Title(text=\"工时 & sprm/h; 时间:\" + riqi + '\\t'+ coach['station_name'][0])\n",
    "    #         )\n",
    "    fig.update_yaxes(title_text=\"<b>sprm/h</b>\", secondary_y=False)\n",
    "    fig.update_yaxes(title_text=\"<b>working_hour</b>\", secondary_y=True)\n",
    "    return fig\n",
    "\n",
    "plot_(coach_out, '20211130', 'COA')"
   ]
  },
  {
   "cell_type": "code",
   "execution_count": 305,
   "metadata": {},
   "outputs": [],
   "source": [
    "plot_(coach_out, '20211130','COA').write_html('./data/c20211130.html')"
   ]
  },
  {
   "cell_type": "markdown",
   "metadata": {},
   "source": [
    "=================\n",
    "# already pulished"
   ]
  },
  {
   "cell_type": "code",
   "execution_count": 59,
   "metadata": {},
   "outputs": [],
   "source": [
    "coach_bdp_published_1205 = pd.read_csv('./data/coach_bdp_published.csv', sep = '\\001')"
   ]
  },
  {
   "cell_type": "code",
   "execution_count": 70,
   "metadata": {},
   "outputs": [],
   "source": [
    "coach_bdp_published_1205.columns = [re.sub('\\w+\\.','', str(i)) for i in list(coach_bdp_published_1205.columns)]"
   ]
  },
  {
   "cell_type": "code",
   "execution_count": 137,
   "metadata": {},
   "outputs": [],
   "source": [
    "# coach_bdp_published_1205"
   ]
  },
  {
   "cell_type": "code",
   "execution_count": 150,
   "metadata": {},
   "outputs": [],
   "source": [
    "# pd.concat([plot_data(coach_bdp_published_1205, '20211205', 'COA'), plot_data(coach_bdp_published_1205, '20211204', 'COA')], axis = 0).to_csv('./data/coach_1204_1205.csv', index = None)"
   ]
  },
  {
   "cell_type": "code",
   "execution_count": 141,
   "metadata": {},
   "outputs": [],
   "source": [
    "plot_(coach_bdp_published_1205, '20211204', 'COA').write_html('./data/c20211204.html')"
   ]
  },
  {
   "cell_type": "code",
   "execution_count": 151,
   "metadata": {},
   "outputs": [],
   "source": [
    "# plot_data(coach_bdp_published_1205, '20211204', 'COA')"
   ]
  },
  {
   "cell_type": "code",
   "execution_count": 143,
   "metadata": {},
   "outputs": [],
   "source": [
    "# ====="
   ]
  },
  {
   "cell_type": "code",
   "execution_count": null,
   "metadata": {},
   "outputs": [],
   "source": [
    "import plotly.express as px\n",
    "import plotly.graph_objects as go\n",
    "from plotly.subplots import make_subplots\n",
    "def plot_data(coach, riqi, site):\n",
    "    data = coach[coach['station_name'].str.contains(site)]\n",
    "    data = coach[coach['inc_day'].astype(str) == riqi].drop_duplicates()\n",
    "    data['work_group_name'] = data['work_group_name'].fillna('unknown')\n",
    "    data = data.sort_values('sprm_perhour', ascending = False)\n",
    "    return data.drop_duplicates()\n",
    "def plot_(coach, riqi, site):\n",
    "    fig = make_subplots(specs=[[{\"secondary_y\": True}]])\n",
    "    data = plot_data(coach, riqi, site)\n",
    "    for i in data['work_group_name'].unique():\n",
    "        data_0 = data[data['work_group_name'] == i]\n",
    "        fig.add_trace(go.Scatter(\n",
    "            x = data_0['worker_name'], y = data_0['work_hour_in_hour'], name = 'working_hour',\n",
    "            showlegend=False),\n",
    "            secondary_y = True)\n",
    "        # fig.update_layout(showlegend=False)\n",
    "        fig.add_trace(go.Bar(\n",
    "            x = data_0['worker_name'], y = data_0['sprm_perhour'], name = i, \n",
    "            # marker = dict(colorbar = data['work_group_name'], autocolorscale=True)\n",
    "            ),\n",
    "            secondary_y = False) \n",
    "    # fig.update_layout(\n",
    "    #         title=go.layout.Title(text=\"工时 & sprm/h; 时间:\" + riqi + '\\t'+ coach['station_name'][0])\n",
    "    #         )\n",
    "    fig.update_yaxes(title_text=\"<b>sprm/h</b>\", secondary_y=False)\n",
    "    fig.update_yaxes(title_text=\"<b>working_hour</b>\", secondary_y=True)\n",
    "    return fig\n",
    "\n",
    "plot_(coach_out, '20211130', 'COA')"
   ]
  }
 ],
 "metadata": {
  "interpreter": {
   "hash": "47b50d2908d96196e4220cfb4e81faa93803065ea975497e7026f672c1f58470"
  },
  "kernelspec": {
   "display_name": "Python 3.8.8 64-bit ('siming': conda)",
   "language": "python",
   "name": "python3"
  },
  "language_info": {
   "codemirror_mode": {
    "name": "ipython",
    "version": 3
   },
   "file_extension": ".py",
   "mimetype": "text/x-python",
   "name": "python",
   "nbconvert_exporter": "python",
   "pygments_lexer": "ipython3",
   "version": "3.8.8"
  },
  "orig_nbformat": 4
 },
 "nbformat": 4,
 "nbformat_minor": 2
}
