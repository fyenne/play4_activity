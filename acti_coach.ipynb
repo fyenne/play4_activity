{
 "cells": [
  {
   "cell_type": "code",
   "execution_count": 84,
   "metadata": {},
   "outputs": [
    {
     "data": {
      "text/plain": [
       "'c:\\\\Users\\\\dscshap3808\\\\Documents\\\\my_scripts_new\\\\play4_activity'"
      ]
     },
     "execution_count": 84,
     "metadata": {},
     "output_type": "execute_result"
    }
   ],
   "source": [
    "import pandas as pd\n",
    "import numpy as np\n",
    "import os\n",
    "# import seaborn as sns\n",
    "# import plotly.express as px\n",
    "# import plotly.graph_objs as go\n",
    "# from plotly.tools import FigureFactory as FF\n",
    "import re\n",
    "import os\n",
    "from datetime import datetime, timedelta \n",
    "\n",
    "df = pd.DataFrame()\n",
    "os.getcwd()\n",
    " "
   ]
  },
  {
   "cell_type": "code",
   "execution_count": 682,
   "metadata": {},
   "outputs": [],
   "source": [
    "# pd.read_excel('./data/Coach11-1to11-5.xlsx', sheet_name=0)\\\n",
    "#     .to_csv('./data/coach_15.csv', encoding = 'utf_8_sig', index=None)\n",
    "coach = pd.read_csv('./data/coach_15.csv')\n",
    "coach = coach.dropna(axis=1, how = 'all')\n",
    "# task_collect = coach.groupby(['姓名', '开始日期'])['任务类型'].apply(list).astype(str).reset_index();task_collect\n",
    "# onoff = task_collect[task_collect['任务类型'].str.contains('(下班.+上班)')][['姓名','开始日期']].sum(axis = 1)\n",
    "# coach['flag'] = coach[['姓名','开始日期']].sum(axis = 1)\n",
    "coach['开始时间'] = pd.to_datetime(coach['开始时间'])\n",
    "coach['结束时间'] = pd.to_datetime(coach['结束时间'])\n",
    "\n",
    "# coach_nopunch = coach[~coach['flag'].isin(onoff)]\n",
    "# coach_dopunch = coach[ coach['flag'].isin(onoff)]\n",
    "coach['sprm'] = (60/coach['SPR标准数量']).replace([np.inf, -np.inf], 0)\n",
    "\n",
    "wh = coach.groupby(['姓名','开始日期']).agg(\n",
    "    {\n",
    "        '开始时间': 'min',\n",
    "        '结束时间': 'max',\n",
    "        'sprm': 'sum',\n",
    "    }\n",
    ").reset_index()\n",
    "wh['work_hour'] = wh['结束时间'] - wh['开始时间']\n",
    "wh['work_hour_in_min']  = [i.total_seconds()/60 for i in wh['work_hour']]\n",
    "wh['work_hour_in_hour'] = [i.total_seconds()/3600 for i in wh['work_hour']]\n",
    "wh = wh.drop(['结束时间','开始时间', 'work_hour'], axis = 1).rename({'sprm':'SPRM_total_of_day'}, axis =1)\n",
    "coach = coach.merge(wh, on = ['姓名', '开始日期'], how = 'inner')\n",
    "coach['sprm_perhour'] =  coach['SPRM_total_of_day'] / coach['work_hour_in_hour']\n",
    "\n",
    "# 标准时长计算\n",
    "coach = pd.concat([coach, pd.DataFrame(list(coach['调整后持续时间'].str.split(':')))], axis =1).drop('序号',axis =1)\n",
    "coach = coach[coach[[0,1,2]].astype(int).sum(axis = 1) != 0]\n",
    "coach[[0,1,2]] = coach[[0,1,2]].astype(int)\n",
    "coach['time_len'] = coach[0]*3600 + coach[1]*60 + coach[2]\n",
    "coach = coach.drop([0,1,2], axis = 1)"
   ]
  },
  {
   "cell_type": "code",
   "execution_count": 446,
   "metadata": {},
   "outputs": [],
   "source": [
    "# coach[coach['姓名'] == '孙清元']"
   ]
  },
  {
   "cell_type": "code",
   "execution_count": 39,
   "metadata": {},
   "outputs": [],
   "source": []
  },
  {
   "cell_type": "code",
   "execution_count": 428,
   "metadata": {},
   "outputs": [],
   "source": [
    "# plot_data('2021-11-05').info()\n",
    "# coach['开始日期'].unique()\n",
    "# array(['2021-11-05', '2021-11-04', '2021-11-03', '2021-11-02',\n",
    "#        '2021-11-01'], dtype=object)"
   ]
  },
  {
   "cell_type": "code",
   "execution_count": 86,
   "metadata": {},
   "outputs": [
    {
     "ename": "KeyError",
     "evalue": "'开始日期'",
     "output_type": "error",
     "traceback": [
      "\u001b[1;31m---------------------------------------------------------------------------\u001b[0m",
      "\u001b[1;31mKeyError\u001b[0m                                  Traceback (most recent call last)",
      "\u001b[1;32m~\\Miniconda3\\envs\\siming\\lib\\site-packages\\pandas\\core\\indexes\\base.py\u001b[0m in \u001b[0;36mget_loc\u001b[1;34m(self, key, method, tolerance)\u001b[0m\n\u001b[0;32m   3360\u001b[0m             \u001b[1;32mtry\u001b[0m\u001b[1;33m:\u001b[0m\u001b[1;33m\u001b[0m\u001b[1;33m\u001b[0m\u001b[0m\n\u001b[1;32m-> 3361\u001b[1;33m                 \u001b[1;32mreturn\u001b[0m \u001b[0mself\u001b[0m\u001b[1;33m.\u001b[0m\u001b[0m_engine\u001b[0m\u001b[1;33m.\u001b[0m\u001b[0mget_loc\u001b[0m\u001b[1;33m(\u001b[0m\u001b[0mcasted_key\u001b[0m\u001b[1;33m)\u001b[0m\u001b[1;33m\u001b[0m\u001b[1;33m\u001b[0m\u001b[0m\n\u001b[0m\u001b[0;32m   3362\u001b[0m             \u001b[1;32mexcept\u001b[0m \u001b[0mKeyError\u001b[0m \u001b[1;32mas\u001b[0m \u001b[0merr\u001b[0m\u001b[1;33m:\u001b[0m\u001b[1;33m\u001b[0m\u001b[1;33m\u001b[0m\u001b[0m\n",
      "\u001b[1;32m~\\Miniconda3\\envs\\siming\\lib\\site-packages\\pandas\\_libs\\index.pyx\u001b[0m in \u001b[0;36mpandas._libs.index.IndexEngine.get_loc\u001b[1;34m()\u001b[0m\n",
      "\u001b[1;32m~\\Miniconda3\\envs\\siming\\lib\\site-packages\\pandas\\_libs\\index.pyx\u001b[0m in \u001b[0;36mpandas._libs.index.IndexEngine.get_loc\u001b[1;34m()\u001b[0m\n",
      "\u001b[1;32mpandas\\_libs\\hashtable_class_helper.pxi\u001b[0m in \u001b[0;36mpandas._libs.hashtable.PyObjectHashTable.get_item\u001b[1;34m()\u001b[0m\n",
      "\u001b[1;32mpandas\\_libs\\hashtable_class_helper.pxi\u001b[0m in \u001b[0;36mpandas._libs.hashtable.PyObjectHashTable.get_item\u001b[1;34m()\u001b[0m\n",
      "\u001b[1;31mKeyError\u001b[0m: '开始日期'",
      "\nThe above exception was the direct cause of the following exception:\n",
      "\u001b[1;31mKeyError\u001b[0m                                  Traceback (most recent call last)",
      "\u001b[1;32mC:\\Users\\DSCSHA~1\\AppData\\Local\\Temp/ipykernel_14824/2120320121.py\u001b[0m in \u001b[0;36m<module>\u001b[1;34m\u001b[0m\n\u001b[0;32m     25\u001b[0m     \u001b[1;32mreturn\u001b[0m \u001b[0mfig2\u001b[0m\u001b[1;33m\u001b[0m\u001b[1;33m\u001b[0m\u001b[0m\n\u001b[0;32m     26\u001b[0m \u001b[1;33m\u001b[0m\u001b[0m\n\u001b[1;32m---> 27\u001b[1;33m \u001b[0mplot_\u001b[0m\u001b[1;33m(\u001b[0m\u001b[1;34m'2021-11-03'\u001b[0m\u001b[1;33m)\u001b[0m\u001b[1;33m\u001b[0m\u001b[1;33m\u001b[0m\u001b[0m\n\u001b[0m",
      "\u001b[1;32mC:\\Users\\DSCSHA~1\\AppData\\Local\\Temp/ipykernel_14824/2120320121.py\u001b[0m in \u001b[0;36mplot_\u001b[1;34m(riqi)\u001b[0m\n\u001b[0;32m      9\u001b[0m \u001b[1;32mdef\u001b[0m \u001b[0mplot_\u001b[0m\u001b[1;33m(\u001b[0m\u001b[0mriqi\u001b[0m\u001b[1;33m)\u001b[0m\u001b[1;33m:\u001b[0m\u001b[1;33m\u001b[0m\u001b[1;33m\u001b[0m\u001b[0m\n\u001b[0;32m     10\u001b[0m     fig2 = px.scatter(\n\u001b[1;32m---> 11\u001b[1;33m         \u001b[0mdata_frame\u001b[0m \u001b[1;33m=\u001b[0m \u001b[0mplot_data\u001b[0m\u001b[1;33m(\u001b[0m\u001b[0mriqi\u001b[0m\u001b[1;33m)\u001b[0m\u001b[1;33m,\u001b[0m \u001b[0mx\u001b[0m \u001b[1;33m=\u001b[0m \u001b[1;34m'姓名'\u001b[0m\u001b[1;33m,\u001b[0m \u001b[0my\u001b[0m\u001b[1;33m=\u001b[0m \u001b[1;34m'sprm_perhour'\u001b[0m\u001b[1;33m,\u001b[0m \u001b[0mhover_data\u001b[0m\u001b[1;33m=\u001b[0m\u001b[1;33m[\u001b[0m\u001b[1;34m'工作组'\u001b[0m \u001b[1;33m]\u001b[0m\u001b[1;33m,\u001b[0m\u001b[1;33m\u001b[0m\u001b[1;33m\u001b[0m\u001b[0m\n\u001b[0m\u001b[0;32m     12\u001b[0m         \u001b[0msize\u001b[0m \u001b[1;33m=\u001b[0m \u001b[1;34m'work_hour_in_hour'\u001b[0m\u001b[1;33m,\u001b[0m \u001b[0mcolor\u001b[0m \u001b[1;33m=\u001b[0m \u001b[1;34m'工作组'\u001b[0m\u001b[1;33m,\u001b[0m\u001b[1;33m\u001b[0m\u001b[1;33m\u001b[0m\u001b[0m\n\u001b[0;32m     13\u001b[0m         \u001b[1;31m# facet_col = '开始日期',\u001b[0m\u001b[1;33m\u001b[0m\u001b[1;33m\u001b[0m\u001b[1;33m\u001b[0m\u001b[0m\n",
      "\u001b[1;32mC:\\Users\\DSCSHA~1\\AppData\\Local\\Temp/ipykernel_14824/2120320121.py\u001b[0m in \u001b[0;36mplot_data\u001b[1;34m(riqi)\u001b[0m\n\u001b[0;32m      1\u001b[0m \u001b[1;32mdef\u001b[0m \u001b[0mplot_data\u001b[0m\u001b[1;33m(\u001b[0m\u001b[0mriqi\u001b[0m\u001b[1;33m)\u001b[0m\u001b[1;33m:\u001b[0m\u001b[1;33m\u001b[0m\u001b[1;33m\u001b[0m\u001b[0m\n\u001b[1;32m----> 2\u001b[1;33m     data = coach[coach['开始日期'] == riqi][['姓名', '工作组', '直属上级', '任职时间', '职位',\\\n\u001b[0m\u001b[0;32m      3\u001b[0m     \u001b[1;34m'sprm'\u001b[0m\u001b[1;33m,\u001b[0m \u001b[1;34m'SPRM_total_of_day'\u001b[0m\u001b[1;33m,\u001b[0m \u001b[1;34m'work_hour_in_min'\u001b[0m\u001b[1;33m,\u001b[0m\u001b[1;33m\u001b[0m\u001b[1;33m\u001b[0m\u001b[0m\n\u001b[0;32m      4\u001b[0m     'work_hour_in_hour', 'sprm_perhour']].drop_duplicates()\n\u001b[0;32m      5\u001b[0m     \u001b[0mdata\u001b[0m\u001b[1;33m[\u001b[0m\u001b[1;34m'工作组'\u001b[0m\u001b[1;33m]\u001b[0m \u001b[1;33m=\u001b[0m \u001b[0mdata\u001b[0m\u001b[1;33m[\u001b[0m\u001b[1;34m'工作组'\u001b[0m\u001b[1;33m]\u001b[0m\u001b[1;33m.\u001b[0m\u001b[0mfillna\u001b[0m\u001b[1;33m(\u001b[0m\u001b[1;34m'unknow'\u001b[0m\u001b[1;33m)\u001b[0m\u001b[1;33m\u001b[0m\u001b[1;33m\u001b[0m\u001b[0m\n",
      "\u001b[1;32m~\\Miniconda3\\envs\\siming\\lib\\site-packages\\pandas\\core\\frame.py\u001b[0m in \u001b[0;36m__getitem__\u001b[1;34m(self, key)\u001b[0m\n\u001b[0;32m   3453\u001b[0m             \u001b[1;32mif\u001b[0m \u001b[0mself\u001b[0m\u001b[1;33m.\u001b[0m\u001b[0mcolumns\u001b[0m\u001b[1;33m.\u001b[0m\u001b[0mnlevels\u001b[0m \u001b[1;33m>\u001b[0m \u001b[1;36m1\u001b[0m\u001b[1;33m:\u001b[0m\u001b[1;33m\u001b[0m\u001b[1;33m\u001b[0m\u001b[0m\n\u001b[0;32m   3454\u001b[0m                 \u001b[1;32mreturn\u001b[0m \u001b[0mself\u001b[0m\u001b[1;33m.\u001b[0m\u001b[0m_getitem_multilevel\u001b[0m\u001b[1;33m(\u001b[0m\u001b[0mkey\u001b[0m\u001b[1;33m)\u001b[0m\u001b[1;33m\u001b[0m\u001b[1;33m\u001b[0m\u001b[0m\n\u001b[1;32m-> 3455\u001b[1;33m             \u001b[0mindexer\u001b[0m \u001b[1;33m=\u001b[0m \u001b[0mself\u001b[0m\u001b[1;33m.\u001b[0m\u001b[0mcolumns\u001b[0m\u001b[1;33m.\u001b[0m\u001b[0mget_loc\u001b[0m\u001b[1;33m(\u001b[0m\u001b[0mkey\u001b[0m\u001b[1;33m)\u001b[0m\u001b[1;33m\u001b[0m\u001b[1;33m\u001b[0m\u001b[0m\n\u001b[0m\u001b[0;32m   3456\u001b[0m             \u001b[1;32mif\u001b[0m \u001b[0mis_integer\u001b[0m\u001b[1;33m(\u001b[0m\u001b[0mindexer\u001b[0m\u001b[1;33m)\u001b[0m\u001b[1;33m:\u001b[0m\u001b[1;33m\u001b[0m\u001b[1;33m\u001b[0m\u001b[0m\n\u001b[0;32m   3457\u001b[0m                 \u001b[0mindexer\u001b[0m \u001b[1;33m=\u001b[0m \u001b[1;33m[\u001b[0m\u001b[0mindexer\u001b[0m\u001b[1;33m]\u001b[0m\u001b[1;33m\u001b[0m\u001b[1;33m\u001b[0m\u001b[0m\n",
      "\u001b[1;32m~\\Miniconda3\\envs\\siming\\lib\\site-packages\\pandas\\core\\indexes\\base.py\u001b[0m in \u001b[0;36mget_loc\u001b[1;34m(self, key, method, tolerance)\u001b[0m\n\u001b[0;32m   3361\u001b[0m                 \u001b[1;32mreturn\u001b[0m \u001b[0mself\u001b[0m\u001b[1;33m.\u001b[0m\u001b[0m_engine\u001b[0m\u001b[1;33m.\u001b[0m\u001b[0mget_loc\u001b[0m\u001b[1;33m(\u001b[0m\u001b[0mcasted_key\u001b[0m\u001b[1;33m)\u001b[0m\u001b[1;33m\u001b[0m\u001b[1;33m\u001b[0m\u001b[0m\n\u001b[0;32m   3362\u001b[0m             \u001b[1;32mexcept\u001b[0m \u001b[0mKeyError\u001b[0m \u001b[1;32mas\u001b[0m \u001b[0merr\u001b[0m\u001b[1;33m:\u001b[0m\u001b[1;33m\u001b[0m\u001b[1;33m\u001b[0m\u001b[0m\n\u001b[1;32m-> 3363\u001b[1;33m                 \u001b[1;32mraise\u001b[0m \u001b[0mKeyError\u001b[0m\u001b[1;33m(\u001b[0m\u001b[0mkey\u001b[0m\u001b[1;33m)\u001b[0m \u001b[1;32mfrom\u001b[0m \u001b[0merr\u001b[0m\u001b[1;33m\u001b[0m\u001b[1;33m\u001b[0m\u001b[0m\n\u001b[0m\u001b[0;32m   3364\u001b[0m \u001b[1;33m\u001b[0m\u001b[0m\n\u001b[0;32m   3365\u001b[0m         \u001b[1;32mif\u001b[0m \u001b[0mis_scalar\u001b[0m\u001b[1;33m(\u001b[0m\u001b[0mkey\u001b[0m\u001b[1;33m)\u001b[0m \u001b[1;32mand\u001b[0m \u001b[0misna\u001b[0m\u001b[1;33m(\u001b[0m\u001b[0mkey\u001b[0m\u001b[1;33m)\u001b[0m \u001b[1;32mand\u001b[0m \u001b[1;32mnot\u001b[0m \u001b[0mself\u001b[0m\u001b[1;33m.\u001b[0m\u001b[0mhasnans\u001b[0m\u001b[1;33m:\u001b[0m\u001b[1;33m\u001b[0m\u001b[1;33m\u001b[0m\u001b[0m\n",
      "\u001b[1;31mKeyError\u001b[0m: '开始日期'"
     ]
    }
   ],
   "source": [
    "def plot_data(riqi):\n",
    "    data = coach[coach['开始日期'] == riqi][['姓名', '工作组', '直属上级', '任职时间', '职位',\\\n",
    "    'sprm', 'SPRM_total_of_day', 'work_hour_in_min',\n",
    "    'work_hour_in_hour', 'sprm_perhour']].drop_duplicates()\n",
    "    data['工作组'] = data['工作组'].fillna('unknow')\n",
    "    data['工作组'] = data['工作组'].fillna('unknow')\n",
    "\n",
    "    return data\n",
    "def plot_(riqi):\n",
    "    fig2 = px.scatter(\n",
    "        data_frame = plot_data(riqi), x = '姓名', y= 'sprm_perhour', hover_data=['工作组' ],\n",
    "        size = 'work_hour_in_hour', color = '工作组', \n",
    "        # facet_col = '开始日期', \n",
    "        title= \"报告日期\" + riqi)  \n",
    "    # hover_data=  ['account_name_en'] , \n",
    "\n",
    "\n",
    "    # fig2.add_hline(y = line_20, line_width=3, line_dash=\"dash\", line_color=\"black\", opacity = .4,\\\n",
    "    #     annotation_text=\"2020 <br> weighted mean profit_rate <br>, %s\" %line_20 , \n",
    "    #     annotation_position=\"top right\", annotation_opacity = .4, col = 1)\n",
    "    # fig2.add_hline(y = line_21, line_width=3, line_dash=\"dash\", line_color=\"black\", opacity = .4,\\\n",
    "    #     annotation_text=\"2021 <br> weighted mean profit_rate <br>, %s\" %line_21 , \n",
    "    #     annotation_position=\"top right\", annotation_opacity = .4, col = 2)\n",
    "\n",
    "    return fig2\n",
    "\n",
    "plot_('2021-11-03')"
   ]
  },
  {
   "cell_type": "code",
   "execution_count": 283,
   "metadata": {},
   "outputs": [],
   "source": [
    "# SELECT  * FROM dm_dsc_smart.dwd_task\n",
    "# where substr(station_name, 1,4) = 'COAC'\n",
    "# and work_group_id != 0 and work_group_name != ''\n",
    "# and inc_day = '20211127'\n",
    " "
   ]
  },
  {
   "cell_type": "code",
   "execution_count": 525,
   "metadata": {},
   "outputs": [],
   "source": []
  },
  {
   "cell_type": "code",
   "execution_count": 534,
   "metadata": {},
   "outputs": [],
   "source": [
    "# coach = coach.dropna(how = 'all', axis = 1)\n",
    "    # time_convert()\n",
    "def time_convert(col):\n",
    "    coach[col] = coach[col].astype(int)\n",
    "    coach[col] = [datetime.fromtimestamp(i).strftime('%Y-%m-%d %H:%M:%S') for i in coach[col]]\n",
    "    return coach\n",
    "for i in ['start_time', 'end_time', 'hire_time', 'update_time']:\n",
    "    time_convert(i)\n",
    "coach['start_time'] = pd.to_datetime(coach['start_time'])\n",
    "coach['end_time']   = pd.to_datetime(coach['end_time'])\n",
    "coach['sprm'] = (60/coach['work_content_refer']).replace([np.inf, -np.inf], 0)\n",
    "\n",
    "\n",
    "# wh = coach.groupby(['worker_name','start_date']).agg(\n",
    "#         {\n",
    "#             'start_time': 'min',\n",
    "#             'end_time': 'max',\n",
    "#             'sprm': 'sum',\n",
    "#         }\n",
    "#     ).reset_index()\n",
    "# wh['work_hour'] = wh['结束时间'] - wh['开始时间']\n",
    "# wh['work_hour_in_min']  = [i.total_seconds()/60 for i in wh['work_hour']]\n",
    "# wh['work_hour_in_hour'] = [i.total_seconds()/3600 for i in wh['work_hour']]\n",
    "# wh = wh.drop(['结束时间','开始时间', 'work_hour'], axis = 1).rename({'sprm':'SPRM_total_of_day'}, axis =1)\n",
    "# coach = coach.merge(wh, on = ['姓名', '开始日期'], how = 'inner')"
   ]
  },
  {
   "cell_type": "code",
   "execution_count": 541,
   "metadata": {},
   "outputs": [
    {
     "data": {
      "text/html": [
       "<div>\n",
       "<style scoped>\n",
       "    .dataframe tbody tr th:only-of-type {\n",
       "        vertical-align: middle;\n",
       "    }\n",
       "\n",
       "    .dataframe tbody tr th {\n",
       "        vertical-align: top;\n",
       "    }\n",
       "\n",
       "    .dataframe thead th {\n",
       "        text-align: right;\n",
       "    }\n",
       "</style>\n",
       "<table border=\"1\" class=\"dataframe\">\n",
       "  <thead>\n",
       "    <tr style=\"text-align: right;\">\n",
       "      <th></th>\n",
       "      <th>station_name</th>\n",
       "      <th>worker_name</th>\n",
       "      <th>work_group_name</th>\n",
       "      <th>up_worker_name</th>\n",
       "      <th>hire_time</th>\n",
       "      <th>worker_post_name</th>\n",
       "      <th>worker_level_name</th>\n",
       "      <th>work_num</th>\n",
       "      <th>start_time</th>\n",
       "      <th>end_time</th>\n",
       "      <th>...</th>\n",
       "      <th>min_operate_volume</th>\n",
       "      <th>work_content</th>\n",
       "      <th>work_content_refer</th>\n",
       "      <th>work_content_is_measure</th>\n",
       "      <th>start_date</th>\n",
       "      <th>end_date</th>\n",
       "      <th>report_date</th>\n",
       "      <th>create_time</th>\n",
       "      <th>update_time</th>\n",
       "      <th>sprm</th>\n",
       "    </tr>\n",
       "  </thead>\n",
       "  <tbody>\n",
       "    <tr>\n",
       "      <th>4052</th>\n",
       "      <td>COACH SHA WGQ WHS</td>\n",
       "      <td>孙孟孟</td>\n",
       "      <td>NaN</td>\n",
       "      <td>Michelle Wu</td>\n",
       "      <td>1970-01-01 08:00:00</td>\n",
       "      <td>操作员</td>\n",
       "      <td>操作员</td>\n",
       "      <td>0.0</td>\n",
       "      <td>2021-11-27 06:25:02</td>\n",
       "      <td>2021-11-27 06:25:13</td>\n",
       "      <td>...</td>\n",
       "      <td>0.0</td>\n",
       "      <td>叉车安全检查</td>\n",
       "      <td>0</td>\n",
       "      <td>0</td>\n",
       "      <td>2021-11-27</td>\n",
       "      <td>2021-11-27</td>\n",
       "      <td>2021-11-27</td>\n",
       "      <td>1638231191</td>\n",
       "      <td>2021-11-30 08:13:11</td>\n",
       "      <td>0.0</td>\n",
       "    </tr>\n",
       "    <tr>\n",
       "      <th>4053</th>\n",
       "      <td>COACH SHA WGQ WHS</td>\n",
       "      <td>孙孟孟</td>\n",
       "      <td>NaN</td>\n",
       "      <td>Michelle Wu</td>\n",
       "      <td>1970-01-01 08:00:00</td>\n",
       "      <td>操作员</td>\n",
       "      <td>操作员</td>\n",
       "      <td>0.0</td>\n",
       "      <td>2021-11-27 06:25:13</td>\n",
       "      <td>2021-11-27 15:25:02</td>\n",
       "      <td>...</td>\n",
       "      <td>0.0</td>\n",
       "      <td>无效时间</td>\n",
       "      <td>0</td>\n",
       "      <td>0</td>\n",
       "      <td>2021-11-27</td>\n",
       "      <td>2021-11-27</td>\n",
       "      <td>2021-11-27</td>\n",
       "      <td>1638231191</td>\n",
       "      <td>2021-11-30 08:13:11</td>\n",
       "      <td>0.0</td>\n",
       "    </tr>\n",
       "  </tbody>\n",
       "</table>\n",
       "<p>2 rows × 29 columns</p>\n",
       "</div>"
      ],
      "text/plain": [
       "           station_name worker_name work_group_name up_worker_name  \\\n",
       "4052  COACH SHA WGQ WHS         孙孟孟             NaN    Michelle Wu   \n",
       "4053  COACH SHA WGQ WHS         孙孟孟             NaN    Michelle Wu   \n",
       "\n",
       "                hire_time worker_post_name worker_level_name  work_num  \\\n",
       "4052  1970-01-01 08:00:00              操作员               操作员       0.0   \n",
       "4053  1970-01-01 08:00:00              操作员               操作员       0.0   \n",
       "\n",
       "              start_time            end_time  ...  min_operate_volume  \\\n",
       "4052 2021-11-27 06:25:02 2021-11-27 06:25:13  ...                 0.0   \n",
       "4053 2021-11-27 06:25:13 2021-11-27 15:25:02  ...                 0.0   \n",
       "\n",
       "      work_content  work_content_refer work_content_is_measure  start_date  \\\n",
       "4052        叉车安全检查                   0                       0  2021-11-27   \n",
       "4053          无效时间                   0                       0  2021-11-27   \n",
       "\n",
       "        end_date  report_date  create_time          update_time  sprm  \n",
       "4052  2021-11-27   2021-11-27   1638231191  2021-11-30 08:13:11   0.0  \n",
       "4053  2021-11-27   2021-11-27   1638231191  2021-11-30 08:13:11   0.0  \n",
       "\n",
       "[2 rows x 29 columns]"
      ]
     },
     "execution_count": 541,
     "metadata": {},
     "output_type": "execute_result"
    }
   ],
   "source": [
    "coach[coach[['duration',\n",
    "    'adjustment_duration', 'adjusted_duration', ]].sum(axis = 1) != 0]"
   ]
  },
  {
   "cell_type": "code",
   "execution_count": 511,
   "metadata": {},
   "outputs": [],
   "source": [
    "# # coach= coach.drop(['dwd_task_id', 'station_id', 'work_turn_id', 'raw_data'], axis  =1)\n",
    "\n",
    "# coach['work_content'].value_counts()\n",
    "# coach['work_content_refer'].value_counts()\n",
    "# coach"
   ]
  },
  {
   "cell_type": "code",
   "execution_count": 477,
   "metadata": {},
   "outputs": [],
   "source": [
    "# %%time\n",
    "# df = pd.DataFrame()\n",
    "# for i in np.arange(coach.shape[0]):\n",
    "#     df = pd.concat([pd.DataFrame.from_dict(json.loads(coach['raw_data'][i]), orient=\"index\" ).T, df], axis = 0)"
   ]
  },
  {
   "cell_type": "code",
   "execution_count": 698,
   "metadata": {},
   "outputs": [],
   "source": [
    "# coach[coach['start_date'] == '2021-11-23'] \n",
    "# coach"
   ]
  },
  {
   "cell_type": "code",
   "execution_count": 663,
   "metadata": {},
   "outputs": [],
   "source": [
    "def plot0_date(date, col):\n",
    "    # sns.histplot(\n",
    "    return coach[coach['start_date'] == date][col].value_counts()"
   ]
  },
  {
   "cell_type": "code",
   "execution_count": 673,
   "metadata": {},
   "outputs": [
    {
     "data": {
      "text/plain": [
       "0      5614\n",
       "360     786\n",
       "15      143\n",
       "Name: work_content_refer, dtype: int64"
      ]
     },
     "execution_count": 673,
     "metadata": {},
     "output_type": "execute_result"
    }
   ],
   "source": [
    "plot0_date('2021-11-28', 'work_content_refer')\n",
    "# pd.set_option(\"display.max_rows\", 15, \"display.max_columns\", None)\n",
    "# coach.head()"
   ]
  },
  {
   "cell_type": "code",
   "execution_count": 254,
   "metadata": {},
   "outputs": [],
   "source": [
    "coach = pd.read_csv('./data/coach1129_1202.csv', sep = '\\001')\n",
    "coach = coach.dropna(how = 'all', axis = 1)\n",
    "coach.columns = [re.sub('\\w+\\.', '', i) for i in list(coach.columns)]\n",
    "coach = coach.dropna(how = 'all', axis = 1)"
   ]
  },
  {
   "cell_type": "code",
   "execution_count": 188,
   "metadata": {},
   "outputs": [],
   "source": [
    "# coach.to_csv('./data/coach_cleaned_drop_0.csv', encoding = 'utf_8_sig')"
   ]
  },
  {
   "cell_type": "code",
   "execution_count": 282,
   "metadata": {},
   "outputs": [],
   "source": [
    "def data_prepare(coach):\n",
    "\n",
    "    \"\"\"\n",
    "    time unix convert, \n",
    "    转换后标准时长换算成秒,\n",
    "    sprm 计算.\n",
    "    工作在勤时间\n",
    "    \"\"\"\n",
    "    coach = pd.read_csv('./data/coach1129_1202.csv', sep = '\\001')\n",
    "    coach = coach.dropna(how = 'all', axis = 1)\n",
    "    coach.columns = [re.sub('\\w+\\.', '', i) for i in list(coach.columns)]\n",
    "    # coach = coach.dropna(how = 'all', axis = 1)\n",
    "    # coach = coach.drop('raw_data', axis = 1)\n",
    "    # time_convert()\n",
    "    def time_convert(col):\n",
    "        coach[col] = coach[col].astype(int)\n",
    "        coach[col] = [datetime.fromtimestamp(i).strftime('%Y-%m-%d %H:%M:%S') for i in coach[col]]\n",
    "        return coach\n",
    "    for i in ['start_time', 'end_time', 'hire_time']:\n",
    "        time_convert(i)\n",
    "    coach['start_time'] = pd.to_datetime(coach['start_time'])\n",
    "    coach['end_time']   = pd.to_datetime(coach['end_time'])\n",
    "    # coach['duration'] =  coach['end_time'] - coach['start_time']\n",
    "    coach = coach[~coach['work_content'].isna()]\n",
    "    coach = coach[coach['work_content'] != '无效时间']\n",
    "    coach = coach[coach['worker_post_name'] != '操作经理']\n",
    "    # sprm calculation\n",
    "    coach['sprm'] = (60/coach['work_content_refer']).replace([np.inf, -np.inf], 0)\n",
    "   \n",
    "    wh = coach.groupby(['worker_name','inc_day']).agg(\n",
    "        {\n",
    "            'start_time': 'min',\n",
    "            'end_time': 'max',\n",
    "            'sprm': 'sum',\n",
    "        }\n",
    "    ).reset_index()\n",
    "    \n",
    "    wh['work_hour'] = wh['end_time'] - wh['start_time']\n",
    "    wh['work_hour_in_min']  = [i.total_seconds()/60 for i in wh['work_hour']]\n",
    "    wh['work_hour_in_hour'] = [i.total_seconds()/3600 for i in wh['work_hour']]\n",
    "    wh = wh.drop(['end_time','start_time', 'work_hour'], axis = 1).rename({'sprm':'SPRM_total_of_day'}, axis =1)\n",
    "    coach = coach.merge(wh, on = ['worker_name', 'inc_day'], how = 'inner')\n",
    "    # coach = coach[coach['duration'] != '0']\n",
    "    coach = coach[coach['sprm'] != 0]\n",
    "    coach['sprm_perhour'] =  coach['SPRM_total_of_day'] / coach['work_hour_in_hour']\n",
    "    \"\"\"\n",
    "    计算转换后时间长度, 换算成 \n",
    "    秒\n",
    "    \"\"\"\n",
    "    # coach = pd.concat([coach, pd.DataFrame(list(coach['adjusted_duration'].str.split(':')))], axis =1) \n",
    "    # coach = coach[coach[[0,1,2]].astype(int).sum(axis = 1) != 0]\n",
    "    # coach[[0,1,2]] = coach[[0,1,2]].astype(int)\n",
    "    # coach['time_len'] = coach[0]*3600 + coach[1]*60 + coach[2]\n",
    "    # coach = coach.drop([0,1,2], axis = 1) \n",
    "    \n",
    "    return coach\n",
    "coach = data_prepare(coach)\n"
   ]
  },
  {
   "cell_type": "code",
   "execution_count": null,
   "metadata": {},
   "outputs": [],
   "source": []
  },
  {
   "cell_type": "code",
   "execution_count": null,
   "metadata": {},
   "outputs": [],
   "source": []
  },
  {
   "cell_type": "code",
   "execution_count": 183,
   "metadata": {},
   "outputs": [],
   "source": [
    "coach = coach[coach['work_content'] != '无效时间']\n",
    "coach = coach[coach['worker_post_name'] != '操作经理']"
   ]
  },
  {
   "cell_type": "code",
   "execution_count": 184,
   "metadata": {},
   "outputs": [],
   "source": [
    "coach = coach.sort_values(['worker_name', 'start_time', 'end_time'])\n",
    "shift = coach[['worker_name', 'start_time', 'end_time']]\n",
    "shift = shift.groupby(['worker_name']).shift(1)\n",
    "shift.columns = ['start_shift1', 'end_shift1']"
   ]
  },
  {
   "cell_type": "code",
   "execution_count": 185,
   "metadata": {},
   "outputs": [],
   "source": [
    "test = pd.concat([coach, shift], axis = 1)\n",
    "test['gap'] = test['start_time'] - test['end_shift1'] "
   ]
  },
  {
   "cell_type": "code",
   "execution_count": 186,
   "metadata": {},
   "outputs": [
    {
     "data": {
      "text/html": [
       "<div>\n",
       "<style scoped>\n",
       "    .dataframe tbody tr th:only-of-type {\n",
       "        vertical-align: middle;\n",
       "    }\n",
       "\n",
       "    .dataframe tbody tr th {\n",
       "        vertical-align: top;\n",
       "    }\n",
       "\n",
       "    .dataframe thead th {\n",
       "        text-align: right;\n",
       "    }\n",
       "</style>\n",
       "<table border=\"1\" class=\"dataframe\">\n",
       "  <thead>\n",
       "    <tr style=\"text-align: right;\">\n",
       "      <th></th>\n",
       "      <th>dwd_task_id</th>\n",
       "      <th>account_id</th>\n",
       "      <th>account_name</th>\n",
       "      <th>station_id</th>\n",
       "      <th>station_code</th>\n",
       "      <th>station_name</th>\n",
       "      <th>worker_id</th>\n",
       "      <th>worker_name</th>\n",
       "      <th>work_turn_id</th>\n",
       "      <th>work_turn_name</th>\n",
       "      <th>work_group_id</th>\n",
       "      <th>work_group_name</th>\n",
       "      <th>up_worker_id</th>\n",
       "      <th>up_worker_name</th>\n",
       "      <th>hire_time</th>\n",
       "      <th>worker_post_id</th>\n",
       "      <th>worker_post_name</th>\n",
       "      <th>worker_level_id</th>\n",
       "      <th>worker_level_type</th>\n",
       "      <th>worker_level_name</th>\n",
       "      <th>work_num</th>\n",
       "      <th>start_time</th>\n",
       "      <th>end_time</th>\n",
       "      <th>duration</th>\n",
       "      <th>adjustment_duration</th>\n",
       "      <th>adjusted_duration</th>\n",
       "      <th>sku_no</th>\n",
       "      <th>min_package_quantity</th>\n",
       "      <th>min_operate_length</th>\n",
       "      <th>min_operate_width</th>\n",
       "      <th>min_operate_height</th>\n",
       "      <th>min_operate_weight</th>\n",
       "      <th>min_operate_volume</th>\n",
       "      <th>flow</th>\n",
       "      <th>action</th>\n",
       "      <th>work_content_id</th>\n",
       "      <th>work_content</th>\n",
       "      <th>work_content_type</th>\n",
       "      <th>work_content_is_measure</th>\n",
       "      <th>work_content_refer</th>\n",
       "      <th>productive_time</th>\n",
       "      <th>work_content_unit</th>\n",
       "      <th>start_date</th>\n",
       "      <th>end_date</th>\n",
       "      <th>report_date</th>\n",
       "      <th>source</th>\n",
       "      <th>updater_id</th>\n",
       "      <th>is_cancel</th>\n",
       "      <th>efficiency</th>\n",
       "      <th>orig_task_type</th>\n",
       "      <th>orig_user_id</th>\n",
       "      <th>create_time</th>\n",
       "      <th>update_time</th>\n",
       "      <th>pallet_operation</th>\n",
       "      <th>inc_day</th>\n",
       "      <th>sys</th>\n",
       "      <th>sprm</th>\n",
       "      <th>start_shift1</th>\n",
       "      <th>end_shift1</th>\n",
       "      <th>gap</th>\n",
       "    </tr>\n",
       "  </thead>\n",
       "  <tbody>\n",
       "    <tr>\n",
       "      <th>35812</th>\n",
       "      <td>10005659-19771-0-20211126-1637912222-2</td>\n",
       "      <td>10469768</td>\n",
       "      <td>Zhenhao Yang</td>\n",
       "      <td>10005659</td>\n",
       "      <td>NaN</td>\n",
       "      <td>COACH SHA WGQ WHS</td>\n",
       "      <td>19771</td>\n",
       "      <td>Zhenhao Yang</td>\n",
       "      <td>0</td>\n",
       "      <td>NaN</td>\n",
       "      <td>0</td>\n",
       "      <td>NaN</td>\n",
       "      <td>19768</td>\n",
       "      <td>Michelle Wu</td>\n",
       "      <td>1970-01-01 08:00:00</td>\n",
       "      <td>10109369</td>\n",
       "      <td>OE协调员</td>\n",
       "      <td>10039149</td>\n",
       "      <td>30000001</td>\n",
       "      <td>操作主管</td>\n",
       "      <td>0.0</td>\n",
       "      <td>2021-11-27 00:37:02</td>\n",
       "      <td>2021-11-27 00:37:02</td>\n",
       "      <td>0</td>\n",
       "      <td>0</td>\n",
       "      <td>0</td>\n",
       "      <td>NaN</td>\n",
       "      <td>0.0</td>\n",
       "      <td>0.0</td>\n",
       "      <td>0.0</td>\n",
       "      <td>0.0</td>\n",
       "      <td>0.0</td>\n",
       "      <td>0.0</td>\n",
       "      <td>NaN</td>\n",
       "      <td>NaN</td>\n",
       "      <td>10121891</td>\n",
       "      <td>下班</td>\n",
       "      <td>4</td>\n",
       "      <td>0</td>\n",
       "      <td>0</td>\n",
       "      <td>NaN</td>\n",
       "      <td>NaN</td>\n",
       "      <td>2021-11-27</td>\n",
       "      <td>2021-11-27</td>\n",
       "      <td>2021/11-27</td>\n",
       "      <td>7</td>\n",
       "      <td>0</td>\n",
       "      <td>0</td>\n",
       "      <td>0.0</td>\n",
       "      <td>NaN</td>\n",
       "      <td>NaN</td>\n",
       "      <td>1638300996</td>\n",
       "      <td>2021-12-01 03:36:36</td>\n",
       "      <td>0</td>\n",
       "      <td>20211126</td>\n",
       "      <td>ptp</td>\n",
       "      <td>0.0</td>\n",
       "      <td>2021-11-26 15:37:02</td>\n",
       "      <td>2021-11-26 15:37:16</td>\n",
       "      <td>0 days 08:59:46</td>\n",
       "    </tr>\n",
       "    <tr>\n",
       "      <th>21221</th>\n",
       "      <td>10005659-19774-10006648-20211122-1637541282-2</td>\n",
       "      <td>10469982</td>\n",
       "      <td>丁叶</td>\n",
       "      <td>10005659</td>\n",
       "      <td>NaN</td>\n",
       "      <td>COACH SHA WGQ WHS</td>\n",
       "      <td>19774</td>\n",
       "      <td>丁叶</td>\n",
       "      <td>10006648</td>\n",
       "      <td>白班</td>\n",
       "      <td>0</td>\n",
       "      <td>NaN</td>\n",
       "      <td>19770</td>\n",
       "      <td>Carlo Dai</td>\n",
       "      <td>1970-01-01 08:00:00</td>\n",
       "      <td>10210780</td>\n",
       "      <td>组长</td>\n",
       "      <td>10039079</td>\n",
       "      <td>20000001</td>\n",
       "      <td>组长</td>\n",
       "      <td>0.0</td>\n",
       "      <td>2021-11-22 17:30:00</td>\n",
       "      <td>2021-11-22 17:30:00</td>\n",
       "      <td>0</td>\n",
       "      <td>0</td>\n",
       "      <td>0</td>\n",
       "      <td>NaN</td>\n",
       "      <td>0.0</td>\n",
       "      <td>0.0</td>\n",
       "      <td>0.0</td>\n",
       "      <td>0.0</td>\n",
       "      <td>0.0</td>\n",
       "      <td>0.0</td>\n",
       "      <td>NaN</td>\n",
       "      <td>NaN</td>\n",
       "      <td>10121891</td>\n",
       "      <td>下班</td>\n",
       "      <td>4</td>\n",
       "      <td>0</td>\n",
       "      <td>0</td>\n",
       "      <td>NaN</td>\n",
       "      <td>NaN</td>\n",
       "      <td>2021-11-22</td>\n",
       "      <td>2021-11-22</td>\n",
       "      <td>2021/11-22</td>\n",
       "      <td>7</td>\n",
       "      <td>0</td>\n",
       "      <td>0</td>\n",
       "      <td>0.0</td>\n",
       "      <td>NaN</td>\n",
       "      <td>NaN</td>\n",
       "      <td>1638192585</td>\n",
       "      <td>2021-11-29 21:29:45</td>\n",
       "      <td>0</td>\n",
       "      <td>20211122</td>\n",
       "      <td>ptp</td>\n",
       "      <td>0.0</td>\n",
       "      <td>2021-11-22 08:34:42</td>\n",
       "      <td>2021-11-22 08:34:51</td>\n",
       "      <td>0 days 08:55:09</td>\n",
       "    </tr>\n",
       "    <tr>\n",
       "      <th>45809</th>\n",
       "      <td>wmos-wmos-264015431</td>\n",
       "      <td>10469982</td>\n",
       "      <td>丁叶</td>\n",
       "      <td>10005659</td>\n",
       "      <td>CN-085</td>\n",
       "      <td>COACH SHA WGQ WHS</td>\n",
       "      <td>19774</td>\n",
       "      <td>丁叶</td>\n",
       "      <td>0</td>\n",
       "      <td>NaN</td>\n",
       "      <td>10025988</td>\n",
       "      <td>收货组</td>\n",
       "      <td>19770</td>\n",
       "      <td>Carlo Dai</td>\n",
       "      <td>2012-11-20 00:00:00</td>\n",
       "      <td>10210780</td>\n",
       "      <td>组长</td>\n",
       "      <td>10039079</td>\n",
       "      <td>20000001</td>\n",
       "      <td>组长</td>\n",
       "      <td>1.0</td>\n",
       "      <td>2021-11-27 09:14:02</td>\n",
       "      <td>2021-11-27 09:15:10</td>\n",
       "      <td>0</td>\n",
       "      <td>0</td>\n",
       "      <td>0</td>\n",
       "      <td>79468 B4PE2</td>\n",
       "      <td>1.0</td>\n",
       "      <td>440.0</td>\n",
       "      <td>320.0</td>\n",
       "      <td>150.0</td>\n",
       "      <td>1600.0</td>\n",
       "      <td>21120000.0</td>\n",
       "      <td>NaN</td>\n",
       "      <td>NaN</td>\n",
       "      <td>0</td>\n",
       "      <td>NaN</td>\n",
       "      <td>0</td>\n",
       "      <td>0</td>\n",
       "      <td>0</td>\n",
       "      <td>NaN</td>\n",
       "      <td>NaN</td>\n",
       "      <td>2021-11-27</td>\n",
       "      <td>2021-11-27</td>\n",
       "      <td>2021-11-27</td>\n",
       "      <td>6</td>\n",
       "      <td>0</td>\n",
       "      <td>0</td>\n",
       "      <td>0.0</td>\n",
       "      <td>600.0</td>\n",
       "      <td>DSCSHAP2369</td>\n",
       "      <td>1638300996</td>\n",
       "      <td>2021-12-01 03:36:36</td>\n",
       "      <td>0</td>\n",
       "      <td>20211127</td>\n",
       "      <td>wms</td>\n",
       "      <td>0.0</td>\n",
       "      <td>2021-11-22 17:30:00</td>\n",
       "      <td>2021-11-22 17:30:00</td>\n",
       "      <td>4 days 15:44:02</td>\n",
       "    </tr>\n",
       "    <tr>\n",
       "      <th>49705</th>\n",
       "      <td>wmos-wmos-264015724</td>\n",
       "      <td>10469982</td>\n",
       "      <td>丁叶</td>\n",
       "      <td>10005659</td>\n",
       "      <td>CN-085</td>\n",
       "      <td>COACH SHA WGQ WHS</td>\n",
       "      <td>19774</td>\n",
       "      <td>丁叶</td>\n",
       "      <td>0</td>\n",
       "      <td>NaN</td>\n",
       "      <td>10025988</td>\n",
       "      <td>收货组</td>\n",
       "      <td>19770</td>\n",
       "      <td>Carlo Dai</td>\n",
       "      <td>2012-11-20 00:00:00</td>\n",
       "      <td>10210780</td>\n",
       "      <td>组长</td>\n",
       "      <td>10039079</td>\n",
       "      <td>20000001</td>\n",
       "      <td>组长</td>\n",
       "      <td>3.0</td>\n",
       "      <td>2021-11-27 09:15:14</td>\n",
       "      <td>2021-11-27 09:15:34</td>\n",
       "      <td>0</td>\n",
       "      <td>0</td>\n",
       "      <td>0</td>\n",
       "      <td>76128 B4/BK</td>\n",
       "      <td>0.0</td>\n",
       "      <td>0.0</td>\n",
       "      <td>0.0</td>\n",
       "      <td>0.0</td>\n",
       "      <td>0.0</td>\n",
       "      <td>0.0</td>\n",
       "      <td>NaN</td>\n",
       "      <td>NaN</td>\n",
       "      <td>0</td>\n",
       "      <td>NaN</td>\n",
       "      <td>0</td>\n",
       "      <td>0</td>\n",
       "      <td>0</td>\n",
       "      <td>NaN</td>\n",
       "      <td>NaN</td>\n",
       "      <td>2021-11-27</td>\n",
       "      <td>2021-11-27</td>\n",
       "      <td>2021-11-27</td>\n",
       "      <td>6</td>\n",
       "      <td>0</td>\n",
       "      <td>0</td>\n",
       "      <td>0.0</td>\n",
       "      <td>600.0</td>\n",
       "      <td>DSCSHAP2369</td>\n",
       "      <td>1638300996</td>\n",
       "      <td>2021-12-01 03:36:36</td>\n",
       "      <td>0</td>\n",
       "      <td>20211127</td>\n",
       "      <td>wms</td>\n",
       "      <td>0.0</td>\n",
       "      <td>2021-11-27 09:14:02</td>\n",
       "      <td>2021-11-27 09:15:10</td>\n",
       "      <td>0 days 00:00:04</td>\n",
       "    </tr>\n",
       "    <tr>\n",
       "      <th>47356</th>\n",
       "      <td>wmos-wmos-264015997</td>\n",
       "      <td>10469982</td>\n",
       "      <td>丁叶</td>\n",
       "      <td>10005659</td>\n",
       "      <td>CN-085</td>\n",
       "      <td>COACH SHA WGQ WHS</td>\n",
       "      <td>19774</td>\n",
       "      <td>丁叶</td>\n",
       "      <td>0</td>\n",
       "      <td>NaN</td>\n",
       "      <td>10025988</td>\n",
       "      <td>收货组</td>\n",
       "      <td>19770</td>\n",
       "      <td>Carlo Dai</td>\n",
       "      <td>2012-11-20 00:00:00</td>\n",
       "      <td>10210780</td>\n",
       "      <td>组长</td>\n",
       "      <td>10039079</td>\n",
       "      <td>20000001</td>\n",
       "      <td>组长</td>\n",
       "      <td>2.0</td>\n",
       "      <td>2021-11-27 09:15:43</td>\n",
       "      <td>2021-11-27 09:16:03</td>\n",
       "      <td>0</td>\n",
       "      <td>0</td>\n",
       "      <td>0</td>\n",
       "      <td>2648  SVA47</td>\n",
       "      <td>0.0</td>\n",
       "      <td>0.0</td>\n",
       "      <td>0.0</td>\n",
       "      <td>0.0</td>\n",
       "      <td>0.0</td>\n",
       "      <td>0.0</td>\n",
       "      <td>NaN</td>\n",
       "      <td>NaN</td>\n",
       "      <td>0</td>\n",
       "      <td>NaN</td>\n",
       "      <td>0</td>\n",
       "      <td>0</td>\n",
       "      <td>0</td>\n",
       "      <td>NaN</td>\n",
       "      <td>NaN</td>\n",
       "      <td>2021-11-27</td>\n",
       "      <td>2021-11-27</td>\n",
       "      <td>2021-11-27</td>\n",
       "      <td>6</td>\n",
       "      <td>0</td>\n",
       "      <td>0</td>\n",
       "      <td>0.0</td>\n",
       "      <td>600.0</td>\n",
       "      <td>DSCSHAP2369</td>\n",
       "      <td>1638300996</td>\n",
       "      <td>2021-12-01 03:36:36</td>\n",
       "      <td>0</td>\n",
       "      <td>20211127</td>\n",
       "      <td>wms</td>\n",
       "      <td>0.0</td>\n",
       "      <td>2021-11-27 09:15:14</td>\n",
       "      <td>2021-11-27 09:15:34</td>\n",
       "      <td>0 days 00:00:09</td>\n",
       "    </tr>\n",
       "    <tr>\n",
       "      <th>...</th>\n",
       "      <td>...</td>\n",
       "      <td>...</td>\n",
       "      <td>...</td>\n",
       "      <td>...</td>\n",
       "      <td>...</td>\n",
       "      <td>...</td>\n",
       "      <td>...</td>\n",
       "      <td>...</td>\n",
       "      <td>...</td>\n",
       "      <td>...</td>\n",
       "      <td>...</td>\n",
       "      <td>...</td>\n",
       "      <td>...</td>\n",
       "      <td>...</td>\n",
       "      <td>...</td>\n",
       "      <td>...</td>\n",
       "      <td>...</td>\n",
       "      <td>...</td>\n",
       "      <td>...</td>\n",
       "      <td>...</td>\n",
       "      <td>...</td>\n",
       "      <td>...</td>\n",
       "      <td>...</td>\n",
       "      <td>...</td>\n",
       "      <td>...</td>\n",
       "      <td>...</td>\n",
       "      <td>...</td>\n",
       "      <td>...</td>\n",
       "      <td>...</td>\n",
       "      <td>...</td>\n",
       "      <td>...</td>\n",
       "      <td>...</td>\n",
       "      <td>...</td>\n",
       "      <td>...</td>\n",
       "      <td>...</td>\n",
       "      <td>...</td>\n",
       "      <td>...</td>\n",
       "      <td>...</td>\n",
       "      <td>...</td>\n",
       "      <td>...</td>\n",
       "      <td>...</td>\n",
       "      <td>...</td>\n",
       "      <td>...</td>\n",
       "      <td>...</td>\n",
       "      <td>...</td>\n",
       "      <td>...</td>\n",
       "      <td>...</td>\n",
       "      <td>...</td>\n",
       "      <td>...</td>\n",
       "      <td>...</td>\n",
       "      <td>...</td>\n",
       "      <td>...</td>\n",
       "      <td>...</td>\n",
       "      <td>...</td>\n",
       "      <td>...</td>\n",
       "      <td>...</td>\n",
       "      <td>...</td>\n",
       "      <td>...</td>\n",
       "      <td>...</td>\n",
       "      <td>...</td>\n",
       "    </tr>\n",
       "    <tr>\n",
       "      <th>30189</th>\n",
       "      <td>wmos-wmos-265515827</td>\n",
       "      <td>11018843</td>\n",
       "      <td>黄义林</td>\n",
       "      <td>10005659</td>\n",
       "      <td>CN-085</td>\n",
       "      <td>COACH SHA WGQ WHS</td>\n",
       "      <td>25611</td>\n",
       "      <td>黄义林</td>\n",
       "      <td>0</td>\n",
       "      <td>NaN</td>\n",
       "      <td>10025988</td>\n",
       "      <td>收货组</td>\n",
       "      <td>0</td>\n",
       "      <td>NaN</td>\n",
       "      <td>2021-03-04 00:00:00</td>\n",
       "      <td>10109295</td>\n",
       "      <td>操作员</td>\n",
       "      <td>10038968</td>\n",
       "      <td>10000001</td>\n",
       "      <td>操作员</td>\n",
       "      <td>25.0</td>\n",
       "      <td>2021-11-30 14:55:12</td>\n",
       "      <td>2021-11-30 14:55:42</td>\n",
       "      <td>0</td>\n",
       "      <td>0</td>\n",
       "      <td>0</td>\n",
       "      <td>C1569 IMBLK</td>\n",
       "      <td>1.0</td>\n",
       "      <td>290.0</td>\n",
       "      <td>190.0</td>\n",
       "      <td>80.0</td>\n",
       "      <td>630.0</td>\n",
       "      <td>4408000.0</td>\n",
       "      <td>NaN</td>\n",
       "      <td>NaN</td>\n",
       "      <td>0</td>\n",
       "      <td>NaN</td>\n",
       "      <td>0</td>\n",
       "      <td>0</td>\n",
       "      <td>0</td>\n",
       "      <td>NaN</td>\n",
       "      <td>NaN</td>\n",
       "      <td>2021-11-30</td>\n",
       "      <td>2021-11-30</td>\n",
       "      <td>2021-11-30</td>\n",
       "      <td>6</td>\n",
       "      <td>0</td>\n",
       "      <td>0</td>\n",
       "      <td>0.0</td>\n",
       "      <td>200.0</td>\n",
       "      <td>ADC026RF</td>\n",
       "      <td>1638300996</td>\n",
       "      <td>2021-12-01 03:36:36</td>\n",
       "      <td>0</td>\n",
       "      <td>20211130</td>\n",
       "      <td>wms</td>\n",
       "      <td>0.0</td>\n",
       "      <td>2021-11-30 14:42:00</td>\n",
       "      <td>2021-11-30 14:42:09</td>\n",
       "      <td>0 days 00:13:03</td>\n",
       "    </tr>\n",
       "    <tr>\n",
       "      <th>30191</th>\n",
       "      <td>wmos-wmos-265517351</td>\n",
       "      <td>11018843</td>\n",
       "      <td>黄义林</td>\n",
       "      <td>10005659</td>\n",
       "      <td>CN-085</td>\n",
       "      <td>COACH SHA WGQ WHS</td>\n",
       "      <td>25611</td>\n",
       "      <td>黄义林</td>\n",
       "      <td>0</td>\n",
       "      <td>NaN</td>\n",
       "      <td>10025988</td>\n",
       "      <td>收货组</td>\n",
       "      <td>0</td>\n",
       "      <td>NaN</td>\n",
       "      <td>2021-03-04 00:00:00</td>\n",
       "      <td>10109295</td>\n",
       "      <td>操作员</td>\n",
       "      <td>10038968</td>\n",
       "      <td>10000001</td>\n",
       "      <td>操作员</td>\n",
       "      <td>35.0</td>\n",
       "      <td>2021-11-30 14:56:53</td>\n",
       "      <td>2021-11-30 14:57:36</td>\n",
       "      <td>0</td>\n",
       "      <td>0</td>\n",
       "      <td>0</td>\n",
       "      <td>F67567SV/SY</td>\n",
       "      <td>0.0</td>\n",
       "      <td>0.0</td>\n",
       "      <td>0.0</td>\n",
       "      <td>0.0</td>\n",
       "      <td>0.0</td>\n",
       "      <td>0.0</td>\n",
       "      <td>NaN</td>\n",
       "      <td>NaN</td>\n",
       "      <td>0</td>\n",
       "      <td>NaN</td>\n",
       "      <td>0</td>\n",
       "      <td>0</td>\n",
       "      <td>0</td>\n",
       "      <td>NaN</td>\n",
       "      <td>NaN</td>\n",
       "      <td>2021-11-30</td>\n",
       "      <td>2021-11-30</td>\n",
       "      <td>2021-11-30</td>\n",
       "      <td>6</td>\n",
       "      <td>0</td>\n",
       "      <td>0</td>\n",
       "      <td>0.0</td>\n",
       "      <td>200.0</td>\n",
       "      <td>ADC026RF</td>\n",
       "      <td>1638300996</td>\n",
       "      <td>2021-12-01 03:36:36</td>\n",
       "      <td>0</td>\n",
       "      <td>20211130</td>\n",
       "      <td>wms</td>\n",
       "      <td>0.0</td>\n",
       "      <td>2021-11-30 14:55:12</td>\n",
       "      <td>2021-11-30 14:55:42</td>\n",
       "      <td>0 days 00:01:11</td>\n",
       "    </tr>\n",
       "    <tr>\n",
       "      <th>30193</th>\n",
       "      <td>wmos-wmos-265518783</td>\n",
       "      <td>11018843</td>\n",
       "      <td>黄义林</td>\n",
       "      <td>10005659</td>\n",
       "      <td>CN-085</td>\n",
       "      <td>COACH SHA WGQ WHS</td>\n",
       "      <td>25611</td>\n",
       "      <td>黄义林</td>\n",
       "      <td>0</td>\n",
       "      <td>NaN</td>\n",
       "      <td>10025988</td>\n",
       "      <td>收货组</td>\n",
       "      <td>0</td>\n",
       "      <td>NaN</td>\n",
       "      <td>2021-03-04 00:00:00</td>\n",
       "      <td>10109295</td>\n",
       "      <td>操作员</td>\n",
       "      <td>10038968</td>\n",
       "      <td>10000001</td>\n",
       "      <td>操作员</td>\n",
       "      <td>7.0</td>\n",
       "      <td>2021-11-30 14:59:40</td>\n",
       "      <td>2021-11-30 14:59:48</td>\n",
       "      <td>0</td>\n",
       "      <td>0</td>\n",
       "      <td>0</td>\n",
       "      <td>C1387 SVOT8</td>\n",
       "      <td>0.0</td>\n",
       "      <td>0.0</td>\n",
       "      <td>0.0</td>\n",
       "      <td>0.0</td>\n",
       "      <td>0.0</td>\n",
       "      <td>0.0</td>\n",
       "      <td>NaN</td>\n",
       "      <td>NaN</td>\n",
       "      <td>0</td>\n",
       "      <td>NaN</td>\n",
       "      <td>0</td>\n",
       "      <td>0</td>\n",
       "      <td>0</td>\n",
       "      <td>NaN</td>\n",
       "      <td>NaN</td>\n",
       "      <td>2021-11-30</td>\n",
       "      <td>2021-11-30</td>\n",
       "      <td>2021-11-30</td>\n",
       "      <td>6</td>\n",
       "      <td>0</td>\n",
       "      <td>0</td>\n",
       "      <td>0.0</td>\n",
       "      <td>200.0</td>\n",
       "      <td>ADC026RF</td>\n",
       "      <td>1638300996</td>\n",
       "      <td>2021-12-01 03:36:36</td>\n",
       "      <td>0</td>\n",
       "      <td>20211130</td>\n",
       "      <td>wms</td>\n",
       "      <td>0.0</td>\n",
       "      <td>2021-11-30 14:56:53</td>\n",
       "      <td>2021-11-30 14:57:36</td>\n",
       "      <td>0 days 00:02:04</td>\n",
       "    </tr>\n",
       "    <tr>\n",
       "      <th>30194</th>\n",
       "      <td>wmos-wmos-265522818</td>\n",
       "      <td>11018843</td>\n",
       "      <td>黄义林</td>\n",
       "      <td>10005659</td>\n",
       "      <td>CN-085</td>\n",
       "      <td>COACH SHA WGQ WHS</td>\n",
       "      <td>25611</td>\n",
       "      <td>黄义林</td>\n",
       "      <td>0</td>\n",
       "      <td>NaN</td>\n",
       "      <td>10025988</td>\n",
       "      <td>收货组</td>\n",
       "      <td>0</td>\n",
       "      <td>NaN</td>\n",
       "      <td>2021-03-04 00:00:00</td>\n",
       "      <td>10109295</td>\n",
       "      <td>操作员</td>\n",
       "      <td>10038968</td>\n",
       "      <td>10000001</td>\n",
       "      <td>操作员</td>\n",
       "      <td>8.0</td>\n",
       "      <td>2021-11-30 15:03:28</td>\n",
       "      <td>2021-11-30 15:03:36</td>\n",
       "      <td>0</td>\n",
       "      <td>0</td>\n",
       "      <td>0</td>\n",
       "      <td>C1558 IMBLK</td>\n",
       "      <td>1.0</td>\n",
       "      <td>280.0</td>\n",
       "      <td>300.0</td>\n",
       "      <td>100.0</td>\n",
       "      <td>730.0</td>\n",
       "      <td>8400000.0</td>\n",
       "      <td>NaN</td>\n",
       "      <td>NaN</td>\n",
       "      <td>0</td>\n",
       "      <td>NaN</td>\n",
       "      <td>0</td>\n",
       "      <td>0</td>\n",
       "      <td>0</td>\n",
       "      <td>NaN</td>\n",
       "      <td>NaN</td>\n",
       "      <td>2021-11-30</td>\n",
       "      <td>2021-11-30</td>\n",
       "      <td>2021-11-30</td>\n",
       "      <td>6</td>\n",
       "      <td>0</td>\n",
       "      <td>0</td>\n",
       "      <td>0.0</td>\n",
       "      <td>200.0</td>\n",
       "      <td>ADC026RF</td>\n",
       "      <td>1638300996</td>\n",
       "      <td>2021-12-01 03:36:36</td>\n",
       "      <td>0</td>\n",
       "      <td>20211130</td>\n",
       "      <td>wms</td>\n",
       "      <td>0.0</td>\n",
       "      <td>2021-11-30 14:59:40</td>\n",
       "      <td>2021-11-30 14:59:48</td>\n",
       "      <td>0 days 00:03:40</td>\n",
       "    </tr>\n",
       "    <tr>\n",
       "      <th>35878</th>\n",
       "      <td>10005659-25611-10006648-20211130-1638247964-2</td>\n",
       "      <td>11018843</td>\n",
       "      <td>黄义林</td>\n",
       "      <td>10005659</td>\n",
       "      <td>CN-085</td>\n",
       "      <td>COACH SHA WGQ WHS</td>\n",
       "      <td>25611</td>\n",
       "      <td>黄义林</td>\n",
       "      <td>10006648</td>\n",
       "      <td>白班</td>\n",
       "      <td>10025988</td>\n",
       "      <td>收货组</td>\n",
       "      <td>0</td>\n",
       "      <td>NaN</td>\n",
       "      <td>2021-03-04 00:00:00</td>\n",
       "      <td>10109295</td>\n",
       "      <td>操作员</td>\n",
       "      <td>10038968</td>\n",
       "      <td>10000001</td>\n",
       "      <td>操作员</td>\n",
       "      <td>0.0</td>\n",
       "      <td>2021-11-30 17:30:00</td>\n",
       "      <td>2021-11-30 17:30:00</td>\n",
       "      <td>0</td>\n",
       "      <td>0</td>\n",
       "      <td>0</td>\n",
       "      <td>NaN</td>\n",
       "      <td>0.0</td>\n",
       "      <td>0.0</td>\n",
       "      <td>0.0</td>\n",
       "      <td>0.0</td>\n",
       "      <td>0.0</td>\n",
       "      <td>0.0</td>\n",
       "      <td>NaN</td>\n",
       "      <td>NaN</td>\n",
       "      <td>10121891</td>\n",
       "      <td>下班</td>\n",
       "      <td>4</td>\n",
       "      <td>0</td>\n",
       "      <td>0</td>\n",
       "      <td>NaN</td>\n",
       "      <td>NaN</td>\n",
       "      <td>2021-11-30</td>\n",
       "      <td>2021-11-30</td>\n",
       "      <td>2021/11-30</td>\n",
       "      <td>7</td>\n",
       "      <td>0</td>\n",
       "      <td>0</td>\n",
       "      <td>0.0</td>\n",
       "      <td>NaN</td>\n",
       "      <td>NaN</td>\n",
       "      <td>1638300996</td>\n",
       "      <td>2021-12-01 03:36:36</td>\n",
       "      <td>0</td>\n",
       "      <td>20211130</td>\n",
       "      <td>ptp</td>\n",
       "      <td>0.0</td>\n",
       "      <td>2021-11-30 15:03:28</td>\n",
       "      <td>2021-11-30 15:03:36</td>\n",
       "      <td>0 days 02:26:24</td>\n",
       "    </tr>\n",
       "  </tbody>\n",
       "</table>\n",
       "<p>15962 rows × 60 columns</p>\n",
       "</div>"
      ],
      "text/plain": [
       "                                         dwd_task_id  account_id  \\\n",
       "35812         10005659-19771-0-20211126-1637912222-2    10469768   \n",
       "21221  10005659-19774-10006648-20211122-1637541282-2    10469982   \n",
       "45809                            wmos-wmos-264015431    10469982   \n",
       "49705                            wmos-wmos-264015724    10469982   \n",
       "47356                            wmos-wmos-264015997    10469982   \n",
       "...                                              ...         ...   \n",
       "30189                            wmos-wmos-265515827    11018843   \n",
       "30191                            wmos-wmos-265517351    11018843   \n",
       "30193                            wmos-wmos-265518783    11018843   \n",
       "30194                            wmos-wmos-265522818    11018843   \n",
       "35878  10005659-25611-10006648-20211130-1638247964-2    11018843   \n",
       "\n",
       "       account_name  station_id station_code       station_name  worker_id  \\\n",
       "35812  Zhenhao Yang    10005659          NaN  COACH SHA WGQ WHS      19771   \n",
       "21221            丁叶    10005659          NaN  COACH SHA WGQ WHS      19774   \n",
       "45809            丁叶    10005659       CN-085  COACH SHA WGQ WHS      19774   \n",
       "49705            丁叶    10005659       CN-085  COACH SHA WGQ WHS      19774   \n",
       "47356            丁叶    10005659       CN-085  COACH SHA WGQ WHS      19774   \n",
       "...             ...         ...          ...                ...        ...   \n",
       "30189           黄义林    10005659       CN-085  COACH SHA WGQ WHS      25611   \n",
       "30191           黄义林    10005659       CN-085  COACH SHA WGQ WHS      25611   \n",
       "30193           黄义林    10005659       CN-085  COACH SHA WGQ WHS      25611   \n",
       "30194           黄义林    10005659       CN-085  COACH SHA WGQ WHS      25611   \n",
       "35878           黄义林    10005659       CN-085  COACH SHA WGQ WHS      25611   \n",
       "\n",
       "        worker_name  work_turn_id work_turn_name  work_group_id  \\\n",
       "35812  Zhenhao Yang             0            NaN              0   \n",
       "21221            丁叶      10006648             白班              0   \n",
       "45809            丁叶             0            NaN       10025988   \n",
       "49705            丁叶             0            NaN       10025988   \n",
       "47356            丁叶             0            NaN       10025988   \n",
       "...             ...           ...            ...            ...   \n",
       "30189           黄义林             0            NaN       10025988   \n",
       "30191           黄义林             0            NaN       10025988   \n",
       "30193           黄义林             0            NaN       10025988   \n",
       "30194           黄义林             0            NaN       10025988   \n",
       "35878           黄义林      10006648             白班       10025988   \n",
       "\n",
       "      work_group_name  up_worker_id up_worker_name            hire_time  \\\n",
       "35812             NaN         19768    Michelle Wu  1970-01-01 08:00:00   \n",
       "21221             NaN         19770      Carlo Dai  1970-01-01 08:00:00   \n",
       "45809             收货组         19770      Carlo Dai  2012-11-20 00:00:00   \n",
       "49705             收货组         19770      Carlo Dai  2012-11-20 00:00:00   \n",
       "47356             收货组         19770      Carlo Dai  2012-11-20 00:00:00   \n",
       "...               ...           ...            ...                  ...   \n",
       "30189             收货组             0            NaN  2021-03-04 00:00:00   \n",
       "30191             收货组             0            NaN  2021-03-04 00:00:00   \n",
       "30193             收货组             0            NaN  2021-03-04 00:00:00   \n",
       "30194             收货组             0            NaN  2021-03-04 00:00:00   \n",
       "35878             收货组             0            NaN  2021-03-04 00:00:00   \n",
       "\n",
       "       worker_post_id worker_post_name  worker_level_id  worker_level_type  \\\n",
       "35812        10109369            OE协调员         10039149           30000001   \n",
       "21221        10210780               组长         10039079           20000001   \n",
       "45809        10210780               组长         10039079           20000001   \n",
       "49705        10210780               组长         10039079           20000001   \n",
       "47356        10210780               组长         10039079           20000001   \n",
       "...               ...              ...              ...                ...   \n",
       "30189        10109295              操作员         10038968           10000001   \n",
       "30191        10109295              操作员         10038968           10000001   \n",
       "30193        10109295              操作员         10038968           10000001   \n",
       "30194        10109295              操作员         10038968           10000001   \n",
       "35878        10109295              操作员         10038968           10000001   \n",
       "\n",
       "      worker_level_name  work_num          start_time            end_time  \\\n",
       "35812              操作主管       0.0 2021-11-27 00:37:02 2021-11-27 00:37:02   \n",
       "21221                组长       0.0 2021-11-22 17:30:00 2021-11-22 17:30:00   \n",
       "45809                组长       1.0 2021-11-27 09:14:02 2021-11-27 09:15:10   \n",
       "49705                组长       3.0 2021-11-27 09:15:14 2021-11-27 09:15:34   \n",
       "47356                组长       2.0 2021-11-27 09:15:43 2021-11-27 09:16:03   \n",
       "...                 ...       ...                 ...                 ...   \n",
       "30189               操作员      25.0 2021-11-30 14:55:12 2021-11-30 14:55:42   \n",
       "30191               操作员      35.0 2021-11-30 14:56:53 2021-11-30 14:57:36   \n",
       "30193               操作员       7.0 2021-11-30 14:59:40 2021-11-30 14:59:48   \n",
       "30194               操作员       8.0 2021-11-30 15:03:28 2021-11-30 15:03:36   \n",
       "35878               操作员       0.0 2021-11-30 17:30:00 2021-11-30 17:30:00   \n",
       "\n",
       "       duration  adjustment_duration  adjusted_duration       sku_no  \\\n",
       "35812         0                    0                  0          NaN   \n",
       "21221         0                    0                  0          NaN   \n",
       "45809         0                    0                  0  79468 B4PE2   \n",
       "49705         0                    0                  0  76128 B4/BK   \n",
       "47356         0                    0                  0  2648  SVA47   \n",
       "...         ...                  ...                ...          ...   \n",
       "30189         0                    0                  0  C1569 IMBLK   \n",
       "30191         0                    0                  0  F67567SV/SY   \n",
       "30193         0                    0                  0  C1387 SVOT8   \n",
       "30194         0                    0                  0  C1558 IMBLK   \n",
       "35878         0                    0                  0          NaN   \n",
       "\n",
       "       min_package_quantity  min_operate_length  min_operate_width  \\\n",
       "35812                   0.0                 0.0                0.0   \n",
       "21221                   0.0                 0.0                0.0   \n",
       "45809                   1.0               440.0              320.0   \n",
       "49705                   0.0                 0.0                0.0   \n",
       "47356                   0.0                 0.0                0.0   \n",
       "...                     ...                 ...                ...   \n",
       "30189                   1.0               290.0              190.0   \n",
       "30191                   0.0                 0.0                0.0   \n",
       "30193                   0.0                 0.0                0.0   \n",
       "30194                   1.0               280.0              300.0   \n",
       "35878                   0.0                 0.0                0.0   \n",
       "\n",
       "       min_operate_height  min_operate_weight  min_operate_volume  flow  \\\n",
       "35812                 0.0                 0.0                 0.0   NaN   \n",
       "21221                 0.0                 0.0                 0.0   NaN   \n",
       "45809               150.0              1600.0          21120000.0   NaN   \n",
       "49705                 0.0                 0.0                 0.0   NaN   \n",
       "47356                 0.0                 0.0                 0.0   NaN   \n",
       "...                   ...                 ...                 ...   ...   \n",
       "30189                80.0               630.0           4408000.0   NaN   \n",
       "30191                 0.0                 0.0                 0.0   NaN   \n",
       "30193                 0.0                 0.0                 0.0   NaN   \n",
       "30194               100.0               730.0           8400000.0   NaN   \n",
       "35878                 0.0                 0.0                 0.0   NaN   \n",
       "\n",
       "       action  work_content_id work_content  work_content_type  \\\n",
       "35812     NaN         10121891           下班                  4   \n",
       "21221     NaN         10121891           下班                  4   \n",
       "45809     NaN                0          NaN                  0   \n",
       "49705     NaN                0          NaN                  0   \n",
       "47356     NaN                0          NaN                  0   \n",
       "...       ...              ...          ...                ...   \n",
       "30189     NaN                0          NaN                  0   \n",
       "30191     NaN                0          NaN                  0   \n",
       "30193     NaN                0          NaN                  0   \n",
       "30194     NaN                0          NaN                  0   \n",
       "35878     NaN         10121891           下班                  4   \n",
       "\n",
       "       work_content_is_measure  work_content_refer  productive_time  \\\n",
       "35812                        0                   0              NaN   \n",
       "21221                        0                   0              NaN   \n",
       "45809                        0                   0              NaN   \n",
       "49705                        0                   0              NaN   \n",
       "47356                        0                   0              NaN   \n",
       "...                        ...                 ...              ...   \n",
       "30189                        0                   0              NaN   \n",
       "30191                        0                   0              NaN   \n",
       "30193                        0                   0              NaN   \n",
       "30194                        0                   0              NaN   \n",
       "35878                        0                   0              NaN   \n",
       "\n",
       "      work_content_unit  start_date    end_date report_date  source  \\\n",
       "35812               NaN  2021-11-27  2021-11-27  2021/11-27       7   \n",
       "21221               NaN  2021-11-22  2021-11-22  2021/11-22       7   \n",
       "45809               NaN  2021-11-27  2021-11-27  2021-11-27       6   \n",
       "49705               NaN  2021-11-27  2021-11-27  2021-11-27       6   \n",
       "47356               NaN  2021-11-27  2021-11-27  2021-11-27       6   \n",
       "...                 ...         ...         ...         ...     ...   \n",
       "30189               NaN  2021-11-30  2021-11-30  2021-11-30       6   \n",
       "30191               NaN  2021-11-30  2021-11-30  2021-11-30       6   \n",
       "30193               NaN  2021-11-30  2021-11-30  2021-11-30       6   \n",
       "30194               NaN  2021-11-30  2021-11-30  2021-11-30       6   \n",
       "35878               NaN  2021-11-30  2021-11-30  2021/11-30       7   \n",
       "\n",
       "       updater_id  is_cancel  efficiency  orig_task_type orig_user_id  \\\n",
       "35812           0          0         0.0             NaN          NaN   \n",
       "21221           0          0         0.0             NaN          NaN   \n",
       "45809           0          0         0.0           600.0  DSCSHAP2369   \n",
       "49705           0          0         0.0           600.0  DSCSHAP2369   \n",
       "47356           0          0         0.0           600.0  DSCSHAP2369   \n",
       "...           ...        ...         ...             ...          ...   \n",
       "30189           0          0         0.0           200.0     ADC026RF   \n",
       "30191           0          0         0.0           200.0     ADC026RF   \n",
       "30193           0          0         0.0           200.0     ADC026RF   \n",
       "30194           0          0         0.0           200.0     ADC026RF   \n",
       "35878           0          0         0.0             NaN          NaN   \n",
       "\n",
       "       create_time          update_time  pallet_operation   inc_day  sys  \\\n",
       "35812   1638300996  2021-12-01 03:36:36                 0  20211126  ptp   \n",
       "21221   1638192585  2021-11-29 21:29:45                 0  20211122  ptp   \n",
       "45809   1638300996  2021-12-01 03:36:36                 0  20211127  wms   \n",
       "49705   1638300996  2021-12-01 03:36:36                 0  20211127  wms   \n",
       "47356   1638300996  2021-12-01 03:36:36                 0  20211127  wms   \n",
       "...            ...                  ...               ...       ...  ...   \n",
       "30189   1638300996  2021-12-01 03:36:36                 0  20211130  wms   \n",
       "30191   1638300996  2021-12-01 03:36:36                 0  20211130  wms   \n",
       "30193   1638300996  2021-12-01 03:36:36                 0  20211130  wms   \n",
       "30194   1638300996  2021-12-01 03:36:36                 0  20211130  wms   \n",
       "35878   1638300996  2021-12-01 03:36:36                 0  20211130  ptp   \n",
       "\n",
       "       sprm        start_shift1          end_shift1             gap  \n",
       "35812   0.0 2021-11-26 15:37:02 2021-11-26 15:37:16 0 days 08:59:46  \n",
       "21221   0.0 2021-11-22 08:34:42 2021-11-22 08:34:51 0 days 08:55:09  \n",
       "45809   0.0 2021-11-22 17:30:00 2021-11-22 17:30:00 4 days 15:44:02  \n",
       "49705   0.0 2021-11-27 09:14:02 2021-11-27 09:15:10 0 days 00:00:04  \n",
       "47356   0.0 2021-11-27 09:15:14 2021-11-27 09:15:34 0 days 00:00:09  \n",
       "...     ...                 ...                 ...             ...  \n",
       "30189   0.0 2021-11-30 14:42:00 2021-11-30 14:42:09 0 days 00:13:03  \n",
       "30191   0.0 2021-11-30 14:55:12 2021-11-30 14:55:42 0 days 00:01:11  \n",
       "30193   0.0 2021-11-30 14:56:53 2021-11-30 14:57:36 0 days 00:02:04  \n",
       "30194   0.0 2021-11-30 14:59:40 2021-11-30 14:59:48 0 days 00:03:40  \n",
       "35878   0.0 2021-11-30 15:03:28 2021-11-30 15:03:36 0 days 02:26:24  \n",
       "\n",
       "[15962 rows x 60 columns]"
      ]
     },
     "execution_count": 186,
     "metadata": {},
     "output_type": "execute_result"
    }
   ],
   "source": [
    "test[test['gap'] > '0 days 00:00:00']"
   ]
  },
  {
   "cell_type": "code",
   "execution_count": 265,
   "metadata": {},
   "outputs": [],
   "source": [
    "test = coach[(coach['inc_day'].astype(str).str.contains('20211130')) & (coach['worker_name'] == '张现花')]"
   ]
  },
  {
   "cell_type": "code",
   "execution_count": 266,
   "metadata": {},
   "outputs": [
    {
     "name": "stderr",
     "output_type": "stream",
     "text": [
      "C:\\Users\\DSCSHA~1\\AppData\\Local\\Temp/ipykernel_14824/3798527186.py:2: SettingWithCopyWarning:\n",
      "\n",
      "\n",
      "A value is trying to be set on a copy of a slice from a DataFrame.\n",
      "Try using .loc[row_indexer,col_indexer] = value instead\n",
      "\n",
      "See the caveats in the documentation: https://pandas.pydata.org/pandas-docs/stable/user_guide/indexing.html#returning-a-view-versus-a-copy\n",
      "\n",
      "C:\\Users\\DSCSHA~1\\AppData\\Local\\Temp/ipykernel_14824/3798527186.py:3: SettingWithCopyWarning:\n",
      "\n",
      "\n",
      "A value is trying to be set on a copy of a slice from a DataFrame.\n",
      "Try using .loc[row_indexer,col_indexer] = value instead\n",
      "\n",
      "See the caveats in the documentation: https://pandas.pydata.org/pandas-docs/stable/user_guide/indexing.html#returning-a-view-versus-a-copy\n",
      "\n"
     ]
    }
   ],
   "source": [
    "def time_convert(coach,col):\n",
    "    coach[col] = coach[col].astype(int)\n",
    "    coach[col] = [datetime.fromtimestamp(i).strftime('%Y-%m-%d %H:%M:%S') for i in coach[col]]\n",
    "    return coach\n",
    "for i in ['start_time', 'end_time', 'hire_time']:\n",
    "    time_convert(test,i)"
   ]
  },
  {
   "cell_type": "code",
   "execution_count": 280,
   "metadata": {},
   "outputs": [
    {
     "data": {
      "text/plain": [
       "Timestamp('2021-11-30 08:34:37')"
      ]
     },
     "execution_count": 280,
     "metadata": {},
     "output_type": "execute_result"
    }
   ],
   "source": [
    "pd.to_datetime(test['end_time']).min()"
   ]
  },
  {
   "cell_type": "code",
   "execution_count": 279,
   "metadata": {},
   "outputs": [
    {
     "data": {
      "text/plain": [
       "Timedelta('0 days 16:49:03')"
      ]
     },
     "execution_count": 279,
     "metadata": {},
     "output_type": "execute_result"
    }
   ],
   "source": [
    "pd.to_datetime(test['end_time']).max() - pd.to_datetime(test['end_time']).min()"
   ]
  },
  {
   "cell_type": "code",
   "execution_count": 267,
   "metadata": {},
   "outputs": [
    {
     "data": {
      "text/html": [
       "<div>\n",
       "<style scoped>\n",
       "    .dataframe tbody tr th:only-of-type {\n",
       "        vertical-align: middle;\n",
       "    }\n",
       "\n",
       "    .dataframe tbody tr th {\n",
       "        vertical-align: top;\n",
       "    }\n",
       "\n",
       "    .dataframe thead th {\n",
       "        text-align: right;\n",
       "    }\n",
       "</style>\n",
       "<table border=\"1\" class=\"dataframe\">\n",
       "  <thead>\n",
       "    <tr style=\"text-align: right;\">\n",
       "      <th></th>\n",
       "      <th>account_name</th>\n",
       "      <th>station_id</th>\n",
       "      <th>station_code</th>\n",
       "      <th>station_name</th>\n",
       "      <th>worker_id</th>\n",
       "      <th>worker_name</th>\n",
       "      <th>work_group_id</th>\n",
       "      <th>work_group_name</th>\n",
       "      <th>up_worker_id</th>\n",
       "      <th>up_worker_name</th>\n",
       "      <th>hire_time</th>\n",
       "      <th>worker_post_id</th>\n",
       "      <th>worker_post_name</th>\n",
       "      <th>work_num</th>\n",
       "      <th>start_time</th>\n",
       "      <th>end_time</th>\n",
       "      <th>duration</th>\n",
       "      <th>adjustment_duration</th>\n",
       "      <th>adjusted_duration</th>\n",
       "      <th>sku_no</th>\n",
       "      <th>work_content</th>\n",
       "      <th>work_content_type</th>\n",
       "      <th>work_content_is_measure</th>\n",
       "      <th>work_content_refer</th>\n",
       "      <th>start_date</th>\n",
       "      <th>end_date</th>\n",
       "      <th>report_date</th>\n",
       "      <th>inc_day</th>\n",
       "    </tr>\n",
       "  </thead>\n",
       "  <tbody>\n",
       "  </tbody>\n",
       "</table>\n",
       "</div>"
      ],
      "text/plain": [
       "Empty DataFrame\n",
       "Columns: [account_name, station_id, station_code, station_name, worker_id, worker_name, work_group_id, work_group_name, up_worker_id, up_worker_name, hire_time, worker_post_id, worker_post_name, work_num, start_time, end_time, duration, adjustment_duration, adjusted_duration, sku_no, work_content, work_content_type, work_content_is_measure, work_content_refer, start_date, end_date, report_date, inc_day]\n",
       "Index: []"
      ]
     },
     "execution_count": 267,
     "metadata": {},
     "output_type": "execute_result"
    }
   ],
   "source": [
    "test[test['start_time'] == '2021-11-30 08:57:23'] "
   ]
  },
  {
   "cell_type": "code",
   "execution_count": 242,
   "metadata": {},
   "outputs": [],
   "source": [
    "wh = test.groupby(['worker_name','inc_day']).agg(\n",
    "        {\n",
    "            'start_time': 'min',\n",
    "            'end_time': 'max',\n",
    "            'sprm': 'sum',\n",
    "        }\n",
    "    ).reset_index()\n",
    "    \n",
    "wh['work_hour'] = wh['end_time'] - wh['start_time']"
   ]
  },
  {
   "cell_type": "code",
   "execution_count": 250,
   "metadata": {},
   "outputs": [
    {
     "data": {
      "text/html": [
       "<div>\n",
       "<style scoped>\n",
       "    .dataframe tbody tr th:only-of-type {\n",
       "        vertical-align: middle;\n",
       "    }\n",
       "\n",
       "    .dataframe tbody tr th {\n",
       "        vertical-align: top;\n",
       "    }\n",
       "\n",
       "    .dataframe thead th {\n",
       "        text-align: right;\n",
       "    }\n",
       "</style>\n",
       "<table border=\"1\" class=\"dataframe\">\n",
       "  <thead>\n",
       "    <tr style=\"text-align: right;\">\n",
       "      <th></th>\n",
       "      <th>worker_name</th>\n",
       "      <th>inc_day</th>\n",
       "      <th>start_time</th>\n",
       "      <th>end_time</th>\n",
       "      <th>sprm</th>\n",
       "      <th>work_hour</th>\n",
       "    </tr>\n",
       "  </thead>\n",
       "  <tbody>\n",
       "    <tr>\n",
       "      <th>0</th>\n",
       "      <td>郁黄祥</td>\n",
       "      <td>20211130</td>\n",
       "      <td>2021-11-30 12:52:54</td>\n",
       "      <td>2021-12-01 00:09:52</td>\n",
       "      <td>6720.0</td>\n",
       "      <td>0 days 11:16:58</td>\n",
       "    </tr>\n",
       "  </tbody>\n",
       "</table>\n",
       "</div>"
      ],
      "text/plain": [
       "  worker_name   inc_day          start_time            end_time    sprm  \\\n",
       "0         郁黄祥  20211130 2021-11-30 12:52:54 2021-12-01 00:09:52  6720.0   \n",
       "\n",
       "        work_hour  \n",
       "0 0 days 11:16:58  "
      ]
     },
     "execution_count": 250,
     "metadata": {},
     "output_type": "execute_result"
    }
   ],
   "source": [
    "wh "
   ]
  },
  {
   "cell_type": "code",
   "execution_count": 253,
   "metadata": {},
   "outputs": [
    {
     "data": {
      "text/plain": [
       "11.282777777777778"
      ]
     },
     "execution_count": 253,
     "metadata": {},
     "output_type": "execute_result"
    }
   ],
   "source": [
    "[i.total_seconds() for i in wh['work_hour']][0]/3600"
   ]
  },
  {
   "cell_type": "code",
   "execution_count": 301,
   "metadata": {},
   "outputs": [],
   "source": [
    "# coach[(coach['start_time'].astype(str).str.contains('2021-11-30')) & (coach['worker_name'] == '郁黄祥')]"
   ]
  },
  {
   "cell_type": "code",
   "execution_count": 232,
   "metadata": {},
   "outputs": [
    {
     "data": {
      "text/plain": [
       "Timestamp('2021-11-30 12:52:54')"
      ]
     },
     "execution_count": 232,
     "metadata": {},
     "output_type": "execute_result"
    }
   ],
   "source": [
    "coach[(coach['worker_name'] == '郁黄祥') & (coach['start_date'] == '2021-11-30')]['start_time'].min()"
   ]
  },
  {
   "cell_type": "code",
   "execution_count": 234,
   "metadata": {},
   "outputs": [
    {
     "data": {
      "text/html": [
       "<div>\n",
       "<style scoped>\n",
       "    .dataframe tbody tr th:only-of-type {\n",
       "        vertical-align: middle;\n",
       "    }\n",
       "\n",
       "    .dataframe tbody tr th {\n",
       "        vertical-align: top;\n",
       "    }\n",
       "\n",
       "    .dataframe thead th {\n",
       "        text-align: right;\n",
       "    }\n",
       "</style>\n",
       "<table border=\"1\" class=\"dataframe\">\n",
       "  <thead>\n",
       "    <tr style=\"text-align: right;\">\n",
       "      <th></th>\n",
       "      <th>account_name</th>\n",
       "      <th>station_id</th>\n",
       "      <th>station_code</th>\n",
       "      <th>station_name</th>\n",
       "      <th>worker_id</th>\n",
       "      <th>worker_name</th>\n",
       "      <th>work_group_id</th>\n",
       "      <th>work_group_name</th>\n",
       "      <th>up_worker_id</th>\n",
       "      <th>up_worker_name</th>\n",
       "      <th>hire_time</th>\n",
       "      <th>worker_post_id</th>\n",
       "      <th>worker_post_name</th>\n",
       "      <th>work_num</th>\n",
       "      <th>start_time</th>\n",
       "      <th>end_time</th>\n",
       "      <th>duration</th>\n",
       "      <th>adjustment_duration</th>\n",
       "      <th>adjusted_duration</th>\n",
       "      <th>sku_no</th>\n",
       "      <th>work_content</th>\n",
       "      <th>work_content_type</th>\n",
       "      <th>work_content_is_measure</th>\n",
       "      <th>work_content_refer</th>\n",
       "      <th>start_date</th>\n",
       "      <th>end_date</th>\n",
       "      <th>report_date</th>\n",
       "      <th>inc_day</th>\n",
       "      <th>sprm</th>\n",
       "      <th>SPRM_total_of_day</th>\n",
       "      <th>work_hour_in_min</th>\n",
       "      <th>work_hour_in_hour</th>\n",
       "      <th>sprm_perhour</th>\n",
       "    </tr>\n",
       "  </thead>\n",
       "  <tbody>\n",
       "  </tbody>\n",
       "</table>\n",
       "</div>"
      ],
      "text/plain": [
       "Empty DataFrame\n",
       "Columns: [account_name, station_id, station_code, station_name, worker_id, worker_name, work_group_id, work_group_name, up_worker_id, up_worker_name, hire_time, worker_post_id, worker_post_name, work_num, start_time, end_time, duration, adjustment_duration, adjusted_duration, sku_no, work_content, work_content_type, work_content_is_measure, work_content_refer, start_date, end_date, report_date, inc_day, sprm, SPRM_total_of_day, work_hour_in_min, work_hour_in_hour, sprm_perhour]\n",
       "Index: []"
      ]
     },
     "execution_count": 234,
     "metadata": {},
     "output_type": "execute_result"
    }
   ],
   "source": [
    "coach[(coach['worker_name'] == '郁黄祥') & (coach['start_date'] == '2021-12-01')]"
   ]
  },
  {
   "cell_type": "code",
   "execution_count": null,
   "metadata": {},
   "outputs": [],
   "source": [
    "# ======="
   ]
  },
  {
   "cell_type": "code",
   "execution_count": 284,
   "metadata": {},
   "outputs": [],
   "source": [
    "coach_out = coach[['worker_name',  'work_group_name', 'up_worker_name', 'hire_time',\\\n",
    "         'worker_post_name', 'SPRM_total_of_day', 'work_hour_in_min',\n",
    "         'work_hour_in_hour', 'sprm_perhour', 'station_name', 'inc_day']].drop_duplicates()\n",
    "coach_out['inc_day'] = coach_out['inc_day'].astype(str)\n",
    "        #  'sprm', 'SPRM_total_of_day', 'work_hour_in_min',\n",
    "        #  'work_hour_in_hour', 'sprm_perhour',"
   ]
  },
  {
   "cell_type": "code",
   "execution_count": 300,
   "metadata": {},
   "outputs": [],
   "source": [
    "pd_loaddata.pd_tocsv(coach_out, './data/coach_1202_outdata.csv' )"
   ]
  },
  {
   "cell_type": "code",
   "execution_count": 298,
   "metadata": {},
   "outputs": [],
   "source": [
    "from fyenn_class import pd_loaddata\n",
    "pd_loaddata.show_line(15,None)\n",
    "# coach[(coach['account_name'] == '孙清元') & (coach['start_date'] == '2021-11-30')].sort_values('start_time')"
   ]
  },
  {
   "cell_type": "code",
   "execution_count": 303,
   "metadata": {},
   "outputs": [
    {
     "data": {
      "application/vnd.plotly.v1+json": {
       "config": {
        "plotlyServerURL": "https://plot.ly"
       },
       "data": [
        {
         "name": "sprm_perhour",
         "type": "bar",
         "x": [
          "李小丹",
          "潘明海",
          "沈正宇",
          "孙清元",
          "张玉侠",
          "张康康",
          "宋卫华",
          "郁黄祥",
          "张现花",
          "张良园",
          "李文博",
          "黄义林",
          "吴飞宇",
          "豆富山"
         ],
         "xaxis": "x",
         "y": [
          216.92307692307693,
          209.88888888888889,
          1.6666666666666667,
          486.8628130918403,
          2.7777777777777777,
          7.092592592592593,
          0.14814814814814814,
          595.5980107341572,
          2.111111111111111,
          10.555555555555555,
          0.8611111111111112,
          1.6944444444444444,
          36.44444444444444,
          8.37037037037037
         ],
         "yaxis": "y"
        },
        {
         "name": "working_hour",
         "type": "scatter",
         "x": [
          "李小丹",
          "潘明海",
          "沈正宇",
          "孙清元",
          "张玉侠",
          "张康康",
          "宋卫华",
          "郁黄祥",
          "张现花",
          "张良园",
          "李文博",
          "黄义林",
          "吴飞宇",
          "豆富山"
         ],
         "xaxis": "x",
         "y": [
          13,
          9,
          9,
          10.413611111111111,
          9,
          9,
          9,
          11.282777777777778,
          9,
          9,
          9,
          9,
          9,
          9
         ],
         "yaxis": "y2"
        }
       ],
       "layout": {
        "template": {
         "data": {
          "bar": [
           {
            "error_x": {
             "color": "#2a3f5f"
            },
            "error_y": {
             "color": "#2a3f5f"
            },
            "marker": {
             "line": {
              "color": "#E5ECF6",
              "width": 0.5
             }
            },
            "type": "bar"
           }
          ],
          "barpolar": [
           {
            "marker": {
             "line": {
              "color": "#E5ECF6",
              "width": 0.5
             }
            },
            "type": "barpolar"
           }
          ],
          "carpet": [
           {
            "aaxis": {
             "endlinecolor": "#2a3f5f",
             "gridcolor": "white",
             "linecolor": "white",
             "minorgridcolor": "white",
             "startlinecolor": "#2a3f5f"
            },
            "baxis": {
             "endlinecolor": "#2a3f5f",
             "gridcolor": "white",
             "linecolor": "white",
             "minorgridcolor": "white",
             "startlinecolor": "#2a3f5f"
            },
            "type": "carpet"
           }
          ],
          "choropleth": [
           {
            "colorbar": {
             "outlinewidth": 0,
             "ticks": ""
            },
            "type": "choropleth"
           }
          ],
          "contour": [
           {
            "colorbar": {
             "outlinewidth": 0,
             "ticks": ""
            },
            "colorscale": [
             [
              0,
              "#0d0887"
             ],
             [
              0.1111111111111111,
              "#46039f"
             ],
             [
              0.2222222222222222,
              "#7201a8"
             ],
             [
              0.3333333333333333,
              "#9c179e"
             ],
             [
              0.4444444444444444,
              "#bd3786"
             ],
             [
              0.5555555555555556,
              "#d8576b"
             ],
             [
              0.6666666666666666,
              "#ed7953"
             ],
             [
              0.7777777777777778,
              "#fb9f3a"
             ],
             [
              0.8888888888888888,
              "#fdca26"
             ],
             [
              1,
              "#f0f921"
             ]
            ],
            "type": "contour"
           }
          ],
          "contourcarpet": [
           {
            "colorbar": {
             "outlinewidth": 0,
             "ticks": ""
            },
            "type": "contourcarpet"
           }
          ],
          "heatmap": [
           {
            "colorbar": {
             "outlinewidth": 0,
             "ticks": ""
            },
            "colorscale": [
             [
              0,
              "#0d0887"
             ],
             [
              0.1111111111111111,
              "#46039f"
             ],
             [
              0.2222222222222222,
              "#7201a8"
             ],
             [
              0.3333333333333333,
              "#9c179e"
             ],
             [
              0.4444444444444444,
              "#bd3786"
             ],
             [
              0.5555555555555556,
              "#d8576b"
             ],
             [
              0.6666666666666666,
              "#ed7953"
             ],
             [
              0.7777777777777778,
              "#fb9f3a"
             ],
             [
              0.8888888888888888,
              "#fdca26"
             ],
             [
              1,
              "#f0f921"
             ]
            ],
            "type": "heatmap"
           }
          ],
          "heatmapgl": [
           {
            "colorbar": {
             "outlinewidth": 0,
             "ticks": ""
            },
            "colorscale": [
             [
              0,
              "#0d0887"
             ],
             [
              0.1111111111111111,
              "#46039f"
             ],
             [
              0.2222222222222222,
              "#7201a8"
             ],
             [
              0.3333333333333333,
              "#9c179e"
             ],
             [
              0.4444444444444444,
              "#bd3786"
             ],
             [
              0.5555555555555556,
              "#d8576b"
             ],
             [
              0.6666666666666666,
              "#ed7953"
             ],
             [
              0.7777777777777778,
              "#fb9f3a"
             ],
             [
              0.8888888888888888,
              "#fdca26"
             ],
             [
              1,
              "#f0f921"
             ]
            ],
            "type": "heatmapgl"
           }
          ],
          "histogram": [
           {
            "marker": {
             "colorbar": {
              "outlinewidth": 0,
              "ticks": ""
             }
            },
            "type": "histogram"
           }
          ],
          "histogram2d": [
           {
            "colorbar": {
             "outlinewidth": 0,
             "ticks": ""
            },
            "colorscale": [
             [
              0,
              "#0d0887"
             ],
             [
              0.1111111111111111,
              "#46039f"
             ],
             [
              0.2222222222222222,
              "#7201a8"
             ],
             [
              0.3333333333333333,
              "#9c179e"
             ],
             [
              0.4444444444444444,
              "#bd3786"
             ],
             [
              0.5555555555555556,
              "#d8576b"
             ],
             [
              0.6666666666666666,
              "#ed7953"
             ],
             [
              0.7777777777777778,
              "#fb9f3a"
             ],
             [
              0.8888888888888888,
              "#fdca26"
             ],
             [
              1,
              "#f0f921"
             ]
            ],
            "type": "histogram2d"
           }
          ],
          "histogram2dcontour": [
           {
            "colorbar": {
             "outlinewidth": 0,
             "ticks": ""
            },
            "colorscale": [
             [
              0,
              "#0d0887"
             ],
             [
              0.1111111111111111,
              "#46039f"
             ],
             [
              0.2222222222222222,
              "#7201a8"
             ],
             [
              0.3333333333333333,
              "#9c179e"
             ],
             [
              0.4444444444444444,
              "#bd3786"
             ],
             [
              0.5555555555555556,
              "#d8576b"
             ],
             [
              0.6666666666666666,
              "#ed7953"
             ],
             [
              0.7777777777777778,
              "#fb9f3a"
             ],
             [
              0.8888888888888888,
              "#fdca26"
             ],
             [
              1,
              "#f0f921"
             ]
            ],
            "type": "histogram2dcontour"
           }
          ],
          "mesh3d": [
           {
            "colorbar": {
             "outlinewidth": 0,
             "ticks": ""
            },
            "type": "mesh3d"
           }
          ],
          "parcoords": [
           {
            "line": {
             "colorbar": {
              "outlinewidth": 0,
              "ticks": ""
             }
            },
            "type": "parcoords"
           }
          ],
          "pie": [
           {
            "automargin": true,
            "type": "pie"
           }
          ],
          "scatter": [
           {
            "marker": {
             "colorbar": {
              "outlinewidth": 0,
              "ticks": ""
             }
            },
            "type": "scatter"
           }
          ],
          "scatter3d": [
           {
            "line": {
             "colorbar": {
              "outlinewidth": 0,
              "ticks": ""
             }
            },
            "marker": {
             "colorbar": {
              "outlinewidth": 0,
              "ticks": ""
             }
            },
            "type": "scatter3d"
           }
          ],
          "scattercarpet": [
           {
            "marker": {
             "colorbar": {
              "outlinewidth": 0,
              "ticks": ""
             }
            },
            "type": "scattercarpet"
           }
          ],
          "scattergeo": [
           {
            "marker": {
             "colorbar": {
              "outlinewidth": 0,
              "ticks": ""
             }
            },
            "type": "scattergeo"
           }
          ],
          "scattergl": [
           {
            "marker": {
             "colorbar": {
              "outlinewidth": 0,
              "ticks": ""
             }
            },
            "type": "scattergl"
           }
          ],
          "scattermapbox": [
           {
            "marker": {
             "colorbar": {
              "outlinewidth": 0,
              "ticks": ""
             }
            },
            "type": "scattermapbox"
           }
          ],
          "scatterpolar": [
           {
            "marker": {
             "colorbar": {
              "outlinewidth": 0,
              "ticks": ""
             }
            },
            "type": "scatterpolar"
           }
          ],
          "scatterpolargl": [
           {
            "marker": {
             "colorbar": {
              "outlinewidth": 0,
              "ticks": ""
             }
            },
            "type": "scatterpolargl"
           }
          ],
          "scatterternary": [
           {
            "marker": {
             "colorbar": {
              "outlinewidth": 0,
              "ticks": ""
             }
            },
            "type": "scatterternary"
           }
          ],
          "surface": [
           {
            "colorbar": {
             "outlinewidth": 0,
             "ticks": ""
            },
            "colorscale": [
             [
              0,
              "#0d0887"
             ],
             [
              0.1111111111111111,
              "#46039f"
             ],
             [
              0.2222222222222222,
              "#7201a8"
             ],
             [
              0.3333333333333333,
              "#9c179e"
             ],
             [
              0.4444444444444444,
              "#bd3786"
             ],
             [
              0.5555555555555556,
              "#d8576b"
             ],
             [
              0.6666666666666666,
              "#ed7953"
             ],
             [
              0.7777777777777778,
              "#fb9f3a"
             ],
             [
              0.8888888888888888,
              "#fdca26"
             ],
             [
              1,
              "#f0f921"
             ]
            ],
            "type": "surface"
           }
          ],
          "table": [
           {
            "cells": {
             "fill": {
              "color": "#EBF0F8"
             },
             "line": {
              "color": "white"
             }
            },
            "header": {
             "fill": {
              "color": "#C8D4E3"
             },
             "line": {
              "color": "white"
             }
            },
            "type": "table"
           }
          ]
         },
         "layout": {
          "annotationdefaults": {
           "arrowcolor": "#2a3f5f",
           "arrowhead": 0,
           "arrowwidth": 1
          },
          "autotypenumbers": "strict",
          "coloraxis": {
           "colorbar": {
            "outlinewidth": 0,
            "ticks": ""
           }
          },
          "colorscale": {
           "diverging": [
            [
             0,
             "#8e0152"
            ],
            [
             0.1,
             "#c51b7d"
            ],
            [
             0.2,
             "#de77ae"
            ],
            [
             0.3,
             "#f1b6da"
            ],
            [
             0.4,
             "#fde0ef"
            ],
            [
             0.5,
             "#f7f7f7"
            ],
            [
             0.6,
             "#e6f5d0"
            ],
            [
             0.7,
             "#b8e186"
            ],
            [
             0.8,
             "#7fbc41"
            ],
            [
             0.9,
             "#4d9221"
            ],
            [
             1,
             "#276419"
            ]
           ],
           "sequential": [
            [
             0,
             "#0d0887"
            ],
            [
             0.1111111111111111,
             "#46039f"
            ],
            [
             0.2222222222222222,
             "#7201a8"
            ],
            [
             0.3333333333333333,
             "#9c179e"
            ],
            [
             0.4444444444444444,
             "#bd3786"
            ],
            [
             0.5555555555555556,
             "#d8576b"
            ],
            [
             0.6666666666666666,
             "#ed7953"
            ],
            [
             0.7777777777777778,
             "#fb9f3a"
            ],
            [
             0.8888888888888888,
             "#fdca26"
            ],
            [
             1,
             "#f0f921"
            ]
           ],
           "sequentialminus": [
            [
             0,
             "#0d0887"
            ],
            [
             0.1111111111111111,
             "#46039f"
            ],
            [
             0.2222222222222222,
             "#7201a8"
            ],
            [
             0.3333333333333333,
             "#9c179e"
            ],
            [
             0.4444444444444444,
             "#bd3786"
            ],
            [
             0.5555555555555556,
             "#d8576b"
            ],
            [
             0.6666666666666666,
             "#ed7953"
            ],
            [
             0.7777777777777778,
             "#fb9f3a"
            ],
            [
             0.8888888888888888,
             "#fdca26"
            ],
            [
             1,
             "#f0f921"
            ]
           ]
          },
          "colorway": [
           "#636efa",
           "#EF553B",
           "#00cc96",
           "#ab63fa",
           "#FFA15A",
           "#19d3f3",
           "#FF6692",
           "#B6E880",
           "#FF97FF",
           "#FECB52"
          ],
          "font": {
           "color": "#2a3f5f"
          },
          "geo": {
           "bgcolor": "white",
           "lakecolor": "white",
           "landcolor": "#E5ECF6",
           "showlakes": true,
           "showland": true,
           "subunitcolor": "white"
          },
          "hoverlabel": {
           "align": "left"
          },
          "hovermode": "closest",
          "mapbox": {
           "style": "light"
          },
          "paper_bgcolor": "white",
          "plot_bgcolor": "#E5ECF6",
          "polar": {
           "angularaxis": {
            "gridcolor": "white",
            "linecolor": "white",
            "ticks": ""
           },
           "bgcolor": "#E5ECF6",
           "radialaxis": {
            "gridcolor": "white",
            "linecolor": "white",
            "ticks": ""
           }
          },
          "scene": {
           "xaxis": {
            "backgroundcolor": "#E5ECF6",
            "gridcolor": "white",
            "gridwidth": 2,
            "linecolor": "white",
            "showbackground": true,
            "ticks": "",
            "zerolinecolor": "white"
           },
           "yaxis": {
            "backgroundcolor": "#E5ECF6",
            "gridcolor": "white",
            "gridwidth": 2,
            "linecolor": "white",
            "showbackground": true,
            "ticks": "",
            "zerolinecolor": "white"
           },
           "zaxis": {
            "backgroundcolor": "#E5ECF6",
            "gridcolor": "white",
            "gridwidth": 2,
            "linecolor": "white",
            "showbackground": true,
            "ticks": "",
            "zerolinecolor": "white"
           }
          },
          "shapedefaults": {
           "line": {
            "color": "#2a3f5f"
           }
          },
          "ternary": {
           "aaxis": {
            "gridcolor": "white",
            "linecolor": "white",
            "ticks": ""
           },
           "baxis": {
            "gridcolor": "white",
            "linecolor": "white",
            "ticks": ""
           },
           "bgcolor": "#E5ECF6",
           "caxis": {
            "gridcolor": "white",
            "linecolor": "white",
            "ticks": ""
           }
          },
          "title": {
           "x": 0.05
          },
          "xaxis": {
           "automargin": true,
           "gridcolor": "white",
           "linecolor": "white",
           "ticks": "",
           "title": {
            "standoff": 15
           },
           "zerolinecolor": "white",
           "zerolinewidth": 2
          },
          "yaxis": {
           "automargin": true,
           "gridcolor": "white",
           "linecolor": "white",
           "ticks": "",
           "title": {
            "standoff": 15
           },
           "zerolinecolor": "white",
           "zerolinewidth": 2
          }
         }
        },
        "xaxis": {
         "anchor": "y",
         "domain": [
          0,
          0.94
         ]
        },
        "yaxis": {
         "anchor": "x",
         "domain": [
          0,
          1
         ],
         "title": {
          "text": "<b>sprm/h</b>"
         }
        },
        "yaxis2": {
         "anchor": "x",
         "overlaying": "y",
         "side": "right",
         "title": {
          "text": "<b>working_hour</b>"
         }
        }
       }
      }
     },
     "metadata": {},
     "output_type": "display_data"
    }
   ],
   "source": [
    "import plotly.express as px\n",
    "import plotly.graph_objects as go\n",
    "from plotly.subplots import make_subplots\n",
    "def plot_data(coach, riqi, site):\n",
    "    data = coach[coach['station_name'].str.contains(site)]\n",
    "    data = coach[coach['inc_day'] == riqi].drop_duplicates()\n",
    "    data['work_group_name'] = data['work_group_name'].fillna('unknown')\n",
    "    return data.drop_duplicates()\n",
    "def plot_(coach, riqi, site):\n",
    "    fig = make_subplots(specs=[[{\"secondary_y\": True}]])\n",
    "    data = plot_data(coach, riqi, site)\n",
    "    fig.add_trace(go.Bar(\n",
    "        x = data['worker_name'], y = data['sprm_perhour'], name = 'sprm_perhour'\n",
    "        ),\n",
    "        secondary_y = False)\n",
    "    fig.add_trace(go.Scatter(x = data['worker_name'], y = data['work_hour_in_hour'], name = 'working_hour'),\\\n",
    "        secondary_y = True)\n",
    "    # fig.update_layout(\n",
    "    #         title=go.layout.Title(text=\"工时 & sprm/h; 时间:\" + riqi + '\\t'+ coach['station_name'][0])\n",
    "    #         )\n",
    "    fig.update_yaxes(title_text=\"<b>sprm/h</b>\", secondary_y=False)\n",
    "    fig.update_yaxes(title_text=\"<b>working_hour</b>\", secondary_y=True)\n",
    "    return fig\n",
    "\n",
    "plot_(coach_out, '20211130', 'COA')"
   ]
  },
  {
   "cell_type": "code",
   "execution_count": 305,
   "metadata": {},
   "outputs": [],
   "source": [
    "plot_(coach_out, '20211130','COA').write_html('./data/c20211130.html')"
   ]
  }
 ],
 "metadata": {
  "interpreter": {
   "hash": "47b50d2908d96196e4220cfb4e81faa93803065ea975497e7026f672c1f58470"
  },
  "kernelspec": {
   "display_name": "Python 3.8.8 64-bit ('siming': conda)",
   "language": "python",
   "name": "python3"
  },
  "language_info": {
   "codemirror_mode": {
    "name": "ipython",
    "version": 3
   },
   "file_extension": ".py",
   "mimetype": "text/x-python",
   "name": "python",
   "nbconvert_exporter": "python",
   "pygments_lexer": "ipython3",
   "version": "3.8.8"
  },
  "orig_nbformat": 4
 },
 "nbformat": 4,
 "nbformat_minor": 2
}
