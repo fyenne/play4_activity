{
 "cells": [
  {
   "cell_type": "code",
   "execution_count": 182,
   "metadata": {},
   "outputs": [
    {
     "data": {
      "text/plain": [
       "'c:\\\\Users\\\\dscshap3808\\\\Documents\\\\my_scripts_new\\\\play4_activity'"
      ]
     },
     "execution_count": 182,
     "metadata": {},
     "output_type": "execute_result"
    }
   ],
   "source": [
    "import pandas as pd\n",
    "import numpy as np\n",
    "import os\n",
    "# import seaborn as sns\n",
    "# import plotly.express as px\n",
    "# import plotly.graph_objs as go\n",
    "# from plotly.tools import FigureFactory as FF\n",
    "import re\n",
    "import os\n",
    "from datetime import datetime, timedelta \n",
    "\n",
    "df = pd.DataFrame()\n",
    "os.getcwd()\n",
    " "
   ]
  },
  {
   "cell_type": "code",
   "execution_count": 682,
   "metadata": {},
   "outputs": [],
   "source": [
    "# pd.read_excel('./data/Coach11-1to11-5.xlsx', sheet_name=0)\\\n",
    "#     .to_csv('./data/coach_15.csv', encoding = 'utf_8_sig', index=None)\n",
    "coach = pd.read_csv('./data/coach_15.csv')\n",
    "coach = coach.dropna(axis=1, how = 'all')\n",
    "# task_collect = coach.groupby(['姓名', '开始日期'])['任务类型'].apply(list).astype(str).reset_index();task_collect\n",
    "# onoff = task_collect[task_collect['任务类型'].str.contains('(下班.+上班)')][['姓名','开始日期']].sum(axis = 1)\n",
    "# coach['flag'] = coach[['姓名','开始日期']].sum(axis = 1)\n",
    "coach['开始时间'] = pd.to_datetime(coach['开始时间'])\n",
    "coach['结束时间'] = pd.to_datetime(coach['结束时间'])\n",
    "\n",
    "# coach_nopunch = coach[~coach['flag'].isin(onoff)]\n",
    "# coach_dopunch = coach[ coach['flag'].isin(onoff)]\n",
    "coach['sprm'] = (60/coach['SPR标准数量']).replace([np.inf, -np.inf], 0)\n",
    "\n",
    "wh = coach.groupby(['姓名','开始日期']).agg(\n",
    "    {\n",
    "        '开始时间': 'min',\n",
    "        '结束时间': 'max',\n",
    "        'sprm': 'sum',\n",
    "    }\n",
    ").reset_index()\n",
    "wh['work_hour'] = wh['结束时间'] - wh['开始时间']\n",
    "wh['work_hour_in_min']  = [i.total_seconds()/60 for i in wh['work_hour']]\n",
    "wh['work_hour_in_hour'] = [i.total_seconds()/3600 for i in wh['work_hour']]\n",
    "wh = wh.drop(['结束时间','开始时间', 'work_hour'], axis = 1).rename({'sprm':'SPRM_total_of_day'}, axis =1)\n",
    "coach = coach.merge(wh, on = ['姓名', '开始日期'], how = 'inner')\n",
    "coach['sprm_perhour'] =  coach['SPRM_total_of_day'] / coach['work_hour_in_hour']\n",
    "\n",
    "# 标准时长计算\n",
    "coach = pd.concat([coach, pd.DataFrame(list(coach['调整后持续时间'].str.split(':')))], axis =1).drop('序号',axis =1)\n",
    "coach = coach[coach[[0,1,2]].astype(int).sum(axis = 1) != 0]\n",
    "coach[[0,1,2]] = coach[[0,1,2]].astype(int)\n",
    "coach['time_len'] = coach[0]*3600 + coach[1]*60 + coach[2]\n",
    "coach = coach.drop([0,1,2], axis = 1)"
   ]
  },
  {
   "cell_type": "code",
   "execution_count": 446,
   "metadata": {},
   "outputs": [],
   "source": [
    "# coach[coach['姓名'] == '孙清元']"
   ]
  },
  {
   "cell_type": "code",
   "execution_count": 402,
   "metadata": {},
   "outputs": [],
   "source": [
    "\n",
    "import plotly.express as px\n",
    "import plotly.graph_objects as go"
   ]
  },
  {
   "cell_type": "code",
   "execution_count": 428,
   "metadata": {},
   "outputs": [],
   "source": [
    "# plot_data('2021-11-05').info()\n",
    "# coach['开始日期'].unique()\n",
    "# array(['2021-11-05', '2021-11-04', '2021-11-03', '2021-11-02',\n",
    "#        '2021-11-01'], dtype=object)"
   ]
  },
  {
   "cell_type": "code",
   "execution_count": 685,
   "metadata": {},
   "outputs": [
    {
     "data": {
      "application/vnd.plotly.v1+json": {
       "config": {
        "plotlyServerURL": "https://plot.ly"
       },
       "data": [
        {
         "customdata": [
          [
           "unknow"
          ],
          [
           "unknow"
          ],
          [
           "unknow"
          ],
          [
           "unknow"
          ],
          [
           "unknow"
          ],
          [
           "unknow"
          ],
          [
           "unknow"
          ],
          [
           "unknow"
          ],
          [
           "unknow"
          ],
          [
           "unknow"
          ],
          [
           "unknow"
          ],
          [
           "unknow"
          ],
          [
           "unknow"
          ],
          [
           "unknow"
          ],
          [
           "unknow"
          ],
          [
           "unknow"
          ],
          [
           "unknow"
          ],
          [
           "unknow"
          ],
          [
           "unknow"
          ],
          [
           "unknow"
          ],
          [
           "unknow"
          ],
          [
           "unknow"
          ],
          [
           "unknow"
          ],
          [
           "unknow"
          ],
          [
           "unknow"
          ],
          [
           "unknow"
          ],
          [
           "unknow"
          ],
          [
           "unknow"
          ],
          [
           "unknow"
          ],
          [
           "unknow"
          ],
          [
           "unknow"
          ],
          [
           "unknow"
          ],
          [
           "unknow"
          ],
          [
           "unknow"
          ],
          [
           "unknow"
          ],
          [
           "unknow"
          ],
          [
           "unknow"
          ],
          [
           "unknow"
          ],
          [
           "unknow"
          ],
          [
           "unknow"
          ]
         ],
         "hovertemplate": "工作组=%{customdata[0]}<br>姓名=%{x}<br>sprm_perhour=%{y}<br>work_hour_in_hour=%{marker.size}<extra></extra>",
         "legendgroup": "unknow",
         "marker": {
          "color": "#636efa",
          "size": [
           13.183333333333334,
           13.183333333333334,
           13.183333333333334,
           13.183333333333334,
           13.183333333333334,
           13.233333333333333,
           13.233333333333333,
           13.233333333333333,
           7.476944444444444,
           7.476944444444444,
           7.476944444444444,
           9.083333333333334,
           9.183333333333334,
           9.183333333333334,
           9.183333333333334,
           9.183333333333334,
           9.133333333333333,
           9.133333333333333,
           9.133333333333333,
           9.133333333333333,
           9.133333333333333,
           7.9575,
           7.9575,
           7.9575,
           7.9575,
           7.218333333333334,
           7.218333333333334,
           7.218333333333334,
           7.218333333333334,
           6.662222222222222,
           6.662222222222222,
           6.662222222222222,
           5.736111111111111,
           5.736111111111111,
           6.118333333333333,
           6.118333333333333,
           6.118333333333333,
           5.923333333333333,
           5.923333333333333,
           5.923333333333333
          ],
          "sizemode": "area",
          "sizeref": 0.033541666666666664,
          "symbol": "circle"
         },
         "mode": "markers",
         "name": "unknow",
         "orientation": "v",
         "showlegend": true,
         "type": "scatter",
         "x": [
          "孙清元",
          "孙清元",
          "孙清元",
          "孙清元",
          "孙清元",
          "张康康",
          "张康康",
          "张康康",
          "牛和响",
          "牛和响",
          "牛和响",
          "李瑶",
          "胡俊荣",
          "胡俊荣",
          "胡俊荣",
          "胡俊荣",
          "潘明海",
          "潘明海",
          "潘明海",
          "潘明海",
          "潘明海",
          "郁黄祥",
          "郁黄祥",
          "郁黄祥",
          "郁黄祥",
          "高蒙蒙",
          "高蒙蒙",
          "高蒙蒙",
          "高蒙蒙",
          "张现花",
          "张现花",
          "张现花",
          "董红雷",
          "董红雷",
          "李俊丽",
          "李俊丽",
          "李俊丽",
          "杜文博",
          "杜文博",
          "杜文博"
         ],
         "xaxis": "x",
         "y": [
          8.773704171934261,
          8.773704171934261,
          8.773704171934261,
          8.773704171934261,
          8.773704171934261,
          30.47229219143577,
          30.47229219143577,
          30.47229219143577,
          107.51272430062785,
          107.51272430062785,
          107.51272430062785,
          1.6513761467889907,
          117.4410163339383,
          117.4410163339383,
          117.4410163339383,
          117.4410163339383,
          29.967153284671532,
          29.967153284671532,
          29.967153284671532,
          29.967153284671532,
          29.967153284671532,
          84.1344643418159,
          84.1344643418159,
          84.1344643418159,
          84.1344643418159,
          132.60678827060724,
          132.60678827060724,
          132.60678827060724,
          132.60678827060724,
          246.8645763842562,
          246.8645763842562,
          246.8645763842562,
          86.29539951573851,
          86.29539951573851,
          173.41323889948242,
          173.41323889948242,
          173.41323889948242,
          159.9437253798537,
          159.9437253798537,
          159.9437253798537
         ],
         "yaxis": "y"
        },
        {
         "customdata": [
          [
           "发货组"
          ]
         ],
         "hovertemplate": "工作组=%{customdata[0]}<br>姓名=%{x}<br>sprm_perhour=%{y}<br>work_hour_in_hour=%{marker.size}<extra></extra>",
         "legendgroup": "发货组",
         "marker": {
          "color": "#EF553B",
          "size": [
           13.416666666666666
          ],
          "sizemode": "area",
          "sizeref": 0.033541666666666664,
          "symbol": "circle"
         },
         "mode": "markers",
         "name": "发货组",
         "orientation": "v",
         "showlegend": true,
         "type": "scatter",
         "x": [
          "李文博"
         ],
         "xaxis": "x",
         "y": [
          1.173913043478261
         ],
         "yaxis": "y"
        },
        {
         "customdata": [
          [
           "VAS组"
          ],
          [
           "VAS组"
          ],
          [
           "VAS组"
          ]
         ],
         "hovertemplate": "工作组=%{customdata[0]}<br>姓名=%{x}<br>sprm_perhour=%{y}<br>work_hour_in_hour=%{marker.size}<extra></extra>",
         "legendgroup": "VAS组",
         "marker": {
          "color": "#00cc96",
          "size": [
           4.9425,
           4.9425,
           4.9425
          ],
          "sizemode": "area",
          "sizeref": 0.033541666666666664,
          "symbol": "circle"
         },
         "mode": "markers",
         "name": "VAS组",
         "orientation": "v",
         "showlegend": true,
         "type": "scatter",
         "x": [
          "豆富山",
          "豆富山",
          "豆富山"
         ],
         "xaxis": "x",
         "y": [
          47.72888214466363,
          47.72888214466363,
          47.72888214466363
         ],
         "yaxis": "y"
        },
        {
         "customdata": [
          [
           "拣货组"
          ],
          [
           "拣货组"
          ],
          [
           "拣货组"
          ],
          [
           "拣货组"
          ],
          [
           "拣货组"
          ],
          [
           "拣货组"
          ],
          [
           "拣货组"
          ],
          [
           "拣货组"
          ],
          [
           "拣货组"
          ],
          [
           "拣货组"
          ],
          [
           "拣货组"
          ],
          [
           "拣货组"
          ],
          [
           "拣货组"
          ]
         ],
         "hovertemplate": "工作组=%{customdata[0]}<br>姓名=%{x}<br>sprm_perhour=%{y}<br>work_hour_in_hour=%{marker.size}<extra></extra>",
         "legendgroup": "拣货组",
         "marker": {
          "color": "#ab63fa",
          "size": [
           9.166666666666666,
           9.166666666666666,
           9.066666666666666,
           9.066666666666666,
           5.990277777777778,
           5.990277777777778,
           5.068888888888889,
           5.068888888888889,
           5.068888888888889,
           5.3175,
           5.3175,
           6.183055555555556,
           6.183055555555556
          ],
          "sizemode": "area",
          "sizeref": 0.033541666666666664,
          "symbol": "circle"
         },
         "mode": "markers",
         "name": "拣货组",
         "orientation": "v",
         "showlegend": true,
         "type": "scatter",
         "x": [
          "庞士赛",
          "庞士赛",
          "彭庆伟",
          "彭庆伟",
          "李永生",
          "李永生",
          "段亚魁",
          "段亚魁",
          "段亚魁",
          "崔梦宇",
          "崔梦宇",
          "高宇波",
          "高宇波"
         ],
         "xaxis": "x",
         "y": [
          101.45454545454547,
          101.45454545454547,
          86.02941176470588,
          86.02941176470588,
          75.12172501738928,
          75.12172501738928,
          158.61464270056993,
          158.61464270056993,
          158.61464270056993,
          107.19322990126939,
          107.19322990126939,
          121.29924974167751,
          121.29924974167751
         ],
         "yaxis": "y"
        },
        {
         "customdata": [
          [
           "库存组"
          ],
          [
           "库存组"
          ],
          [
           "库存组"
          ],
          [
           "库存组"
          ],
          [
           "库存组"
          ],
          [
           "库存组"
          ],
          [
           "库存组"
          ],
          [
           "库存组"
          ]
         ],
         "hovertemplate": "工作组=%{customdata[0]}<br>姓名=%{x}<br>sprm_perhour=%{y}<br>work_hour_in_hour=%{marker.size}<extra></extra>",
         "legendgroup": "库存组",
         "marker": {
          "color": "#FFA15A",
          "size": [
           9,
           9,
           9,
           9.05,
           9.05,
           9.05,
           9.05,
           9.05
          ],
          "sizemode": "area",
          "sizeref": 0.033541666666666664,
          "symbol": "circle"
         },
         "mode": "markers",
         "name": "库存组",
         "orientation": "v",
         "showlegend": true,
         "type": "scatter",
         "x": [
          "吴飞宇",
          "吴飞宇",
          "吴飞宇",
          "宋卫华",
          "宋卫华",
          "宋卫华",
          "宋卫华",
          "宋卫华"
         ],
         "xaxis": "x",
         "y": [
          104.72222222222223,
          104.72222222222223,
          104.72222222222223,
          34.43462246777163,
          34.43462246777163,
          34.43462246777163,
          34.43462246777163,
          34.43462246777163
         ],
         "yaxis": "y"
        },
        {
         "customdata": [
          [
           "收货组"
          ],
          [
           "收货组"
          ],
          [
           "收货组"
          ],
          [
           "收货组"
          ],
          [
           "收货组"
          ]
         ],
         "hovertemplate": "工作组=%{customdata[0]}<br>姓名=%{x}<br>sprm_perhour=%{y}<br>work_hour_in_hour=%{marker.size}<extra></extra>",
         "legendgroup": "收货组",
         "marker": {
          "color": "#19d3f3",
          "size": [
           7.885,
           7.885,
           4.1947222222222225,
           4.1947222222222225,
           4.1947222222222225
          ],
          "sizemode": "area",
          "sizeref": 0.033541666666666664,
          "symbol": "circle"
         },
         "mode": "markers",
         "name": "收货组",
         "orientation": "v",
         "showlegend": true,
         "type": "scatter",
         "x": [
          "程鑫",
          "程鑫",
          "黄义林",
          "黄义林",
          "黄义林"
         ],
         "xaxis": "x",
         "y": [
          54.66074825618263,
          54.66074825618263,
          77.14455996291636,
          77.14455996291636,
          77.14455996291636
         ],
         "yaxis": "y"
        }
       ],
       "layout": {
        "legend": {
         "itemsizing": "constant",
         "title": {
          "text": "工作组"
         },
         "tracegroupgap": 0
        },
        "template": {
         "data": {
          "bar": [
           {
            "error_x": {
             "color": "#2a3f5f"
            },
            "error_y": {
             "color": "#2a3f5f"
            },
            "marker": {
             "line": {
              "color": "#E5ECF6",
              "width": 0.5
             }
            },
            "type": "bar"
           }
          ],
          "barpolar": [
           {
            "marker": {
             "line": {
              "color": "#E5ECF6",
              "width": 0.5
             }
            },
            "type": "barpolar"
           }
          ],
          "carpet": [
           {
            "aaxis": {
             "endlinecolor": "#2a3f5f",
             "gridcolor": "white",
             "linecolor": "white",
             "minorgridcolor": "white",
             "startlinecolor": "#2a3f5f"
            },
            "baxis": {
             "endlinecolor": "#2a3f5f",
             "gridcolor": "white",
             "linecolor": "white",
             "minorgridcolor": "white",
             "startlinecolor": "#2a3f5f"
            },
            "type": "carpet"
           }
          ],
          "choropleth": [
           {
            "colorbar": {
             "outlinewidth": 0,
             "ticks": ""
            },
            "type": "choropleth"
           }
          ],
          "contour": [
           {
            "colorbar": {
             "outlinewidth": 0,
             "ticks": ""
            },
            "colorscale": [
             [
              0,
              "#0d0887"
             ],
             [
              0.1111111111111111,
              "#46039f"
             ],
             [
              0.2222222222222222,
              "#7201a8"
             ],
             [
              0.3333333333333333,
              "#9c179e"
             ],
             [
              0.4444444444444444,
              "#bd3786"
             ],
             [
              0.5555555555555556,
              "#d8576b"
             ],
             [
              0.6666666666666666,
              "#ed7953"
             ],
             [
              0.7777777777777778,
              "#fb9f3a"
             ],
             [
              0.8888888888888888,
              "#fdca26"
             ],
             [
              1,
              "#f0f921"
             ]
            ],
            "type": "contour"
           }
          ],
          "contourcarpet": [
           {
            "colorbar": {
             "outlinewidth": 0,
             "ticks": ""
            },
            "type": "contourcarpet"
           }
          ],
          "heatmap": [
           {
            "colorbar": {
             "outlinewidth": 0,
             "ticks": ""
            },
            "colorscale": [
             [
              0,
              "#0d0887"
             ],
             [
              0.1111111111111111,
              "#46039f"
             ],
             [
              0.2222222222222222,
              "#7201a8"
             ],
             [
              0.3333333333333333,
              "#9c179e"
             ],
             [
              0.4444444444444444,
              "#bd3786"
             ],
             [
              0.5555555555555556,
              "#d8576b"
             ],
             [
              0.6666666666666666,
              "#ed7953"
             ],
             [
              0.7777777777777778,
              "#fb9f3a"
             ],
             [
              0.8888888888888888,
              "#fdca26"
             ],
             [
              1,
              "#f0f921"
             ]
            ],
            "type": "heatmap"
           }
          ],
          "heatmapgl": [
           {
            "colorbar": {
             "outlinewidth": 0,
             "ticks": ""
            },
            "colorscale": [
             [
              0,
              "#0d0887"
             ],
             [
              0.1111111111111111,
              "#46039f"
             ],
             [
              0.2222222222222222,
              "#7201a8"
             ],
             [
              0.3333333333333333,
              "#9c179e"
             ],
             [
              0.4444444444444444,
              "#bd3786"
             ],
             [
              0.5555555555555556,
              "#d8576b"
             ],
             [
              0.6666666666666666,
              "#ed7953"
             ],
             [
              0.7777777777777778,
              "#fb9f3a"
             ],
             [
              0.8888888888888888,
              "#fdca26"
             ],
             [
              1,
              "#f0f921"
             ]
            ],
            "type": "heatmapgl"
           }
          ],
          "histogram": [
           {
            "marker": {
             "colorbar": {
              "outlinewidth": 0,
              "ticks": ""
             }
            },
            "type": "histogram"
           }
          ],
          "histogram2d": [
           {
            "colorbar": {
             "outlinewidth": 0,
             "ticks": ""
            },
            "colorscale": [
             [
              0,
              "#0d0887"
             ],
             [
              0.1111111111111111,
              "#46039f"
             ],
             [
              0.2222222222222222,
              "#7201a8"
             ],
             [
              0.3333333333333333,
              "#9c179e"
             ],
             [
              0.4444444444444444,
              "#bd3786"
             ],
             [
              0.5555555555555556,
              "#d8576b"
             ],
             [
              0.6666666666666666,
              "#ed7953"
             ],
             [
              0.7777777777777778,
              "#fb9f3a"
             ],
             [
              0.8888888888888888,
              "#fdca26"
             ],
             [
              1,
              "#f0f921"
             ]
            ],
            "type": "histogram2d"
           }
          ],
          "histogram2dcontour": [
           {
            "colorbar": {
             "outlinewidth": 0,
             "ticks": ""
            },
            "colorscale": [
             [
              0,
              "#0d0887"
             ],
             [
              0.1111111111111111,
              "#46039f"
             ],
             [
              0.2222222222222222,
              "#7201a8"
             ],
             [
              0.3333333333333333,
              "#9c179e"
             ],
             [
              0.4444444444444444,
              "#bd3786"
             ],
             [
              0.5555555555555556,
              "#d8576b"
             ],
             [
              0.6666666666666666,
              "#ed7953"
             ],
             [
              0.7777777777777778,
              "#fb9f3a"
             ],
             [
              0.8888888888888888,
              "#fdca26"
             ],
             [
              1,
              "#f0f921"
             ]
            ],
            "type": "histogram2dcontour"
           }
          ],
          "mesh3d": [
           {
            "colorbar": {
             "outlinewidth": 0,
             "ticks": ""
            },
            "type": "mesh3d"
           }
          ],
          "parcoords": [
           {
            "line": {
             "colorbar": {
              "outlinewidth": 0,
              "ticks": ""
             }
            },
            "type": "parcoords"
           }
          ],
          "pie": [
           {
            "automargin": true,
            "type": "pie"
           }
          ],
          "scatter": [
           {
            "marker": {
             "colorbar": {
              "outlinewidth": 0,
              "ticks": ""
             }
            },
            "type": "scatter"
           }
          ],
          "scatter3d": [
           {
            "line": {
             "colorbar": {
              "outlinewidth": 0,
              "ticks": ""
             }
            },
            "marker": {
             "colorbar": {
              "outlinewidth": 0,
              "ticks": ""
             }
            },
            "type": "scatter3d"
           }
          ],
          "scattercarpet": [
           {
            "marker": {
             "colorbar": {
              "outlinewidth": 0,
              "ticks": ""
             }
            },
            "type": "scattercarpet"
           }
          ],
          "scattergeo": [
           {
            "marker": {
             "colorbar": {
              "outlinewidth": 0,
              "ticks": ""
             }
            },
            "type": "scattergeo"
           }
          ],
          "scattergl": [
           {
            "marker": {
             "colorbar": {
              "outlinewidth": 0,
              "ticks": ""
             }
            },
            "type": "scattergl"
           }
          ],
          "scattermapbox": [
           {
            "marker": {
             "colorbar": {
              "outlinewidth": 0,
              "ticks": ""
             }
            },
            "type": "scattermapbox"
           }
          ],
          "scatterpolar": [
           {
            "marker": {
             "colorbar": {
              "outlinewidth": 0,
              "ticks": ""
             }
            },
            "type": "scatterpolar"
           }
          ],
          "scatterpolargl": [
           {
            "marker": {
             "colorbar": {
              "outlinewidth": 0,
              "ticks": ""
             }
            },
            "type": "scatterpolargl"
           }
          ],
          "scatterternary": [
           {
            "marker": {
             "colorbar": {
              "outlinewidth": 0,
              "ticks": ""
             }
            },
            "type": "scatterternary"
           }
          ],
          "surface": [
           {
            "colorbar": {
             "outlinewidth": 0,
             "ticks": ""
            },
            "colorscale": [
             [
              0,
              "#0d0887"
             ],
             [
              0.1111111111111111,
              "#46039f"
             ],
             [
              0.2222222222222222,
              "#7201a8"
             ],
             [
              0.3333333333333333,
              "#9c179e"
             ],
             [
              0.4444444444444444,
              "#bd3786"
             ],
             [
              0.5555555555555556,
              "#d8576b"
             ],
             [
              0.6666666666666666,
              "#ed7953"
             ],
             [
              0.7777777777777778,
              "#fb9f3a"
             ],
             [
              0.8888888888888888,
              "#fdca26"
             ],
             [
              1,
              "#f0f921"
             ]
            ],
            "type": "surface"
           }
          ],
          "table": [
           {
            "cells": {
             "fill": {
              "color": "#EBF0F8"
             },
             "line": {
              "color": "white"
             }
            },
            "header": {
             "fill": {
              "color": "#C8D4E3"
             },
             "line": {
              "color": "white"
             }
            },
            "type": "table"
           }
          ]
         },
         "layout": {
          "annotationdefaults": {
           "arrowcolor": "#2a3f5f",
           "arrowhead": 0,
           "arrowwidth": 1
          },
          "autotypenumbers": "strict",
          "coloraxis": {
           "colorbar": {
            "outlinewidth": 0,
            "ticks": ""
           }
          },
          "colorscale": {
           "diverging": [
            [
             0,
             "#8e0152"
            ],
            [
             0.1,
             "#c51b7d"
            ],
            [
             0.2,
             "#de77ae"
            ],
            [
             0.3,
             "#f1b6da"
            ],
            [
             0.4,
             "#fde0ef"
            ],
            [
             0.5,
             "#f7f7f7"
            ],
            [
             0.6,
             "#e6f5d0"
            ],
            [
             0.7,
             "#b8e186"
            ],
            [
             0.8,
             "#7fbc41"
            ],
            [
             0.9,
             "#4d9221"
            ],
            [
             1,
             "#276419"
            ]
           ],
           "sequential": [
            [
             0,
             "#0d0887"
            ],
            [
             0.1111111111111111,
             "#46039f"
            ],
            [
             0.2222222222222222,
             "#7201a8"
            ],
            [
             0.3333333333333333,
             "#9c179e"
            ],
            [
             0.4444444444444444,
             "#bd3786"
            ],
            [
             0.5555555555555556,
             "#d8576b"
            ],
            [
             0.6666666666666666,
             "#ed7953"
            ],
            [
             0.7777777777777778,
             "#fb9f3a"
            ],
            [
             0.8888888888888888,
             "#fdca26"
            ],
            [
             1,
             "#f0f921"
            ]
           ],
           "sequentialminus": [
            [
             0,
             "#0d0887"
            ],
            [
             0.1111111111111111,
             "#46039f"
            ],
            [
             0.2222222222222222,
             "#7201a8"
            ],
            [
             0.3333333333333333,
             "#9c179e"
            ],
            [
             0.4444444444444444,
             "#bd3786"
            ],
            [
             0.5555555555555556,
             "#d8576b"
            ],
            [
             0.6666666666666666,
             "#ed7953"
            ],
            [
             0.7777777777777778,
             "#fb9f3a"
            ],
            [
             0.8888888888888888,
             "#fdca26"
            ],
            [
             1,
             "#f0f921"
            ]
           ]
          },
          "colorway": [
           "#636efa",
           "#EF553B",
           "#00cc96",
           "#ab63fa",
           "#FFA15A",
           "#19d3f3",
           "#FF6692",
           "#B6E880",
           "#FF97FF",
           "#FECB52"
          ],
          "font": {
           "color": "#2a3f5f"
          },
          "geo": {
           "bgcolor": "white",
           "lakecolor": "white",
           "landcolor": "#E5ECF6",
           "showlakes": true,
           "showland": true,
           "subunitcolor": "white"
          },
          "hoverlabel": {
           "align": "left"
          },
          "hovermode": "closest",
          "mapbox": {
           "style": "light"
          },
          "paper_bgcolor": "white",
          "plot_bgcolor": "#E5ECF6",
          "polar": {
           "angularaxis": {
            "gridcolor": "white",
            "linecolor": "white",
            "ticks": ""
           },
           "bgcolor": "#E5ECF6",
           "radialaxis": {
            "gridcolor": "white",
            "linecolor": "white",
            "ticks": ""
           }
          },
          "scene": {
           "xaxis": {
            "backgroundcolor": "#E5ECF6",
            "gridcolor": "white",
            "gridwidth": 2,
            "linecolor": "white",
            "showbackground": true,
            "ticks": "",
            "zerolinecolor": "white"
           },
           "yaxis": {
            "backgroundcolor": "#E5ECF6",
            "gridcolor": "white",
            "gridwidth": 2,
            "linecolor": "white",
            "showbackground": true,
            "ticks": "",
            "zerolinecolor": "white"
           },
           "zaxis": {
            "backgroundcolor": "#E5ECF6",
            "gridcolor": "white",
            "gridwidth": 2,
            "linecolor": "white",
            "showbackground": true,
            "ticks": "",
            "zerolinecolor": "white"
           }
          },
          "shapedefaults": {
           "line": {
            "color": "#2a3f5f"
           }
          },
          "ternary": {
           "aaxis": {
            "gridcolor": "white",
            "linecolor": "white",
            "ticks": ""
           },
           "baxis": {
            "gridcolor": "white",
            "linecolor": "white",
            "ticks": ""
           },
           "bgcolor": "#E5ECF6",
           "caxis": {
            "gridcolor": "white",
            "linecolor": "white",
            "ticks": ""
           }
          },
          "title": {
           "x": 0.05
          },
          "xaxis": {
           "automargin": true,
           "gridcolor": "white",
           "linecolor": "white",
           "ticks": "",
           "title": {
            "standoff": 15
           },
           "zerolinecolor": "white",
           "zerolinewidth": 2
          },
          "yaxis": {
           "automargin": true,
           "gridcolor": "white",
           "linecolor": "white",
           "ticks": "",
           "title": {
            "standoff": 15
           },
           "zerolinecolor": "white",
           "zerolinewidth": 2
          }
         }
        },
        "title": {
         "text": "报告日期2021-11-03"
        },
        "xaxis": {
         "anchor": "y",
         "domain": [
          0,
          1
         ],
         "title": {
          "text": "姓名"
         }
        },
        "yaxis": {
         "anchor": "x",
         "domain": [
          0,
          1
         ],
         "title": {
          "text": "sprm_perhour"
         }
        }
       }
      }
     },
     "metadata": {},
     "output_type": "display_data"
    }
   ],
   "source": [
    "def plot_data(riqi):\n",
    "    data = coach[coach['开始日期'] == riqi][['姓名', '工作组', '直属上级', '任职时间', '职位',\\\n",
    "    'sprm', 'SPRM_total_of_day', 'work_hour_in_min',\n",
    "    'work_hour_in_hour', 'sprm_perhour']].drop_duplicates()\n",
    "    data['工作组'] = data['工作组'].fillna('unknow')\n",
    "    data['工作组'] = data['工作组'].fillna('unknow')\n",
    "\n",
    "    return data\n",
    "def plot_(riqi):\n",
    "    fig2 = px.scatter(\n",
    "        data_frame = plot_data(riqi), x = '姓名', y= 'sprm_perhour', hover_data=['工作组' ],\n",
    "        size = 'work_hour_in_hour', color = '工作组', \n",
    "        # facet_col = '开始日期', \n",
    "        title= \"报告日期\" + riqi)  \n",
    "    # hover_data=  ['account_name_en'] , \n",
    "\n",
    "\n",
    "    # fig2.add_hline(y = line_20, line_width=3, line_dash=\"dash\", line_color=\"black\", opacity = .4,\\\n",
    "    #     annotation_text=\"2020 <br> weighted mean profit_rate <br>, %s\" %line_20 , \n",
    "    #     annotation_position=\"top right\", annotation_opacity = .4, col = 1)\n",
    "    # fig2.add_hline(y = line_21, line_width=3, line_dash=\"dash\", line_color=\"black\", opacity = .4,\\\n",
    "    #     annotation_text=\"2021 <br> weighted mean profit_rate <br>, %s\" %line_21 , \n",
    "    #     annotation_position=\"top right\", annotation_opacity = .4, col = 2)\n",
    "\n",
    "    return fig2\n",
    "\n",
    "plot_('2021-11-03')"
   ]
  },
  {
   "cell_type": "code",
   "execution_count": 283,
   "metadata": {},
   "outputs": [],
   "source": [
    "# SELECT  * FROM dm_dsc_smart.dwd_task\n",
    "# where substr(station_name, 1,4) = 'COAC'\n",
    "# and work_group_id != 0 and work_group_name != ''\n",
    "# and inc_day = '20211127'\n",
    " "
   ]
  },
  {
   "cell_type": "code",
   "execution_count": 525,
   "metadata": {},
   "outputs": [],
   "source": []
  },
  {
   "cell_type": "code",
   "execution_count": 534,
   "metadata": {},
   "outputs": [],
   "source": [
    "# coach = coach.dropna(how = 'all', axis = 1)\n",
    "    # time_convert()\n",
    "def time_convert(col):\n",
    "    coach[col] = coach[col].astype(int)\n",
    "    coach[col] = [datetime.fromtimestamp(i).strftime('%Y-%m-%d %H:%M:%S') for i in coach[col]]\n",
    "    return coach\n",
    "for i in ['start_time', 'end_time', 'hire_time', 'update_time']:\n",
    "    time_convert(i)\n",
    "coach['start_time'] = pd.to_datetime(coach['start_time'])\n",
    "coach['end_time']   = pd.to_datetime(coach['end_time'])\n",
    "coach['sprm'] = (60/coach['work_content_refer']).replace([np.inf, -np.inf], 0)\n",
    "\n",
    "\n",
    "# wh = coach.groupby(['worker_name','start_date']).agg(\n",
    "#         {\n",
    "#             'start_time': 'min',\n",
    "#             'end_time': 'max',\n",
    "#             'sprm': 'sum',\n",
    "#         }\n",
    "#     ).reset_index()\n",
    "# wh['work_hour'] = wh['结束时间'] - wh['开始时间']\n",
    "# wh['work_hour_in_min']  = [i.total_seconds()/60 for i in wh['work_hour']]\n",
    "# wh['work_hour_in_hour'] = [i.total_seconds()/3600 for i in wh['work_hour']]\n",
    "# wh = wh.drop(['结束时间','开始时间', 'work_hour'], axis = 1).rename({'sprm':'SPRM_total_of_day'}, axis =1)\n",
    "# coach = coach.merge(wh, on = ['姓名', '开始日期'], how = 'inner')"
   ]
  },
  {
   "cell_type": "code",
   "execution_count": 541,
   "metadata": {},
   "outputs": [
    {
     "data": {
      "text/html": [
       "<div>\n",
       "<style scoped>\n",
       "    .dataframe tbody tr th:only-of-type {\n",
       "        vertical-align: middle;\n",
       "    }\n",
       "\n",
       "    .dataframe tbody tr th {\n",
       "        vertical-align: top;\n",
       "    }\n",
       "\n",
       "    .dataframe thead th {\n",
       "        text-align: right;\n",
       "    }\n",
       "</style>\n",
       "<table border=\"1\" class=\"dataframe\">\n",
       "  <thead>\n",
       "    <tr style=\"text-align: right;\">\n",
       "      <th></th>\n",
       "      <th>station_name</th>\n",
       "      <th>worker_name</th>\n",
       "      <th>work_group_name</th>\n",
       "      <th>up_worker_name</th>\n",
       "      <th>hire_time</th>\n",
       "      <th>worker_post_name</th>\n",
       "      <th>worker_level_name</th>\n",
       "      <th>work_num</th>\n",
       "      <th>start_time</th>\n",
       "      <th>end_time</th>\n",
       "      <th>...</th>\n",
       "      <th>min_operate_volume</th>\n",
       "      <th>work_content</th>\n",
       "      <th>work_content_refer</th>\n",
       "      <th>work_content_is_measure</th>\n",
       "      <th>start_date</th>\n",
       "      <th>end_date</th>\n",
       "      <th>report_date</th>\n",
       "      <th>create_time</th>\n",
       "      <th>update_time</th>\n",
       "      <th>sprm</th>\n",
       "    </tr>\n",
       "  </thead>\n",
       "  <tbody>\n",
       "    <tr>\n",
       "      <th>4052</th>\n",
       "      <td>COACH SHA WGQ WHS</td>\n",
       "      <td>孙孟孟</td>\n",
       "      <td>NaN</td>\n",
       "      <td>Michelle Wu</td>\n",
       "      <td>1970-01-01 08:00:00</td>\n",
       "      <td>操作员</td>\n",
       "      <td>操作员</td>\n",
       "      <td>0.0</td>\n",
       "      <td>2021-11-27 06:25:02</td>\n",
       "      <td>2021-11-27 06:25:13</td>\n",
       "      <td>...</td>\n",
       "      <td>0.0</td>\n",
       "      <td>叉车安全检查</td>\n",
       "      <td>0</td>\n",
       "      <td>0</td>\n",
       "      <td>2021-11-27</td>\n",
       "      <td>2021-11-27</td>\n",
       "      <td>2021-11-27</td>\n",
       "      <td>1638231191</td>\n",
       "      <td>2021-11-30 08:13:11</td>\n",
       "      <td>0.0</td>\n",
       "    </tr>\n",
       "    <tr>\n",
       "      <th>4053</th>\n",
       "      <td>COACH SHA WGQ WHS</td>\n",
       "      <td>孙孟孟</td>\n",
       "      <td>NaN</td>\n",
       "      <td>Michelle Wu</td>\n",
       "      <td>1970-01-01 08:00:00</td>\n",
       "      <td>操作员</td>\n",
       "      <td>操作员</td>\n",
       "      <td>0.0</td>\n",
       "      <td>2021-11-27 06:25:13</td>\n",
       "      <td>2021-11-27 15:25:02</td>\n",
       "      <td>...</td>\n",
       "      <td>0.0</td>\n",
       "      <td>无效时间</td>\n",
       "      <td>0</td>\n",
       "      <td>0</td>\n",
       "      <td>2021-11-27</td>\n",
       "      <td>2021-11-27</td>\n",
       "      <td>2021-11-27</td>\n",
       "      <td>1638231191</td>\n",
       "      <td>2021-11-30 08:13:11</td>\n",
       "      <td>0.0</td>\n",
       "    </tr>\n",
       "  </tbody>\n",
       "</table>\n",
       "<p>2 rows × 29 columns</p>\n",
       "</div>"
      ],
      "text/plain": [
       "           station_name worker_name work_group_name up_worker_name  \\\n",
       "4052  COACH SHA WGQ WHS         孙孟孟             NaN    Michelle Wu   \n",
       "4053  COACH SHA WGQ WHS         孙孟孟             NaN    Michelle Wu   \n",
       "\n",
       "                hire_time worker_post_name worker_level_name  work_num  \\\n",
       "4052  1970-01-01 08:00:00              操作员               操作员       0.0   \n",
       "4053  1970-01-01 08:00:00              操作员               操作员       0.0   \n",
       "\n",
       "              start_time            end_time  ...  min_operate_volume  \\\n",
       "4052 2021-11-27 06:25:02 2021-11-27 06:25:13  ...                 0.0   \n",
       "4053 2021-11-27 06:25:13 2021-11-27 15:25:02  ...                 0.0   \n",
       "\n",
       "      work_content  work_content_refer work_content_is_measure  start_date  \\\n",
       "4052        叉车安全检查                   0                       0  2021-11-27   \n",
       "4053          无效时间                   0                       0  2021-11-27   \n",
       "\n",
       "        end_date  report_date  create_time          update_time  sprm  \n",
       "4052  2021-11-27   2021-11-27   1638231191  2021-11-30 08:13:11   0.0  \n",
       "4053  2021-11-27   2021-11-27   1638231191  2021-11-30 08:13:11   0.0  \n",
       "\n",
       "[2 rows x 29 columns]"
      ]
     },
     "execution_count": 541,
     "metadata": {},
     "output_type": "execute_result"
    }
   ],
   "source": [
    "coach[coach[['duration',\n",
    "    'adjustment_duration', 'adjusted_duration', ]].sum(axis = 1) != 0]"
   ]
  },
  {
   "cell_type": "code",
   "execution_count": 511,
   "metadata": {},
   "outputs": [],
   "source": [
    "# # coach= coach.drop(['dwd_task_id', 'station_id', 'work_turn_id', 'raw_data'], axis  =1)\n",
    "\n",
    "# coach['work_content'].value_counts()\n",
    "# coach['work_content_refer'].value_counts()\n",
    "# coach"
   ]
  },
  {
   "cell_type": "code",
   "execution_count": 477,
   "metadata": {},
   "outputs": [],
   "source": [
    "# %%time\n",
    "# df = pd.DataFrame()\n",
    "# for i in np.arange(coach.shape[0]):\n",
    "#     df = pd.concat([pd.DataFrame.from_dict(json.loads(coach['raw_data'][i]), orient=\"index\" ).T, df], axis = 0)"
   ]
  },
  {
   "cell_type": "code",
   "execution_count": 689,
   "metadata": {},
   "outputs": [
    {
     "name": "stderr",
     "output_type": "stream",
     "text": [
      "C:\\Users\\dscshap3808\\Miniconda3\\envs\\siming\\lib\\site-packages\\IPython\\core\\interactiveshell.py:3441: DtypeWarning:\n",
      "\n",
      "Columns (9,37,42) have mixed types.Specify dtype option on import or set low_memory=False.\n",
      "\n"
     ]
    },
    {
     "name": "stdout",
     "output_type": "stream",
     "text": [
      "(57315, 27)\n"
     ]
    }
   ],
   "source": [
    "coach = pd.read_csv('./data/coach_bdp_all.csv', sep = '\\001')\n",
    "coach = coach.dropna(how = 'all', axis = 1)\n",
    "coach.columns = [re.sub('\\w+\\.', '', i) for i in list(coach.columns)]\n",
    "coach = coach[['station_name','worker_name', 'work_group_name', 'up_worker_name',\\\n",
    "    'hire_time', 'worker_post_name', 'work_num', 'start_time', 'end_time', 'duration',\n",
    "    'adjustment_duration', 'adjusted_duration', 'sku_no', 'min_package_quantity', 'min_operate_length', 'min_operate_width',\n",
    "    'min_operate_height', 'min_operate_weight', 'min_operate_volume',\n",
    "    'work_content', 'work_content_refer', 'work_content_is_measure',\n",
    "    'start_date', 'end_date', 'report_date', 'create_time', 'update_time']]\n",
    "print(coach.shape)"
   ]
  },
  {
   "cell_type": "code",
   "execution_count": 653,
   "metadata": {},
   "outputs": [],
   "source": [
    "# coach[coach['start_date'] == '2021-11-23'] "
   ]
  },
  {
   "cell_type": "code",
   "execution_count": 663,
   "metadata": {},
   "outputs": [],
   "source": [
    "def plot0_date(date, col):\n",
    "    # sns.histplot(\n",
    "    return coach[coach['start_date'] == date][col].value_counts()"
   ]
  },
  {
   "cell_type": "code",
   "execution_count": 673,
   "metadata": {},
   "outputs": [
    {
     "data": {
      "text/plain": [
       "0      5614\n",
       "360     786\n",
       "15      143\n",
       "Name: work_content_refer, dtype: int64"
      ]
     },
     "execution_count": 673,
     "metadata": {},
     "output_type": "execute_result"
    }
   ],
   "source": [
    "plot0_date('2021-11-28', 'work_content_refer')\n",
    "# pd.set_option(\"display.max_rows\", 15, \"display.max_columns\", None)\n",
    "# coach.head()"
   ]
  },
  {
   "cell_type": "code",
   "execution_count": 690,
   "metadata": {},
   "outputs": [],
   "source": [
    "def data_prepare(coach):\n",
    "\n",
    "    \"\"\"\n",
    "    time unix convert, \n",
    "    转换后标准时长换算成秒,\n",
    "    sprm 计算.\n",
    "    工作在勤时间\n",
    "    \"\"\"\n",
    "    coach = coach.dropna(how = 'all', axis = 1)\n",
    "    \n",
    "    # time_convert()\n",
    "    def time_convert(col):\n",
    "        coach[col] = coach[col].astype(int)\n",
    "        coach[col] = [datetime.fromtimestamp(i).strftime('%Y-%m-%d %H:%M:%S') for i in coach[col]]\n",
    "        return coach\n",
    "    for i in ['start_time', 'end_time', 'hire_time', 'update_time']:\n",
    "        time_convert(i)\n",
    "    coach['start_time'] = pd.to_datetime(coach['start_time'])\n",
    "    coach['end_time']   = pd.to_datetime(coach['end_time'])\n",
    "    # coach['duration'] =  coach['end_time'] - coach['start_time']\n",
    "    # coach = coach[coach['duration'] != '0']\n",
    "    # sprm calculation\n",
    "    coach['sprm'] = (60/coach['work_content_refer']).replace([np.inf, -np.inf], 0)\n",
    "    wh = coach.groupby(['worker_name','start_date']).agg(\n",
    "        {\n",
    "            'start_time': 'min',\n",
    "            'end_time': 'max',\n",
    "            'sprm': 'sum',\n",
    "        }\n",
    "    ).reset_index()\n",
    "    wh['work_hour'] = wh['end_time'] - wh['start_time']\n",
    "    wh['work_hour_in_min']  = [i.total_seconds()/60 for i in wh['work_hour']]\n",
    "    wh['work_hour_in_hour'] = [i.total_seconds()/3600 for i in wh['work_hour']]\n",
    "    wh = wh.drop(['end_time','start_time', 'work_hour'], axis = 1).rename({'sprm':'SPRM_total_of_day'}, axis =1)\n",
    "    coach = coach.merge(wh, on = ['worker_name', 'start_date'], how = 'inner')\n",
    "    # coach = coach[coach['duration'] != '0']\n",
    "    coach = coach[coach['sprm'] != 0]\n",
    "    coach['sprm_perhour'] =  coach['SPRM_total_of_day'] / coach['work_hour_in_hour']\n",
    "    \"\"\"\n",
    "    计算转换后时间长度, 换算成 \n",
    "    秒\n",
    "    \"\"\"\n",
    "    # coach = pd.concat([coach, pd.DataFrame(list(coach['adjusted_duration'].str.split(':')))], axis =1) \n",
    "    # coach = coach[coach[[0,1,2]].astype(int).sum(axis = 1) != 0]\n",
    "    # coach[[0,1,2]] = coach[[0,1,2]].astype(int)\n",
    "    # coach['time_len'] = coach[0]*3600 + coach[1]*60 + coach[2]\n",
    "    # coach = coach.drop([0,1,2], axis = 1) \n",
    "    \n",
    "    return coach\n",
    "coach = data_prepare(coach)\n"
   ]
  },
  {
   "cell_type": "code",
   "execution_count": 692,
   "metadata": {},
   "outputs": [
    {
     "data": {
      "text/plain": [
       "31921    20211128\n",
       "31922    20211128\n",
       "31923    20211128\n",
       "31924    20211128\n",
       "31925    20211128\n",
       "           ...   \n",
       "44339    20211129\n",
       "44340    20211129\n",
       "44341    20211129\n",
       "44342    20211129\n",
       "45228    20211129\n",
       "Name: start_date, Length: 2490, dtype: object"
      ]
     },
     "execution_count": 692,
     "metadata": {},
     "output_type": "execute_result"
    }
   ],
   "source": [
    "# coach[~coach['work_group_name'].isna()]\n",
    "coach['start_date'].astype(str).str.replace('-', '')"
   ]
  },
  {
   "cell_type": "code",
   "execution_count": 681,
   "metadata": {},
   "outputs": [
    {
     "data": {
      "application/vnd.plotly.v1+json": {
       "config": {
        "plotlyServerURL": "https://plot.ly"
       },
       "data": [
        {
         "customdata": [
          [
           "unknown"
          ],
          [
           "unknown"
          ]
         ],
         "hovertemplate": "work_group_name=%{customdata[0]}<br>worker_name=%{x}<br>sprm_perhour=%{y}<br>work_hour_in_hour=%{marker.size}<extra></extra>",
         "legendgroup": "unknown",
         "marker": {
          "color": "#636efa",
          "size": [
           9,
           14.279444444444444
          ],
          "sizemode": "area",
          "sizeref": 0.03569861111111111,
          "symbol": "circle"
         },
         "mode": "markers",
         "name": "unknown",
         "orientation": "v",
         "showlegend": true,
         "type": "scatter",
         "x": [
          "牛和响",
          "张现花"
         ],
         "xaxis": "x",
         "y": [
          2.4814814814814814,
          7.469945142590359
         ],
         "yaxis": "y"
        },
        {
         "customdata": [
          [
           "库存组"
          ]
         ],
         "hovertemplate": "work_group_name=%{customdata[0]}<br>worker_name=%{x}<br>sprm_perhour=%{y}<br>work_hour_in_hour=%{marker.size}<extra></extra>",
         "legendgroup": "库存组",
         "marker": {
          "color": "#EF553B",
          "size": [
           9
          ],
          "sizemode": "area",
          "sizeref": 0.03569861111111111,
          "symbol": "circle"
         },
         "mode": "markers",
         "name": "库存组",
         "orientation": "v",
         "showlegend": true,
         "type": "scatter",
         "x": [
          "吴飞宇"
         ],
         "xaxis": "x",
         "y": [
          63.55555555555556
         ],
         "yaxis": "y"
        },
        {
         "customdata": [
          [
           "VAS组"
          ]
         ],
         "hovertemplate": "work_group_name=%{customdata[0]}<br>worker_name=%{x}<br>sprm_perhour=%{y}<br>work_hour_in_hour=%{marker.size}<extra></extra>",
         "legendgroup": "VAS组",
         "marker": {
          "color": "#00cc96",
          "size": [
           9
          ],
          "sizemode": "area",
          "sizeref": 0.03569861111111111,
          "symbol": "circle"
         },
         "mode": "markers",
         "name": "VAS组",
         "orientation": "v",
         "showlegend": true,
         "type": "scatter",
         "x": [
          "豆富山"
         ],
         "xaxis": "x",
         "y": [
          0.2222222222222222
         ],
         "yaxis": "y"
        }
       ],
       "layout": {
        "legend": {
         "itemsizing": "constant",
         "title": {
          "text": "work_group_name"
         },
         "tracegroupgap": 0
        },
        "template": {
         "data": {
          "bar": [
           {
            "error_x": {
             "color": "#2a3f5f"
            },
            "error_y": {
             "color": "#2a3f5f"
            },
            "marker": {
             "line": {
              "color": "#E5ECF6",
              "width": 0.5
             }
            },
            "type": "bar"
           }
          ],
          "barpolar": [
           {
            "marker": {
             "line": {
              "color": "#E5ECF6",
              "width": 0.5
             }
            },
            "type": "barpolar"
           }
          ],
          "carpet": [
           {
            "aaxis": {
             "endlinecolor": "#2a3f5f",
             "gridcolor": "white",
             "linecolor": "white",
             "minorgridcolor": "white",
             "startlinecolor": "#2a3f5f"
            },
            "baxis": {
             "endlinecolor": "#2a3f5f",
             "gridcolor": "white",
             "linecolor": "white",
             "minorgridcolor": "white",
             "startlinecolor": "#2a3f5f"
            },
            "type": "carpet"
           }
          ],
          "choropleth": [
           {
            "colorbar": {
             "outlinewidth": 0,
             "ticks": ""
            },
            "type": "choropleth"
           }
          ],
          "contour": [
           {
            "colorbar": {
             "outlinewidth": 0,
             "ticks": ""
            },
            "colorscale": [
             [
              0,
              "#0d0887"
             ],
             [
              0.1111111111111111,
              "#46039f"
             ],
             [
              0.2222222222222222,
              "#7201a8"
             ],
             [
              0.3333333333333333,
              "#9c179e"
             ],
             [
              0.4444444444444444,
              "#bd3786"
             ],
             [
              0.5555555555555556,
              "#d8576b"
             ],
             [
              0.6666666666666666,
              "#ed7953"
             ],
             [
              0.7777777777777778,
              "#fb9f3a"
             ],
             [
              0.8888888888888888,
              "#fdca26"
             ],
             [
              1,
              "#f0f921"
             ]
            ],
            "type": "contour"
           }
          ],
          "contourcarpet": [
           {
            "colorbar": {
             "outlinewidth": 0,
             "ticks": ""
            },
            "type": "contourcarpet"
           }
          ],
          "heatmap": [
           {
            "colorbar": {
             "outlinewidth": 0,
             "ticks": ""
            },
            "colorscale": [
             [
              0,
              "#0d0887"
             ],
             [
              0.1111111111111111,
              "#46039f"
             ],
             [
              0.2222222222222222,
              "#7201a8"
             ],
             [
              0.3333333333333333,
              "#9c179e"
             ],
             [
              0.4444444444444444,
              "#bd3786"
             ],
             [
              0.5555555555555556,
              "#d8576b"
             ],
             [
              0.6666666666666666,
              "#ed7953"
             ],
             [
              0.7777777777777778,
              "#fb9f3a"
             ],
             [
              0.8888888888888888,
              "#fdca26"
             ],
             [
              1,
              "#f0f921"
             ]
            ],
            "type": "heatmap"
           }
          ],
          "heatmapgl": [
           {
            "colorbar": {
             "outlinewidth": 0,
             "ticks": ""
            },
            "colorscale": [
             [
              0,
              "#0d0887"
             ],
             [
              0.1111111111111111,
              "#46039f"
             ],
             [
              0.2222222222222222,
              "#7201a8"
             ],
             [
              0.3333333333333333,
              "#9c179e"
             ],
             [
              0.4444444444444444,
              "#bd3786"
             ],
             [
              0.5555555555555556,
              "#d8576b"
             ],
             [
              0.6666666666666666,
              "#ed7953"
             ],
             [
              0.7777777777777778,
              "#fb9f3a"
             ],
             [
              0.8888888888888888,
              "#fdca26"
             ],
             [
              1,
              "#f0f921"
             ]
            ],
            "type": "heatmapgl"
           }
          ],
          "histogram": [
           {
            "marker": {
             "colorbar": {
              "outlinewidth": 0,
              "ticks": ""
             }
            },
            "type": "histogram"
           }
          ],
          "histogram2d": [
           {
            "colorbar": {
             "outlinewidth": 0,
             "ticks": ""
            },
            "colorscale": [
             [
              0,
              "#0d0887"
             ],
             [
              0.1111111111111111,
              "#46039f"
             ],
             [
              0.2222222222222222,
              "#7201a8"
             ],
             [
              0.3333333333333333,
              "#9c179e"
             ],
             [
              0.4444444444444444,
              "#bd3786"
             ],
             [
              0.5555555555555556,
              "#d8576b"
             ],
             [
              0.6666666666666666,
              "#ed7953"
             ],
             [
              0.7777777777777778,
              "#fb9f3a"
             ],
             [
              0.8888888888888888,
              "#fdca26"
             ],
             [
              1,
              "#f0f921"
             ]
            ],
            "type": "histogram2d"
           }
          ],
          "histogram2dcontour": [
           {
            "colorbar": {
             "outlinewidth": 0,
             "ticks": ""
            },
            "colorscale": [
             [
              0,
              "#0d0887"
             ],
             [
              0.1111111111111111,
              "#46039f"
             ],
             [
              0.2222222222222222,
              "#7201a8"
             ],
             [
              0.3333333333333333,
              "#9c179e"
             ],
             [
              0.4444444444444444,
              "#bd3786"
             ],
             [
              0.5555555555555556,
              "#d8576b"
             ],
             [
              0.6666666666666666,
              "#ed7953"
             ],
             [
              0.7777777777777778,
              "#fb9f3a"
             ],
             [
              0.8888888888888888,
              "#fdca26"
             ],
             [
              1,
              "#f0f921"
             ]
            ],
            "type": "histogram2dcontour"
           }
          ],
          "mesh3d": [
           {
            "colorbar": {
             "outlinewidth": 0,
             "ticks": ""
            },
            "type": "mesh3d"
           }
          ],
          "parcoords": [
           {
            "line": {
             "colorbar": {
              "outlinewidth": 0,
              "ticks": ""
             }
            },
            "type": "parcoords"
           }
          ],
          "pie": [
           {
            "automargin": true,
            "type": "pie"
           }
          ],
          "scatter": [
           {
            "marker": {
             "colorbar": {
              "outlinewidth": 0,
              "ticks": ""
             }
            },
            "type": "scatter"
           }
          ],
          "scatter3d": [
           {
            "line": {
             "colorbar": {
              "outlinewidth": 0,
              "ticks": ""
             }
            },
            "marker": {
             "colorbar": {
              "outlinewidth": 0,
              "ticks": ""
             }
            },
            "type": "scatter3d"
           }
          ],
          "scattercarpet": [
           {
            "marker": {
             "colorbar": {
              "outlinewidth": 0,
              "ticks": ""
             }
            },
            "type": "scattercarpet"
           }
          ],
          "scattergeo": [
           {
            "marker": {
             "colorbar": {
              "outlinewidth": 0,
              "ticks": ""
             }
            },
            "type": "scattergeo"
           }
          ],
          "scattergl": [
           {
            "marker": {
             "colorbar": {
              "outlinewidth": 0,
              "ticks": ""
             }
            },
            "type": "scattergl"
           }
          ],
          "scattermapbox": [
           {
            "marker": {
             "colorbar": {
              "outlinewidth": 0,
              "ticks": ""
             }
            },
            "type": "scattermapbox"
           }
          ],
          "scatterpolar": [
           {
            "marker": {
             "colorbar": {
              "outlinewidth": 0,
              "ticks": ""
             }
            },
            "type": "scatterpolar"
           }
          ],
          "scatterpolargl": [
           {
            "marker": {
             "colorbar": {
              "outlinewidth": 0,
              "ticks": ""
             }
            },
            "type": "scatterpolargl"
           }
          ],
          "scatterternary": [
           {
            "marker": {
             "colorbar": {
              "outlinewidth": 0,
              "ticks": ""
             }
            },
            "type": "scatterternary"
           }
          ],
          "surface": [
           {
            "colorbar": {
             "outlinewidth": 0,
             "ticks": ""
            },
            "colorscale": [
             [
              0,
              "#0d0887"
             ],
             [
              0.1111111111111111,
              "#46039f"
             ],
             [
              0.2222222222222222,
              "#7201a8"
             ],
             [
              0.3333333333333333,
              "#9c179e"
             ],
             [
              0.4444444444444444,
              "#bd3786"
             ],
             [
              0.5555555555555556,
              "#d8576b"
             ],
             [
              0.6666666666666666,
              "#ed7953"
             ],
             [
              0.7777777777777778,
              "#fb9f3a"
             ],
             [
              0.8888888888888888,
              "#fdca26"
             ],
             [
              1,
              "#f0f921"
             ]
            ],
            "type": "surface"
           }
          ],
          "table": [
           {
            "cells": {
             "fill": {
              "color": "#EBF0F8"
             },
             "line": {
              "color": "white"
             }
            },
            "header": {
             "fill": {
              "color": "#C8D4E3"
             },
             "line": {
              "color": "white"
             }
            },
            "type": "table"
           }
          ]
         },
         "layout": {
          "annotationdefaults": {
           "arrowcolor": "#2a3f5f",
           "arrowhead": 0,
           "arrowwidth": 1
          },
          "autotypenumbers": "strict",
          "coloraxis": {
           "colorbar": {
            "outlinewidth": 0,
            "ticks": ""
           }
          },
          "colorscale": {
           "diverging": [
            [
             0,
             "#8e0152"
            ],
            [
             0.1,
             "#c51b7d"
            ],
            [
             0.2,
             "#de77ae"
            ],
            [
             0.3,
             "#f1b6da"
            ],
            [
             0.4,
             "#fde0ef"
            ],
            [
             0.5,
             "#f7f7f7"
            ],
            [
             0.6,
             "#e6f5d0"
            ],
            [
             0.7,
             "#b8e186"
            ],
            [
             0.8,
             "#7fbc41"
            ],
            [
             0.9,
             "#4d9221"
            ],
            [
             1,
             "#276419"
            ]
           ],
           "sequential": [
            [
             0,
             "#0d0887"
            ],
            [
             0.1111111111111111,
             "#46039f"
            ],
            [
             0.2222222222222222,
             "#7201a8"
            ],
            [
             0.3333333333333333,
             "#9c179e"
            ],
            [
             0.4444444444444444,
             "#bd3786"
            ],
            [
             0.5555555555555556,
             "#d8576b"
            ],
            [
             0.6666666666666666,
             "#ed7953"
            ],
            [
             0.7777777777777778,
             "#fb9f3a"
            ],
            [
             0.8888888888888888,
             "#fdca26"
            ],
            [
             1,
             "#f0f921"
            ]
           ],
           "sequentialminus": [
            [
             0,
             "#0d0887"
            ],
            [
             0.1111111111111111,
             "#46039f"
            ],
            [
             0.2222222222222222,
             "#7201a8"
            ],
            [
             0.3333333333333333,
             "#9c179e"
            ],
            [
             0.4444444444444444,
             "#bd3786"
            ],
            [
             0.5555555555555556,
             "#d8576b"
            ],
            [
             0.6666666666666666,
             "#ed7953"
            ],
            [
             0.7777777777777778,
             "#fb9f3a"
            ],
            [
             0.8888888888888888,
             "#fdca26"
            ],
            [
             1,
             "#f0f921"
            ]
           ]
          },
          "colorway": [
           "#636efa",
           "#EF553B",
           "#00cc96",
           "#ab63fa",
           "#FFA15A",
           "#19d3f3",
           "#FF6692",
           "#B6E880",
           "#FF97FF",
           "#FECB52"
          ],
          "font": {
           "color": "#2a3f5f"
          },
          "geo": {
           "bgcolor": "white",
           "lakecolor": "white",
           "landcolor": "#E5ECF6",
           "showlakes": true,
           "showland": true,
           "subunitcolor": "white"
          },
          "hoverlabel": {
           "align": "left"
          },
          "hovermode": "closest",
          "mapbox": {
           "style": "light"
          },
          "paper_bgcolor": "white",
          "plot_bgcolor": "#E5ECF6",
          "polar": {
           "angularaxis": {
            "gridcolor": "white",
            "linecolor": "white",
            "ticks": ""
           },
           "bgcolor": "#E5ECF6",
           "radialaxis": {
            "gridcolor": "white",
            "linecolor": "white",
            "ticks": ""
           }
          },
          "scene": {
           "xaxis": {
            "backgroundcolor": "#E5ECF6",
            "gridcolor": "white",
            "gridwidth": 2,
            "linecolor": "white",
            "showbackground": true,
            "ticks": "",
            "zerolinecolor": "white"
           },
           "yaxis": {
            "backgroundcolor": "#E5ECF6",
            "gridcolor": "white",
            "gridwidth": 2,
            "linecolor": "white",
            "showbackground": true,
            "ticks": "",
            "zerolinecolor": "white"
           },
           "zaxis": {
            "backgroundcolor": "#E5ECF6",
            "gridcolor": "white",
            "gridwidth": 2,
            "linecolor": "white",
            "showbackground": true,
            "ticks": "",
            "zerolinecolor": "white"
           }
          },
          "shapedefaults": {
           "line": {
            "color": "#2a3f5f"
           }
          },
          "ternary": {
           "aaxis": {
            "gridcolor": "white",
            "linecolor": "white",
            "ticks": ""
           },
           "baxis": {
            "gridcolor": "white",
            "linecolor": "white",
            "ticks": ""
           },
           "bgcolor": "#E5ECF6",
           "caxis": {
            "gridcolor": "white",
            "linecolor": "white",
            "ticks": ""
           }
          },
          "title": {
           "x": 0.05
          },
          "xaxis": {
           "automargin": true,
           "gridcolor": "white",
           "linecolor": "white",
           "ticks": "",
           "title": {
            "standoff": 15
           },
           "zerolinecolor": "white",
           "zerolinewidth": 2
          },
          "yaxis": {
           "automargin": true,
           "gridcolor": "white",
           "linecolor": "white",
           "ticks": "",
           "title": {
            "standoff": 15
           },
           "zerolinecolor": "white",
           "zerolinewidth": 2
          }
         }
        },
        "title": {
         "text": "报告日期2021-11-28"
        },
        "xaxis": {
         "anchor": "y",
         "domain": [
          0,
          1
         ],
         "title": {
          "text": "worker_name"
         }
        },
        "yaxis": {
         "anchor": "x",
         "domain": [
          0,
          1
         ],
         "title": {
          "text": "sprm_perhour"
         }
        }
       }
      }
     },
     "metadata": {},
     "output_type": "display_data"
    }
   ],
   "source": [
    "def plot_data(riqi):\n",
    "    data = coach[coach['start_date'] == riqi][['worker_name', 'work_group_name', 'up_worker_name', 'hire_time', 'worker_post_name',\\\n",
    "    'sprm', 'SPRM_total_of_day', 'work_hour_in_min',\n",
    "    'work_hour_in_hour', 'sprm_perhour']].drop_duplicates()\n",
    "    data['work_group_name'] = data['work_group_name'].fillna('unknown')\n",
    "    return data\n",
    "def plot_(riqi):\n",
    "    fig2 = px.scatter(\n",
    "        data_frame = plot_data(riqi), x = 'worker_name', y= 'sprm_perhour',\n",
    "        size = 'work_hour_in_hour', color = 'work_group_name',  hover_data=['work_group_name'],\n",
    "        # facet_col = '开始日期', \n",
    "        title= \"报告日期\" + riqi)  \n",
    "    # hover_data=  ['account_name_en'] , \n",
    "\n",
    "\n",
    "    # fig2.add_hline(y = line_20, line_width=3, line_dash=\"dash\", line_color=\"black\", opacity = .4,\\\n",
    "    #     annotation_text=\"2020 <br> weighted mean profit_rate <br>, %s\" %line_20 , \n",
    "    #     annotation_position=\"top right\", annotation_opacity = .4, col = 1)\n",
    "    # fig2.add_hline(y = line_21, line_width=3, line_dash=\"dash\", line_color=\"black\", opacity = .4,\\\n",
    "    #     annotation_text=\"2021 <br> weighted mean profit_rate <br>, %s\" %line_21 , \n",
    "    #     annotation_position=\"top right\", annotation_opacity = .4, col = 2)\n",
    "\n",
    "    return fig2\n",
    "\n",
    "plot_('2021-11-28')"
   ]
  }
 ],
 "metadata": {
  "interpreter": {
   "hash": "47b50d2908d96196e4220cfb4e81faa93803065ea975497e7026f672c1f58470"
  },
  "kernelspec": {
   "display_name": "Python 3.8.8 64-bit ('siming': conda)",
   "language": "python",
   "name": "python3"
  },
  "language_info": {
   "codemirror_mode": {
    "name": "ipython",
    "version": 3
   },
   "file_extension": ".py",
   "mimetype": "text/x-python",
   "name": "python",
   "nbconvert_exporter": "python",
   "pygments_lexer": "ipython3",
   "version": "3.8.8"
  },
  "orig_nbformat": 4
 },
 "nbformat": 4,
 "nbformat_minor": 2
}
