{
 "cells": [
  {
   "cell_type": "code",
   "execution_count": 4,
   "metadata": {},
   "outputs": [
    {
     "data": {
      "text/plain": [
       "'c:\\\\Users\\\\dscshap3808\\\\Documents\\\\my_scripts_new\\\\play4_activity'"
      ]
     },
     "execution_count": 4,
     "metadata": {},
     "output_type": "execute_result"
    }
   ],
   "source": [
    "import pandas as pd\n",
    "import numpy as np\n",
    "import os\n",
    "# import seaborn as sns\n",
    "# import plotly.express as px\n",
    "# import plotly.graph_objs as go\n",
    "# from plotly.tools import FigureFactory as FF\n",
    "import re\n",
    "import os\n",
    "from datetime import datetime, timedelta\n",
    "\n",
    "df = pd.DataFrame()\n",
    "os.getcwd()\n",
    "\n",
    "# df = pd.read_clipboard(header = None)\n",
    "# df[0] = pd.to_datetime(df[0].astype(str), yearfirst=True)\n",
    "# px.line(df, x= 0, y = 1)"
   ]
  },
  {
   "cell_type": "code",
   "execution_count": 11,
   "metadata": {},
   "outputs": [],
   "source": [
    "# df = pd.read_csv('./data/siemens_1012.csv')\n",
    "df = pd.read_csv('./data/coach_1108.csv', sep  = '\\001')\n",
    "re1 = re.compile(r'(?<=\\.).+')\n",
    "df.columns = [re1.findall(i)[0] for i in list(df.columns.to_numpy())]\n",
    "df = df.dropna(subset=['activity_start_time'])"
   ]
  },
  {
   "cell_type": "code",
   "execution_count": 12,
   "metadata": {},
   "outputs": [],
   "source": [
    "df['activity_end_time'] = pd.to_datetime(df['activity_end_time'])\n",
    "df['activity_start_time'] = pd.to_datetime(df['activity_start_time'].fillna(0))\n",
    "df['create_time'] = pd.to_datetime(df['create_time'])"
   ]
  },
  {
   "cell_type": "code",
   "execution_count": 13,
   "metadata": {},
   "outputs": [],
   "source": [
    "\"\"\"\n",
    "time_gap_inner d单个activity的耗费时间.\n",
    "\"\"\"\n",
    "df['time_gap_inner'] = df['activity_end_time']-df['activity_start_time']\n",
    "df['time_gap_inner'] = df['time_gap_inner'].fillna(\n",
    "    timedelta(0)\n",
    "    ).apply(timedelta.total_seconds)\n",
    "df['time_gap_inner'] = [0 if i < 0 else i for i in df['time_gap_inner']]\n",
    "\n",
    "\"\"\"\n",
    "time_gap_outer 前一个activity到后一个activity相差的时间\\. (单个时间内会有大量activity发生.)\n",
    "act type is new mission;\n",
    "\"\"\"\n",
    "df = df.sort_values(['activity_end_time', 'user_id'])\n",
    "df['time_gap_outer'] = df\\\n",
    "    .groupby(['user_id','inc_day'], dropna = False)['activity_end_time'].transform('diff')\n",
    "df['time_gap_outer'] = df['time_gap_outer'].fillna(timedelta(0)).apply(timedelta.total_seconds)\n",
    "df['time_gap_outer'] = [0 if i< 0 else i for i in df['time_gap_outer']]\n",
    "\n",
    "\"\"\"\n",
    "time gap of the day. 总计活跃时间, ( 未减除动作间的时间间隔 )\n",
    "\"\"\"\n",
    "mid1 = df.groupby(['inc_day', 'user_id']).agg(\n",
    "    a = ('activity_start_time','min'), \n",
    "    b  = ('activity_start_time', 'max'))\\\n",
    "        [['a','b']].diff(axis = 1)['b'].apply(timedelta.total_seconds).reset_index()\n",
    "mid1.columns = ['inc_day','user_id','time_gap_today']\n",
    "df = df.merge(mid1, on = ['inc_day', 'user_id'], how = 'left')\n"
   ]
  },
  {
   "cell_type": "code",
   "execution_count": 14,
   "metadata": {},
   "outputs": [],
   "source": [
    "def get_hour():\n",
    "    list = ['activity_start_time', 'activity_end_time','create_time']\n",
    "    \n",
    "    for i in list: \n",
    "        listnew = i + '_hour'\n",
    "        df[listnew] = df[i].dt.round('min').astype(str).str.slice(11,)\n",
    "    return df\n",
    "df = get_hour() "
   ]
  },
  {
   "cell_type": "code",
   "execution_count": 15,
   "metadata": {},
   "outputs": [],
   "source": [
    "df['activity_start_time_sec'] = df['activity_start_time'].astype(str).str.slice(11,)\n",
    "df['activity_end_time_sec'] = df['activity_end_time'].astype(str).str.slice(11,)"
   ]
  },
  {
   "cell_type": "code",
   "execution_count": 17,
   "metadata": {},
   "outputs": [],
   "source": [
    "# pd.set_option(\"display.max_rows\", None, \"display.max_columns\", 55)\n",
    "# df[df['user_id'] == 'BJMARS003'].query('time_gap_outer != 0')[[\n",
    "#     'activity_start_time', 'activity_end_time','time_gap_inner'\t,'time_gap_outer','time_gap_today']].\\\n",
    "#         sort_values('activity_start_time', ascending=False)"
   ]
  },
  {
   "cell_type": "code",
   "execution_count": 44,
   "metadata": {},
   "outputs": [
    {
     "data": {
      "text/plain": [
       "array([25323.])"
      ]
     },
     "execution_count": 44,
     "metadata": {},
     "output_type": "execute_result"
    }
   ],
   "source": [
    "df[df['user_id'] == 'ADC002RF'].time_gap_today.unique()"
   ]
  },
  {
   "cell_type": "code",
   "execution_count": 46,
   "metadata": {},
   "outputs": [],
   "source": [
    "cals = df.groupby(['user_id', 'inc_day', 'ou_code', 'activity_type']).agg(\n",
    "    time_inner_sum = ('time_gap_inner', 'sum'),\n",
    "    time_outer_sum = ('time_gap_outer', 'sum'),\n",
    "    time_today_sum = ('time_gap_today', 'mean'),\n",
    "    tt_qty = ('qty', 'sum')).reset_index()\n",
    "cals['total_eff'] = cals.groupby(['user_id', 'inc_day', 'ou_code'])['time_inner_sum']\\\n",
    "    .transform('sum') / cals['time_today_sum']"
   ]
  },
  {
   "cell_type": "code",
   "execution_count": 73,
   "metadata": {},
   "outputs": [],
   "source": [
    "cals['inner_eff']    = cals['time_inner_sum'] / cals['tt_qty']\n",
    "cals['rested_rate']  = cals['time_outer_sum'] / cals['time_today_sum']\n",
    "cals['actived_rate'] = cals['time_inner_sum'] / cals['time_today_sum']\n",
    "cals = cals.fillna(0)"
   ]
  },
  {
   "cell_type": "code",
   "execution_count": 74,
   "metadata": {},
   "outputs": [],
   "source": [
    "cals.to_csv('./data/cals_coach.csv', index = None)"
   ]
  },
  {
   "cell_type": "code",
   "execution_count": 47,
   "metadata": {},
   "outputs": [],
   "source": [
    "# df[['ou_code',   'wms_warehouse_id', 'user_id', 'activity_type' ,\n",
    "#        'activity_start_time', 'activity_end_time',   \n",
    "#        'activity_id',  'lpn','sku_code', 'qty',\n",
    "#        'time_gap_inner','time_gap_outer','time_gap_today',\n",
    "#        'activity_start_time_hour', 'activity_end_time_hour', 'create_time_hour']]\\\n",
    "#               .query(\"user_id == 'DGMHE' & activity_start_time == '2021-09-26 00:00:35' \")"
   ]
  },
  {
   "cell_type": "code",
   "execution_count": 48,
   "metadata": {},
   "outputs": [],
   "source": [
    "# pd.set_option(\"display.max_rows\", 15, \"display.max_columns\", 15)\n",
    "# df[df['user_id'] == 'DGMHE'].query(\"time_gap_outer > 10.0\") \n",
    "\n",
    "def check(id):\n",
    "    # print(\"===\", df[df['user_id'] == id]['ou_name'].iloc[0],\"===\" , '\\n', 'usr_id = ',id)\n",
    "    for i, j  in enumerate([1,10, 30, 60, 600, 14400]):\n",
    "        q = \"time_gap_outer > \" + str(j) \n",
    "        print(\n",
    "            \"和上个动作时间差距为\" , j, '到' , [1,10, 30, 60, 600, 14400, '14400+'][i+1] , \n",
    "            '秒的动作数为: ', df[df['user_id'] == id].query(q).shape[0]) "
   ]
  },
  {
   "cell_type": "code",
   "execution_count": 49,
   "metadata": {},
   "outputs": [
    {
     "name": "stdout",
     "output_type": "stream",
     "text": [
      "和上个动作时间差距为 1 到 10 秒的动作数为:  0\n",
      "和上个动作时间差距为 10 到 30 秒的动作数为:  0\n",
      "和上个动作时间差距为 30 到 60 秒的动作数为:  0\n",
      "和上个动作时间差距为 60 到 600 秒的动作数为:  0\n",
      "和上个动作时间差距为 600 到 14400 秒的动作数为:  0\n",
      "和上个动作时间差距为 14400 到 14400+ 秒的动作数为:  0\n"
     ]
    }
   ],
   "source": [
    "check('DSCSZVP0162')"
   ]
  },
  {
   "cell_type": "code",
   "execution_count": 18,
   "metadata": {},
   "outputs": [],
   "source": [
    "df[['ou_code', 'wms_warehouse_id', 'user_id', 'activity_type', 'activity_sub_type',\n",
    "       'activity_start_time', 'activity_end_time', 'lpn', 'sku_code',\n",
    "       'order_id', 'from_location', 'to_location', 'qty', 'create_time',\n",
    "       'activity_id', 'inc_day',\n",
    "       'time_gap_inner','time_gap_outer','time_gap_today',\n",
    "       'activity_start_time_hour', 'activity_end_time_hour',\n",
    "       'create_time_hour','activity_start_time_sec', 'activity_end_time_sec']].\\\n",
    "              to_csv('./activi_for.csv', index=None, encoding='utf_8_sig')"
   ]
  },
  {
   "cell_type": "code",
   "execution_count": null,
   "metadata": {},
   "outputs": [],
   "source": [
    "# df.groupby(['inc_day', 'user_id']).agg(\n",
    "#     a = ('activity_start_time','min'), \n",
    "#     b  = ('activity_start_time', 'max'))[['a','b']].diff(axis = 1)['b']\\\n",
    "# .apply(timedelta.total_seconds).reset_index()\n",
    "# df[df['user_id'] == 'DSCSZXP0325'][[\n",
    "# 'activity_start_time','time_gap_inner','time_gap_outer','time_gap_today'\n",
    "# ]].sort_values('activity_start_time')"
   ]
  },
  {
   "cell_type": "code",
   "execution_count": 31,
   "metadata": {},
   "outputs": [],
   "source": [
    "data = df[['ou_code', 'wms_warehouse_id', 'user_id', 'activity_type', 'activity_sub_type',\n",
    "       'activity_start_time', 'activity_end_time', 'lpn', 'sku_code',\n",
    "       'order_id', 'from_location', 'to_location', 'qty', 'create_time',\n",
    "       'activity_id', 'inc_day',\n",
    "       'time_gap_inner','time_gap_outer','time_gap_today',\n",
    "       'activity_start_time_hour', 'activity_end_time_hour',\n",
    "       'create_time_hour','activity_start_time_sec', 'activity_end_time_sec']]\n",
    "\n",
    "data[[ 'sku_code']] = data[[ 'sku_code']].fillna(0).astype(int)"
   ]
  },
  {
   "cell_type": "code",
   "execution_count": null,
   "metadata": {},
   "outputs": [],
   "source": [
    "import statsmodels.api"
   ]
  },
  {
   "cell_type": "code",
   "execution_count": 42,
   "metadata": {},
   "outputs": [
    {
     "data": {
      "text/plain": [
       "0.0       24735\n",
       "1.0        5440\n",
       "4.0        3225\n",
       "3.0        3016\n",
       "5.0        2863\n",
       "          ...  \n",
       "3057.0        1\n",
       "2223.0        1\n",
       "1623.0        1\n",
       "2511.0        1\n",
       "376.0         1\n",
       "Name: time_gap_inner, Length: 784, dtype: int64"
      ]
     },
     "execution_count": 42,
     "metadata": {},
     "output_type": "execute_result"
    }
   ],
   "source": [
    "data['time_gap_inner'].value_counts()"
   ]
  },
  {
   "cell_type": "code",
   "execution_count": 1,
   "metadata": {},
   "outputs": [],
   "source": [
    "# px.histogram(data['time_gap_inner'])"
   ]
  },
  {
   "cell_type": "code",
   "execution_count": 43,
   "metadata": {},
   "outputs": [
    {
     "data": {
      "text/plain": [
       "0.0       17208\n",
       "5.0        5568\n",
       "6.0        4181\n",
       "1.0        3786\n",
       "4.0        3230\n",
       "          ...  \n",
       "758.0         1\n",
       "936.0         1\n",
       "8285.0        1\n",
       "975.0         1\n",
       "2102.0        1\n",
       "Name: time_gap_outer, Length: 874, dtype: int64"
      ]
     },
     "execution_count": 43,
     "metadata": {},
     "output_type": "execute_result"
    }
   ],
   "source": [
    "data['time_gap_outer'].value_counts()"
   ]
  },
  {
   "cell_type": "code",
   "execution_count": 2,
   "metadata": {},
   "outputs": [],
   "source": [
    "# px.histogram(data['time_gap_outer'])"
   ]
  }
 ],
 "metadata": {
  "interpreter": {
   "hash": "47b50d2908d96196e4220cfb4e81faa93803065ea975497e7026f672c1f58470"
  },
  "kernelspec": {
   "display_name": "Python 3.8.8 64-bit ('siming': conda)",
   "name": "python3"
  },
  "language_info": {
   "codemirror_mode": {
    "name": "ipython",
    "version": 3
   },
   "file_extension": ".py",
   "mimetype": "text/x-python",
   "name": "python",
   "nbconvert_exporter": "python",
   "pygments_lexer": "ipython3",
   "version": "3.8.8"
  },
  "orig_nbformat": 4
 },
 "nbformat": 4,
 "nbformat_minor": 2
}
