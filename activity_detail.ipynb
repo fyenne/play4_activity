{
 "cells": [
  {
   "cell_type": "code",
   "execution_count": 169,
   "source": [
    "import pandas as pd\r\n",
    "import numpy as np\r\n",
    "import os\r\n",
    "import seaborn as sns\r\n",
    "import plotly.express as px\r\n",
    "import plotly.graph_objs as go\r\n",
    "from plotly.tools import FigureFactory as FF\r\n",
    "import re\r\n",
    "import os\r\n",
    "from datetime import datetime, timedelta\r\n",
    "os.getcwd()\r\n",
    "df = pd.DataFrame()"
   ],
   "outputs": [],
   "metadata": {}
  },
  {
   "cell_type": "code",
   "execution_count": 324,
   "source": [
    "df = pd.read_csv('./dws_dsc_activity_hourly_detail_di.csv', nrows = 15555)\r\n",
    "re1 = re.compile(r'(?<=\\.).+')\r\n",
    "df.columns = [re1.findall(i)[0] for i in list(df.columns.to_numpy())]\r\n"
   ],
   "outputs": [],
   "metadata": {}
  },
  {
   "cell_type": "code",
   "execution_count": 293,
   "source": [
    "df.columns"
   ],
   "outputs": [
    {
     "output_type": "execute_result",
     "data": {
      "text/plain": [
       "Index(['ou_code', 'ou_name', 'bg_code', 'bg_name_cn', 'customer_id',\n",
       "       'customer_name', 'year', 'quarter', 'month', 'operation_day', 'hour',\n",
       "       'wms_warehouse_id', 'user_id', 'activity_type', 'activity_sub_type',\n",
       "       'activity_start_time', 'activity_end_time', 'lpn', 'sku_code',\n",
       "       'order_id', 'from_location', 'to_location', 'qty', 'create_time',\n",
       "       'internal_container_num', 'internal_id', 'activity_id',\n",
       "       'wms_company_id', 'inc_day'],\n",
       "      dtype='object')"
      ]
     },
     "metadata": {},
     "execution_count": 293
    }
   ],
   "metadata": {}
  },
  {
   "cell_type": "code",
   "execution_count": 325,
   "source": [
    "df['activity_end_time'] = pd.to_datetime(df['activity_end_time']).fillna(timedelta(0))\r\n",
    "df['activity_start_time'] = pd.to_datetime(df['activity_start_time']).fillna(timedelta(0))"
   ],
   "outputs": [],
   "metadata": {}
  },
  {
   "cell_type": "code",
   "execution_count": 326,
   "source": [
    "\"\"\"\r\n",
    "d单个activity的耗费时间.\r\n",
    "\"\"\"\r\n",
    "df['time_gap_inner'] = df['activity_end_time']-df['activity_start_time']\r\n",
    "df['time_gap_inner'] = df['time_gap_inner'].fillna(\r\n",
    "    timedelta(0)\r\n",
    "    ).apply(timedelta.total_seconds)\r\n",
    "df['time_gap_inner'] = [0 if i< 0 else i for i in df['time_gap_inner']]\r\n",
    "\r\n",
    "\"\"\"\r\n",
    "前一个activity到后一个activity相差的时间\\.\r\n",
    "\"\"\"\r\n",
    "df = df.sort_values('activity_start_time')\r\n",
    "df['time_gap_outer'] = df\\\r\n",
    "    .groupby(['user_id','inc_day'], dropna = False)['activity_start_time'].transform('diff')\r\n",
    "df['time_gap_outer'] = df['time_gap_outer'].fillna(timedelta(0)).apply(timedelta.total_seconds)\r\n",
    "df['time_gap_outer'] = [0 if i< 0 else i for i in df['time_gap_outer']]\r\n",
    "\r\n",
    "\"\"\"\r\n",
    "time gap of the day.\r\n",
    "\"\"\"\r\n",
    "mid1 = df.groupby(['inc_day', 'user_id']).agg(\r\n",
    "    a = ('activity_start_time','min'), \r\n",
    "    b  = ('activity_start_time', 'max'))\\\r\n",
    "        [['a','b']].diff(axis = 1)['b'].apply(timedelta.total_seconds).reset_index()\r\n",
    "mid1.columns = ['inc_day','user_id','time_gap_today']\r\n",
    "df = df.merge(mid1, on = ['inc_day', 'user_id'], how = 'left')\r\n"
   ],
   "outputs": [],
   "metadata": {}
  },
  {
   "cell_type": "code",
   "execution_count": 327,
   "source": [
    "def get_hour():\r\n",
    "    list = ['activity_start_time', 'activity_end_time','create_time']\r\n",
    "    \r\n",
    "    for i in list:\r\n",
    "        listnew = i + '_hour'\r\n",
    "        df[listnew] = df[i].astype(str).str.slice(12,)\r\n",
    "    return df\r\n",
    "df = get_hour()\r\n",
    "df[['activity_start_time_hour','activity_start_time']]"
   ],
   "outputs": [],
   "metadata": {}
  },
  {
   "cell_type": "code",
   "execution_count": 328,
   "source": [
    "# df.groupby(['inc_day', 'user_id']).agg(\r\n",
    "#     a = ('activity_start_time','min'), \r\n",
    "#     b  = ('activity_start_time', 'max'))[['a','b']].diff(axis = 1)['b']\\\r\n",
    "# .apply(timedelta.total_seconds).reset_index()\r\n",
    "# df[df['user_id'] == 'DSCSZXP0325'][[\r\n",
    "# 'activity_start_time','time_gap_inner','time_gap_outer','time_gap_today'\r\n",
    "# ]].sort_values('activity_start_time')"
   ],
   "outputs": [],
   "metadata": {}
  },
  {
   "cell_type": "code",
   "execution_count": 329,
   "source": [],
   "outputs": [],
   "metadata": {}
  },
  {
   "cell_type": "code",
   "execution_count": 302,
   "source": [
    "df[['ou_code', 'ou_name', 'bg_code', 'bg_name_cn', 'customer_id',\r\n",
    "       'customer_name', 'hour',\r\n",
    "       'wms_warehouse_id', 'user_id', 'activity_type', 'activity_sub_type',\r\n",
    "       'activity_start_time', 'activity_end_time', 'lpn', 'sku_code',\r\n",
    "       'order_id', 'from_location', 'to_location', 'qty', 'create_time',\r\n",
    "       'activity_id', 'inc_day',\r\n",
    "       'time_gap_inner','time_gap_outer','time_gap_today']].\\\r\n",
    "              to_csv('./activi_for.csv', index=None, encoding='utf_8_sig')"
   ],
   "outputs": [],
   "metadata": {}
  }
 ],
 "metadata": {
  "orig_nbformat": 4,
  "language_info": {
   "name": "python",
   "version": "3.8.8",
   "mimetype": "text/x-python",
   "codemirror_mode": {
    "name": "ipython",
    "version": 3
   },
   "pygments_lexer": "ipython3",
   "nbconvert_exporter": "python",
   "file_extension": ".py"
  },
  "kernelspec": {
   "name": "python3",
   "display_name": "Python 3.8.8 64-bit ('siming': conda)"
  },
  "interpreter": {
   "hash": "47b50d2908d96196e4220cfb4e81faa93803065ea975497e7026f672c1f58470"
  }
 },
 "nbformat": 4,
 "nbformat_minor": 2
}