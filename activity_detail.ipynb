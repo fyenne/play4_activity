{
 "cells": [
  {
   "cell_type": "code",
   "execution_count": 18,
   "source": [
    "import pandas as pd\r\n",
    "import numpy as np\r\n",
    "import os\r\n",
    "import seaborn as sns\r\n",
    "import plotly.express as px\r\n",
    "import plotly.graph_objs as go\r\n",
    "from plotly.tools import FigureFactory as FF\r\n",
    "import re\r\n",
    "import os\r\n",
    "from datetime import datetime, timedelta\r\n",
    "os.getcwd()\r\n",
    "df = pd.DataFrame()"
   ],
   "outputs": [],
   "metadata": {}
  },
  {
   "cell_type": "code",
   "execution_count": 19,
   "source": [
    "df = pd.read_csv('./siemens.csv')\r\n",
    "re1 = re.compile(r'(?<=\\.).+')\r\n",
    "df.columns = [re1.findall(i)[0] for i in list(df.columns.to_numpy())]\r\n",
    "df = df.dropna(subset=['activity_start_time'])\r\n"
   ],
   "outputs": [],
   "metadata": {}
  },
  {
   "cell_type": "code",
   "execution_count": 20,
   "source": [
    "df['activity_end_time'] = pd.to_datetime(df['activity_end_time'])\r\n",
    "df['activity_start_time'] = pd.to_datetime(df['activity_start_time'].fillna(0))\r\n",
    "df['create_time'] = pd.to_datetime(df['create_time'])"
   ],
   "outputs": [],
   "metadata": {}
  },
  {
   "cell_type": "code",
   "execution_count": 21,
   "source": [
    "\"\"\"\r\n",
    "d单个activity的耗费时间.\r\n",
    "\"\"\"\r\n",
    "df['time_gap_inner'] = df['activity_end_time']-df['activity_start_time']\r\n",
    "df['time_gap_inner'] = df['time_gap_inner'].fillna(\r\n",
    "    timedelta(0)\r\n",
    "    ).apply(timedelta.total_seconds)\r\n",
    "df['time_gap_inner'] = [0 if i < 0 else i for i in df['time_gap_inner']]\r\n",
    "\r\n",
    "\"\"\"\r\n",
    "前一个activity到后一个activity相差的时间\\. (单个时间内会有大量activity发生.)\r\n",
    "\"\"\"\r\n",
    "df = df.sort_values('activity_start_time')\r\n",
    "df['time_gap_outer'] = df\\\r\n",
    "    .groupby(['user_id','inc_day'], dropna = False)['activity_start_time'].transform('diff')\r\n",
    "df['time_gap_outer'] = df['time_gap_outer'].fillna(timedelta(0)).apply(timedelta.total_seconds)\r\n",
    "df['time_gap_outer'] = [0 if i< 0 else i for i in df['time_gap_outer']]\r\n",
    "\r\n",
    "\"\"\"\r\n",
    "time gap of the day. 总计活跃时间, ( 未减除动作间的时间间隔 )\r\n",
    "\"\"\"\r\n",
    "mid1 = df.groupby(['inc_day', 'user_id']).agg(\r\n",
    "    a = ('activity_start_time','min'), \r\n",
    "    b  = ('activity_start_time', 'max'))\\\r\n",
    "        [['a','b']].diff(axis = 1)['b'].apply(timedelta.total_seconds).reset_index()\r\n",
    "mid1.columns = ['inc_day','user_id','time_gap_today']\r\n",
    "df = df.merge(mid1, on = ['inc_day', 'user_id'], how = 'left')\r\n"
   ],
   "outputs": [],
   "metadata": {}
  },
  {
   "cell_type": "code",
   "execution_count": 22,
   "source": [
    "def get_hour():\r\n",
    "    list = ['activity_start_time', 'activity_end_time','create_time']\r\n",
    "    \r\n",
    "    for i in list: \r\n",
    "        listnew = i + '_hour'\r\n",
    "        df[listnew] = df[i].dt.round('min').astype(str).str.slice(11,)\r\n",
    "    return df\r\n",
    "df = get_hour() "
   ],
   "outputs": [],
   "metadata": {}
  },
  {
   "cell_type": "code",
   "execution_count": 23,
   "source": [
    "df['activity_start_time_sec'] = df['activity_start_time'].astype(str).str.slice(11,)\r\n",
    "df['activity_end_time_sec'] = df['activity_end_time'].astype(str).str.slice(11,)"
   ],
   "outputs": [],
   "metadata": {}
  },
  {
   "cell_type": "code",
   "execution_count": 24,
   "source": [
    "# pd.set_option(\"display.max_rows\", None, \"display.max_columns\", 55)\r\n",
    "# df[df['user_id'] == 'BJMARS003'].query('time_gap_outer != 0')[[\r\n",
    "#     'activity_start_time', 'activity_end_time','time_gap_inner'\t,'time_gap_outer','time_gap_today']].\\\r\n",
    "#         sort_values('activity_start_time', ascending=False)"
   ],
   "outputs": [],
   "metadata": {}
  },
  {
   "cell_type": "code",
   "execution_count": 25,
   "source": [
    "df[['ou_code',   'wms_warehouse_id', 'user_id', 'activity_type' ,\r\n",
    "       'activity_start_time', 'activity_end_time',   \r\n",
    "       'activity_id',  'lpn','sku_code', 'qty',\r\n",
    "       'time_gap_inner','time_gap_outer','time_gap_today',\r\n",
    "       'activity_start_time_hour', 'activity_end_time_hour', 'create_time_hour']]\\\r\n",
    "              .query(\"user_id == 'DGMHE' & activity_start_time == '2021-09-26 00:00:35' \")"
   ],
   "outputs": [
    {
     "output_type": "execute_result",
     "data": {
      "text/html": [
       "<div>\n",
       "<style scoped>\n",
       "    .dataframe tbody tr th:only-of-type {\n",
       "        vertical-align: middle;\n",
       "    }\n",
       "\n",
       "    .dataframe tbody tr th {\n",
       "        vertical-align: top;\n",
       "    }\n",
       "\n",
       "    .dataframe thead th {\n",
       "        text-align: right;\n",
       "    }\n",
       "</style>\n",
       "<table border=\"1\" class=\"dataframe\">\n",
       "  <thead>\n",
       "    <tr style=\"text-align: right;\">\n",
       "      <th></th>\n",
       "      <th>ou_code</th>\n",
       "      <th>wms_warehouse_id</th>\n",
       "      <th>user_id</th>\n",
       "      <th>activity_type</th>\n",
       "      <th>activity_start_time</th>\n",
       "      <th>activity_end_time</th>\n",
       "      <th>activity_id</th>\n",
       "      <th>lpn</th>\n",
       "      <th>sku_code</th>\n",
       "      <th>qty</th>\n",
       "      <th>time_gap_inner</th>\n",
       "      <th>time_gap_outer</th>\n",
       "      <th>time_gap_today</th>\n",
       "      <th>activity_start_time_hour</th>\n",
       "      <th>activity_end_time_hour</th>\n",
       "      <th>create_time_hour</th>\n",
       "    </tr>\n",
       "  </thead>\n",
       "  <tbody>\n",
       "  </tbody>\n",
       "</table>\n",
       "</div>"
      ],
      "text/plain": [
       "Empty DataFrame\n",
       "Columns: [ou_code, wms_warehouse_id, user_id, activity_type, activity_start_time, activity_end_time, activity_id, lpn, sku_code, qty, time_gap_inner, time_gap_outer, time_gap_today, activity_start_time_hour, activity_end_time_hour, create_time_hour]\n",
       "Index: []"
      ]
     },
     "metadata": {},
     "execution_count": 25
    }
   ],
   "metadata": {}
  },
  {
   "cell_type": "code",
   "execution_count": 26,
   "source": [
    "pd.set_option(\"display.max_rows\", 15, \"display.max_columns\", 15)\r\n",
    "\r\n",
    "df[df['user_id'] == 'DGMHE'].query(\"time_gap_outer > 10.0\") \r\n",
    "\r\n",
    "def check(id):\r\n",
    "    print(\"===\", df[df['user_id'] == id]['ou_name'].iloc[0],\"===\" , '\\n', 'usr_id = ',id)\r\n",
    "    for i, j  in enumerate([1,10, 30, 60, 600, 14400]):\r\n",
    "        q = \"time_gap_outer > \" + str(j) \r\n",
    "        print(\r\n",
    "            \"和上个动作时间差距为\" , j, '到' , [1,10, 30, 60, 600, 14400, '14400+'][i+1] , \r\n",
    "            '秒的动作数为: ', df[df['user_id'] == id].query(q).shape[0]) "
   ],
   "outputs": [],
   "metadata": {}
  },
  {
   "cell_type": "code",
   "execution_count": 28,
   "source": [
    "# df[['ou_code', 'ou_name', 'wms_warehouse_id', 'user_id', 'activity_type' ,\r\n",
    "#        'activity_start_time', 'activity_end_time',   \r\n",
    "#        'activity_id',  'lpn','sku_code', \r\n",
    "#        'time_gap_inner','time_gap_outer','time_gap_today',\r\n",
    "#        'activity_start_time_hour', 'activity_end_time_hour', 'create_time_hour']]\\\r\n",
    "#               .query(\"user_id == 'DGMHE' & time_gap_outer>=   300.0\")"
   ],
   "outputs": [],
   "metadata": {}
  },
  {
   "cell_type": "code",
   "execution_count": null,
   "source": [
    "check('SIERF22')"
   ],
   "outputs": [],
   "metadata": {}
  },
  {
   "cell_type": "code",
   "execution_count": null,
   "source": [
    "check('DSCJAXP0043')"
   ],
   "outputs": [],
   "metadata": {}
  },
  {
   "cell_type": "code",
   "execution_count": null,
   "source": [
    "df[['ou_name', 'user_id']].drop_duplicates()"
   ],
   "outputs": [],
   "metadata": {}
  },
  {
   "cell_type": "code",
   "execution_count": 29,
   "source": [
    "df[['ou_code',   \r\n",
    "       \r\n",
    "       'wms_warehouse_id', 'user_id', 'activity_type', 'activity_sub_type',\r\n",
    "       'activity_start_time', 'activity_end_time', 'lpn', 'sku_code',\r\n",
    "       'order_id', 'from_location', 'to_location', 'qty', 'create_time',\r\n",
    "       'activity_id', 'inc_day',\r\n",
    "       'time_gap_inner','time_gap_outer','time_gap_today',\r\n",
    "       'activity_start_time_hour', 'activity_end_time_hour', 'create_time_hour','activity_start_time_sec']].\\\r\n",
    "              to_csv('./activi_for.csv', index=None, encoding='utf_8_sig')"
   ],
   "outputs": [],
   "metadata": {}
  },
  {
   "cell_type": "code",
   "execution_count": null,
   "source": [
    "# df.groupby(['inc_day', 'user_id']).agg(\r\n",
    "#     a = ('activity_start_time','min'), \r\n",
    "#     b  = ('activity_start_time', 'max'))[['a','b']].diff(axis = 1)['b']\\\r\n",
    "# .apply(timedelta.total_seconds).reset_index()\r\n",
    "# df[df['user_id'] == 'DSCSZXP0325'][[\r\n",
    "# 'activity_start_time','time_gap_inner','time_gap_outer','time_gap_today'\r\n",
    "# ]].sort_values('activity_start_time')"
   ],
   "outputs": [],
   "metadata": {}
  },
  {
   "cell_type": "code",
   "execution_count": null,
   "source": [
    "plt_data = df[['ou_code', 'ou_name', 'bg_code', 'bg_name_cn', 'customer_id',\r\n",
    "       'customer_name', 'hour',\r\n",
    "       'wms_warehouse_id', 'user_id', 'activity_type', 'activity_sub_type',\r\n",
    "       'activity_start_time', 'activity_end_time', 'lpn', 'sku_code',\r\n",
    "       'order_id', 'from_location', 'to_location', 'qty', 'create_time',\r\n",
    "       'activity_id', 'inc_day',\r\n",
    "       'time_gap_inner','time_gap_outer','time_gap_today',\r\n",
    "       'activity_start_time_hour', 'activity_end_time_hour', 'create_time_hour']]"
   ],
   "outputs": [],
   "metadata": {}
  },
  {
   "cell_type": "code",
   "execution_count": null,
   "source": [
    "import seaborn as sns"
   ],
   "outputs": [],
   "metadata": {}
  },
  {
   "cell_type": "code",
   "execution_count": null,
   "source": [
    "sns.scatterplot('activity_start_time', 'time_gap_inner', \\\r\n",
    "    data= plt_data[plt_data['user_id'] == 'SIERF54'] )"
   ],
   "outputs": [],
   "metadata": {}
  }
 ],
 "metadata": {
  "orig_nbformat": 4,
  "language_info": {
   "name": "python",
   "version": "3.8.8",
   "mimetype": "text/x-python",
   "codemirror_mode": {
    "name": "ipython",
    "version": 3
   },
   "pygments_lexer": "ipython3",
   "nbconvert_exporter": "python",
   "file_extension": ".py"
  },
  "kernelspec": {
   "name": "python3",
   "display_name": "Python 3.8.8 64-bit ('siming': conda)"
  },
  "interpreter": {
   "hash": "47b50d2908d96196e4220cfb4e81faa93803065ea975497e7026f672c1f58470"
  }
 },
 "nbformat": 4,
 "nbformat_minor": 2
}