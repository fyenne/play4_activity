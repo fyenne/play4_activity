{
 "cells": [
  {
   "cell_type": "code",
   "execution_count": 169,
   "source": [
    "import pandas as pd\r\n",
    "import numpy as np\r\n",
    "import os\r\n",
    "import seaborn as sns\r\n",
    "import plotly.express as px\r\n",
    "import plotly.graph_objs as go\r\n",
    "from plotly.tools import FigureFactory as FF\r\n",
    "import re\r\n",
    "import os\r\n",
    "from datetime import datetime, timedelta\r\n",
    "os.getcwd()\r\n",
    "df = pd.DataFrame()"
   ],
   "outputs": [],
   "metadata": {}
  },
  {
   "cell_type": "code",
   "execution_count": 170,
   "source": [
    "df = pd.read_csv('./activityQ.csv', nrows = 21111)\r\n",
    "re1 = re.compile(r'(?<=\\.).+')\r\n",
    "df.columns = [re1.findall(i)[0] for i in list(df.columns.to_numpy())]\r\n"
   ],
   "outputs": [],
   "metadata": {}
  },
  {
   "cell_type": "code",
   "execution_count": 172,
   "source": [
    "df.columns"
   ],
   "outputs": [
    {
     "output_type": "execute_result",
     "data": {
      "text/plain": [
       "Index(['wms_warehouse_id', 'user_id', 'activity_type', 'activity_sub_type',\n",
       "       'activity_start_time', 'activity_end_time', 'lpn', 'sku_code',\n",
       "       'order_id', 'from_location', 'to_location', 'qty', 'create_time',\n",
       "       'internal_container_num', 'internal_id', 'activity_id', 'hh',\n",
       "       'data_source', 'wms_company_id', 'transaction_type', 'transaction_code',\n",
       "       'standard_activity_type', 'inc_day', 'src'],\n",
       "      dtype='object')"
      ]
     },
     "metadata": {},
     "execution_count": 172
    }
   ],
   "metadata": {}
  },
  {
   "cell_type": "code",
   "execution_count": 171,
   "source": [
    "df['activity_end_time'] = pd.to_datetime(df['activity_end_time'])\r\n",
    "df['activity_start_time'] = pd.to_datetime(df['activity_start_time'])"
   ],
   "outputs": [],
   "metadata": {}
  },
  {
   "cell_type": "code",
   "execution_count": 173,
   "source": [
    "\"\"\"\r\n",
    "d单个activity的耗费时间.\r\n",
    "\"\"\"\r\n",
    "df['time_gap_inner'] = df['activity_end_time']-df['activity_start_time']\r\n",
    "df['time_gap_inner'] = df['time_gap_inner'].fillna(\r\n",
    "    timedelta(0)\r\n",
    "    ).apply(timedelta.total_seconds)\r\n",
    "df['time_gap_inner'] = [0 if i< 0 else i for i in df['time_gap_inner']]"
   ],
   "outputs": [],
   "metadata": {}
  },
  {
   "cell_type": "code",
   "execution_count": 222,
   "source": [
    "\"\"\"\r\n",
    "前一个activity到后一个activity相差的时间\\.\r\n",
    "\"\"\"\r\n",
    "df['time_gap_outer'] = df.sort_values('activity_start_time')\\\r\n",
    "    .groupby(['user_id','activity_id','inc_day'])['activity_start_time'].diff()\r\n",
    "df['time_gap_outer'] = df['time_gap_outer'].fillna(timedelta(0)).apply(timedelta.total_seconds)\r\n",
    "df['time_gap_outer'] = [0 if i< 0 else i for i in df['time_gap_outer']]"
   ],
   "outputs": [],
   "metadata": {}
  },
  {
   "cell_type": "code",
   "execution_count": 224,
   "source": [
    "\"\"\"\r\n",
    "time gap of the day.\r\n",
    "\"\"\"\r\n",
    "mid1 = df.groupby(['inc_day', 'user_id']).agg(\r\n",
    "    a = ('activity_start_time','min'), \r\n",
    "    b  = ('activity_start_time', 'max')).reset_index()\r\n",
    "\r\n",
    "mid1['time_gap_today'] = mid1[['a', 'b']].\\\r\n",
    "    diff(axis = 1).drop('a', axis =1 )['b'].apply(timedelta.total_seconds)\r\n",
    "\r\n",
    "df = df.merge(mid1.drop(['a', 'b'], axis = 1), on = ['inc_day', 'user_id'], how = 'left')\r\n"
   ],
   "outputs": [],
   "metadata": {}
  },
  {
   "cell_type": "code",
   "execution_count": null,
   "source": [],
   "outputs": [],
   "metadata": {}
  },
  {
   "cell_type": "code",
   "execution_count": null,
   "source": [
    "df[['activity_type', 'activity_sub_type','user_id','inc_day',\r\n",
    "       'activity_start_time', 'activity_end_time','time_gap_inner',\r\n",
    "       'time_gap_outer']].sort_values(['user_id','inc_day'])"
   ],
   "outputs": [],
   "metadata": {}
  },
  {
   "cell_type": "code",
   "execution_count": null,
   "source": [
    "df[['ou_code', 'ou_name', 'bg_code', 'bg_name_cn', 'customer_id',\r\n",
    "       'customer_name',  'operation_day', 'hour',\r\n",
    "       'wms_warehouse_id', 'user_id', 'activity_type', 'activity_sub_type',\r\n",
    "       'activity_start_time', 'activity_end_time', 'lpn', 'sku_code',\r\n",
    "       'order_id', 'from_location', 'to_location', 'qty', 'create_time',\r\n",
    "       'activity_id', 'inc_day','act_tme_diff_row']].to_csv('./activi_for.csv', index=None, encoding='utf_8_sig')"
   ],
   "outputs": [],
   "metadata": {}
  },
  {
   "cell_type": "code",
   "execution_count": null,
   "source": [
    "df['act_tme_diff_row'].hist()"
   ],
   "outputs": [],
   "metadata": {}
  },
  {
   "cell_type": "code",
   "execution_count": null,
   "source": [
    "df['act_tme_diff'].hist()"
   ],
   "outputs": [],
   "metadata": {}
  }
 ],
 "metadata": {
  "orig_nbformat": 4,
  "language_info": {
   "name": "python",
   "version": "3.8.8",
   "mimetype": "text/x-python",
   "codemirror_mode": {
    "name": "ipython",
    "version": 3
   },
   "pygments_lexer": "ipython3",
   "nbconvert_exporter": "python",
   "file_extension": ".py"
  },
  "kernelspec": {
   "name": "python3",
   "display_name": "Python 3.8.8 64-bit ('siming': conda)"
  },
  "interpreter": {
   "hash": "47b50d2908d96196e4220cfb4e81faa93803065ea975497e7026f672c1f58470"
  }
 },
 "nbformat": 4,
 "nbformat_minor": 2
}