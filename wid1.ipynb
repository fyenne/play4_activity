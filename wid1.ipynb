{
    "cells": [
        {
            "cell_type": "code",
            "execution_count": 1,
            "source": [
                "## for widget\r\n"
            ],
            "outputs": [],
            "metadata": {}
        },
        {
            "cell_type": "code",
            "execution_count": 1,
            "source": [
                "import pandas as pd\r\n",
                "import numpy as np\r\n",
                "import os\r\n",
                "import seaborn as sns\r\n",
                "import plotly.express as px\r\n",
                "import plotly.graph_objs as go\r\n",
                "from plotly.tools import FigureFactory as FF\r\n",
                "import re\r\n",
                "import os\r\n",
                "from datetime import datetime\r\n",
                "os.getcwd()\r\n",
                "df = pd.DataFrame()"
            ],
            "outputs": [],
            "metadata": {}
        },
        {
            "cell_type": "code",
            "execution_count": 129,
            "source": [
                "%%time\r\n",
                "df = pd.read_csv('./mlb_inv.csv' )\r\n",
                "# df.to_csv('./mlb_inv.csv', index=False)"
            ],
            "outputs": [
                {
                    "output_type": "stream",
                    "name": "stdout",
                    "text": [
                        "Wall time: 398 ms\n"
                    ]
                },
                {
                    "output_type": "stream",
                    "name": "stderr",
                    "text": [
                        "C:\\Users\\dscshap3808\\Miniconda3\\envs\\siming\\lib\\site-packages\\IPython\\core\\magics\\execution.py:1321: DtypeWarning:\n",
                        "\n",
                        "Columns (3,26,27) have mixed types.Specify dtype option on import or set low_memory=False.\n",
                        "\n"
                    ]
                }
            ],
            "metadata": {}
        },
        {
            "cell_type": "code",
            "execution_count": 130,
            "source": [
                "df['kind'] = df['款号']+df['颜色']\r\n",
                "df2 = df.groupby(['kind', '大类', '中类'])['在库数量'].sum().reset_index();df2\r\n",
                "df[['货位', 'kind', '已占用箱位', '尺码']].merge(df2, on = 'kind', how = 'left')"
            ],
            "outputs": [
                {
                    "output_type": "execute_result",
                    "data": {
                        "text/html": [
                            "<div>\n",
                            "<style scoped>\n",
                            "    .dataframe tbody tr th:only-of-type {\n",
                            "        vertical-align: middle;\n",
                            "    }\n",
                            "\n",
                            "    .dataframe tbody tr th {\n",
                            "        vertical-align: top;\n",
                            "    }\n",
                            "\n",
                            "    .dataframe thead th {\n",
                            "        text-align: right;\n",
                            "    }\n",
                            "</style>\n",
                            "<table border=\"1\" class=\"dataframe\">\n",
                            "  <thead>\n",
                            "    <tr style=\"text-align: right;\">\n",
                            "      <th></th>\n",
                            "      <th>货位</th>\n",
                            "      <th>kind</th>\n",
                            "      <th>已占用箱位</th>\n",
                            "      <th>尺码</th>\n",
                            "      <th>大类</th>\n",
                            "      <th>中类</th>\n",
                            "      <th>在库数量</th>\n",
                            "    </tr>\n",
                            "  </thead>\n",
                            "  <tbody>\n",
                            "    <tr>\n",
                            "      <th>0</th>\n",
                            "      <td>35-03-6</td>\n",
                            "      <td>3AJPF021650BKS</td>\n",
                            "      <td>5.0</td>\n",
                            "      <td>00M</td>\n",
                            "      <td>服装</td>\n",
                            "      <td>夹克</td>\n",
                            "      <td>3783</td>\n",
                            "    </tr>\n",
                            "    <tr>\n",
                            "      <th>1</th>\n",
                            "      <td>35-03-6</td>\n",
                            "      <td>3AJPF021650CRS</td>\n",
                            "      <td>8.0</td>\n",
                            "      <td>00S</td>\n",
                            "      <td>服装</td>\n",
                            "      <td>夹克</td>\n",
                            "      <td>6342</td>\n",
                            "    </tr>\n",
                            "    <tr>\n",
                            "      <th>2</th>\n",
                            "      <td>35-03-7</td>\n",
                            "      <td>3AJPF021607LDL</td>\n",
                            "      <td>NaN</td>\n",
                            "      <td>00M</td>\n",
                            "      <td>服装</td>\n",
                            "      <td>夹克</td>\n",
                            "      <td>707</td>\n",
                            "    </tr>\n",
                            "    <tr>\n",
                            "      <th>3</th>\n",
                            "      <td>35-03-7</td>\n",
                            "      <td>3AJPF021607LDL</td>\n",
                            "      <td>NaN</td>\n",
                            "      <td>0XS</td>\n",
                            "      <td>服装</td>\n",
                            "      <td>夹克</td>\n",
                            "      <td>707</td>\n",
                            "    </tr>\n",
                            "    <tr>\n",
                            "      <th>4</th>\n",
                            "      <td>35-03-7</td>\n",
                            "      <td>3AJPF021650BKS</td>\n",
                            "      <td>NaN</td>\n",
                            "      <td>0XL</td>\n",
                            "      <td>服装</td>\n",
                            "      <td>夹克</td>\n",
                            "      <td>3783</td>\n",
                            "    </tr>\n",
                            "    <tr>\n",
                            "      <th>...</th>\n",
                            "      <td>...</td>\n",
                            "      <td>...</td>\n",
                            "      <td>...</td>\n",
                            "      <td>...</td>\n",
                            "      <td>...</td>\n",
                            "      <td>...</td>\n",
                            "      <td>...</td>\n",
                            "    </tr>\n",
                            "    <tr>\n",
                            "      <th>57731</th>\n",
                            "      <td>ZC-502</td>\n",
                            "      <td>31TS0403150W</td>\n",
                            "      <td>NaN</td>\n",
                            "      <td>XL</td>\n",
                            "      <td>服装</td>\n",
                            "      <td>T恤</td>\n",
                            "      <td>1920</td>\n",
                            "    </tr>\n",
                            "    <tr>\n",
                            "      <th>57732</th>\n",
                            "      <td>ZC-502</td>\n",
                            "      <td>31TSC913150L</td>\n",
                            "      <td>NaN</td>\n",
                            "      <td>00S</td>\n",
                            "      <td>服装</td>\n",
                            "      <td>T恤</td>\n",
                            "      <td>422</td>\n",
                            "    </tr>\n",
                            "    <tr>\n",
                            "      <th>57733</th>\n",
                            "      <td>ZC-502</td>\n",
                            "      <td>31TSC913150W</td>\n",
                            "      <td>NaN</td>\n",
                            "      <td>00S</td>\n",
                            "      <td>服装</td>\n",
                            "      <td>T恤</td>\n",
                            "      <td>332</td>\n",
                            "    </tr>\n",
                            "    <tr>\n",
                            "      <th>57734</th>\n",
                            "      <td>ZC-502</td>\n",
                            "      <td>31TSK103150W</td>\n",
                            "      <td>NaN</td>\n",
                            "      <td>S</td>\n",
                            "      <td>服装</td>\n",
                            "      <td>T恤</td>\n",
                            "      <td>3675</td>\n",
                            "    </tr>\n",
                            "    <tr>\n",
                            "      <th>57735</th>\n",
                            "      <td>ZC-502</td>\n",
                            "      <td>31TSWX13150L</td>\n",
                            "      <td>NaN</td>\n",
                            "      <td>00M</td>\n",
                            "      <td>服装</td>\n",
                            "      <td>T恤</td>\n",
                            "      <td>27</td>\n",
                            "    </tr>\n",
                            "  </tbody>\n",
                            "</table>\n",
                            "<p>57736 rows × 7 columns</p>\n",
                            "</div>"
                        ],
                        "text/plain": [
                            "            货位            kind  已占用箱位   尺码  大类  中类  在库数量\n",
                            "0      35-03-6  3AJPF021650BKS    5.0  00M  服装  夹克  3783\n",
                            "1      35-03-6  3AJPF021650CRS    8.0  00S  服装  夹克  6342\n",
                            "2      35-03-7  3AJPF021607LDL    NaN  00M  服装  夹克   707\n",
                            "3      35-03-7  3AJPF021607LDL    NaN  0XS  服装  夹克   707\n",
                            "4      35-03-7  3AJPF021650BKS    NaN  0XL  服装  夹克  3783\n",
                            "...        ...             ...    ...  ...  ..  ..   ...\n",
                            "57731   ZC-502    31TS0403150W    NaN   XL  服装  T恤  1920\n",
                            "57732   ZC-502    31TSC913150L    NaN  00S  服装  T恤   422\n",
                            "57733   ZC-502    31TSC913150W    NaN  00S  服装  T恤   332\n",
                            "57734   ZC-502    31TSK103150W    NaN    S  服装  T恤  3675\n",
                            "57735   ZC-502    31TSWX13150L    NaN  00M  服装  T恤    27\n",
                            "\n",
                            "[57736 rows x 7 columns]"
                        ]
                    },
                    "metadata": {},
                    "execution_count": 130
                }
            ],
            "metadata": {}
        },
        {
            "cell_type": "code",
            "execution_count": 2,
            "source": [
                "# plt1 = df2.groupby(['大类', '中类']).sum().reset_index()\r\n",
                "\r\n",
                "# px.histogram(x = plt1['中类'], y = plt1['在库数量'], color = plt1['大类'])"
            ],
            "outputs": [],
            "metadata": {}
        },
        {
            "cell_type": "code",
            "execution_count": null,
            "source": [
                "filt = plt1[plt1['在库数量'] > 400]['中类']\r\n",
                "filt = list(filt)"
            ],
            "outputs": [],
            "metadata": {}
        },
        {
            "cell_type": "code",
            "execution_count": 158,
            "source": [
                "# df[df['中类'].isin(filt)]"
            ],
            "outputs": [],
            "metadata": {}
        },
        {
            "cell_type": "code",
            "execution_count": 134,
            "source": [
                "min([len(i) for i in df['货位'].str.split('-') ])"
            ],
            "outputs": [
                {
                    "output_type": "execute_result",
                    "data": {
                        "text/plain": [
                            "1"
                        ]
                    },
                    "metadata": {},
                    "execution_count": 134
                }
            ],
            "metadata": {}
        },
        {
            "cell_type": "code",
            "execution_count": 137,
            "source": [
                "# [i.split('-') for i in df['货位']] \r\n",
                "df['loc_1'] = [i[0] for i in df['货位'].str.split('-')]\r\n",
                "df['loc_2'] = [i[1] if len(i) >=2 else 0 for i in df['货位'].str.split('-')]\r\n",
                "df['loc_3'] = [i[2] if len(i) >=3 else 0 for i in df['货位'].str.split('-')]\r\n",
                "df['loc_4'] = [i[3] if len(i) >=4 else 0 for i in df['货位'].str.split('-')]\r\n",
                "# df['货位'].str.split('-')[i]"
            ],
            "outputs": [],
            "metadata": {}
        },
        {
            "cell_type": "code",
            "execution_count": 78,
            "source": [
                "t = 0\r\n",
                "m = 0\r\n",
                "for i in np.arange(0,57736):\r\n",
                "    \r\n",
                "    try:\r\n",
                "        int(df['货位'][i])\r\n",
                "        t += 1\r\n",
                "    except:\r\n",
                "        m += 1\r\n"
            ],
            "outputs": [],
            "metadata": {}
        },
        {
            "cell_type": "code",
            "execution_count": 79,
            "source": [
                "[t,m]\r\n",
                "# [1975, 55761]"
            ],
            "outputs": [
                {
                    "output_type": "execute_result",
                    "data": {
                        "text/plain": [
                            "[1975, 55761]"
                        ]
                    },
                    "metadata": {},
                    "execution_count": 79
                }
            ],
            "metadata": {}
        },
        {
            "cell_type": "code",
            "execution_count": 209,
            "source": [
                "# from sklearn.ensemble import RandomForestClassifier\r\n",
                "import tensorflow as tf\r\n",
                "import keras\r\n",
                "from keras.models import Sequential\r\n",
                "from keras.layers import Dense, Activation\r\n",
                "# train = df[['kind','loc_1','loc_2','loc_3','loc_4']].copy()\r\n",
                "train = df[['kind','loc_1']]"
            ],
            "outputs": [],
            "metadata": {}
        },
        {
            "cell_type": "code",
            "execution_count": 213,
            "source": [
                "trin = pd.get_dummies(train['kind'], columns=['kind'])\r\n",
                "tar  = pd.get_dummies(train['loc_1'], columns=['loc_1'])"
            ],
            "outputs": [],
            "metadata": {}
        },
        {
            "cell_type": "code",
            "execution_count": 214,
            "source": [
                "trin = np.asarray(trin).astype(int)\r\n",
                "tar  = np.asarray(tar).astype(int)"
            ],
            "outputs": [],
            "metadata": {}
        },
        {
            "cell_type": "code",
            "execution_count": 218,
            "source": [
                "model = Sequential()\r\n",
                "model.add(Dense(15000, activation = 'sigmoid', input_dim = trin.shape[1]))\r\n",
                "model.add(Dense(15000, activation = 'sigmoid'))\r\n",
                "model.add(Dense(55, activation = 'tanh'))\r\n",
                "model.compile(optimizer = 'adam', \\\r\n",
                "    loss='binary_crossentropy', metrics = ['accuracy'])"
            ],
            "outputs": [],
            "metadata": {}
        },
        {
            "cell_type": "code",
            "execution_count": 3,
            "source": [
                "# model.summary()"
            ],
            "outputs": [],
            "metadata": {}
        },
        {
            "cell_type": "code",
            "execution_count": 1,
            "source": [
                "# hist = model.fit(x = trin, y = tar, \\\r\n",
                "#     epochs = 10, batch_size=100, \\\r\n",
                "#         verbose=1, validation_split=.75, shuffle=True)"
            ],
            "outputs": [],
            "metadata": {}
        },
        {
            "cell_type": "code",
            "execution_count": null,
            "source": [],
            "outputs": [],
            "metadata": {}
        }
    ],
    "metadata": {
        "orig_nbformat": 4,
        "language_info": {
            "name": "python",
            "version": "3.8.8",
            "mimetype": "text/x-python",
            "codemirror_mode": {
                "name": "ipython",
                "version": 3
            },
            "pygments_lexer": "ipython3",
            "nbconvert_exporter": "python",
            "file_extension": ".py"
        },
        "kernelspec": {
            "name": "python3",
            "display_name": "Python 3.8.8 64-bit ('siming': conda)"
        },
        "interpreter": {
            "hash": "47b50d2908d96196e4220cfb4e81faa93803065ea975497e7026f672c1f58470"
        }
    },
    "nbformat": 4,
    "nbformat_minor": 2
}